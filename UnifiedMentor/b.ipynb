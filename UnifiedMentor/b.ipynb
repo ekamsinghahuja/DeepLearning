{
 "cells": [
  {
   "cell_type": "code",
   "execution_count": 36,
   "metadata": {},
   "outputs": [],
   "source": [
    "import pandas as pd"
   ]
  },
  {
   "cell_type": "code",
   "execution_count": 37,
   "metadata": {},
   "outputs": [
    {
     "data": {
      "text/html": [
       "<div>\n",
       "<style scoped>\n",
       "    .dataframe tbody tr th:only-of-type {\n",
       "        vertical-align: middle;\n",
       "    }\n",
       "\n",
       "    .dataframe tbody tr th {\n",
       "        vertical-align: top;\n",
       "    }\n",
       "\n",
       "    .dataframe thead th {\n",
       "        text-align: right;\n",
       "    }\n",
       "</style>\n",
       "<table border=\"1\" class=\"dataframe\">\n",
       "  <thead>\n",
       "    <tr style=\"text-align: right;\">\n",
       "      <th></th>\n",
       "      <th>State_Name</th>\n",
       "      <th>District_Name</th>\n",
       "      <th>Crop_Year</th>\n",
       "      <th>Season</th>\n",
       "      <th>Crop</th>\n",
       "      <th>Area</th>\n",
       "      <th>Production</th>\n",
       "    </tr>\n",
       "  </thead>\n",
       "  <tbody>\n",
       "    <tr>\n",
       "      <th>0</th>\n",
       "      <td>Andaman and Nicobar Islands</td>\n",
       "      <td>NICOBARS</td>\n",
       "      <td>2000</td>\n",
       "      <td>Kharif</td>\n",
       "      <td>Arecanut</td>\n",
       "      <td>1254.0</td>\n",
       "      <td>2000.0</td>\n",
       "    </tr>\n",
       "    <tr>\n",
       "      <th>1</th>\n",
       "      <td>Andaman and Nicobar Islands</td>\n",
       "      <td>NICOBARS</td>\n",
       "      <td>2000</td>\n",
       "      <td>Kharif</td>\n",
       "      <td>Other Kharif pulses</td>\n",
       "      <td>2.0</td>\n",
       "      <td>1.0</td>\n",
       "    </tr>\n",
       "    <tr>\n",
       "      <th>2</th>\n",
       "      <td>Andaman and Nicobar Islands</td>\n",
       "      <td>NICOBARS</td>\n",
       "      <td>2000</td>\n",
       "      <td>Kharif</td>\n",
       "      <td>Rice</td>\n",
       "      <td>102.0</td>\n",
       "      <td>321.0</td>\n",
       "    </tr>\n",
       "    <tr>\n",
       "      <th>3</th>\n",
       "      <td>Andaman and Nicobar Islands</td>\n",
       "      <td>NICOBARS</td>\n",
       "      <td>2000</td>\n",
       "      <td>Whole Year</td>\n",
       "      <td>Banana</td>\n",
       "      <td>176.0</td>\n",
       "      <td>641.0</td>\n",
       "    </tr>\n",
       "    <tr>\n",
       "      <th>4</th>\n",
       "      <td>Andaman and Nicobar Islands</td>\n",
       "      <td>NICOBARS</td>\n",
       "      <td>2000</td>\n",
       "      <td>Whole Year</td>\n",
       "      <td>Cashewnut</td>\n",
       "      <td>720.0</td>\n",
       "      <td>165.0</td>\n",
       "    </tr>\n",
       "  </tbody>\n",
       "</table>\n",
       "</div>"
      ],
      "text/plain": [
       "                    State_Name District_Name  Crop_Year       Season  \\\n",
       "0  Andaman and Nicobar Islands      NICOBARS       2000  Kharif        \n",
       "1  Andaman and Nicobar Islands      NICOBARS       2000  Kharif        \n",
       "2  Andaman and Nicobar Islands      NICOBARS       2000  Kharif        \n",
       "3  Andaman and Nicobar Islands      NICOBARS       2000  Whole Year    \n",
       "4  Andaman and Nicobar Islands      NICOBARS       2000  Whole Year    \n",
       "\n",
       "                  Crop    Area  Production  \n",
       "0             Arecanut  1254.0      2000.0  \n",
       "1  Other Kharif pulses     2.0         1.0  \n",
       "2                 Rice   102.0       321.0  \n",
       "3               Banana   176.0       641.0  \n",
       "4            Cashewnut   720.0       165.0  "
      ]
     },
     "execution_count": 37,
     "metadata": {},
     "output_type": "execute_result"
    }
   ],
   "source": [
    "df = pd.read_csv('crop_production.csv')\n",
    "df.head()"
   ]
  },
  {
   "cell_type": "code",
   "execution_count": 38,
   "metadata": {},
   "outputs": [],
   "source": [
    "state_abbreviations = {\n",
    "    'Andaman and Nicobar Islands': 'ANI',\n",
    "    'Andhra Pradesh': 'AP',\n",
    "    'Arunachal Pradesh': 'ARP',\n",
    "    'Assam': 'ASM',\n",
    "    'Bihar': 'BHR',\n",
    "    'Chandigarh': 'CHD',\n",
    "    'Chhattisgarh': 'CHG',\n",
    "    'Dadra and Nagar Haveli': 'DNH',\n",
    "    'Goa': 'GOA',\n",
    "    'Gujarat': 'GUJ',\n",
    "    'Haryana': 'HAR',\n",
    "    'Himachal Pradesh': 'HP',\n",
    "    'Jammu and Kashmir ': 'J&K',\n",
    "    'Jharkhand': 'JHK',\n",
    "    'Karnataka': 'KAR',\n",
    "    'Kerala': 'KER',\n",
    "    'Madhya Pradesh': 'MP',\n",
    "    'Maharashtra': 'MAH',\n",
    "    'Manipur': 'MAN',\n",
    "    'Meghalaya': 'MEG',\n",
    "    'Mizoram': 'MIZ',\n",
    "    'Nagaland': 'NAG',\n",
    "    'Odisha': 'ODI',\n",
    "    'Puducherry': 'PUD',\n",
    "    'Punjab': 'PUN',\n",
    "    'Rajasthan': 'RAJ',\n",
    "    'Sikkim': 'SIK',\n",
    "    'Tamil Nadu': 'TN',\n",
    "    'Telangana ': 'TEL',\n",
    "    'Tripura': 'TRI',\n",
    "    'Uttar Pradesh': 'UP',\n",
    "    'Uttarakhand': 'UK',\n",
    "    'West Bengal': 'WB'\n",
    "}\n",
    "\n",
    "df['State_Name'] = df['State_Name'].replace(state_abbreviations)"
   ]
  },
  {
   "cell_type": "code",
   "execution_count": 39,
   "metadata": {},
   "outputs": [],
   "source": [
    "states = list(df['State_Name'].unique())\n"
   ]
  },
  {
   "cell_type": "markdown",
   "metadata": {},
   "source": [
    "# some states are missing - why?\n",
    "## Delhi:\n",
    "\n",
    "Urbanization: Delhi is a highly urbanized city-state with minimal agricultural activities. Its economy is predominantly service-based with a focus on commerce, finance, and government services.\n",
    "\n",
    "## Lakshadweep:\n",
    "\n",
    "Geography: Lakshadweep is an archipelago with very limited land area suitable for agriculture. The islands are known more for their marine resources and tourism rather than agriculture.\n",
    "\n",
    "## Ladakh:\n",
    "\n",
    "Climate and Terrain: Ladakh has an extremely harsh climate and rugged terrain, making large-scale agriculture challenging. The region has limited agricultural activities due to its high altitude and arid conditions\n",
    "\n"
   ]
  },
  {
   "cell_type": "code",
   "execution_count": 40,
   "metadata": {},
   "outputs": [
    {
     "data": {
      "text/plain": [
       "['ANI',\n",
       " 'AP',\n",
       " 'ARP',\n",
       " 'ASM',\n",
       " 'BHR',\n",
       " 'CHD',\n",
       " 'CHG',\n",
       " 'DNH',\n",
       " 'GOA',\n",
       " 'GUJ',\n",
       " 'HAR',\n",
       " 'HP',\n",
       " 'J&K',\n",
       " 'JHK',\n",
       " 'KAR',\n",
       " 'KER',\n",
       " 'MP',\n",
       " 'MAH',\n",
       " 'MAN',\n",
       " 'MEG',\n",
       " 'MIZ',\n",
       " 'NAG',\n",
       " 'ODI',\n",
       " 'PUD',\n",
       " 'PUN',\n",
       " 'RAJ',\n",
       " 'SIK',\n",
       " 'TN',\n",
       " 'TEL',\n",
       " 'TRI',\n",
       " 'UP',\n",
       " 'UK',\n",
       " 'WB']"
      ]
     },
     "execution_count": 40,
     "metadata": {},
     "output_type": "execute_result"
    }
   ],
   "source": [
    "states"
   ]
  },
  {
   "cell_type": "markdown",
   "metadata": {},
   "source": [
    "# Points to Note:\n",
    "# kharif and autum\n",
    "## Dataset mentions autumn and kharif seperately\n",
    "## Kharif means \"autumn\" in Arabic.\n",
    "## but agriculure reference says - \n",
    "    kharif - June and end in October\n",
    "    autumn - September, October, November\n",
    "    so lets consider them different \n",
    "\n",
    "## gemini solved my confusion - \n",
    "    Kharif: This word comes from Arabic and literally translates to \"autumn.\" However, in the context of agriculture in India and some other South Asian countries, it refers to the monsoon season for planting crops.\n",
    "\n",
    "    Monsoon: This word is used in English and many other languages to describe seasonal winds that bring rain. In India, the monsoon season coincides with the Kharif season (roughly June to September).\n",
    "\n",
    "# summer / Zaid\n",
    "## summer agriculture season -\n",
    "    Zaid or Summer cropping season runs from March to June\n",
    "\n",
    "\n",
    "# rabi / winter\n",
    "    these two overlaps\n",
    "    Rabi-Season: Winter (October to March)\n",
    "    Winter-Season: Overlaps with Rabi (November to February)"
   ]
  },
  {
   "cell_type": "code",
   "execution_count": 41,
   "metadata": {},
   "outputs": [
    {
     "data": {
      "text/plain": [
       "['Kharif     ',\n",
       " 'Whole Year ',\n",
       " 'Autumn     ',\n",
       " 'Rabi       ',\n",
       " 'Summer     ',\n",
       " 'Winter     ']"
      ]
     },
     "execution_count": 41,
     "metadata": {},
     "output_type": "execute_result"
    }
   ],
   "source": [
    "seasons = list(df['Season'].unique())\n",
    "seasons"
   ]
  },
  {
   "cell_type": "markdown",
   "metadata": {},
   "source": [
    "## We have 16 years of data"
   ]
  },
  {
   "cell_type": "code",
   "execution_count": 42,
   "metadata": {},
   "outputs": [],
   "source": [
    "years = list(df['Crop_Year'].unique())"
   ]
  },
  {
   "cell_type": "code",
   "execution_count": 43,
   "metadata": {},
   "outputs": [
    {
     "data": {
      "text/plain": [
       "[2000,\n",
       " 2001,\n",
       " 2002,\n",
       " 2003,\n",
       " 2004,\n",
       " 2005,\n",
       " 2006,\n",
       " 2010,\n",
       " 1997,\n",
       " 1998,\n",
       " 1999,\n",
       " 2007,\n",
       " 2008,\n",
       " 2009,\n",
       " 2011,\n",
       " 2012,\n",
       " 2013,\n",
       " 2014,\n",
       " 2015]"
      ]
     },
     "execution_count": 43,
     "metadata": {},
     "output_type": "execute_result"
    }
   ],
   "source": [
    "years"
   ]
  },
  {
   "cell_type": "markdown",
   "metadata": {},
   "source": [
    "# 124 differnt crops are there in dataset\n",
    "\n",
    "## but actually -\n",
    "Between 500 and 1000\n",
    "\n",
    "This range considers the following factors:\n",
    "\n",
    "Major Crop Categories: As mentioned earlier, there are several major categories like food grains, pulses, oilseeds, fruits, vegetables, spices, and plantation crops. Each category itself holds a substantial number of crops.\n",
    "Regional Variations: While some crops are widespread, many are specific to certain regions due to climate or soil conditions. Accounting for these variations adds to the total number.\n",
    "Varietal Differences: Within many crops, there can be numerous varieties with slight differences. Including these variations increases the overall count\n"
   ]
  },
  {
   "cell_type": "markdown",
   "metadata": {},
   "source": [
    "# govenment gives  MSP on these crops\n",
    "## Kharif Crops (14):\n",
    "\n",
    "Paddy\n",
    "Jowar (Sorghum)\n",
    "Bajra (Pearl millet)\n",
    "Tur (Arhar)\n",
    "Moong (Green gram)\n",
    "Urad (Black gram)\n",
    "Groundnut\n",
    "Cotton\n",
    "Soyabean\n",
    "Sunflower seed\n",
    "Sesamum\n",
    "Nigerseed\n",
    "Hempseed\n",
    "Kuttu (Buckwheat)\n",
    "\n",
    "## Rabi Crops (6):\n",
    "\n",
    "Wheat\n",
    "Barley\n",
    "Gram (Chickpea)\n",
    "Masur (Lentil)\n",
    "Rapeseed & Mustard\n",
    "Safflower\n",
    "Other Commercial Crops (2):\n",
    "\n",
    "## Sugarcane\n",
    "Copra (dried coconut kernel)"
   ]
  },
  {
   "cell_type": "markdown",
   "metadata": {},
   "source": [
    "# so possible that production of msp products is higher "
   ]
  },
  {
   "cell_type": "code",
   "execution_count": 44,
   "metadata": {},
   "outputs": [],
   "source": [
    "crop = list(df['Crop'].unique())\n"
   ]
  },
  {
   "cell_type": "code",
   "execution_count": 45,
   "metadata": {},
   "outputs": [
    {
     "data": {
      "text/plain": [
       "124"
      ]
     },
     "execution_count": 45,
     "metadata": {},
     "output_type": "execute_result"
    }
   ],
   "source": [
    "len(crop)"
   ]
  },
  {
   "cell_type": "code",
   "execution_count": 46,
   "metadata": {},
   "outputs": [
    {
     "data": {
      "text/plain": [
       "['Arecanut',\n",
       " 'Other Kharif pulses',\n",
       " 'Rice',\n",
       " 'Banana',\n",
       " 'Cashewnut',\n",
       " 'Coconut ',\n",
       " 'Dry ginger',\n",
       " 'Sugarcane',\n",
       " 'Sweet potato',\n",
       " 'Tapioca',\n",
       " 'Black pepper',\n",
       " 'Dry chillies',\n",
       " 'other oilseeds',\n",
       " 'Turmeric',\n",
       " 'Maize',\n",
       " 'Moong(Green Gram)',\n",
       " 'Urad',\n",
       " 'Arhar/Tur',\n",
       " 'Groundnut',\n",
       " 'Sunflower',\n",
       " 'Bajra',\n",
       " 'Castor seed',\n",
       " 'Cotton(lint)',\n",
       " 'Horse-gram',\n",
       " 'Jowar',\n",
       " 'Korra',\n",
       " 'Ragi',\n",
       " 'Tobacco',\n",
       " 'Gram',\n",
       " 'Wheat',\n",
       " 'Masoor',\n",
       " 'Sesamum',\n",
       " 'Linseed',\n",
       " 'Safflower',\n",
       " 'Onion',\n",
       " 'other misc. pulses',\n",
       " 'Samai',\n",
       " 'Small millets',\n",
       " 'Coriander',\n",
       " 'Potato',\n",
       " 'Other  Rabi pulses',\n",
       " 'Soyabean',\n",
       " 'Beans & Mutter(Vegetable)',\n",
       " 'Bhindi',\n",
       " 'Brinjal',\n",
       " 'Citrus Fruit',\n",
       " 'Cucumber',\n",
       " 'Grapes',\n",
       " 'Mango',\n",
       " 'Orange',\n",
       " 'other fibres',\n",
       " 'Other Fresh Fruits',\n",
       " 'Other Vegetables',\n",
       " 'Papaya',\n",
       " 'Pome Fruit',\n",
       " 'Tomato',\n",
       " 'Rapeseed &Mustard',\n",
       " 'Mesta',\n",
       " 'Cowpea(Lobia)',\n",
       " 'Lemon',\n",
       " 'Pome Granet',\n",
       " 'Sapota',\n",
       " 'Cabbage',\n",
       " 'Peas  (vegetable)',\n",
       " 'Niger seed',\n",
       " 'Bottle Gourd',\n",
       " 'Sannhamp',\n",
       " 'Varagu',\n",
       " 'Garlic',\n",
       " 'Ginger',\n",
       " 'Oilseeds total',\n",
       " 'Pulses total',\n",
       " 'Jute',\n",
       " 'Peas & beans (Pulses)',\n",
       " 'Blackgram',\n",
       " 'Paddy',\n",
       " 'Pineapple',\n",
       " 'Barley',\n",
       " 'Khesari',\n",
       " 'Guar seed',\n",
       " 'Moth',\n",
       " 'Other Cereals & Millets',\n",
       " 'Cond-spcs other',\n",
       " 'Turnip',\n",
       " 'Carrot',\n",
       " 'Redish',\n",
       " 'Arcanut (Processed)',\n",
       " 'Atcanut (Raw)',\n",
       " 'Cashewnut Processed',\n",
       " 'Cashewnut Raw',\n",
       " 'Cardamom',\n",
       " 'Rubber',\n",
       " 'Bitter Gourd',\n",
       " 'Drum Stick',\n",
       " 'Jack Fruit',\n",
       " 'Snak Guard',\n",
       " 'Pump Kin',\n",
       " 'Tea',\n",
       " 'Coffee',\n",
       " 'Cauliflower',\n",
       " 'Other Citrus Fruit',\n",
       " 'Water Melon',\n",
       " 'Total foodgrain',\n",
       " 'Kapas',\n",
       " 'Colocosia',\n",
       " 'Lentil',\n",
       " 'Bean',\n",
       " 'Jobster',\n",
       " 'Perilla',\n",
       " 'Rajmash Kholar',\n",
       " 'Ricebean (nagadal)',\n",
       " 'Ash Gourd',\n",
       " 'Beet Root',\n",
       " 'Lab-Lab',\n",
       " 'Ribed Guard',\n",
       " 'Yam',\n",
       " 'Apple',\n",
       " 'Peach',\n",
       " 'Pear',\n",
       " 'Plums',\n",
       " 'Litchi',\n",
       " 'Ber',\n",
       " 'Other Dry Fruit',\n",
       " 'Jute & mesta']"
      ]
     },
     "execution_count": 46,
     "metadata": {},
     "output_type": "execute_result"
    }
   ],
   "source": [
    "crop"
   ]
  },
  {
   "cell_type": "markdown",
   "metadata": {},
   "source": [
    "# area and production\n",
    "## area and production units are not mentioned anywhere so we can not do comparison between the crops"
   ]
  },
  {
   "cell_type": "code",
   "execution_count": 47,
   "metadata": {},
   "outputs": [
    {
     "data": {
      "text/plain": [
       "8580100.0"
      ]
     },
     "execution_count": 47,
     "metadata": {},
     "output_type": "execute_result"
    }
   ],
   "source": [
    "df['Area'].max()"
   ]
  },
  {
   "cell_type": "code",
   "execution_count": 48,
   "metadata": {},
   "outputs": [
    {
     "data": {
      "text/plain": [
       "0.04"
      ]
     },
     "execution_count": 48,
     "metadata": {},
     "output_type": "execute_result"
    }
   ],
   "source": [
    "df['Area'].min()"
   ]
  },
  {
   "cell_type": "code",
   "execution_count": 49,
   "metadata": {},
   "outputs": [
    {
     "data": {
      "text/plain": [
       "1.0         4553\n",
       "2.0         3453\n",
       "100.0       2824\n",
       "3.0         2636\n",
       "4.0         2273\n",
       "            ... \n",
       "21521.0        1\n",
       "21261.0        1\n",
       "249741.0       1\n",
       "245200.0       1\n",
       "279151.0       1\n",
       "Name: Area, Length: 38442, dtype: int64"
      ]
     },
     "execution_count": 49,
     "metadata": {},
     "output_type": "execute_result"
    }
   ],
   "source": [
    "df.Area.value_counts()"
   ]
  },
  {
   "cell_type": "markdown",
   "metadata": {},
   "source": [
    "# we can deep dive into visualization now"
   ]
  },
  {
   "cell_type": "markdown",
   "metadata": {},
   "source": [
    "## kharif and Rabi are important seasons "
   ]
  },
  {
   "cell_type": "code",
   "execution_count": 50,
   "metadata": {},
   "outputs": [],
   "source": [
    "distinct_crops_in_season_list = []\n",
    "for x in seasons:\n",
    "    distinct_crops_in_season_list.append(len(df[df['Season']==x]['Crop'].unique()))\n",
    "    \n",
    "    "
   ]
  },
  {
   "cell_type": "code",
   "execution_count": 51,
   "metadata": {},
   "outputs": [
    {
     "data": {
      "application/vnd.plotly.v1+json": {
       "config": {
        "plotlyServerURL": "https://plot.ly"
       },
       "data": [
        {
         "name": "Distinct Crops",
         "type": "bar",
         "x": [
          "Kharif     ",
          "Whole Year ",
          "Autumn     ",
          "Rabi       ",
          "Summer     ",
          "Winter     "
         ],
         "y": [
          82,
          105,
          25,
          68,
          31,
          28
         ]
        }
       ],
       "layout": {
        "barmode": "group",
        "template": {
         "data": {
          "bar": [
           {
            "error_x": {
             "color": "#2a3f5f"
            },
            "error_y": {
             "color": "#2a3f5f"
            },
            "marker": {
             "line": {
              "color": "#E5ECF6",
              "width": 0.5
             },
             "pattern": {
              "fillmode": "overlay",
              "size": 10,
              "solidity": 0.2
             }
            },
            "type": "bar"
           }
          ],
          "barpolar": [
           {
            "marker": {
             "line": {
              "color": "#E5ECF6",
              "width": 0.5
             },
             "pattern": {
              "fillmode": "overlay",
              "size": 10,
              "solidity": 0.2
             }
            },
            "type": "barpolar"
           }
          ],
          "carpet": [
           {
            "aaxis": {
             "endlinecolor": "#2a3f5f",
             "gridcolor": "white",
             "linecolor": "white",
             "minorgridcolor": "white",
             "startlinecolor": "#2a3f5f"
            },
            "baxis": {
             "endlinecolor": "#2a3f5f",
             "gridcolor": "white",
             "linecolor": "white",
             "minorgridcolor": "white",
             "startlinecolor": "#2a3f5f"
            },
            "type": "carpet"
           }
          ],
          "choropleth": [
           {
            "colorbar": {
             "outlinewidth": 0,
             "ticks": ""
            },
            "type": "choropleth"
           }
          ],
          "contour": [
           {
            "colorbar": {
             "outlinewidth": 0,
             "ticks": ""
            },
            "colorscale": [
             [
              0,
              "#0d0887"
             ],
             [
              0.1111111111111111,
              "#46039f"
             ],
             [
              0.2222222222222222,
              "#7201a8"
             ],
             [
              0.3333333333333333,
              "#9c179e"
             ],
             [
              0.4444444444444444,
              "#bd3786"
             ],
             [
              0.5555555555555556,
              "#d8576b"
             ],
             [
              0.6666666666666666,
              "#ed7953"
             ],
             [
              0.7777777777777778,
              "#fb9f3a"
             ],
             [
              0.8888888888888888,
              "#fdca26"
             ],
             [
              1,
              "#f0f921"
             ]
            ],
            "type": "contour"
           }
          ],
          "contourcarpet": [
           {
            "colorbar": {
             "outlinewidth": 0,
             "ticks": ""
            },
            "type": "contourcarpet"
           }
          ],
          "heatmap": [
           {
            "colorbar": {
             "outlinewidth": 0,
             "ticks": ""
            },
            "colorscale": [
             [
              0,
              "#0d0887"
             ],
             [
              0.1111111111111111,
              "#46039f"
             ],
             [
              0.2222222222222222,
              "#7201a8"
             ],
             [
              0.3333333333333333,
              "#9c179e"
             ],
             [
              0.4444444444444444,
              "#bd3786"
             ],
             [
              0.5555555555555556,
              "#d8576b"
             ],
             [
              0.6666666666666666,
              "#ed7953"
             ],
             [
              0.7777777777777778,
              "#fb9f3a"
             ],
             [
              0.8888888888888888,
              "#fdca26"
             ],
             [
              1,
              "#f0f921"
             ]
            ],
            "type": "heatmap"
           }
          ],
          "heatmapgl": [
           {
            "colorbar": {
             "outlinewidth": 0,
             "ticks": ""
            },
            "colorscale": [
             [
              0,
              "#0d0887"
             ],
             [
              0.1111111111111111,
              "#46039f"
             ],
             [
              0.2222222222222222,
              "#7201a8"
             ],
             [
              0.3333333333333333,
              "#9c179e"
             ],
             [
              0.4444444444444444,
              "#bd3786"
             ],
             [
              0.5555555555555556,
              "#d8576b"
             ],
             [
              0.6666666666666666,
              "#ed7953"
             ],
             [
              0.7777777777777778,
              "#fb9f3a"
             ],
             [
              0.8888888888888888,
              "#fdca26"
             ],
             [
              1,
              "#f0f921"
             ]
            ],
            "type": "heatmapgl"
           }
          ],
          "histogram": [
           {
            "marker": {
             "pattern": {
              "fillmode": "overlay",
              "size": 10,
              "solidity": 0.2
             }
            },
            "type": "histogram"
           }
          ],
          "histogram2d": [
           {
            "colorbar": {
             "outlinewidth": 0,
             "ticks": ""
            },
            "colorscale": [
             [
              0,
              "#0d0887"
             ],
             [
              0.1111111111111111,
              "#46039f"
             ],
             [
              0.2222222222222222,
              "#7201a8"
             ],
             [
              0.3333333333333333,
              "#9c179e"
             ],
             [
              0.4444444444444444,
              "#bd3786"
             ],
             [
              0.5555555555555556,
              "#d8576b"
             ],
             [
              0.6666666666666666,
              "#ed7953"
             ],
             [
              0.7777777777777778,
              "#fb9f3a"
             ],
             [
              0.8888888888888888,
              "#fdca26"
             ],
             [
              1,
              "#f0f921"
             ]
            ],
            "type": "histogram2d"
           }
          ],
          "histogram2dcontour": [
           {
            "colorbar": {
             "outlinewidth": 0,
             "ticks": ""
            },
            "colorscale": [
             [
              0,
              "#0d0887"
             ],
             [
              0.1111111111111111,
              "#46039f"
             ],
             [
              0.2222222222222222,
              "#7201a8"
             ],
             [
              0.3333333333333333,
              "#9c179e"
             ],
             [
              0.4444444444444444,
              "#bd3786"
             ],
             [
              0.5555555555555556,
              "#d8576b"
             ],
             [
              0.6666666666666666,
              "#ed7953"
             ],
             [
              0.7777777777777778,
              "#fb9f3a"
             ],
             [
              0.8888888888888888,
              "#fdca26"
             ],
             [
              1,
              "#f0f921"
             ]
            ],
            "type": "histogram2dcontour"
           }
          ],
          "mesh3d": [
           {
            "colorbar": {
             "outlinewidth": 0,
             "ticks": ""
            },
            "type": "mesh3d"
           }
          ],
          "parcoords": [
           {
            "line": {
             "colorbar": {
              "outlinewidth": 0,
              "ticks": ""
             }
            },
            "type": "parcoords"
           }
          ],
          "pie": [
           {
            "automargin": true,
            "type": "pie"
           }
          ],
          "scatter": [
           {
            "fillpattern": {
             "fillmode": "overlay",
             "size": 10,
             "solidity": 0.2
            },
            "type": "scatter"
           }
          ],
          "scatter3d": [
           {
            "line": {
             "colorbar": {
              "outlinewidth": 0,
              "ticks": ""
             }
            },
            "marker": {
             "colorbar": {
              "outlinewidth": 0,
              "ticks": ""
             }
            },
            "type": "scatter3d"
           }
          ],
          "scattercarpet": [
           {
            "marker": {
             "colorbar": {
              "outlinewidth": 0,
              "ticks": ""
             }
            },
            "type": "scattercarpet"
           }
          ],
          "scattergeo": [
           {
            "marker": {
             "colorbar": {
              "outlinewidth": 0,
              "ticks": ""
             }
            },
            "type": "scattergeo"
           }
          ],
          "scattergl": [
           {
            "marker": {
             "colorbar": {
              "outlinewidth": 0,
              "ticks": ""
             }
            },
            "type": "scattergl"
           }
          ],
          "scattermapbox": [
           {
            "marker": {
             "colorbar": {
              "outlinewidth": 0,
              "ticks": ""
             }
            },
            "type": "scattermapbox"
           }
          ],
          "scatterpolar": [
           {
            "marker": {
             "colorbar": {
              "outlinewidth": 0,
              "ticks": ""
             }
            },
            "type": "scatterpolar"
           }
          ],
          "scatterpolargl": [
           {
            "marker": {
             "colorbar": {
              "outlinewidth": 0,
              "ticks": ""
             }
            },
            "type": "scatterpolargl"
           }
          ],
          "scatterternary": [
           {
            "marker": {
             "colorbar": {
              "outlinewidth": 0,
              "ticks": ""
             }
            },
            "type": "scatterternary"
           }
          ],
          "surface": [
           {
            "colorbar": {
             "outlinewidth": 0,
             "ticks": ""
            },
            "colorscale": [
             [
              0,
              "#0d0887"
             ],
             [
              0.1111111111111111,
              "#46039f"
             ],
             [
              0.2222222222222222,
              "#7201a8"
             ],
             [
              0.3333333333333333,
              "#9c179e"
             ],
             [
              0.4444444444444444,
              "#bd3786"
             ],
             [
              0.5555555555555556,
              "#d8576b"
             ],
             [
              0.6666666666666666,
              "#ed7953"
             ],
             [
              0.7777777777777778,
              "#fb9f3a"
             ],
             [
              0.8888888888888888,
              "#fdca26"
             ],
             [
              1,
              "#f0f921"
             ]
            ],
            "type": "surface"
           }
          ],
          "table": [
           {
            "cells": {
             "fill": {
              "color": "#EBF0F8"
             },
             "line": {
              "color": "white"
             }
            },
            "header": {
             "fill": {
              "color": "#C8D4E3"
             },
             "line": {
              "color": "white"
             }
            },
            "type": "table"
           }
          ]
         },
         "layout": {
          "annotationdefaults": {
           "arrowcolor": "#2a3f5f",
           "arrowhead": 0,
           "arrowwidth": 1
          },
          "autotypenumbers": "strict",
          "coloraxis": {
           "colorbar": {
            "outlinewidth": 0,
            "ticks": ""
           }
          },
          "colorscale": {
           "diverging": [
            [
             0,
             "#8e0152"
            ],
            [
             0.1,
             "#c51b7d"
            ],
            [
             0.2,
             "#de77ae"
            ],
            [
             0.3,
             "#f1b6da"
            ],
            [
             0.4,
             "#fde0ef"
            ],
            [
             0.5,
             "#f7f7f7"
            ],
            [
             0.6,
             "#e6f5d0"
            ],
            [
             0.7,
             "#b8e186"
            ],
            [
             0.8,
             "#7fbc41"
            ],
            [
             0.9,
             "#4d9221"
            ],
            [
             1,
             "#276419"
            ]
           ],
           "sequential": [
            [
             0,
             "#0d0887"
            ],
            [
             0.1111111111111111,
             "#46039f"
            ],
            [
             0.2222222222222222,
             "#7201a8"
            ],
            [
             0.3333333333333333,
             "#9c179e"
            ],
            [
             0.4444444444444444,
             "#bd3786"
            ],
            [
             0.5555555555555556,
             "#d8576b"
            ],
            [
             0.6666666666666666,
             "#ed7953"
            ],
            [
             0.7777777777777778,
             "#fb9f3a"
            ],
            [
             0.8888888888888888,
             "#fdca26"
            ],
            [
             1,
             "#f0f921"
            ]
           ],
           "sequentialminus": [
            [
             0,
             "#0d0887"
            ],
            [
             0.1111111111111111,
             "#46039f"
            ],
            [
             0.2222222222222222,
             "#7201a8"
            ],
            [
             0.3333333333333333,
             "#9c179e"
            ],
            [
             0.4444444444444444,
             "#bd3786"
            ],
            [
             0.5555555555555556,
             "#d8576b"
            ],
            [
             0.6666666666666666,
             "#ed7953"
            ],
            [
             0.7777777777777778,
             "#fb9f3a"
            ],
            [
             0.8888888888888888,
             "#fdca26"
            ],
            [
             1,
             "#f0f921"
            ]
           ]
          },
          "colorway": [
           "#636efa",
           "#EF553B",
           "#00cc96",
           "#ab63fa",
           "#FFA15A",
           "#19d3f3",
           "#FF6692",
           "#B6E880",
           "#FF97FF",
           "#FECB52"
          ],
          "font": {
           "color": "#2a3f5f"
          },
          "geo": {
           "bgcolor": "white",
           "lakecolor": "white",
           "landcolor": "#E5ECF6",
           "showlakes": true,
           "showland": true,
           "subunitcolor": "white"
          },
          "hoverlabel": {
           "align": "left"
          },
          "hovermode": "closest",
          "mapbox": {
           "style": "light"
          },
          "paper_bgcolor": "white",
          "plot_bgcolor": "#E5ECF6",
          "polar": {
           "angularaxis": {
            "gridcolor": "white",
            "linecolor": "white",
            "ticks": ""
           },
           "bgcolor": "#E5ECF6",
           "radialaxis": {
            "gridcolor": "white",
            "linecolor": "white",
            "ticks": ""
           }
          },
          "scene": {
           "xaxis": {
            "backgroundcolor": "#E5ECF6",
            "gridcolor": "white",
            "gridwidth": 2,
            "linecolor": "white",
            "showbackground": true,
            "ticks": "",
            "zerolinecolor": "white"
           },
           "yaxis": {
            "backgroundcolor": "#E5ECF6",
            "gridcolor": "white",
            "gridwidth": 2,
            "linecolor": "white",
            "showbackground": true,
            "ticks": "",
            "zerolinecolor": "white"
           },
           "zaxis": {
            "backgroundcolor": "#E5ECF6",
            "gridcolor": "white",
            "gridwidth": 2,
            "linecolor": "white",
            "showbackground": true,
            "ticks": "",
            "zerolinecolor": "white"
           }
          },
          "shapedefaults": {
           "line": {
            "color": "#2a3f5f"
           }
          },
          "ternary": {
           "aaxis": {
            "gridcolor": "white",
            "linecolor": "white",
            "ticks": ""
           },
           "baxis": {
            "gridcolor": "white",
            "linecolor": "white",
            "ticks": ""
           },
           "bgcolor": "#E5ECF6",
           "caxis": {
            "gridcolor": "white",
            "linecolor": "white",
            "ticks": ""
           }
          },
          "title": {
           "x": 0.05
          },
          "xaxis": {
           "automargin": true,
           "gridcolor": "white",
           "linecolor": "white",
           "ticks": "",
           "title": {
            "standoff": 15
           },
           "zerolinecolor": "white",
           "zerolinewidth": 2
          },
          "yaxis": {
           "automargin": true,
           "gridcolor": "white",
           "linecolor": "white",
           "ticks": "",
           "title": {
            "standoff": 15
           },
           "zerolinecolor": "white",
           "zerolinewidth": 2
          }
         }
        },
        "title": {
         "text": "Number of Distinct Crops in Each Season"
        },
        "xaxis": {
         "title": {
          "text": "Season"
         }
        },
        "yaxis": {
         "title": {
          "text": "Number of Distinct Crops"
         }
        }
       }
      }
     },
     "metadata": {},
     "output_type": "display_data"
    }
   ],
   "source": [
    "import plotly.graph_objects as go\n",
    "\n",
    "fig = go.Figure(data=[\n",
    "    go.Bar(name='Distinct Crops', x=seasons, y=distinct_crops_in_season_list)\n",
    "])\n",
    "\n",
    "\n",
    "fig.update_layout(\n",
    "    title='Number of Distinct Crops in Each Season',\n",
    "    xaxis_title='Season',\n",
    "    yaxis_title='Number of Distinct Crops',\n",
    "    barmode='group'\n",
    ")\n",
    "\n",
    "\n",
    "fig.show()"
   ]
  },
  {
   "cell_type": "code",
   "execution_count": 52,
   "metadata": {},
   "outputs": [
    {
     "data": {
      "image/png": "[encoded data removed]",
      "text/plain": [
       "<Figure size 1000x600 with 1 Axes>"
      ]
     },
     "metadata": {},
     "output_type": "display_data"
    }
   ],
   "source": [
    "# just doing this because i want to submit this some where and they want graphs in seaborn\n",
    "import seaborn as sns\n",
    "import matplotlib.pyplot as plt\n",
    "import pandas as pd\n",
    "data = pd.DataFrame({\n",
    "    'Season': seasons,\n",
    "    'Distinct Crops': distinct_crops_in_season_list\n",
    "})\n",
    "\n",
    "# Create the bar plot\n",
    "plt.figure(figsize=(10, 6))\n",
    "sns.barplot(x='Season', y='Distinct Crops', data=data, palette='viridis')\n",
    "\n",
    "# Add titles and labels\n",
    "plt.title('Number of Distinct Crops in Each Season')\n",
    "plt.xlabel('Season')\n",
    "plt.ylabel('Number of Distinct Crops')\n",
    "\n",
    "# Show the plot\n",
    "plt.show()"
   ]
  },
  {
   "cell_type": "markdown",
   "metadata": {},
   "source": [
    "## now let analyse crop wise data \n",
    "## there are 124 crops mentioned in data set\n",
    "## rice is a crop that grow in every state\n",
    "## fact found on google - Almost all parts of India are suitable for raising rice during the summer season provided that water is available. "
   ]
  },
  {
   "cell_type": "code",
   "execution_count": 53,
   "metadata": {},
   "outputs": [
    {
     "data": {
      "text/plain": [
       "['Arecanut',\n",
       " 'Other Kharif pulses',\n",
       " 'Rice',\n",
       " 'Banana',\n",
       " 'Cashewnut',\n",
       " 'Coconut ',\n",
       " 'Dry ginger',\n",
       " 'Sugarcane',\n",
       " 'Sweet potato',\n",
       " 'Tapioca',\n",
       " 'Black pepper',\n",
       " 'Dry chillies',\n",
       " 'other oilseeds',\n",
       " 'Turmeric',\n",
       " 'Maize',\n",
       " 'Moong(Green Gram)',\n",
       " 'Urad',\n",
       " 'Arhar/Tur',\n",
       " 'Groundnut',\n",
       " 'Sunflower',\n",
       " 'Bajra',\n",
       " 'Castor seed',\n",
       " 'Cotton(lint)',\n",
       " 'Horse-gram',\n",
       " 'Jowar',\n",
       " 'Korra',\n",
       " 'Ragi',\n",
       " 'Tobacco',\n",
       " 'Gram',\n",
       " 'Wheat',\n",
       " 'Masoor',\n",
       " 'Sesamum',\n",
       " 'Linseed',\n",
       " 'Safflower',\n",
       " 'Onion',\n",
       " 'other misc. pulses',\n",
       " 'Samai',\n",
       " 'Small millets',\n",
       " 'Coriander',\n",
       " 'Potato',\n",
       " 'Other  Rabi pulses',\n",
       " 'Soyabean',\n",
       " 'Beans & Mutter(Vegetable)',\n",
       " 'Bhindi',\n",
       " 'Brinjal',\n",
       " 'Citrus Fruit',\n",
       " 'Cucumber',\n",
       " 'Grapes',\n",
       " 'Mango',\n",
       " 'Orange',\n",
       " 'other fibres',\n",
       " 'Other Fresh Fruits',\n",
       " 'Other Vegetables',\n",
       " 'Papaya',\n",
       " 'Pome Fruit',\n",
       " 'Tomato',\n",
       " 'Rapeseed &Mustard',\n",
       " 'Mesta',\n",
       " 'Cowpea(Lobia)',\n",
       " 'Lemon',\n",
       " 'Pome Granet',\n",
       " 'Sapota',\n",
       " 'Cabbage',\n",
       " 'Peas  (vegetable)',\n",
       " 'Niger seed',\n",
       " 'Bottle Gourd',\n",
       " 'Sannhamp',\n",
       " 'Varagu',\n",
       " 'Garlic',\n",
       " 'Ginger',\n",
       " 'Oilseeds total',\n",
       " 'Pulses total',\n",
       " 'Jute',\n",
       " 'Peas & beans (Pulses)',\n",
       " 'Blackgram',\n",
       " 'Paddy',\n",
       " 'Pineapple',\n",
       " 'Barley',\n",
       " 'Khesari',\n",
       " 'Guar seed',\n",
       " 'Moth',\n",
       " 'Other Cereals & Millets',\n",
       " 'Cond-spcs other',\n",
       " 'Turnip',\n",
       " 'Carrot',\n",
       " 'Redish',\n",
       " 'Arcanut (Processed)',\n",
       " 'Atcanut (Raw)',\n",
       " 'Cashewnut Processed',\n",
       " 'Cashewnut Raw',\n",
       " 'Cardamom',\n",
       " 'Rubber',\n",
       " 'Bitter Gourd',\n",
       " 'Drum Stick',\n",
       " 'Jack Fruit',\n",
       " 'Snak Guard',\n",
       " 'Pump Kin',\n",
       " 'Tea',\n",
       " 'Coffee',\n",
       " 'Cauliflower',\n",
       " 'Other Citrus Fruit',\n",
       " 'Water Melon',\n",
       " 'Total foodgrain',\n",
       " 'Kapas',\n",
       " 'Colocosia',\n",
       " 'Lentil',\n",
       " 'Bean',\n",
       " 'Jobster',\n",
       " 'Perilla',\n",
       " 'Rajmash Kholar',\n",
       " 'Ricebean (nagadal)',\n",
       " 'Ash Gourd',\n",
       " 'Beet Root',\n",
       " 'Lab-Lab',\n",
       " 'Ribed Guard',\n",
       " 'Yam',\n",
       " 'Apple',\n",
       " 'Peach',\n",
       " 'Pear',\n",
       " 'Plums',\n",
       " 'Litchi',\n",
       " 'Ber',\n",
       " 'Other Dry Fruit',\n",
       " 'Jute & mesta']"
      ]
     },
     "execution_count": 53,
     "metadata": {},
     "output_type": "execute_result"
    }
   ],
   "source": [
    "# now let analyse crop wise data \n",
    "# there are 124 crops mentioned in data set\n",
    "# rice is a crop that grow in every state\n",
    "# fact found on google - Almost all parts of India are suitable for raising rice during the summer season provided that water is available. \n",
    "crop"
   ]
  },
  {
   "cell_type": "code",
   "execution_count": 54,
   "metadata": {},
   "outputs": [
    {
     "data": {
      "text/plain": [
       "array(['AP', 'ARP', 'ASM', 'BHR', 'CHD', 'CHG', 'DNH', 'GUJ', 'HAR', 'HP',\n",
       "       'J&K', 'JHK', 'KAR', 'KER', 'MP', 'MAH', 'MEG', 'MIZ', 'NAG',\n",
       "       'ODI', 'PUN', 'RAJ', 'SIK', 'TN', 'TEL', 'TRI', 'UP', 'UK', 'WB'],\n",
       "      dtype=object)"
      ]
     },
     "execution_count": 54,
     "metadata": {},
     "output_type": "execute_result"
    }
   ],
   "source": [
    "# lets figure out which crop grows in most of the states\n",
    "df[df['Crop'] == 'Wheat']['State_Name'].unique()"
   ]
  },
  {
   "cell_type": "code",
   "execution_count": 55,
   "metadata": {},
   "outputs": [],
   "source": [
    "total_states_for_each_crop = []\n",
    "for x in crop:\n",
    "    total_states_for_each_crop.append(len(df[df['Crop'] == x]['State_Name'].unique()))\n",
    "    \n",
    "    "
   ]
  },
  {
   "cell_type": "code",
   "execution_count": 56,
   "metadata": {},
   "outputs": [
    {
     "data": {
      "image/png": "[encoded data removed]",
      "text/plain": [
       "<Figure size 1200x800 with 1 Axes>"
      ]
     },
     "metadata": {},
     "output_type": "display_data"
    }
   ],
   "source": [
    "import seaborn as sns\n",
    "import matplotlib.pyplot as plt\n",
    "import pandas as pd\n",
    "\n",
    "\n",
    "crop = df['Crop'].unique()\n",
    "total_states_for_each_crop = [len(df[df['Crop'] == x]['State_Name'].unique()) for x in crop]\n",
    "\n",
    "data = pd.DataFrame({\n",
    "    'Crop': crop,\n",
    "    'Total States': total_states_for_each_crop\n",
    "})\n",
    "\n",
    "top_10_data = data.sort_values(by='Total States', ascending=False).head(50)\n",
    "\n",
    "plt.figure(figsize=(12, 8))\n",
    "sns.barplot(x='Crop', y='Total States', data=top_10_data, palette='viridis')\n",
    "\n",
    "\n",
    "plt.title('Crops by Number of States')\n",
    "plt.xlabel('Crop')\n",
    "plt.ylabel('Total States')\n",
    "plt.xticks(rotation = 90)\n",
    "\n",
    "plt.show()\n"
   ]
  },
  {
   "cell_type": "code",
   "execution_count": 57,
   "metadata": {},
   "outputs": [
    {
     "data": {
      "application/vnd.plotly.v1+json": {
       "config": {
        "plotlyServerURL": "https://plot.ly"
       },
       "data": [
        {
         "marker": {
          "color": [
           33,
           31,
           31,
           30,
           29,
           29,
           28,
           27,
           27,
           27,
           26,
           26,
           26,
           26,
           25,
           24,
           24,
           23,
           23,
           22,
           22,
           22,
           22,
           21,
           21,
           20,
           20,
           20,
           19,
           18,
           18,
           18,
           17,
           16,
           15,
           15,
           14,
           14,
           13,
           13,
           13,
           13,
           13,
           12,
           12,
           11,
           11,
           11,
           10,
           9,
           9,
           9,
           8,
           8,
           8,
           8,
           8,
           8,
           8,
           7,
           7,
           7,
           7,
           7,
           7,
           6,
           6,
           6,
           5,
           5,
           5,
           5,
           4,
           4,
           4,
           3,
           3,
           3,
           3,
           3,
           3,
           3,
           3,
           3,
           3,
           3,
           3,
           2,
           2,
           2,
           2,
           2,
           2,
           2,
           2,
           2,
           2,
           2,
           1,
           1,
           1,
           1,
           1,
           1,
           1,
           1,
           1,
           1,
           1,
           1,
           1,
           1,
           1,
           1,
           1,
           1,
           1,
           1,
           1,
           1,
           1,
           1,
           1,
           1
          ],
          "colorscale": [
           [
            0,
            "#440154"
           ],
           [
            0.1111111111111111,
            "#482878"
           ],
           [
            0.2222222222222222,
            "#3e4989"
           ],
           [
            0.3333333333333333,
            "#31688e"
           ],
           [
            0.4444444444444444,
            "#26828e"
           ],
           [
            0.5555555555555556,
            "#1f9e89"
           ],
           [
            0.6666666666666666,
            "#35b779"
           ],
           [
            0.7777777777777778,
            "#6ece58"
           ],
           [
            0.8888888888888888,
            "#b5de2b"
           ],
           [
            1,
            "#fde725"
           ]
          ],
          "showscale": true
         },
         "name": "Total States",
         "type": "bar",
         "x": [
          "Rice",
          "Sugarcane",
          "Maize",
          "Rapeseed &Mustard",
          "Arhar/Tur",
          "Wheat",
          "Sesamum",
          "Groundnut",
          "Urad",
          "Potato",
          "Moong(Green Gram)",
          "Gram",
          "Other  Rabi pulses",
          "Other Kharif pulses",
          "Cotton(lint)",
          "Dry chillies",
          "Small millets",
          "Turmeric",
          "Dry ginger",
          "Jowar",
          "Sunflower",
          "Onion",
          "Soyabean",
          "Tobacco",
          "Masoor",
          "Ragi",
          "Bajra",
          "Banana",
          "Sweet potato",
          "Peas & beans (Pulses)",
          "Garlic",
          "Linseed",
          "Castor seed",
          "Coriander",
          "Sannhamp",
          "Horse-gram",
          "Mesta",
          "Barley",
          "Tapioca",
          "Coconut ",
          "other oilseeds",
          "Jute",
          "Niger seed",
          "Mango",
          "Other Fresh Fruits",
          "Other Vegetables",
          "Papaya",
          "Cashewnut",
          "Arecanut",
          "Moth",
          "Oilseeds total",
          "Safflower",
          "Pulses total",
          "Ginger",
          "Grapes",
          "Citrus Fruit",
          "Brinjal",
          "Other Cereals & Millets",
          "Black pepper",
          "Pome Fruit",
          "Tomato",
          "Guar seed",
          "Orange",
          "Cowpea(Lobia)",
          "Beans & Mutter(Vegetable)",
          "Pineapple",
          "Bhindi",
          "Total foodgrain",
          "Paddy",
          "Cardamom",
          "Cabbage",
          "other misc. pulses",
          "Blackgram",
          "Bottle Gourd",
          "Khesari",
          "Varagu",
          "Bitter Gourd",
          "Jack Fruit",
          "Redish",
          "Carrot",
          "Cauliflower",
          "Samai",
          "Cucumber",
          "other fibres",
          "Water Melon",
          "Korra",
          "Kapas",
          "Other Citrus Fruit",
          "Pump Kin",
          "Snak Guard",
          "Lentil",
          "Drum Stick",
          "Tea",
          "Rubber",
          "Pome Granet",
          "Cashewnut Raw",
          "Peas  (vegetable)",
          "Turnip",
          "Lab-Lab",
          "Ribed Guard",
          "Yam",
          "Apple",
          "Peach",
          "Ash Gourd",
          "Pear",
          "Plums",
          "Litchi",
          "Ber",
          "Other Dry Fruit",
          "Beet Root",
          "Perilla",
          "Ricebean (nagadal)",
          "Rajmash Kholar",
          "Jobster",
          "Bean",
          "Colocosia",
          "Sapota",
          "Lemon",
          "Cond-spcs other",
          "Coffee",
          "Arcanut (Processed)",
          "Atcanut (Raw)",
          "Cashewnut Processed",
          "Jute & mesta"
         ],
         "y": [
          33,
          31,
          31,
          30,
          29,
          29,
          28,
          27,
          27,
          27,
          26,
          26,
          26,
          26,
          25,
          24,
          24,
          23,
          23,
          22,
          22,
          22,
          22,
          21,
          21,
          20,
          20,
          20,
          19,
          18,
          18,
          18,
          17,
          16,
          15,
          15,
          14,
          14,
          13,
          13,
          13,
          13,
          13,
          12,
          12,
          11,
          11,
          11,
          10,
          9,
          9,
          9,
          8,
          8,
          8,
          8,
          8,
          8,
          8,
          7,
          7,
          7,
          7,
          7,
          7,
          6,
          6,
          6,
          5,
          5,
          5,
          5,
          4,
          4,
          4,
          3,
          3,
          3,
          3,
          3,
          3,
          3,
          3,
          3,
          3,
          3,
          3,
          2,
          2,
          2,
          2,
          2,
          2,
          2,
          2,
          2,
          2,
          2,
          1,
          1,
          1,
          1,
          1,
          1,
          1,
          1,
          1,
          1,
          1,
          1,
          1,
          1,
          1,
          1,
          1,
          1,
          1,
          1,
          1,
          1,
          1,
          1,
          1,
          1
         ]
        }
       ],
       "layout": {
        "barmode": "group",
        "height": 400,
        "template": {
         "data": {
          "bar": [
           {
            "error_x": {
             "color": "#2a3f5f"
            },
            "error_y": {
             "color": "#2a3f5f"
            },
            "marker": {
             "line": {
              "color": "#E5ECF6",
              "width": 0.5
             },
             "pattern": {
              "fillmode": "overlay",
              "size": 10,
              "solidity": 0.2
             }
            },
            "type": "bar"
           }
          ],
          "barpolar": [
           {
            "marker": {
             "line": {
              "color": "#E5ECF6",
              "width": 0.5
             },
             "pattern": {
              "fillmode": "overlay",
              "size": 10,
              "solidity": 0.2
             }
            },
            "type": "barpolar"
           }
          ],
          "carpet": [
           {
            "aaxis": {
             "endlinecolor": "#2a3f5f",
             "gridcolor": "white",
             "linecolor": "white",
             "minorgridcolor": "white",
             "startlinecolor": "#2a3f5f"
            },
            "baxis": {
             "endlinecolor": "#2a3f5f",
             "gridcolor": "white",
             "linecolor": "white",
             "minorgridcolor": "white",
             "startlinecolor": "#2a3f5f"
            },
            "type": "carpet"
           }
          ],
          "choropleth": [
           {
            "colorbar": {
             "outlinewidth": 0,
             "ticks": ""
            },
            "type": "choropleth"
           }
          ],
          "contour": [
           {
            "colorbar": {
             "outlinewidth": 0,
             "ticks": ""
            },
            "colorscale": [
             [
              0,
              "#0d0887"
             ],
             [
              0.1111111111111111,
              "#46039f"
             ],
             [
              0.2222222222222222,
              "#7201a8"
             ],
             [
              0.3333333333333333,
              "#9c179e"
             ],
             [
              0.4444444444444444,
              "#bd3786"
             ],
             [
              0.5555555555555556,
              "#d8576b"
             ],
             [
              0.6666666666666666,
              "#ed7953"
             ],
             [
              0.7777777777777778,
              "#fb9f3a"
             ],
             [
              0.8888888888888888,
              "#fdca26"
             ],
             [
              1,
              "#f0f921"
             ]
            ],
            "type": "contour"
           }
          ],
          "contourcarpet": [
           {
            "colorbar": {
             "outlinewidth": 0,
             "ticks": ""
            },
            "type": "contourcarpet"
           }
          ],
          "heatmap": [
           {
            "colorbar": {
             "outlinewidth": 0,
             "ticks": ""
            },
            "colorscale": [
             [
              0,
              "#0d0887"
             ],
             [
              0.1111111111111111,
              "#46039f"
             ],
             [
              0.2222222222222222,
              "#7201a8"
             ],
             [
              0.3333333333333333,
              "#9c179e"
             ],
             [
              0.4444444444444444,
              "#bd3786"
             ],
             [
              0.5555555555555556,
              "#d8576b"
             ],
             [
              0.6666666666666666,
              "#ed7953"
             ],
             [
              0.7777777777777778,
              "#fb9f3a"
             ],
             [
              0.8888888888888888,
              "#fdca26"
             ],
             [
              1,
              "#f0f921"
             ]
            ],
            "type": "heatmap"
           }
          ],
          "heatmapgl": [
           {
            "colorbar": {
             "outlinewidth": 0,
             "ticks": ""
            },
            "colorscale": [
             [
              0,
              "#0d0887"
             ],
             [
              0.1111111111111111,
              "#46039f"
             ],
             [
              0.2222222222222222,
              "#7201a8"
             ],
             [
              0.3333333333333333,
              "#9c179e"
             ],
             [
              0.4444444444444444,
              "#bd3786"
             ],
             [
              0.5555555555555556,
              "#d8576b"
             ],
             [
              0.6666666666666666,
              "#ed7953"
             ],
             [
              0.7777777777777778,
              "#fb9f3a"
             ],
             [
              0.8888888888888888,
              "#fdca26"
             ],
             [
              1,
              "#f0f921"
             ]
            ],
            "type": "heatmapgl"
           }
          ],
          "histogram": [
           {
            "marker": {
             "pattern": {
              "fillmode": "overlay",
              "size": 10,
              "solidity": 0.2
             }
            },
            "type": "histogram"
           }
          ],
          "histogram2d": [
           {
            "colorbar": {
             "outlinewidth": 0,
             "ticks": ""
            },
            "colorscale": [
             [
              0,
              "#0d0887"
             ],
             [
              0.1111111111111111,
              "#46039f"
             ],
             [
              0.2222222222222222,
              "#7201a8"
             ],
             [
              0.3333333333333333,
              "#9c179e"
             ],
             [
              0.4444444444444444,
              "#bd3786"
             ],
             [
              0.5555555555555556,
              "#d8576b"
             ],
             [
              0.6666666666666666,
              "#ed7953"
             ],
             [
              0.7777777777777778,
              "#fb9f3a"
             ],
             [
              0.8888888888888888,
              "#fdca26"
             ],
             [
              1,
              "#f0f921"
             ]
            ],
            "type": "histogram2d"
           }
          ],
          "histogram2dcontour": [
           {
            "colorbar": {
             "outlinewidth": 0,
             "ticks": ""
            },
            "colorscale": [
             [
              0,
              "#0d0887"
             ],
             [
              0.1111111111111111,
              "#46039f"
             ],
             [
              0.2222222222222222,
              "#7201a8"
             ],
             [
              0.3333333333333333,
              "#9c179e"
             ],
             [
              0.4444444444444444,
              "#bd3786"
             ],
             [
              0.5555555555555556,
              "#d8576b"
             ],
             [
              0.6666666666666666,
              "#ed7953"
             ],
             [
              0.7777777777777778,
              "#fb9f3a"
             ],
             [
              0.8888888888888888,
              "#fdca26"
             ],
             [
              1,
              "#f0f921"
             ]
            ],
            "type": "histogram2dcontour"
           }
          ],
          "mesh3d": [
           {
            "colorbar": {
             "outlinewidth": 0,
             "ticks": ""
            },
            "type": "mesh3d"
           }
          ],
          "parcoords": [
           {
            "line": {
             "colorbar": {
              "outlinewidth": 0,
              "ticks": ""
             }
            },
            "type": "parcoords"
           }
          ],
          "pie": [
           {
            "automargin": true,
            "type": "pie"
           }
          ],
          "scatter": [
           {
            "fillpattern": {
             "fillmode": "overlay",
             "size": 10,
             "solidity": 0.2
            },
            "type": "scatter"
           }
          ],
          "scatter3d": [
           {
            "line": {
             "colorbar": {
              "outlinewidth": 0,
              "ticks": ""
             }
            },
            "marker": {
             "colorbar": {
              "outlinewidth": 0,
              "ticks": ""
             }
            },
            "type": "scatter3d"
           }
          ],
          "scattercarpet": [
           {
            "marker": {
             "colorbar": {
              "outlinewidth": 0,
              "ticks": ""
             }
            },
            "type": "scattercarpet"
           }
          ],
          "scattergeo": [
           {
            "marker": {
             "colorbar": {
              "outlinewidth": 0,
              "ticks": ""
             }
            },
            "type": "scattergeo"
           }
          ],
          "scattergl": [
           {
            "marker": {
             "colorbar": {
              "outlinewidth": 0,
              "ticks": ""
             }
            },
            "type": "scattergl"
           }
          ],
          "scattermapbox": [
           {
            "marker": {
             "colorbar": {
              "outlinewidth": 0,
              "ticks": ""
             }
            },
            "type": "scattermapbox"
           }
          ],
          "scatterpolar": [
           {
            "marker": {
             "colorbar": {
              "outlinewidth": 0,
              "ticks": ""
             }
            },
            "type": "scatterpolar"
           }
          ],
          "scatterpolargl": [
           {
            "marker": {
             "colorbar": {
              "outlinewidth": 0,
              "ticks": ""
             }
            },
            "type": "scatterpolargl"
           }
          ],
          "scatterternary": [
           {
            "marker": {
             "colorbar": {
              "outlinewidth": 0,
              "ticks": ""
             }
            },
            "type": "scatterternary"
           }
          ],
          "surface": [
           {
            "colorbar": {
             "outlinewidth": 0,
             "ticks": ""
            },
            "colorscale": [
             [
              0,
              "#0d0887"
             ],
             [
              0.1111111111111111,
              "#46039f"
             ],
             [
              0.2222222222222222,
              "#7201a8"
             ],
             [
              0.3333333333333333,
              "#9c179e"
             ],
             [
              0.4444444444444444,
              "#bd3786"
             ],
             [
              0.5555555555555556,
              "#d8576b"
             ],
             [
              0.6666666666666666,
              "#ed7953"
             ],
             [
              0.7777777777777778,
              "#fb9f3a"
             ],
             [
              0.8888888888888888,
              "#fdca26"
             ],
             [
              1,
              "#f0f921"
             ]
            ],
            "type": "surface"
           }
          ],
          "table": [
           {
            "cells": {
             "fill": {
              "color": "#EBF0F8"
             },
             "line": {
              "color": "white"
             }
            },
            "header": {
             "fill": {
              "color": "#C8D4E3"
             },
             "line": {
              "color": "white"
             }
            },
            "type": "table"
           }
          ]
         },
         "layout": {
          "annotationdefaults": {
           "arrowcolor": "#2a3f5f",
           "arrowhead": 0,
           "arrowwidth": 1
          },
          "autotypenumbers": "strict",
          "coloraxis": {
           "colorbar": {
            "outlinewidth": 0,
            "ticks": ""
           }
          },
          "colorscale": {
           "diverging": [
            [
             0,
             "#8e0152"
            ],
            [
             0.1,
             "#c51b7d"
            ],
            [
             0.2,
             "#de77ae"
            ],
            [
             0.3,
             "#f1b6da"
            ],
            [
             0.4,
             "#fde0ef"
            ],
            [
             0.5,
             "#f7f7f7"
            ],
            [
             0.6,
             "#e6f5d0"
            ],
            [
             0.7,
             "#b8e186"
            ],
            [
             0.8,
             "#7fbc41"
            ],
            [
             0.9,
             "#4d9221"
            ],
            [
             1,
             "#276419"
            ]
           ],
           "sequential": [
            [
             0,
             "#0d0887"
            ],
            [
             0.1111111111111111,
             "#46039f"
            ],
            [
             0.2222222222222222,
             "#7201a8"
            ],
            [
             0.3333333333333333,
             "#9c179e"
            ],
            [
             0.4444444444444444,
             "#bd3786"
            ],
            [
             0.5555555555555556,
             "#d8576b"
            ],
            [
             0.6666666666666666,
             "#ed7953"
            ],
            [
             0.7777777777777778,
             "#fb9f3a"
            ],
            [
             0.8888888888888888,
             "#fdca26"
            ],
            [
             1,
             "#f0f921"
            ]
           ],
           "sequentialminus": [
            [
             0,
             "#0d0887"
            ],
            [
             0.1111111111111111,
             "#46039f"
            ],
            [
             0.2222222222222222,
             "#7201a8"
            ],
            [
             0.3333333333333333,
             "#9c179e"
            ],
            [
             0.4444444444444444,
             "#bd3786"
            ],
            [
             0.5555555555555556,
             "#d8576b"
            ],
            [
             0.6666666666666666,
             "#ed7953"
            ],
            [
             0.7777777777777778,
             "#fb9f3a"
            ],
            [
             0.8888888888888888,
             "#fdca26"
            ],
            [
             1,
             "#f0f921"
            ]
           ]
          },
          "colorway": [
           "#636efa",
           "#EF553B",
           "#00cc96",
           "#ab63fa",
           "#FFA15A",
           "#19d3f3",
           "#FF6692",
           "#B6E880",
           "#FF97FF",
           "#FECB52"
          ],
          "font": {
           "color": "#2a3f5f"
          },
          "geo": {
           "bgcolor": "white",
           "lakecolor": "white",
           "landcolor": "#E5ECF6",
           "showlakes": true,
           "showland": true,
           "subunitcolor": "white"
          },
          "hoverlabel": {
           "align": "left"
          },
          "hovermode": "closest",
          "mapbox": {
           "style": "light"
          },
          "paper_bgcolor": "white",
          "plot_bgcolor": "#E5ECF6",
          "polar": {
           "angularaxis": {
            "gridcolor": "white",
            "linecolor": "white",
            "ticks": ""
           },
           "bgcolor": "#E5ECF6",
           "radialaxis": {
            "gridcolor": "white",
            "linecolor": "white",
            "ticks": ""
           }
          },
          "scene": {
           "xaxis": {
            "backgroundcolor": "#E5ECF6",
            "gridcolor": "white",
            "gridwidth": 2,
            "linecolor": "white",
            "showbackground": true,
            "ticks": "",
            "zerolinecolor": "white"
           },
           "yaxis": {
            "backgroundcolor": "#E5ECF6",
            "gridcolor": "white",
            "gridwidth": 2,
            "linecolor": "white",
            "showbackground": true,
            "ticks": "",
            "zerolinecolor": "white"
           },
           "zaxis": {
            "backgroundcolor": "#E5ECF6",
            "gridcolor": "white",
            "gridwidth": 2,
            "linecolor": "white",
            "showbackground": true,
            "ticks": "",
            "zerolinecolor": "white"
           }
          },
          "shapedefaults": {
           "line": {
            "color": "#2a3f5f"
           }
          },
          "ternary": {
           "aaxis": {
            "gridcolor": "white",
            "linecolor": "white",
            "ticks": ""
           },
           "baxis": {
            "gridcolor": "white",
            "linecolor": "white",
            "ticks": ""
           },
           "bgcolor": "#E5ECF6",
           "caxis": {
            "gridcolor": "white",
            "linecolor": "white",
            "ticks": ""
           }
          },
          "title": {
           "x": 0.05
          },
          "xaxis": {
           "automargin": true,
           "gridcolor": "white",
           "linecolor": "white",
           "ticks": "",
           "title": {
            "standoff": 15
           },
           "zerolinecolor": "white",
           "zerolinewidth": 2
          },
          "yaxis": {
           "automargin": true,
           "gridcolor": "white",
           "linecolor": "white",
           "ticks": "",
           "title": {
            "standoff": 15
           },
           "zerolinecolor": "white",
           "zerolinewidth": 2
          }
         }
        },
        "title": {
         "text": "Top 10 Crops by Number of States"
        },
        "width": 1500,
        "xaxis": {
         "tickangle": 90,
         "tickfont": {
          "size": 5
         },
         "title": {
          "text": "Crop"
         }
        },
        "yaxis": {
         "title": {
          "text": "Total States"
         }
        }
       }
      }
     },
     "metadata": {},
     "output_type": "display_data"
    }
   ],
   "source": [
    "import plotly.graph_objects as go\n",
    "import pandas as pd\n",
    "\n",
    "crop = df['Crop'].unique()\n",
    "total_states_for_each_crop = [len(df[df['Crop'] == x]['State_Name'].unique()) for x in crop]\n",
    "\n",
    "\n",
    "data = pd.DataFrame({\n",
    "    'Crop': crop,\n",
    "    'Total States': total_states_for_each_crop\n",
    "})\n",
    "\n",
    "\n",
    "top_data = data.sort_values(by='Total States', ascending=False)\n",
    "\n",
    "\n",
    "fig = go.Figure(data=[\n",
    "    go.Bar(\n",
    "        name='Total States',\n",
    "        x=top_data['Crop'],\n",
    "        y=top_data['Total States'],\n",
    "        marker=dict(\n",
    "            color=top_data['Total States'],\n",
    "            colorscale='Viridis', \n",
    "            showscale=True\n",
    "        )\n",
    "    )\n",
    "])\n",
    "\n",
    "fig.update_layout(\n",
    "    title='Top 10 Crops by Number of States',\n",
    "    xaxis_title='Crop',\n",
    "    yaxis_title='Total States',\n",
    "    barmode='group',\n",
    "    width=1500,  \n",
    "    height=400,  \n",
    "    xaxis=dict(\n",
    "        tickangle=90,\n",
    "        tickfont=dict(size=5)  \n",
    "    )\n",
    ")\n",
    "\n",
    "fig.show()\n"
   ]
  },
  {
   "cell_type": "code",
   "execution_count": 58,
   "metadata": {},
   "outputs": [],
   "source": [
    "# which state is mass producer of which product\n",
    "\n",
    "crops_to_be_analysed = list(top_data[:2]['Crop'].values)"
   ]
  },
  {
   "cell_type": "code",
   "execution_count": 59,
   "metadata": {},
   "outputs": [
    {
     "data": {
      "text/plain": [
       "['Rice', 'Sugarcane']"
      ]
     },
     "execution_count": 59,
     "metadata": {},
     "output_type": "execute_result"
    }
   ],
   "source": [
    "crops_to_be_analysed"
   ]
  },
  {
   "cell_type": "markdown",
   "metadata": {},
   "source": []
  },
  {
   "cell_type": "code",
   "execution_count": 60,
   "metadata": {},
   "outputs": [
    {
     "data": {
      "text/plain": [
       "[2000,\n",
       " 2001,\n",
       " 2002,\n",
       " 2003,\n",
       " 2004,\n",
       " 2005,\n",
       " 2006,\n",
       " 2010,\n",
       " 1997,\n",
       " 1998,\n",
       " 1999,\n",
       " 2007,\n",
       " 2008,\n",
       " 2009,\n",
       " 2011,\n",
       " 2012,\n",
       " 2013,\n",
       " 2014,\n",
       " 2015]"
      ]
     },
     "execution_count": 60,
     "metadata": {},
     "output_type": "execute_result"
    }
   ],
   "source": [
    "years"
   ]
  },
  {
   "cell_type": "code",
   "execution_count": 61,
   "metadata": {},
   "outputs": [
    {
     "data": {
      "text/plain": [
       "0.0"
      ]
     },
     "execution_count": 61,
     "metadata": {},
     "output_type": "execute_result"
    }
   ],
   "source": [
    "df[(df['Crop'] == 'Arecanut')&(df['Crop_Year']==2000)&(df['State_Name']=='Andhra Pradesh')]['Production'].sum()"
   ]
  },
  {
   "cell_type": "code",
   "execution_count": 62,
   "metadata": {},
   "outputs": [],
   "source": [
    "\n",
    "for x in crops_to_be_analysed:\n",
    "    for y in years:\n",
    "        for z in states:\n",
    "            df[(df['Crop'] == x)&(df['Crop_Year']==y)&(df['State_Name']== z)]['Production'].sum()\n",
    "            \n",
    "            \n",
    "    "
   ]
  },
  {
   "cell_type": "code",
   "execution_count": 72,
   "metadata": {},
   "outputs": [],
   "source": [
    "years_to_be_analysed = years[-5:-1]\n",
    "years_to_be_analysed\n",
    "crops_to_be_analysed = list(top_data[:20]['Crop'].values)"
   ]
  },
  {
   "cell_type": "code",
   "execution_count": 74,
   "metadata": {},
   "outputs": [
    {
     "data": {
      "application/vnd.plotly.v1+json": {
       "config": {
        "plotlyServerURL": "https://plot.ly"
       },
       "data": [
        {
         "name": "Rice - 2011",
         "type": "bar",
         "x": [
          "WB",
          "UP",
          "PUN",
          "BHR",
          "AP",
          "TN",
          "CHG",
          "ODI",
          "TEL",
          "ASM",
          "KAR",
          "HAR",
          "MAH",
          "MP",
          "GUJ",
          "TRI",
          "UK",
          "KER",
          "NAG",
          "MEG",
          "ARP",
          "GOA",
          "PUD",
          "SIK",
          "DNH",
          "ANI",
          "CHD",
          "HP",
          "J&K",
          "JHK",
          "MAN",
          "MIZ",
          "RAJ"
         ],
         "xaxis": "x",
         "y": [
          14605766,
          14022392,
          10542000,
          8237971,
          7744175,
          7458657,
          6300825,
          5806000,
          5147617,
          4715678,
          4181619,
          3574300,
          2848900,
          2273045,
          1789700,
          718304,
          589764,
          568993.48,
          382380,
          222731,
          159543,
          121991,
          42114,
          20880,
          18552,
          0,
          0,
          0,
          0,
          0,
          0,
          0,
          0
         ],
         "yaxis": "y"
        },
        {
         "name": "Rice - 2012",
         "type": "bar",
         "x": [
          "WB",
          "UP",
          "PUN",
          "ODI",
          "BHR",
          "CHG",
          "AP",
          "ASM",
          "TN",
          "HAR",
          "KAR",
          "MP",
          "MAH",
          "GUJ",
          "TRI",
          "UK",
          "KER",
          "NAG",
          "MEG",
          "ARP",
          "GOA",
          "PUD",
          "DNH",
          "SIK",
          "ANI",
          "CHD",
          "HP",
          "J&K",
          "JHK",
          "MAN",
          "MIZ",
          "RAJ",
          "TEL"
         ],
         "xaxis": "x2",
         "y": [
          14946735,
          14415939,
          11390000,
          9496000,
          8322010,
          7848401,
          6862854,
          5120052,
          4050334,
          3941000,
          3364379,
          3106146,
          3078040,
          1497300,
          713222,
          606891,
          508299,
          405180,
          265653,
          174662,
          122821,
          46519,
          26704,
          21340,
          0,
          0,
          0,
          0,
          0,
          0,
          0,
          0,
          0
         ],
         "yaxis": "y2"
        },
        {
         "name": "Rice - 2013",
         "type": "bar",
         "x": [
          "WB",
          "UP",
          "PUN",
          "AP",
          "ODI",
          "TN",
          "CHG",
          "BHR",
          "TEL",
          "ASM",
          "KAR",
          "MP",
          "MAH",
          "TRI",
          "UK",
          "KER",
          "NAG",
          "ARP",
          "MEG",
          "GOA",
          "PUD",
          "DNH",
          "SIK",
          "ANI",
          "CHD",
          "GUJ",
          "HAR",
          "HP",
          "J&K",
          "JHK",
          "MAN",
          "MIZ",
          "RAJ"
         ],
         "xaxis": "x3",
         "y": [
          15376869,
          14635836,
          11267000,
          7993425,
          7610000,
          7115195,
          7102729,
          6649589,
          6581090,
          5193379,
          4052599,
          3321724,
          3108290,
          711831,
          593068,
          564325,
          429640,
          184104,
          160016,
          126511,
          49792,
          25497,
          20260,
          0,
          0,
          0,
          0,
          0,
          0,
          0,
          0,
          0,
          0
         ],
         "yaxis": "y3"
        },
        {
         "name": "Rice - 2014",
         "type": "bar",
         "x": [
          "AP",
          "WB",
          "UP",
          "PUN",
          "ODI",
          "BHR",
          "CHG",
          "ASM",
          "TEL",
          "KAR",
          "MAH",
          "UK",
          "TRI",
          "KER",
          "NAG",
          "J&K",
          "MEG",
          "ARP",
          "GOA",
          "PUD",
          "DNH",
          "SIK",
          "ANI",
          "CHD",
          "GUJ",
          "HAR",
          "HP",
          "JHK",
          "MP",
          "MAN",
          "MIZ",
          "RAJ",
          "TN"
         ],
         "xaxis": "x4",
         "y": [
          16911168,
          15927196,
          13316967,
          11107000,
          9840000,
          8241624,
          7977746,
          5222645,
          4544982,
          4027747,
          2946600,
          1201720,
          746954,
          562092,
          454190,
          344823,
          235551,
          189992,
          120505,
          52717,
          25907,
          20070,
          0,
          0,
          0,
          0,
          0,
          0,
          0,
          0,
          0,
          0,
          0
         ],
         "yaxis": "y4"
        },
        {
         "name": "Sugarcane - 2011",
         "type": "bar",
         "x": [
          "UP",
          "MAH",
          "KAR",
          "TN",
          "AP",
          "GUJ",
          "UK",
          "PUN",
          "TEL",
          "MP",
          "WB",
          "ASM",
          "ODI",
          "HAR",
          "PUD",
          "KER",
          "NAG",
          "DNH",
          "GOA",
          "CHG",
          "TRI",
          "ARP",
          "MEG",
          "ANI",
          "BHR",
          "CHD",
          "HP",
          "J&K",
          "JHK",
          "MAN",
          "MIZ",
          "RAJ",
          "SIK"
         ],
         "xaxis": "x5",
         "y": [
          128818743,
          89456100,
          39470478,
          38974842,
          12844380,
          12748000,
          6348078,
          5653000,
          3844477,
          1965790,
          1681444,
          1052514,
          884713.1,
          695000,
          287785,
          263034.2,
          186670,
          53200,
          46584,
          45441,
          45001,
          30000,
          199,
          0,
          0,
          0,
          0,
          0,
          0,
          0,
          0,
          0,
          0
         ],
         "yaxis": "y5"
        },
        {
         "name": "Sugarcane - 2012",
         "type": "bar",
         "x": [
          "UP",
          "MAH",
          "KAR",
          "TN",
          "BHR",
          "AP",
          "HAR",
          "UK",
          "PUN",
          "MP",
          "WB",
          "GUJ",
          "ASM",
          "ODI",
          "PUD",
          "NAG",
          "DNH",
          "GOA",
          "TRI",
          "ARP",
          "CHG",
          "KER",
          "MEG",
          "ANI",
          "CHD",
          "HP",
          "J&K",
          "JHK",
          "MAN",
          "MIZ",
          "RAJ",
          "SIK",
          "TEL"
         ],
         "xaxis": "x6",
         "y": [
          137904315,
          75335000,
          35510714,
          34014097,
          12741415,
          11993130,
          7500000,
          6344504,
          5832000,
          2756580,
          1617025,
          1260800,
          1028161,
          952366.8999999999,
          304516,
          187570,
          52960,
          46055,
          45437,
          30151,
          25800,
          16572,
          280,
          0,
          0,
          0,
          0,
          0,
          0,
          0,
          0,
          0,
          0
         ],
         "yaxis": "y6"
        },
        {
         "name": "Sugarcane - 2013",
         "type": "bar",
         "x": [
          "UP",
          "MAH",
          "KAR",
          "TN",
          "BHR",
          "AP",
          "PUN",
          "UK",
          "TEL",
          "MP",
          "CHG",
          "WB",
          "ASM",
          "ODI",
          "PUD",
          "TRI",
          "GOA",
          "ARP",
          "KER",
          "MEG",
          "ANI",
          "CHD",
          "DNH",
          "GUJ",
          "HAR",
          "HP",
          "J&K",
          "JHK",
          "MAN",
          "MIZ",
          "NAG",
          "RAJ",
          "SIK"
         ],
         "xaxis": "x7",
         "y": [
          142045762,
          83954000,
          38042382,
          32454135,
          12881781,
          12008047,
          6675000,
          6061428,
          3376625,
          2797460,
          2153011,
          1945042,
          1075171,
          936512.2,
          304066,
          49598,
          47669,
          30351,
          22152,
          315,
          0,
          0,
          0,
          0,
          0,
          0,
          0,
          0,
          0,
          0,
          0,
          0,
          0
         ],
         "yaxis": "y7"
        },
        {
         "name": "Sugarcane - 2014",
         "type": "bar",
         "x": [
          "UP",
          "MAH",
          "KAR",
          "BHR",
          "AP",
          "PUN",
          "UK",
          "TEL",
          "WB",
          "ASM",
          "ODI",
          "PUD",
          "NAG",
          "CHG",
          "GOA",
          "TRI",
          "ARP",
          "KER",
          "J&K",
          "MEG",
          "ANI",
          "CHD",
          "DNH",
          "GUJ",
          "HAR",
          "HP",
          "JHK",
          "MP",
          "MAN",
          "MIZ",
          "RAJ",
          "SIK",
          "TN"
         ],
         "xaxis": "x8",
         "y": [
          146576786,
          91538100,
          43838057,
          15498951,
          10002941,
          7039000,
          6108965,
          3343035,
          2105506,
          1099134,
          722890.5999999999,
          316965,
          189330,
          76149,
          49215,
          41510,
          34900,
          14853,
          1957.5,
          338,
          0,
          0,
          0,
          0,
          0,
          0,
          0,
          0,
          0,
          0,
          0,
          0,
          0
         ],
         "yaxis": "y8"
        },
        {
         "name": "Maize - 2011",
         "type": "bar",
         "x": [
          "KAR",
          "BHR",
          "MAH",
          "TEL",
          "AP",
          "TN",
          "MP",
          "UP",
          "GUJ",
          "PUN",
          "WB",
          "ODI",
          "CHG",
          "NAG",
          "ARP",
          "SIK",
          "UK",
          "HAR",
          "MEG",
          "ASM",
          "TRI",
          "DNH",
          "ANI",
          "CHD",
          "GOA",
          "HP",
          "J&K",
          "JHK",
          "KER",
          "MAN",
          "MIZ",
          "PUD",
          "RAJ"
         ],
         "xaxis": "x9",
         "y": [
          3887917,
          2557063,
          2457600,
          1892475,
          1763204,
          1695467,
          1316635,
          1308298,
          786600,
          502000,
          364128,
          212187.40000000002,
          177805,
          134300,
          68500,
          66210,
          38378,
          30000,
          26939,
          17075,
          5058,
          110,
          0,
          0,
          0,
          0,
          0,
          0,
          0,
          0,
          0,
          0,
          0
         ],
         "yaxis": "y9"
        },
        {
         "name": "Maize - 2012",
         "type": "bar",
         "x": [
          "KAR",
          "BHR",
          "MP",
          "AP",
          "MAH",
          "UP",
          "TN",
          "GUJ",
          "PUN",
          "WB",
          "ODI",
          "CHG",
          "NAG",
          "ARP",
          "SIK",
          "UK",
          "MEG",
          "HAR",
          "ASM",
          "TRI",
          "DNH",
          "KER",
          "ANI",
          "CHD",
          "GOA",
          "HP",
          "J&K",
          "JHK",
          "MAN",
          "MIZ",
          "PUD",
          "RAJ",
          "TEL"
         ],
         "xaxis": "x10",
         "y": [
          3475973,
          2755954,
          2380688,
          1910917,
          1826400,
          1368747,
          946363,
          790400,
          483000,
          461411,
          227468.5,
          225109,
          134650,
          68192,
          67950,
          38803,
          38732,
          26000,
          21258,
          5177,
          110,
          15,
          0,
          0,
          0,
          0,
          0,
          0,
          0,
          0,
          0,
          0,
          0
         ],
         "yaxis": "y10"
        },
        {
         "name": "Maize - 2013",
         "type": "bar",
         "x": [
          "KAR",
          "TEL",
          "MAH",
          "BHR",
          "TN",
          "AP",
          "MP",
          "UP",
          "WB",
          "PUN",
          "ODI",
          "CHG",
          "NAG",
          "ASM",
          "ARP",
          "SIK",
          "MEG",
          "UK",
          "TRI",
          "DNH",
          "KER",
          "ANI",
          "CHD",
          "GOA",
          "GUJ",
          "HAR",
          "HP",
          "J&K",
          "JHK",
          "MAN",
          "MIZ",
          "PUD",
          "RAJ"
         ],
         "xaxis": "x11",
         "y": [
          4356364,
          3511493,
          3123800,
          2904237,
          2245216,
          2213485,
          1486110,
          1432075,
          620481,
          507000,
          263626.99999999994,
          254484,
          135440,
          76998,
          68978,
          68825,
          39655,
          33830,
          5805,
          110,
          71,
          0,
          0,
          0,
          0,
          0,
          0,
          0,
          0,
          0,
          0,
          0,
          0
         ],
         "yaxis": "y11"
        },
        {
         "name": "Maize - 2014",
         "type": "bar",
         "x": [
          "KAR",
          "BHR",
          "TEL",
          "MAH",
          "AP",
          "UP",
          "WB",
          "PUN",
          "J&K",
          "CHG",
          "ODI",
          "NAG",
          "ASM",
          "ARP",
          "SIK",
          "UK",
          "MEG",
          "TRI",
          "DNH",
          "KER",
          "ANI",
          "CHD",
          "GOA",
          "GUJ",
          "HAR",
          "HP",
          "JHK",
          "MP",
          "MAN",
          "MIZ",
          "PUD",
          "RAJ",
          "TN"
         ],
         "xaxis": "x12",
         "y": [
          4213579,
          2478745,
          2308051,
          2201200,
          1938073,
          1279257,
          649884,
          460000,
          359960,
          235014,
          188199.10000000003,
          135940,
          93179,
          75000,
          68890,
          49215,
          40764,
          5963,
          110,
          69,
          0,
          0,
          0,
          0,
          0,
          0,
          0,
          0,
          0,
          0,
          0,
          0,
          0
         ],
         "yaxis": "y12"
        },
        {
         "name": "Rapeseed &Mustard - 2011",
         "type": "bar",
         "x": [
          "MP",
          "HAR",
          "UP",
          "WB",
          "GUJ",
          "ASM",
          "BHR",
          "PUN",
          "NAG",
          "CHG",
          "AP",
          "UK",
          "MEG",
          "MAH",
          "SIK",
          "ODI",
          "TRI",
          "KAR",
          "TEL",
          "TN",
          "ANI",
          "ARP",
          "CHD",
          "DNH",
          "GOA",
          "HP",
          "J&K",
          "JHK",
          "KER",
          "MAN",
          "MIZ",
          "PUD",
          "RAJ"
         ],
         "xaxis": "x13",
         "y": [
          789623,
          747700,
          725893,
          380914,
          327300,
          138647,
          127926,
          38000,
          27250,
          21830,
          15759,
          9733,
          4902,
          4570,
          4340,
          2192.2,
          1683,
          1204,
          424,
          84,
          0,
          0,
          0,
          0,
          0,
          0,
          0,
          0,
          0,
          0,
          0,
          0,
          0
         ],
         "yaxis": "y13"
        },
        {
         "name": "Rapeseed &Mustard - 2012",
         "type": "bar",
         "x": [
          "MP",
          "HAR",
          "UP",
          "WB",
          "GUJ",
          "ASM",
          "BHR",
          "PUN",
          "NAG",
          "CHG",
          "UK",
          "MEG",
          "ODI",
          "SIK",
          "MAH",
          "TRI",
          "AP",
          "KAR",
          "ANI",
          "ARP",
          "CHD",
          "DNH",
          "GOA",
          "HP",
          "J&K",
          "JHK",
          "KER",
          "MAN",
          "MIZ",
          "PUD",
          "RAJ",
          "TN",
          "TEL"
         ],
         "xaxis": "x14",
         "y": [
          962061,
          959300,
          835700,
          474832,
          360600,
          170382,
          138518,
          41700,
          27420,
          23851,
          12093,
          9116,
          4029.7,
          3500,
          2460,
          1701,
          1530,
          650,
          0,
          0,
          0,
          0,
          0,
          0,
          0,
          0,
          0,
          0,
          0,
          0,
          0,
          0,
          0
         ],
         "yaxis": "y14"
        },
        {
         "name": "Rapeseed &Mustard - 2013",
         "type": "bar",
         "x": [
          "UP",
          "MP",
          "WB",
          "ASM",
          "BHR",
          "J&K",
          "PUN",
          "NAG",
          "CHG",
          "MEG",
          "UK",
          "ODI",
          "SIK",
          "TRI",
          "AP",
          "KAR",
          "TEL",
          "TN",
          "ANI",
          "ARP",
          "CHD",
          "DNH",
          "GOA",
          "GUJ",
          "HAR",
          "HP",
          "JHK",
          "KER",
          "MAH",
          "MAN",
          "MIZ",
          "PUD",
          "RAJ"
         ],
         "xaxis": "x15",
         "y": [
          671716,
          651507,
          478084,
          168977,
          117142,
          46030.79999999999,
          41800,
          27460,
          26999,
          9270,
          9167,
          3619.9,
          3384,
          2159,
          2121,
          769,
          644,
          140,
          0,
          0,
          0,
          0,
          0,
          0,
          0,
          0,
          0,
          0,
          0,
          0,
          0,
          0,
          0
         ],
         "yaxis": "y15"
        },
        {
         "name": "Rapeseed &Mustard - 2014",
         "type": "bar",
         "x": [
          "UP",
          "WB",
          "ASM",
          "BHR",
          "PUN",
          "NAG",
          "CHG",
          "UK",
          "MEG",
          "TRI",
          "TEL",
          "SIK",
          "AP",
          "ODI",
          "KAR",
          "J&K",
          "ANI",
          "ARP",
          "CHD",
          "DNH",
          "GOA",
          "GUJ",
          "HAR",
          "HP",
          "JHK",
          "KER",
          "MP",
          "MAH",
          "MAN",
          "MIZ",
          "PUD",
          "RAJ",
          "TN"
         ],
         "xaxis": "x16",
         "y": [
          486228,
          479647,
          187522,
          92891,
          38700,
          27600,
          24586,
          9963,
          9346,
          4925,
          3962,
          3212,
          3203,
          2470.2000000000003,
          445,
          36.5,
          0,
          0,
          0,
          0,
          0,
          0,
          0,
          0,
          0,
          0,
          0,
          0,
          0,
          0,
          0,
          0,
          0
         ],
         "yaxis": "y16"
        },
        {
         "name": "Arhar/Tur - 2011",
         "type": "bar",
         "x": [
          "MAH",
          "KAR",
          "MP",
          "UP",
          "GUJ",
          "TEL",
          "AP",
          "BHR",
          "TN",
          "PUN",
          "CHG",
          "HAR",
          "ASM",
          "NAG",
          "UK",
          "DNH",
          "TRI",
          "MEG",
          "WB",
          "ANI",
          "ARP",
          "CHD",
          "GOA",
          "HP",
          "J&K",
          "JHK",
          "KER",
          "MAN",
          "MIZ",
          "ODI",
          "PUD",
          "RAJ",
          "SIK"
         ],
         "xaxis": "x17",
         "y": [
          870900,
          351611,
          334259,
          333810,
          257500,
          90706,
          55382,
          42059,
          31292,
          27000,
          23679,
          18200,
          4467,
          2150,
          1740,
          1213,
          1212,
          921,
          543,
          0,
          0,
          0,
          0,
          0,
          0,
          0,
          0,
          0,
          0,
          0,
          0,
          0,
          0
         ],
         "yaxis": "y17"
        },
        {
         "name": "Arhar/Tur - 2012",
         "type": "bar",
         "x": [
          "MAH",
          "KAR",
          "UP",
          "MP",
          "GUJ",
          "AP",
          "BHR",
          "TN",
          "CHG",
          "HAR",
          "ASM",
          "PUN",
          "NAG",
          "WB",
          "UK",
          "KER",
          "MEG",
          "DNH",
          "TRI",
          "ANI",
          "ARP",
          "CHD",
          "GOA",
          "HP",
          "J&K",
          "JHK",
          "MAN",
          "MIZ",
          "ODI",
          "PUD",
          "RAJ",
          "SIK",
          "TEL"
         ],
         "xaxis": "x18",
         "y": [
          1005800,
          467109,
          324649,
          314541,
          270200,
          98015,
          47119,
          33105,
          31007,
          13863,
          4937,
          2900,
          2590,
          2052,
          1966,
          1892,
          1390,
          1314,
          1124,
          0,
          0,
          0,
          0,
          0,
          0,
          0,
          0,
          0,
          0,
          0,
          0,
          0,
          0
         ],
         "yaxis": "y18"
        },
        {
         "name": "Arhar/Tur - 2013",
         "type": "bar",
         "x": [
          "MAH",
          "KAR",
          "MP",
          "UP",
          "TEL",
          "AP",
          "TN",
          "BHR",
          "CHG",
          "PUN",
          "ASM",
          "TRI",
          "NAG",
          "WB",
          "UK",
          "KER",
          "MEG",
          "ANI",
          "ARP",
          "CHD",
          "DNH",
          "GOA",
          "GUJ",
          "HAR",
          "HP",
          "J&K",
          "JHK",
          "MAN",
          "MIZ",
          "ODI",
          "PUD",
          "RAJ",
          "SIK"
         ],
         "xaxis": "x19",
         "y": [
          1034200,
          756566,
          284910,
          271380,
          138315,
          103957,
          57666,
          36459,
          29448,
          26000,
          5642,
          2758,
          2660,
          2124,
          1880,
          1429,
          1425,
          0,
          0,
          0,
          0,
          0,
          0,
          0,
          0,
          0,
          0,
          0,
          0,
          0,
          0,
          0,
          0
         ],
         "yaxis": "y19"
        },
        {
         "name": "Arhar/Tur - 2014",
         "type": "bar",
         "x": [
          "KAR",
          "MAH",
          "UP",
          "TEL",
          "AP",
          "CHG",
          "BHR",
          "PUN",
          "ASM",
          "WB",
          "UK",
          "NAG",
          "KER",
          "TRI",
          "MEG",
          "ANI",
          "ARP",
          "CHD",
          "DNH",
          "GOA",
          "GUJ",
          "HAR",
          "HP",
          "J&K",
          "JHK",
          "MP",
          "MAN",
          "MIZ",
          "ODI",
          "PUD",
          "RAJ",
          "SIK",
          "TN"
         ],
         "xaxis": "x20",
         "y": [
          474035,
          353300,
          173971,
          108665,
          75784,
          35064,
          28542,
          23900,
          5738,
          2942,
          2854,
          2710,
          1903,
          1820,
          1465,
          0,
          0,
          0,
          0,
          0,
          0,
          0,
          0,
          0,
          0,
          0,
          0,
          0,
          0,
          0,
          0,
          0,
          0
         ],
         "yaxis": "y20"
        },
        {
         "name": "Wheat - 2011",
         "type": "bar",
         "x": [
          "UP",
          "PUN",
          "MP",
          "HAR",
          "BHR",
          "GUJ",
          "MAH",
          "WB",
          "UK",
          "KAR",
          "CHG",
          "ASM",
          "TEL",
          "ARP",
          "NAG",
          "SIK",
          "ODI",
          "MEG",
          "TRI",
          "AP",
          "DNH",
          "ANI",
          "CHD",
          "GOA",
          "HP",
          "J&K",
          "JHK",
          "KER",
          "MAN",
          "MIZ",
          "PUD",
          "RAJ",
          "TN"
         ],
         "xaxis": "x21",
         "y": [
          31892480,
          17982000,
          14537038,
          13119000,
          6530955,
          4072100,
          1498800,
          872895,
          864836,
          200932,
          135121,
          48592,
          10549,
          6500,
          5390,
          2650,
          2396.7,
          710,
          536,
          365,
          274,
          0,
          0,
          0,
          0,
          0,
          0,
          0,
          0,
          0,
          0,
          0,
          0
         ],
         "yaxis": "y21"
        },
        {
         "name": "Wheat - 2012",
         "type": "bar",
         "x": [
          "UP",
          "PUN",
          "MP",
          "HAR",
          "BHR",
          "GUJ",
          "MAH",
          "WB",
          "UK",
          "KAR",
          "CHG",
          "ASM",
          "NAG",
          "ARP",
          "ODI",
          "TRI",
          "MEG",
          "AP",
          "SIK",
          "DNH",
          "ANI",
          "CHD",
          "GOA",
          "HP",
          "J&K",
          "JHK",
          "KER",
          "MAN",
          "MIZ",
          "PUD",
          "RAJ",
          "TN",
          "TEL"
         ],
         "xaxis": "x22",
         "y": [
          31332434,
          16614000,
          16510524,
          11117000,
          6174260,
          2944000,
          1198700,
          895927,
          853769,
          178871,
          143226,
          44190,
          5890,
          4401,
          1974.4,
          827,
          742,
          574,
          550,
          262,
          0,
          0,
          0,
          0,
          0,
          0,
          0,
          0,
          0,
          0,
          0,
          0,
          0
         ],
         "yaxis": "y22"
        },
        {
         "name": "Wheat - 2013",
         "type": "bar",
         "x": [
          "UP",
          "PUN",
          "MP",
          "BHR",
          "MAH",
          "WB",
          "UK",
          "J&K",
          "KAR",
          "CHG",
          "ASM",
          "NAG",
          "ARP",
          "TEL",
          "ODI",
          "MEG",
          "AP",
          "SIK",
          "TRI",
          "DNH",
          "ANI",
          "CHD",
          "GOA",
          "GUJ",
          "HAR",
          "HP",
          "JHK",
          "KER",
          "MAN",
          "MIZ",
          "PUD",
          "RAJ",
          "TN"
         ],
         "xaxis": "x23",
         "y": [
          31492656,
          17620000,
          15722722,
          6134679,
          1480000,
          927837,
          848134,
          464577,
          210041,
          140756,
          40444,
          5470,
          4470,
          4366,
          1067.6,
          789,
          498,
          385,
          300,
          262,
          0,
          0,
          0,
          0,
          0,
          0,
          0,
          0,
          0,
          0,
          0,
          0,
          0
         ],
         "yaxis": "y23"
        },
        {
         "name": "Wheat - 2014",
         "type": "bar",
         "x": [
          "UP",
          "PUN",
          "BHR",
          "MAH",
          "WB",
          "UK",
          "KAR",
          "CHG",
          "ASM",
          "ARP",
          "TEL",
          "NAG",
          "MEG",
          "ODI",
          "SIK",
          "TRI",
          "DNH",
          "AP",
          "KER",
          "ANI",
          "CHD",
          "GOA",
          "GUJ",
          "HAR",
          "HP",
          "J&K",
          "JHK",
          "MP",
          "MAN",
          "MIZ",
          "PUD",
          "RAJ",
          "TN"
         ],
         "xaxis": "x24",
         "y": [
          20054791,
          15050000,
          3570211,
          1307700,
          939254,
          662026,
          260093,
          153321,
          28769,
          7500,
          6929,
          5600,
          844,
          656.0999999999999,
          420,
          304,
          289,
          256,
          3,
          0,
          0,
          0,
          0,
          0,
          0,
          0,
          0,
          0,
          0,
          0,
          0,
          0,
          0
         ],
         "yaxis": "y24"
        },
        {
         "name": "Sesamum - 2011",
         "type": "bar",
         "x": [
          "MP",
          "WB",
          "GUJ",
          "UP",
          "KAR",
          "PUN",
          "MAH",
          "AP",
          "ASM",
          "CHG",
          "TEL",
          "ODI",
          "BHR",
          "NAG",
          "TRI",
          "MEG",
          "HAR",
          "UK",
          "PUD",
          "KER",
          "DNH",
          "ANI",
          "ARP",
          "CHD",
          "GOA",
          "HP",
          "J&K",
          "JHK",
          "MAN",
          "MIZ",
          "RAJ",
          "SIK",
          "TN"
         ],
         "xaxis": "x25",
         "y": [
          171982,
          167198,
          116000,
          74778,
          30545,
          16000,
          15180,
          13319,
          7957,
          7579,
          6764,
          4800,
          2247,
          2100,
          1095,
          867,
          700,
          400,
          98,
          76.05,
          39,
          0,
          0,
          0,
          0,
          0,
          0,
          0,
          0,
          0,
          0,
          0,
          0
         ],
         "yaxis": "y25"
        },
        {
         "name": "Sesamum - 2012",
         "type": "bar",
         "x": [
          "GUJ",
          "WB",
          "MP",
          "UP",
          "KAR",
          "AP",
          "MAH",
          "ASM",
          "CHG",
          "ODI",
          "NAG",
          "BHR",
          "PUN",
          "MEG",
          "TRI",
          "HAR",
          "UK",
          "KER",
          "PUD",
          "DNH",
          "ANI",
          "ARP",
          "CHD",
          "GOA",
          "HP",
          "J&K",
          "JHK",
          "MAN",
          "MIZ",
          "RAJ",
          "SIK",
          "TN",
          "TEL"
         ],
         "xaxis": "x26",
         "y": [
          237700,
          180484,
          144792,
          64262,
          13264,
          12505,
          11680,
          8012,
          5722,
          5319.5,
          2130,
          1948,
          1900,
          1859,
          1188,
          579,
          486,
          196,
          120,
          39,
          0,
          0,
          0,
          0,
          0,
          0,
          0,
          0,
          0,
          0,
          0,
          0,
          0
         ],
         "yaxis": "y26"
        },
        {
         "name": "Sesamum - 2013",
         "type": "bar",
         "x": [
          "WB",
          "MP",
          "UP",
          "KAR",
          "AP",
          "PUN",
          "MAH",
          "TEL",
          "ASM",
          "ODI",
          "CHG",
          "NAG",
          "MEG",
          "BHR",
          "TRI",
          "UK",
          "PUD",
          "KER",
          "ANI",
          "ARP",
          "CHD",
          "DNH",
          "GOA",
          "GUJ",
          "HAR",
          "HP",
          "J&K",
          "JHK",
          "MAN",
          "MIZ",
          "RAJ",
          "SIK",
          "TN"
         ],
         "xaxis": "x27",
         "y": [
          197712,
          116466,
          43190,
          23494,
          21214,
          14000,
          10290,
          8710,
          8571,
          5609.7,
          4799,
          2150,
          1998,
          1986,
          1706,
          467,
          157,
          88,
          0,
          0,
          0,
          0,
          0,
          0,
          0,
          0,
          0,
          0,
          0,
          0,
          0,
          0,
          0
         ],
         "yaxis": "y27"
        },
        {
         "name": "Sesamum - 2014",
         "type": "bar",
         "x": [
          "WB",
          "UP",
          "AP",
          "KAR",
          "PUN",
          "TEL",
          "ASM",
          "CHG",
          "ODI",
          "MAH",
          "BHR",
          "NAG",
          "MEG",
          "J&K",
          "TRI",
          "UK",
          "PUD",
          "KER",
          "ANI",
          "ARP",
          "CHD",
          "DNH",
          "GOA",
          "GUJ",
          "HAR",
          "HP",
          "JHK",
          "MP",
          "MAN",
          "MIZ",
          "RAJ",
          "SIK",
          "TN"
         ],
         "xaxis": "x28",
         "y": [
          208634,
          63599,
          27821,
          22617,
          14000,
          9652,
          9232,
          7918,
          6652.3,
          4100,
          2558,
          2150,
          2066,
          1565.6000000000001,
          1543,
          408,
          114,
          89.41,
          0,
          0,
          0,
          0,
          0,
          0,
          0,
          0,
          0,
          0,
          0,
          0,
          0,
          0,
          0
         ],
         "yaxis": "y28"
        },
        {
         "name": "Groundnut - 2011",
         "type": "bar",
         "x": [
          "GUJ",
          "TN",
          "AP",
          "KAR",
          "MAH",
          "MP",
          "TEL",
          "WB",
          "UP",
          "ODI",
          "CHG",
          "PUN",
          "GOA",
          "HAR",
          "UK",
          "BHR",
          "NAG",
          "TRI",
          "PUD",
          "DNH",
          "ANI",
          "ARP",
          "ASM",
          "CHD",
          "HP",
          "J&K",
          "JHK",
          "KER",
          "MAN",
          "MEG",
          "MIZ",
          "RAJ",
          "SIK"
         ],
         "xaxis": "x29",
         "y": [
          2716800,
          1060654,
          582584,
          437337,
          374880,
          369161,
          262037,
          150173,
          92347,
          78836.3,
          37854,
          29000,
          8000,
          2000,
          1538,
          829,
          760,
          715,
          457,
          17,
          0,
          0,
          0,
          0,
          0,
          0,
          0,
          0,
          0,
          0,
          0,
          0,
          0
         ],
         "yaxis": "y29"
        },
        {
         "name": "Groundnut - 2012",
         "type": "bar",
         "x": [
          "TN",
          "AP",
          "GUJ",
          "KAR",
          "MP",
          "MAH",
          "WB",
          "UP",
          "ODI",
          "CHG",
          "GOA",
          "HAR",
          "PUN",
          "UK",
          "KER",
          "NAG",
          "PUD",
          "BHR",
          "TRI",
          "DNH",
          "ANI",
          "ARP",
          "ASM",
          "CHD",
          "HP",
          "J&K",
          "JHK",
          "MAN",
          "MEG",
          "MIZ",
          "RAJ",
          "SIK",
          "TEL"
         ],
         "xaxis": "x30",
         "y": [
          785362,
          779632,
          762600,
          395170,
          352741,
          337740,
          152071,
          93706,
          81653.40000000001,
          40504,
          7468,
          3071,
          2900,
          1235,
          976,
          820,
          787,
          779,
          732,
          17,
          0,
          0,
          0,
          0,
          0,
          0,
          0,
          0,
          0,
          0,
          0,
          0,
          0
         ],
         "yaxis": "y30"
        },
        {
         "name": "Groundnut - 2013",
         "type": "bar",
         "x": [
          "TN",
          "AP",
          "KAR",
          "MAH",
          "TEL",
          "MP",
          "WB",
          "ODI",
          "UP",
          "CHG",
          "PUN",
          "GOA",
          "UK",
          "BHR",
          "NAG",
          "PUD",
          "KER",
          "TRI",
          "ANI",
          "ARP",
          "ASM",
          "CHD",
          "DNH",
          "GUJ",
          "HAR",
          "HP",
          "J&K",
          "JHK",
          "MAN",
          "MEG",
          "MIZ",
          "RAJ",
          "SIK"
         ],
         "xaxis": "x31",
         "y": [
          915884,
          881311,
          565374,
          421700,
          355143,
          354909,
          151613,
          86766.8,
          86157,
          42396,
          24000,
          6590,
          1426,
          913,
          880,
          869,
          868,
          725,
          0,
          0,
          0,
          0,
          0,
          0,
          0,
          0,
          0,
          0,
          0,
          0,
          0,
          0,
          0
         ],
         "yaxis": "y31"
        },
        {
         "name": "Groundnut - 2014",
         "type": "bar",
         "x": [
          "KAR",
          "AP",
          "MAH",
          "TEL",
          "WB",
          "UP",
          "ODI",
          "CHG",
          "PUN",
          "GOA",
          "UK",
          "PUD",
          "NAG",
          "TRI",
          "KER",
          "BHR",
          "ANI",
          "ARP",
          "ASM",
          "CHD",
          "DNH",
          "GUJ",
          "HAR",
          "HP",
          "J&K",
          "JHK",
          "MP",
          "MAN",
          "MEG",
          "MIZ",
          "RAJ",
          "SIK",
          "TN"
         ],
         "xaxis": "x32",
         "y": [
          501768,
          492523,
          378900,
          295235,
          155450,
          84595,
          61953.29999999999,
          40762,
          26000,
          4311,
          1306,
          1059,
          880,
          801,
          692,
          587,
          0,
          0,
          0,
          0,
          0,
          0,
          0,
          0,
          0,
          0,
          0,
          0,
          0,
          0,
          0,
          0,
          0
         ],
         "yaxis": "y32"
        },
        {
         "name": "Urad - 2011",
         "type": "bar",
         "x": [
          "UP",
          "AP",
          "MAH",
          "TN",
          "MP",
          "GUJ",
          "TEL",
          "KAR",
          "WB",
          "ODI",
          "CHG",
          "ASM",
          "BHR",
          "PUN",
          "UK",
          "SIK",
          "DNH",
          "TRI",
          "HAR",
          "PUD",
          "NAG",
          "ANI",
          "ARP",
          "CHD",
          "GOA",
          "HP",
          "J&K",
          "JHK",
          "KER",
          "MAN",
          "MEG",
          "MIZ",
          "RAJ"
         ],
         "xaxis": "x33",
         "y": [
          371169,
          326012,
          249460,
          178816,
          164339,
          72000,
          41748,
          35013,
          34957,
          30073.400000000005,
          30071,
          29832,
          11867,
          11000,
          8960,
          3000,
          1098,
          1048,
          700,
          571,
          210,
          0,
          0,
          0,
          0,
          0,
          0,
          0,
          0,
          0,
          0,
          0,
          0
         ],
         "yaxis": "y33"
        },
        {
         "name": "Urad - 2012",
         "type": "bar",
         "x": [
          "UP",
          "AP",
          "MP",
          "MAH",
          "TN",
          "GUJ",
          "KAR",
          "WB",
          "ODI",
          "CHG",
          "ASM",
          "BHR",
          "UK",
          "SIK",
          "PUN",
          "DNH",
          "TRI",
          "HAR",
          "PUD",
          "NAG",
          "ANI",
          "ARP",
          "CHD",
          "GOA",
          "HP",
          "J&K",
          "JHK",
          "KER",
          "MAN",
          "MEG",
          "MIZ",
          "RAJ",
          "TEL"
         ],
         "xaxis": "x34",
         "y": [
          380669,
          334158,
          258774,
          213600,
          88706,
          60100,
          52239,
          42193,
          37383.6,
          31359,
          26735,
          12149,
          9269,
          2910,
          1200,
          1102,
          883,
          816,
          465,
          310,
          0,
          0,
          0,
          0,
          0,
          0,
          0,
          0,
          0,
          0,
          0,
          0,
          0
         ],
         "yaxis": "y34"
        },
        {
         "name": "Urad - 2013",
         "type": "bar",
         "x": [
          "TN",
          "UP",
          "MP",
          "AP",
          "MAH",
          "KAR",
          "WB",
          "TEL",
          "ASM",
          "CHG",
          "ODI",
          "BHR",
          "PUN",
          "UK",
          "SIK",
          "TRI",
          "PUD",
          "ANI",
          "ARP",
          "CHD",
          "DNH",
          "GOA",
          "GUJ",
          "HAR",
          "HP",
          "J&K",
          "JHK",
          "KER",
          "MAN",
          "MEG",
          "MIZ",
          "NAG",
          "RAJ"
         ],
         "xaxis": "x35",
         "y": [
          310658,
          247785,
          211773,
          206704,
          206440,
          49750,
          48810,
          35405,
          31319,
          29925,
          26334.100000000006,
          14142,
          10500,
          8866,
          2954,
          1112,
          268,
          0,
          0,
          0,
          0,
          0,
          0,
          0,
          0,
          0,
          0,
          0,
          0,
          0,
          0,
          0,
          0
         ],
         "yaxis": "y35"
        },
        {
         "name": "Urad - 2014",
         "type": "bar",
         "x": [
          "UP",
          "AP",
          "WB",
          "ASM",
          "CHG",
          "ODI",
          "KAR",
          "TEL",
          "BHR",
          "PUN",
          "UK",
          "J&K",
          "SIK",
          "TRI",
          "PUD",
          "ANI",
          "ARP",
          "CHD",
          "DNH",
          "GOA",
          "GUJ",
          "HAR",
          "HP",
          "JHK",
          "KER",
          "MP",
          "MAH",
          "MAN",
          "MEG",
          "MIZ",
          "NAG",
          "RAJ",
          "TN"
         ],
         "xaxis": "x36",
         "y": [
          301960,
          298649,
          51765,
          34237,
          30096,
          27551.700000000008,
          20802,
          16338,
          14355,
          12100,
          9570,
          4321.1,
          2914,
          845,
          392,
          0,
          0,
          0,
          0,
          0,
          0,
          0,
          0,
          0,
          0,
          0,
          0,
          0,
          0,
          0,
          0,
          0,
          0
         ],
         "yaxis": "y36"
        },
        {
         "name": "Potato - 2011",
         "type": "bar",
         "x": [
          "UP",
          "WB",
          "GUJ",
          "MP",
          "ASM",
          "KAR",
          "HAR",
          "MEG",
          "UK",
          "TN",
          "CHG",
          "ODI",
          "NAG",
          "TEL",
          "ARP",
          "AP",
          "KER",
          "ANI",
          "BHR",
          "CHD",
          "DNH",
          "GOA",
          "HP",
          "J&K",
          "JHK",
          "MAH",
          "MAN",
          "MIZ",
          "PUD",
          "PUN",
          "RAJ",
          "SIK",
          "TRI"
         ],
         "xaxis": "x37",
         "y": [
          12316103,
          9723036,
          1792300,
          1028929,
          682597,
          347883,
          263000,
          165670,
          134488,
          92207,
          65574,
          63006.1,
          58780,
          44632,
          40000,
          16170,
          4827,
          0,
          0,
          0,
          0,
          0,
          0,
          0,
          0,
          0,
          0,
          0,
          0,
          0,
          0,
          0,
          0
         ],
         "yaxis": "y37"
        },
        {
         "name": "Potato - 2012",
         "type": "bar",
         "x": [
          "UP",
          "WB",
          "GUJ",
          "MP",
          "ASM",
          "KAR",
          "HAR",
          "MEG",
          "UK",
          "CHG",
          "NAG",
          "ODI",
          "ARP",
          "KER",
          "AP",
          "ANI",
          "BHR",
          "CHD",
          "DNH",
          "GOA",
          "HP",
          "J&K",
          "JHK",
          "MAH",
          "MAN",
          "MIZ",
          "PUD",
          "PUN",
          "RAJ",
          "SIK",
          "TN",
          "TEL",
          "TRI"
         ],
         "xaxis": "x38",
         "y": [
          13336619,
          11620652,
          1789200,
          1157669,
          708632,
          306533,
          297900,
          172955,
          133218,
          83761,
          69000,
          65015.3,
          38872,
          19050,
          18399,
          0,
          0,
          0,
          0,
          0,
          0,
          0,
          0,
          0,
          0,
          0,
          0,
          0,
          0,
          0,
          0,
          0,
          0
         ],
         "yaxis": "y38"
        },
        {
         "name": "Potato - 2013",
         "type": "bar",
         "x": [
          "UP",
          "WB",
          "MP",
          "ASM",
          "KAR",
          "MEG",
          "UK",
          "TN",
          "ODI",
          "NAG",
          "CHG",
          "TEL",
          "ARP",
          "AP",
          "J&K",
          "KER",
          "ANI",
          "BHR",
          "CHD",
          "DNH",
          "GOA",
          "GUJ",
          "HAR",
          "HP",
          "JHK",
          "MAH",
          "MAN",
          "MIZ",
          "PUD",
          "PUN",
          "RAJ",
          "SIK",
          "TRI"
         ],
         "xaxis": "x39",
         "y": [
          12060013,
          9049899,
          1047072,
          700144,
          316201,
          181813,
          139630,
          122737,
          71340.70000000001,
          70540,
          62820,
          47411,
          40664,
          25240,
          15336.3,
          14846,
          0,
          0,
          0,
          0,
          0,
          0,
          0,
          0,
          0,
          0,
          0,
          0,
          0,
          0,
          0,
          0,
          0
         ],
         "yaxis": "y39"
        },
        {
         "name": "Potato - 2014",
         "type": "bar",
         "x": [
          "WB",
          "UP",
          "ASM",
          "KAR",
          "MEG",
          "UK",
          "ODI",
          "CHG",
          "NAG",
          "ARP",
          "TEL",
          "AP",
          "J&K",
          "KER",
          "ANI",
          "BHR",
          "CHD",
          "DNH",
          "GOA",
          "GUJ",
          "HAR",
          "HP",
          "JHK",
          "MP",
          "MAH",
          "MAN",
          "MIZ",
          "PUD",
          "PUN",
          "RAJ",
          "SIK",
          "TN",
          "TRI"
         ],
         "xaxis": "x40",
         "y": [
          13908049,
          12986412,
          783768,
          327333,
          182285,
          120673,
          104080.09999999999,
          74626,
          73370,
          42000,
          41069,
          23936,
          17410.6,
          15811,
          0,
          0,
          0,
          0,
          0,
          0,
          0,
          0,
          0,
          0,
          0,
          0,
          0,
          0,
          0,
          0,
          0,
          0,
          0
         ],
         "yaxis": "y40"
        },
        {
         "name": "Moong(Green Gram) - 2011",
         "type": "bar",
         "x": [
          "MAH",
          "GUJ",
          "BHR",
          "TN",
          "TEL",
          "AP",
          "KAR",
          "ODI",
          "PUN",
          "UP",
          "MP",
          "WB",
          "HAR",
          "ASM",
          "CHG",
          "PUD",
          "TRI",
          "UK",
          "ANI",
          "ARP",
          "CHD",
          "DNH",
          "GOA",
          "HP",
          "J&K",
          "JHK",
          "KER",
          "MAN",
          "MEG",
          "MIZ",
          "NAG",
          "RAJ",
          "SIK"
         ],
         "xaxis": "x41",
         "y": [
          253540,
          120700,
          94801,
          85118,
          81578,
          80841,
          74984,
          61332.40000000001,
          56000,
          45845,
          18720,
          12950,
          8000,
          6347,
          3885,
          483,
          394,
          2,
          0,
          0,
          0,
          0,
          0,
          0,
          0,
          0,
          0,
          0,
          0,
          0,
          0,
          0,
          0
         ],
         "yaxis": "y41"
        },
        {
         "name": "Moong(Green Gram) - 2012",
         "type": "bar",
         "x": [
          "MAH",
          "BHR",
          "ODI",
          "AP",
          "KAR",
          "GUJ",
          "UP",
          "TN",
          "MP",
          "WB",
          "ASM",
          "CHG",
          "PUN",
          "HAR",
          "TRI",
          "PUD",
          "UK",
          "ANI",
          "ARP",
          "CHD",
          "DNH",
          "GOA",
          "HP",
          "J&K",
          "JHK",
          "KER",
          "MAN",
          "MEG",
          "MIZ",
          "NAG",
          "RAJ",
          "SIK",
          "TEL"
         ],
         "xaxis": "x42",
         "y": [
          211340,
          99306,
          87780.70000000001,
          83542,
          52429,
          51800,
          50710,
          33674,
          30158,
          15782,
          5953,
          4237,
          4200,
          4167,
          370,
          269,
          9,
          0,
          0,
          0,
          0,
          0,
          0,
          0,
          0,
          0,
          0,
          0,
          0,
          0,
          0,
          0,
          0
         ],
         "yaxis": "y42"
        },
        {
         "name": "Moong(Green Gram) - 2013",
         "type": "bar",
         "x": [
          "MAH",
          "TN",
          "BHR",
          "ODI",
          "TEL",
          "AP",
          "KAR",
          "MP",
          "UP",
          "PUN",
          "WB",
          "ASM",
          "CHG",
          "TRI",
          "NAG",
          "PUD",
          "J&K",
          "UK",
          "ANI",
          "ARP",
          "CHD",
          "DNH",
          "GOA",
          "GUJ",
          "HAR",
          "HP",
          "JHK",
          "KER",
          "MAN",
          "MEG",
          "MIZ",
          "RAJ",
          "SIK"
         ],
         "xaxis": "x43",
         "y": [
          200572,
          151400,
          105373,
          88693.20000000001,
          85138,
          81609,
          80856,
          80272,
          39731,
          38000,
          17000,
          7807,
          3960,
          493,
          330,
          255,
          86.4,
          13,
          0,
          0,
          0,
          0,
          0,
          0,
          0,
          0,
          0,
          0,
          0,
          0,
          0,
          0,
          0
         ],
         "yaxis": "y43"
        },
        {
         "name": "Moong(Green Gram) - 2014",
         "type": "bar",
         "x": [
          "AP",
          "ODI",
          "BHR",
          "MAH",
          "KAR",
          "UP",
          "TEL",
          "PUN",
          "WB",
          "ASM",
          "CHG",
          "TRI",
          "PUD",
          "NAG",
          "J&K",
          "UK",
          "ANI",
          "ARP",
          "CHD",
          "DNH",
          "GOA",
          "GUJ",
          "HAR",
          "HP",
          "JHK",
          "KER",
          "MP",
          "MAN",
          "MEG",
          "MIZ",
          "RAJ",
          "SIK",
          "TN"
         ],
         "xaxis": "x44",
         "y": [
          141755,
          105021.3,
          99957,
          83700,
          52549,
          46161,
          44854,
          31000,
          21746,
          7757,
          4155,
          693,
          437,
          350,
          283.5,
          19,
          0,
          0,
          0,
          0,
          0,
          0,
          0,
          0,
          0,
          0,
          0,
          0,
          0,
          0,
          0,
          0,
          0
         ],
         "yaxis": "y44"
        },
        {
         "name": "Gram - 2011",
         "type": "bar",
         "x": [
          "MP",
          "MAH",
          "UP",
          "AP",
          "KAR",
          "GUJ",
          "CHG",
          "BHR",
          "HAR",
          "TEL",
          "WB",
          "PUN",
          "TN",
          "ASM",
          "UK",
          "NAG",
          "MEG",
          "DNH",
          "TRI",
          "ANI",
          "ARP",
          "CHD",
          "GOA",
          "HP",
          "J&K",
          "JHK",
          "KER",
          "MAN",
          "MIZ",
          "ODI",
          "PUD",
          "RAJ",
          "SIK"
         ],
         "xaxis": "x45",
         "y": [
          2841598,
          857500,
          683466,
          447859,
          358478,
          273300,
          260728,
          76818,
          73000,
          72059,
          24415,
          22000,
          5520,
          955,
          574,
          540,
          352,
          138,
          115,
          0,
          0,
          0,
          0,
          0,
          0,
          0,
          0,
          0,
          0,
          0,
          0,
          0,
          0
         ],
         "yaxis": "y45"
        },
        {
         "name": "Gram - 2012",
         "type": "bar",
         "x": [
          "MP",
          "MAH",
          "UP",
          "KAR",
          "AP",
          "CHG",
          "GUJ",
          "BHR",
          "HAR",
          "WB",
          "TN",
          "PUN",
          "MEG",
          "ASM",
          "NAG",
          "UK",
          "DNH",
          "TRI",
          "ANI",
          "ARP",
          "CHD",
          "GOA",
          "HP",
          "J&K",
          "JHK",
          "KER",
          "MAN",
          "MIZ",
          "ODI",
          "PUD",
          "RAJ",
          "SIK",
          "TEL"
         ],
         "xaxis": "x46",
         "y": [
          3318045,
          867900,
          676557,
          623101,
          598152,
          304859,
          133100,
          86186,
          53000,
          29552,
          4531,
          3100,
          1755,
          966,
          640,
          506,
          173,
          127,
          0,
          0,
          0,
          0,
          0,
          0,
          0,
          0,
          0,
          0,
          0,
          0,
          0,
          0,
          0
         ],
         "yaxis": "y46"
        },
        {
         "name": "Gram - 2013",
         "type": "bar",
         "x": [
          "MP",
          "MAH",
          "KAR",
          "AP",
          "UP",
          "CHG",
          "TEL",
          "BHR",
          "WB",
          "PUN",
          "TN",
          "MEG",
          "ASM",
          "NAG",
          "UK",
          "TRI",
          "J&K",
          "ANI",
          "ARP",
          "CHD",
          "DNH",
          "GOA",
          "GUJ",
          "HAR",
          "HP",
          "JHK",
          "KER",
          "MAN",
          "MIZ",
          "ODI",
          "PUD",
          "RAJ",
          "SIK"
         ],
         "xaxis": "x47",
         "y": [
          2102496,
          1400640,
          715973,
          648031,
          265632,
          221569,
          194546,
          70339,
          29268,
          23700,
          5823,
          1823,
          1432,
          620,
          481,
          95,
          91.4,
          0,
          0,
          0,
          0,
          0,
          0,
          0,
          0,
          0,
          0,
          0,
          0,
          0,
          0,
          0,
          0
         ],
         "yaxis": "y47"
        },
        {
         "name": "Gram - 2014",
         "type": "bar",
         "x": [
          "MAH",
          "KAR",
          "AP",
          "CHG",
          "UP",
          "TEL",
          "BHR",
          "WB",
          "PUN",
          "ASM",
          "MEG",
          "UK",
          "TRI",
          "ANI",
          "ARP",
          "CHD",
          "DNH",
          "GOA",
          "GUJ",
          "HAR",
          "HP",
          "J&K",
          "JHK",
          "KER",
          "MP",
          "MAN",
          "MIZ",
          "NAG",
          "ODI",
          "PUD",
          "RAJ",
          "SIK",
          "TN"
         ],
         "xaxis": "x48",
         "y": [
          1087700,
          674688,
          390967,
          311152,
          177054,
          81277,
          57490,
          30844,
          19800,
          1956,
          1871,
          514,
          131,
          0,
          0,
          0,
          0,
          0,
          0,
          0,
          0,
          0,
          0,
          0,
          0,
          0,
          0,
          0,
          0,
          0,
          0,
          0,
          0
         ],
         "yaxis": "y48"
        },
        {
         "name": "Other  Rabi pulses - 2011",
         "type": "bar",
         "x": [
          "MAH",
          "GUJ",
          "KAR",
          "GOA",
          "AP",
          "DNH",
          "BHR",
          "TRI",
          "TEL",
          "MEG",
          "CHG",
          "MP",
          "WB",
          "PUD",
          "UK",
          "ANI",
          "ARP",
          "ASM",
          "CHD",
          "HAR",
          "HP",
          "J&K",
          "JHK",
          "KER",
          "MAN",
          "MIZ",
          "NAG",
          "ODI",
          "PUN",
          "RAJ",
          "SIK",
          "TN",
          "UP"
         ],
         "xaxis": "x49",
         "y": [
          43440,
          17800,
          8479,
          8137,
          3758,
          2635,
          1927,
          966,
          811,
          642,
          480,
          396,
          124,
          20,
          14,
          0,
          0,
          0,
          0,
          0,
          0,
          0,
          0,
          0,
          0,
          0,
          0,
          0,
          0,
          0,
          0,
          0,
          0
         ],
         "yaxis": "y49"
        },
        {
         "name": "Other  Rabi pulses - 2012",
         "type": "bar",
         "x": [
          "MAH",
          "GUJ",
          "GOA",
          "AP",
          "DNH",
          "KAR",
          "BHR",
          "TRI",
          "MP",
          "CHG",
          "WB",
          "PUD",
          "UK",
          "ANI",
          "ARP",
          "ASM",
          "CHD",
          "HAR",
          "HP",
          "J&K",
          "JHK",
          "KER",
          "MAN",
          "MEG",
          "MIZ",
          "NAG",
          "ODI",
          "PUN",
          "RAJ",
          "SIK",
          "TN",
          "TEL",
          "UP"
         ],
         "xaxis": "x50",
         "y": [
          43480,
          14200,
          8784,
          4021,
          2630,
          2218,
          1528,
          1107,
          730,
          394,
          97,
          29,
          1,
          0,
          0,
          0,
          0,
          0,
          0,
          0,
          0,
          0,
          0,
          0,
          0,
          0,
          0,
          0,
          0,
          0,
          0,
          0,
          0
         ],
         "yaxis": "y50"
        },
        {
         "name": "Other  Rabi pulses - 2013",
         "type": "bar",
         "x": [
          "MAH",
          "GOA",
          "KAR",
          "CHG",
          "BHR",
          "MP",
          "TRI",
          "TEL",
          "WB",
          "J&K",
          "PUD",
          "UK",
          "ANI",
          "AP",
          "ARP",
          "ASM",
          "CHD",
          "DNH",
          "GUJ",
          "HAR",
          "HP",
          "JHK",
          "KER",
          "MAN",
          "MEG",
          "MIZ",
          "NAG",
          "ODI",
          "PUN",
          "RAJ",
          "SIK",
          "TN",
          "UP"
         ],
         "xaxis": "x51",
         "y": [
          55200,
          8787,
          6130,
          2804,
          1302,
          826,
          825,
          660,
          144,
          140.79999999999998,
          47,
          5,
          0,
          0,
          0,
          0,
          0,
          0,
          0,
          0,
          0,
          0,
          0,
          0,
          0,
          0,
          0,
          0,
          0,
          0,
          0,
          0,
          0
         ],
         "yaxis": "y51"
        },
        {
         "name": "Other  Rabi pulses - 2014",
         "type": "bar",
         "x": [
          "MAH",
          "AP",
          "NAG",
          "GOA",
          "KAR",
          "BHR",
          "TRI",
          "CHG",
          "TEL",
          "WB",
          "PUD",
          "UK",
          "ANI",
          "ARP",
          "ASM",
          "CHD",
          "DNH",
          "GUJ",
          "HAR",
          "HP",
          "J&K",
          "JHK",
          "KER",
          "MP",
          "MAN",
          "MEG",
          "MIZ",
          "ODI",
          "PUN",
          "RAJ",
          "SIK",
          "TN",
          "UP"
         ],
         "xaxis": "x52",
         "y": [
          33900,
          11779,
          11640,
          7871,
          5539,
          1049,
          462,
          380,
          141,
          133,
          52,
          5,
          0,
          0,
          0,
          0,
          0,
          0,
          0,
          0,
          0,
          0,
          0,
          0,
          0,
          0,
          0,
          0,
          0,
          0,
          0,
          0,
          0
         ],
         "yaxis": "y52"
        },
        {
         "name": "Other Kharif pulses - 2011",
         "type": "bar",
         "x": [
          "KAR",
          "MAH",
          "GUJ",
          "UK",
          "BHR",
          "SIK",
          "CHG",
          "MP",
          "AP",
          "TRI",
          "WB",
          "TEL",
          "GOA",
          "PUD",
          "ANI",
          "ARP",
          "ASM",
          "CHD",
          "DNH",
          "HAR",
          "HP",
          "J&K",
          "JHK",
          "KER",
          "MAN",
          "MEG",
          "MIZ",
          "NAG",
          "ODI",
          "PUN",
          "RAJ",
          "TN",
          "UP"
         ],
         "xaxis": "x53",
         "y": [
          65344,
          36110,
          16000,
          8848,
          3014,
          2870,
          1740,
          1568,
          1262,
          1244,
          247,
          197,
          149,
          21,
          0,
          0,
          0,
          0,
          0,
          0,
          0,
          0,
          0,
          0,
          0,
          0,
          0,
          0,
          0,
          0,
          0,
          0,
          0
         ],
         "yaxis": "y53"
        },
        {
         "name": "Other Kharif pulses - 2012",
         "type": "bar",
         "x": [
          "KAR",
          "MAH",
          "UK",
          "GUJ",
          "SIK",
          "BHR",
          "MP",
          "AP",
          "CHG",
          "TRI",
          "GOA",
          "WB",
          "PUD",
          "ANI",
          "ARP",
          "ASM",
          "CHD",
          "DNH",
          "HAR",
          "HP",
          "J&K",
          "JHK",
          "KER",
          "MAN",
          "MEG",
          "MIZ",
          "NAG",
          "ODI",
          "PUN",
          "RAJ",
          "TN",
          "TEL",
          "UP"
         ],
         "xaxis": "x54",
         "y": [
          60710,
          18650,
          9750,
          7200,
          2920,
          2416,
          1944,
          1923,
          1789,
          1265,
          190,
          184,
          16,
          0,
          0,
          0,
          0,
          0,
          0,
          0,
          0,
          0,
          0,
          0,
          0,
          0,
          0,
          0,
          0,
          0,
          0,
          0,
          0
         ],
         "yaxis": "y54"
        },
        {
         "name": "Other Kharif pulses - 2013",
         "type": "bar",
         "x": [
          "MAH",
          "KAR",
          "AP",
          "UK",
          "SIK",
          "MP",
          "CHG",
          "BHR",
          "TRI",
          "WB",
          "GOA",
          "TEL",
          "PUD",
          "ANI",
          "ARP",
          "ASM",
          "CHD",
          "DNH",
          "GUJ",
          "HAR",
          "HP",
          "J&K",
          "JHK",
          "KER",
          "MAN",
          "MEG",
          "MIZ",
          "NAG",
          "ODI",
          "PUN",
          "RAJ",
          "TN",
          "UP"
         ],
         "xaxis": "x55",
         "y": [
          44600,
          42437,
          15051,
          11101,
          2880,
          2464,
          2053,
          1629,
          1233,
          587,
          139,
          109,
          3,
          0,
          0,
          0,
          0,
          0,
          0,
          0,
          0,
          0,
          0,
          0,
          0,
          0,
          0,
          0,
          0,
          0,
          0,
          0,
          0
         ],
         "yaxis": "y55"
        },
        {
         "name": "Other Kharif pulses - 2014",
         "type": "bar",
         "x": [
          "KAR",
          "MAH",
          "NAG",
          "UK",
          "AP",
          "SIK",
          "BHR",
          "CHG",
          "TRI",
          "WB",
          "J&K",
          "GOA",
          "TEL",
          "PUD",
          "ANI",
          "ARP",
          "ASM",
          "CHD",
          "DNH",
          "GUJ",
          "HAR",
          "HP",
          "JHK",
          "KER",
          "MP",
          "MAN",
          "MEG",
          "MIZ",
          "ODI",
          "PUN",
          "RAJ",
          "TN",
          "UP"
         ],
         "xaxis": "x56",
         "y": [
          46736,
          28700,
          12520,
          11859,
          3270,
          2890,
          2143,
          1827,
          792,
          636,
          432.6,
          186,
          75,
          3,
          0,
          0,
          0,
          0,
          0,
          0,
          0,
          0,
          0,
          0,
          0,
          0,
          0,
          0,
          0,
          0,
          0,
          0,
          0
         ],
         "yaxis": "y56"
        },
        {
         "name": "Cotton(lint) - 2011",
         "type": "bar",
         "x": [
          "GUJ",
          "MAH",
          "HAR",
          "TEL",
          "PUN",
          "KAR",
          "MP",
          "AP",
          "TN",
          "MEG",
          "TRI",
          "UP",
          "ASM",
          "WB",
          "CHG",
          "NAG",
          "PUD",
          "ANI",
          "ARP",
          "BHR",
          "CHD",
          "DNH",
          "GOA",
          "HP",
          "J&K",
          "JHK",
          "KER",
          "MAN",
          "MIZ",
          "ODI",
          "RAJ",
          "SIK",
          "UK"
         ],
         "xaxis": "x57",
         "y": [
          10374600,
          6820100,
          2621000,
          2293591,
          1621000,
          1202566,
          1153463,
          888316,
          381769,
          6389,
          1348,
          911,
          581,
          431,
          120,
          60,
          8,
          0,
          0,
          0,
          0,
          0,
          0,
          0,
          0,
          0,
          0,
          0,
          0,
          0,
          0,
          0,
          0
         ],
         "yaxis": "y57"
        },
        {
         "name": "Cotton(lint) - 2012",
         "type": "bar",
         "x": [
          "MAH",
          "GUJ",
          "HAR",
          "PUN",
          "AP",
          "MP",
          "KAR",
          "TN",
          "MEG",
          "WB",
          "TRI",
          "UP",
          "ASM",
          "CHG",
          "PUD",
          "ANI",
          "ARP",
          "BHR",
          "CHD",
          "DNH",
          "GOA",
          "HP",
          "J&K",
          "JHK",
          "KER",
          "MAN",
          "MIZ",
          "NAG",
          "ODI",
          "RAJ",
          "SIK",
          "TEL",
          "UK"
         ],
         "xaxis": "x58",
         "y": [
          6793000,
          4950900,
          2378000,
          1627000,
          1543271,
          1162620,
          1090751,
          208517,
          8359,
          1556,
          1341,
          1184,
          863,
          138,
          9,
          0,
          0,
          0,
          0,
          0,
          0,
          0,
          0,
          0,
          0,
          0,
          0,
          0,
          0,
          0,
          0,
          0,
          0
         ],
         "yaxis": "y58"
        },
        {
         "name": "Cotton(lint) - 2013",
         "type": "bar",
         "x": [
          "MAH",
          "TEL",
          "AP",
          "KAR",
          "PUN",
          "MP",
          "TN",
          "MEG",
          "TRI",
          "WB",
          "UP",
          "ASM",
          "CHG",
          "NAG",
          "PUD",
          "ANI",
          "ARP",
          "BHR",
          "CHD",
          "DNH",
          "GOA",
          "GUJ",
          "HAR",
          "HP",
          "J&K",
          "JHK",
          "KER",
          "MAN",
          "MIZ",
          "ODI",
          "RAJ",
          "SIK",
          "UK"
         ],
         "xaxis": "x59",
         "y": [
          8834200,
          4265305,
          2187964,
          1877190,
          1495000,
          1225443,
          416560,
          8602,
          1395,
          1318,
          884,
          537,
          70,
          70,
          50,
          0,
          0,
          0,
          0,
          0,
          0,
          0,
          0,
          0,
          0,
          0,
          0,
          0,
          0,
          0,
          0,
          0,
          0
         ],
         "yaxis": "y59"
        },
        {
         "name": "Cotton(lint) - 2014",
         "type": "bar",
         "x": [
          "TEL",
          "MAH",
          "AP",
          "KAR",
          "PUN",
          "MEG",
          "UP",
          "WB",
          "TRI",
          "ASM",
          "PUD",
          "CHG",
          "NAG",
          "ANI",
          "ARP",
          "BHR",
          "CHD",
          "DNH",
          "GOA",
          "GUJ",
          "HAR",
          "HP",
          "J&K",
          "JHK",
          "KER",
          "MP",
          "MAN",
          "MIZ",
          "ODI",
          "RAJ",
          "SIK",
          "TN",
          "UK"
         ],
         "xaxis": "x60",
         "y": [
          3583327,
          3577100,
          2751284,
          2313338,
          1342000,
          9024,
          1886,
          1574,
          1347,
          428,
          180,
          75,
          70,
          0,
          0,
          0,
          0,
          0,
          0,
          0,
          0,
          0,
          0,
          0,
          0,
          0,
          0,
          0,
          0,
          0,
          0,
          0,
          0
         ],
         "yaxis": "y60"
        },
        {
         "name": "Dry chillies - 2011",
         "type": "bar",
         "x": [
          "AP",
          "TEL",
          "KAR",
          "MP",
          "TN",
          "ASM",
          "UP",
          "GUJ",
          "CHG",
          "ARP",
          "MEG",
          "PUD",
          "ANI",
          "BHR",
          "CHD",
          "DNH",
          "GOA",
          "HAR",
          "HP",
          "J&K",
          "JHK",
          "KER",
          "MAH",
          "MAN",
          "MIZ",
          "NAG",
          "ODI",
          "PUN",
          "RAJ",
          "SIK",
          "TRI",
          "UK",
          "WB"
         ],
         "xaxis": "x61",
         "y": [
          570116,
          234088,
          106496,
          95243,
          24640,
          12871,
          11026,
          7400,
          5719,
          4300,
          1474,
          4,
          0,
          0,
          0,
          0,
          0,
          0,
          0,
          0,
          0,
          0,
          0,
          0,
          0,
          0,
          0,
          0,
          0,
          0,
          0,
          0,
          0
         ],
         "yaxis": "y61"
        },
        {
         "name": "Dry chillies - 2012",
         "type": "bar",
         "x": [
          "AP",
          "MP",
          "KAR",
          "ASM",
          "UP",
          "HAR",
          "GUJ",
          "CHG",
          "ARP",
          "MEG",
          "PUD",
          "ANI",
          "BHR",
          "CHD",
          "DNH",
          "GOA",
          "HP",
          "J&K",
          "JHK",
          "KER",
          "MAH",
          "MAN",
          "MIZ",
          "NAG",
          "ODI",
          "PUN",
          "RAJ",
          "SIK",
          "TN",
          "TEL",
          "TRI",
          "UK",
          "WB"
         ],
         "xaxis": "x62",
         "y": [
          461164,
          184624,
          76135,
          14765,
          11154,
          8000,
          6700,
          6552,
          4619,
          1659,
          8,
          0,
          0,
          0,
          0,
          0,
          0,
          0,
          0,
          0,
          0,
          0,
          0,
          0,
          0,
          0,
          0,
          0,
          0,
          0,
          0,
          0,
          0
         ],
         "yaxis": "y62"
        },
        {
         "name": "Dry chillies - 2013",
         "type": "bar",
         "x": [
          "AP",
          "TEL",
          "MP",
          "KAR",
          "ASM",
          "TN",
          "UP",
          "ARP",
          "CHG",
          "MEG",
          "PUD",
          "ANI",
          "BHR",
          "CHD",
          "DNH",
          "GOA",
          "GUJ",
          "HAR",
          "HP",
          "J&K",
          "JHK",
          "KER",
          "MAH",
          "MAN",
          "MIZ",
          "NAG",
          "ODI",
          "PUN",
          "RAJ",
          "SIK",
          "TRI",
          "UK",
          "WB"
         ],
         "xaxis": "x63",
         "y": [
          601993,
          279777,
          132326,
          114154,
          16476,
          11294,
          11114,
          8106,
          4629,
          1860,
          39,
          0,
          0,
          0,
          0,
          0,
          0,
          0,
          0,
          0,
          0,
          0,
          0,
          0,
          0,
          0,
          0,
          0,
          0,
          0,
          0,
          0,
          0
         ],
         "yaxis": "y63"
        },
        {
         "name": "Dry chillies - 2014",
         "type": "bar",
         "x": [
          "AP",
          "TEL",
          "KAR",
          "ASM",
          "UP",
          "ARP",
          "CHG",
          "MEG",
          "J&K",
          "PUD",
          "ANI",
          "BHR",
          "CHD",
          "DNH",
          "GOA",
          "GUJ",
          "HAR",
          "HP",
          "JHK",
          "KER",
          "MP",
          "MAH",
          "MAN",
          "MIZ",
          "NAG",
          "ODI",
          "PUN",
          "RAJ",
          "SIK",
          "TN",
          "TRI",
          "UK",
          "WB"
         ],
         "xaxis": "x64",
         "y": [
          739621,
          253260,
          118488,
          17287,
          10951,
          7500,
          3576,
          1970,
          346.29999999999995,
          66,
          0,
          0,
          0,
          0,
          0,
          0,
          0,
          0,
          0,
          0,
          0,
          0,
          0,
          0,
          0,
          0,
          0,
          0,
          0,
          0,
          0,
          0,
          0
         ],
         "yaxis": "y64"
        },
        {
         "name": "Small millets - 2011",
         "type": "bar",
         "x": [
          "MP",
          "UK",
          "TN",
          "CHG",
          "ARP",
          "AP",
          "KAR",
          "UP",
          "NAG",
          "BHR",
          "SIK",
          "ASM",
          "MEG",
          "WB",
          "TEL",
          "DNH",
          "ANI",
          "CHD",
          "GOA",
          "GUJ",
          "HAR",
          "HP",
          "J&K",
          "JHK",
          "KER",
          "MAH",
          "MAN",
          "MIZ",
          "ODI",
          "PUD",
          "PUN",
          "RAJ",
          "TRI"
         ],
         "xaxis": "x65",
         "y": [
          84814,
          79864,
          36407,
          30940,
          22000,
          18389,
          12622,
          8097,
          8040,
          4414,
          2840,
          2041,
          1755,
          1394,
          131,
          78,
          0,
          0,
          0,
          0,
          0,
          0,
          0,
          0,
          0,
          0,
          0,
          0,
          0,
          0,
          0,
          0,
          0
         ],
         "yaxis": "y65"
        },
        {
         "name": "Small millets - 2012",
         "type": "bar",
         "x": [
          "MP",
          "UK",
          "AP",
          "CHG",
          "ARP",
          "NAG",
          "UP",
          "KAR",
          "SIK",
          "MEG",
          "BHR",
          "ASM",
          "WB",
          "DNH",
          "KER",
          "ANI",
          "CHD",
          "GOA",
          "GUJ",
          "HAR",
          "HP",
          "J&K",
          "JHK",
          "MAH",
          "MAN",
          "MIZ",
          "ODI",
          "PUD",
          "PUN",
          "RAJ",
          "TN",
          "TEL",
          "TRI"
         ],
         "xaxis": "x66",
         "y": [
          83661,
          80661,
          35916,
          31034,
          23410,
          9610,
          8603,
          8426,
          2960,
          2430,
          2209,
          2200,
          1476,
          219,
          61,
          0,
          0,
          0,
          0,
          0,
          0,
          0,
          0,
          0,
          0,
          0,
          0,
          0,
          0,
          0,
          0,
          0,
          0
         ],
         "yaxis": "y66"
        },
        {
         "name": "Small millets - 2013",
         "type": "bar",
         "x": [
          "MP",
          "UK",
          "TN",
          "CHG",
          "ARP",
          "AP",
          "KAR",
          "NAG",
          "UP",
          "ASM",
          "SIK",
          "MEG",
          "BHR",
          "WB",
          "TEL",
          "DNH",
          "KER",
          "PUD",
          "ANI",
          "CHD",
          "GOA",
          "GUJ",
          "HAR",
          "HP",
          "J&K",
          "JHK",
          "MAH",
          "MAN",
          "MIZ",
          "ODI",
          "PUN",
          "RAJ",
          "TRI"
         ],
         "xaxis": "x67",
         "y": [
          140300,
          76031,
          35171,
          27223,
          23825,
          20481,
          12684,
          9750,
          6105,
          3337,
          2966,
          2538,
          2088,
          1373,
          665,
          219,
          35,
          3,
          0,
          0,
          0,
          0,
          0,
          0,
          0,
          0,
          0,
          0,
          0,
          0,
          0,
          0,
          0
         ],
         "yaxis": "y67"
        },
        {
         "name": "Small millets - 2014",
         "type": "bar",
         "x": [
          "UK",
          "CHG",
          "ARP",
          "AP",
          "KAR",
          "NAG",
          "UP",
          "ASM",
          "SIK",
          "MEG",
          "BHR",
          "WB",
          "DNH",
          "TEL",
          "KER",
          "ANI",
          "CHD",
          "GOA",
          "GUJ",
          "HAR",
          "HP",
          "J&K",
          "JHK",
          "MP",
          "MAH",
          "MAN",
          "MIZ",
          "ODI",
          "PUD",
          "PUN",
          "RAJ",
          "TN",
          "TRI"
         ],
         "xaxis": "x68",
         "y": [
          78546,
          27670,
          27000,
          14581,
          11918,
          9740,
          5129,
          3221,
          2970,
          2649,
          1978,
          1409,
          203,
          85,
          21,
          0,
          0,
          0,
          0,
          0,
          0,
          0,
          0,
          0,
          0,
          0,
          0,
          0,
          0,
          0,
          0,
          0,
          0
         ],
         "yaxis": "y68"
        },
        {
         "name": "Turmeric - 2011",
         "type": "bar",
         "x": [
          "TN",
          "TEL",
          "AP",
          "KAR",
          "ASM",
          "UK",
          "MEG",
          "KER",
          "UP",
          "ARP",
          "CHG",
          "MP",
          "HAR",
          "PUD",
          "ANI",
          "BHR",
          "CHD",
          "DNH",
          "GOA",
          "GUJ",
          "HP",
          "J&K",
          "JHK",
          "MAH",
          "MAN",
          "MIZ",
          "NAG",
          "ODI",
          "PUN",
          "RAJ",
          "SIK",
          "TRI",
          "WB"
         ],
         "xaxis": "x69",
         "y": [
          368413,
          302133,
          204732,
          128206,
          13442,
          11037,
          10512,
          7945.54,
          5149,
          2800,
          989,
          720,
          200,
          9,
          0,
          0,
          0,
          0,
          0,
          0,
          0,
          0,
          0,
          0,
          0,
          0,
          0,
          0,
          0,
          0,
          0,
          0,
          0
         ],
         "yaxis": "y69"
        },
        {
         "name": "Turmeric - 2012",
         "type": "bar",
         "x": [
          "AP",
          "KAR",
          "ASM",
          "MEG",
          "KER",
          "UK",
          "UP",
          "ARP",
          "MP",
          "CHG",
          "HAR",
          "PUD",
          "ANI",
          "BHR",
          "CHD",
          "DNH",
          "GOA",
          "GUJ",
          "HP",
          "J&K",
          "JHK",
          "MAH",
          "MAN",
          "MIZ",
          "NAG",
          "ODI",
          "PUN",
          "RAJ",
          "SIK",
          "TN",
          "TEL",
          "TRI",
          "WB"
         ],
         "xaxis": "x70",
         "y": [
          151678,
          92405,
          15583,
          12831,
          6904,
          5246,
          4968,
          2893,
          1542,
          945,
          265,
          9,
          0,
          0,
          0,
          0,
          0,
          0,
          0,
          0,
          0,
          0,
          0,
          0,
          0,
          0,
          0,
          0,
          0,
          0,
          0,
          0,
          0
         ],
         "yaxis": "y70"
        },
        {
         "name": "Turmeric - 2013",
         "type": "bar",
         "x": [
          "TEL",
          "AP",
          "TN",
          "KAR",
          "ASM",
          "MEG",
          "KER",
          "UP",
          "ARP",
          "MP",
          "UK",
          "CHG",
          "PUD",
          "J&K",
          "ANI",
          "BHR",
          "CHD",
          "DNH",
          "GOA",
          "GUJ",
          "HAR",
          "HP",
          "JHK",
          "MAH",
          "MAN",
          "MIZ",
          "NAG",
          "ODI",
          "PUN",
          "RAJ",
          "SIK",
          "TRI",
          "WB"
         ],
         "xaxis": "x71",
         "y": [
          252061,
          152228,
          117416,
          63617,
          15782,
          15126,
          6253,
          5195,
          3068,
          1525,
          1317,
          958,
          5,
          3.7,
          0,
          0,
          0,
          0,
          0,
          0,
          0,
          0,
          0,
          0,
          0,
          0,
          0,
          0,
          0,
          0,
          0,
          0,
          0
         ],
         "yaxis": "y71"
        },
        {
         "name": "Turmeric - 2014",
         "type": "bar",
         "x": [
          "TEL",
          "AP",
          "KAR",
          "ASM",
          "MEG",
          "KER",
          "UP",
          "ARP",
          "UK",
          "CHG",
          "J&K",
          "PUD",
          "ANI",
          "BHR",
          "CHD",
          "DNH",
          "GOA",
          "GUJ",
          "HAR",
          "HP",
          "JHK",
          "MP",
          "MAH",
          "MAN",
          "MIZ",
          "NAG",
          "ODI",
          "PUN",
          "RAJ",
          "SIK",
          "TN",
          "TRI",
          "WB"
         ],
         "xaxis": "x72",
         "y": [
          216236,
          143230,
          76777,
          15906,
          15671,
          6820,
          4423,
          3500,
          1740,
          1621,
          12.399999999999999,
          2,
          0,
          0,
          0,
          0,
          0,
          0,
          0,
          0,
          0,
          0,
          0,
          0,
          0,
          0,
          0,
          0,
          0,
          0,
          0,
          0,
          0
         ],
         "yaxis": "y72"
        },
        {
         "name": "Dry ginger - 2011",
         "type": "bar",
         "x": [
          "KAR",
          "MEG",
          "ARP",
          "KER",
          "TEL",
          "MP",
          "TN",
          "AP",
          "CHG",
          "UP",
          "HAR",
          "ANI",
          "ASM",
          "BHR",
          "CHD",
          "DNH",
          "GOA",
          "GUJ",
          "HP",
          "J&K",
          "JHK",
          "MAH",
          "MAN",
          "MIZ",
          "NAG",
          "ODI",
          "PUD",
          "PUN",
          "RAJ",
          "SIK",
          "TRI",
          "UK",
          "WB"
         ],
         "xaxis": "x73",
         "y": [
          93511.79999999999,
          58132,
          54000,
          37125.56,
          19068,
          10714,
          7011,
          2815,
          2439,
          2405,
          100,
          0,
          0,
          0,
          0,
          0,
          0,
          0,
          0,
          0,
          0,
          0,
          0,
          0,
          0,
          0,
          0,
          0,
          0,
          0,
          0,
          0,
          0
         ],
         "yaxis": "y73"
        },
        {
         "name": "Dry ginger - 2012",
         "type": "bar",
         "x": [
          "KAR",
          "MEG",
          "ARP",
          "KER",
          "MP",
          "UP",
          "AP",
          "CHG",
          "ANI",
          "ASM",
          "BHR",
          "CHD",
          "DNH",
          "GOA",
          "GUJ",
          "HAR",
          "HP",
          "J&K",
          "JHK",
          "MAH",
          "MAN",
          "MIZ",
          "NAG",
          "ODI",
          "PUD",
          "PUN",
          "RAJ",
          "SIK",
          "TN",
          "TEL",
          "TRI",
          "UK",
          "WB"
         ],
         "xaxis": "x74",
         "y": [
          526093,
          60149,
          56004,
          22064,
          18036,
          4023,
          2595,
          2282,
          0,
          0,
          0,
          0,
          0,
          0,
          0,
          0,
          0,
          0,
          0,
          0,
          0,
          0,
          0,
          0,
          0,
          0,
          0,
          0,
          0,
          0,
          0,
          0,
          0
         ],
         "yaxis": "y74"
        },
        {
         "name": "Dry ginger - 2013",
         "type": "bar",
         "x": [
          "KAR",
          "MEG",
          "ARP",
          "KER",
          "MP",
          "TEL",
          "UP",
          "AP",
          "TN",
          "CHG",
          "ANI",
          "ASM",
          "BHR",
          "CHD",
          "DNH",
          "GOA",
          "GUJ",
          "HAR",
          "HP",
          "J&K",
          "JHK",
          "MAH",
          "MAN",
          "MIZ",
          "NAG",
          "ODI",
          "PUD",
          "PUN",
          "RAJ",
          "SIK",
          "TRI",
          "UK",
          "WB"
         ],
         "xaxis": "x75",
         "y": [
          524048,
          63251,
          55073,
          21521,
          20629,
          12729,
          4168,
          2738,
          2117,
          1987,
          0,
          0,
          0,
          0,
          0,
          0,
          0,
          0,
          0,
          0,
          0,
          0,
          0,
          0,
          0,
          0,
          0,
          0,
          0,
          0,
          0,
          0,
          0
         ],
         "yaxis": "y75"
        },
        {
         "name": "Dry ginger - 2014",
         "type": "bar",
         "x": [
          "KAR",
          "MEG",
          "ARP",
          "KER",
          "UP",
          "CHG",
          "AP",
          "J&K",
          "ANI",
          "ASM",
          "BHR",
          "CHD",
          "DNH",
          "GOA",
          "GUJ",
          "HAR",
          "HP",
          "JHK",
          "MP",
          "MAH",
          "MAN",
          "MIZ",
          "NAG",
          "ODI",
          "PUD",
          "PUN",
          "RAJ",
          "SIK",
          "TN",
          "TEL",
          "TRI",
          "UK",
          "WB"
         ],
         "xaxis": "x76",
         "y": [
          894354,
          63555,
          60000,
          22989,
          4354,
          2188,
          1221,
          28.9,
          0,
          0,
          0,
          0,
          0,
          0,
          0,
          0,
          0,
          0,
          0,
          0,
          0,
          0,
          0,
          0,
          0,
          0,
          0,
          0,
          0,
          0,
          0,
          0,
          0
         ],
         "yaxis": "y76"
        },
        {
         "name": "Jowar - 2011",
         "type": "bar",
         "x": [
          "MAH",
          "KAR",
          "MP",
          "AP",
          "TN",
          "UP",
          "TEL",
          "GUJ",
          "HAR",
          "CHG",
          "BHR",
          "DNH",
          "NAG",
          "WB",
          "PUD",
          "ANI",
          "ARP",
          "ASM",
          "CHD",
          "GOA",
          "HP",
          "J&K",
          "JHK",
          "KER",
          "MAN",
          "MEG",
          "MIZ",
          "ODI",
          "PUN",
          "RAJ",
          "SIK",
          "TRI",
          "UK"
         ],
         "xaxis": "x77",
         "y": [
          2627200,
          1011435,
          537340,
          352062,
          252521,
          212514,
          144171,
          139800,
          33000,
          4093,
          2147,
          353,
          110,
          6,
          2,
          0,
          0,
          0,
          0,
          0,
          0,
          0,
          0,
          0,
          0,
          0,
          0,
          0,
          0,
          0,
          0,
          0,
          0
         ],
         "yaxis": "y77"
        },
        {
         "name": "Jowar - 2012",
         "type": "bar",
         "x": [
          "MAH",
          "KAR",
          "MP",
          "AP",
          "UP",
          "GUJ",
          "HAR",
          "CHG",
          "BHR",
          "DNH",
          "NAG",
          "KER",
          "WB",
          "PUD",
          "ANI",
          "ARP",
          "ASM",
          "CHD",
          "GOA",
          "HP",
          "J&K",
          "JHK",
          "MAN",
          "MEG",
          "MIZ",
          "ODI",
          "PUN",
          "RAJ",
          "SIK",
          "TN",
          "TEL",
          "TRI",
          "UK"
         ],
         "xaxis": "x78",
         "y": [
          2108900,
          1314698,
          592454,
          411890,
          248208,
          107300,
          27500,
          4458,
          2819,
          380,
          170,
          116,
          10,
          6,
          0,
          0,
          0,
          0,
          0,
          0,
          0,
          0,
          0,
          0,
          0,
          0,
          0,
          0,
          0,
          0,
          0,
          0,
          0
         ],
         "yaxis": "y78"
        },
        {
         "name": "Jowar - 2013",
         "type": "bar",
         "x": [
          "MAH",
          "KAR",
          "TN",
          "MP",
          "AP",
          "UP",
          "TEL",
          "CHG",
          "BHR",
          "DNH",
          "NAG",
          "KER",
          "WB",
          "PUD",
          "ANI",
          "ARP",
          "ASM",
          "CHD",
          "GOA",
          "GUJ",
          "HAR",
          "HP",
          "J&K",
          "JHK",
          "MAN",
          "MEG",
          "MIZ",
          "ODI",
          "PUN",
          "RAJ",
          "SIK",
          "TRI",
          "UK"
         ],
         "xaxis": "x79",
         "y": [
          2847900,
          1316848,
          513313,
          366796,
          265675,
          173623,
          64034,
          3320,
          1313,
          360,
          220,
          119,
          7,
          4,
          0,
          0,
          0,
          0,
          0,
          0,
          0,
          0,
          0,
          0,
          0,
          0,
          0,
          0,
          0,
          0,
          0,
          0,
          0
         ],
         "yaxis": "y79"
        },
        {
         "name": "Jowar - 2014",
         "type": "bar",
         "x": [
          "MAH",
          "KAR",
          "AP",
          "UP",
          "TEL",
          "CHG",
          "BHR",
          "DNH",
          "NAG",
          "KER",
          "WB",
          "PUD",
          "ANI",
          "ARP",
          "ASM",
          "CHD",
          "GOA",
          "GUJ",
          "HAR",
          "HP",
          "J&K",
          "JHK",
          "MP",
          "MAN",
          "MEG",
          "MIZ",
          "ODI",
          "PUN",
          "RAJ",
          "SIK",
          "TN",
          "TRI",
          "UK"
         ],
         "xaxis": "x80",
         "y": [
          2108800,
          1173303,
          344475,
          162865,
          83267,
          4230,
          1550,
          372,
          230,
          128,
          8,
          3,
          0,
          0,
          0,
          0,
          0,
          0,
          0,
          0,
          0,
          0,
          0,
          0,
          0,
          0,
          0,
          0,
          0,
          0,
          0,
          0,
          0
         ],
         "yaxis": "y80"
        }
       ],
       "layout": {
        "annotations": [
         {
          "font": {
           "size": 16
          },
          "showarrow": false,
          "text": "Rice - 2011",
          "x": 0.10625,
          "xanchor": "center",
          "xref": "paper",
          "y": 0.9999999999999999,
          "yanchor": "bottom",
          "yref": "paper"
         },
         {
          "font": {
           "size": 16
          },
          "showarrow": false,
          "text": "Rice - 2012",
          "x": 0.36875,
          "xanchor": "center",
          "xref": "paper",
          "y": 0.9999999999999999,
          "yanchor": "bottom",
          "yref": "paper"
         },
         {
          "font": {
           "size": 16
          },
          "showarrow": false,
          "text": "Rice - 2013",
          "x": 0.6312500000000001,
          "xanchor": "center",
          "xref": "paper",
          "y": 0.9999999999999999,
          "yanchor": "bottom",
          "yref": "paper"
         },
         {
          "font": {
           "size": 16
          },
          "showarrow": false,
          "text": "Rice - 2014",
          "x": 0.89375,
          "xanchor": "center",
          "xref": "paper",
          "y": 0.9999999999999999,
          "yanchor": "bottom",
          "yref": "paper"
         },
         {
          "font": {
           "size": 16
          },
          "showarrow": false,
          "text": "Sugarcane - 2011",
          "x": 0.10625,
          "xanchor": "center",
          "xref": "paper",
          "y": 0.9487499999999999,
          "yanchor": "bottom",
          "yref": "paper"
         },
         {
          "font": {
           "size": 16
          },
          "showarrow": false,
          "text": "Sugarcane - 2012",
          "x": 0.36875,
          "xanchor": "center",
          "xref": "paper",
          "y": 0.9487499999999999,
          "yanchor": "bottom",
          "yref": "paper"
         },
         {
          "font": {
           "size": 16
          },
          "showarrow": false,
          "text": "Sugarcane - 2013",
          "x": 0.6312500000000001,
          "xanchor": "center",
          "xref": "paper",
          "y": 0.9487499999999999,
          "yanchor": "bottom",
          "yref": "paper"
         },
         {
          "font": {
           "size": 16
          },
          "showarrow": false,
          "text": "Sugarcane - 2014",
          "x": 0.89375,
          "xanchor": "center",
          "xref": "paper",
          "y": 0.9487499999999999,
          "yanchor": "bottom",
          "yref": "paper"
         },
         {
          "font": {
           "size": 16
          },
          "showarrow": false,
          "text": "Maize - 2011",
          "x": 0.10625,
          "xanchor": "center",
          "xref": "paper",
          "y": 0.8975,
          "yanchor": "bottom",
          "yref": "paper"
         },
         {
          "font": {
           "size": 16
          },
          "showarrow": false,
          "text": "Maize - 2012",
          "x": 0.36875,
          "xanchor": "center",
          "xref": "paper",
          "y": 0.8975,
          "yanchor": "bottom",
          "yref": "paper"
         },
         {
          "font": {
           "size": 16
          },
          "showarrow": false,
          "text": "Maize - 2013",
          "x": 0.6312500000000001,
          "xanchor": "center",
          "xref": "paper",
          "y": 0.8975,
          "yanchor": "bottom",
          "yref": "paper"
         },
         {
          "font": {
           "size": 16
          },
          "showarrow": false,
          "text": "Maize - 2014",
          "x": 0.89375,
          "xanchor": "center",
          "xref": "paper",
          "y": 0.8975,
          "yanchor": "bottom",
          "yref": "paper"
         },
         {
          "font": {
           "size": 16
          },
          "showarrow": false,
          "text": "Rapeseed &Mustard - 2011",
          "x": 0.10625,
          "xanchor": "center",
          "xref": "paper",
          "y": 0.84625,
          "yanchor": "bottom",
          "yref": "paper"
         },
         {
          "font": {
           "size": 16
          },
          "showarrow": false,
          "text": "Rapeseed &Mustard - 2012",
          "x": 0.36875,
          "xanchor": "center",
          "xref": "paper",
          "y": 0.84625,
          "yanchor": "bottom",
          "yref": "paper"
         },
         {
          "font": {
           "size": 16
          },
          "showarrow": false,
          "text": "Rapeseed &Mustard - 2013",
          "x": 0.6312500000000001,
          "xanchor": "center",
          "xref": "paper",
          "y": 0.84625,
          "yanchor": "bottom",
          "yref": "paper"
         },
         {
          "font": {
           "size": 16
          },
          "showarrow": false,
          "text": "Rapeseed &Mustard - 2014",
          "x": 0.89375,
          "xanchor": "center",
          "xref": "paper",
          "y": 0.84625,
          "yanchor": "bottom",
          "yref": "paper"
         },
         {
          "font": {
           "size": 16
          },
          "showarrow": false,
          "text": "Arhar/Tur - 2011",
          "x": 0.10625,
          "xanchor": "center",
          "xref": "paper",
          "y": 0.7949999999999999,
          "yanchor": "bottom",
          "yref": "paper"
         },
         {
          "font": {
           "size": 16
          },
          "showarrow": false,
          "text": "Arhar/Tur - 2012",
          "x": 0.36875,
          "xanchor": "center",
          "xref": "paper",
          "y": 0.7949999999999999,
          "yanchor": "bottom",
          "yref": "paper"
         },
         {
          "font": {
           "size": 16
          },
          "showarrow": false,
          "text": "Arhar/Tur - 2013",
          "x": 0.6312500000000001,
          "xanchor": "center",
          "xref": "paper",
          "y": 0.7949999999999999,
          "yanchor": "bottom",
          "yref": "paper"
         },
         {
          "font": {
           "size": 16
          },
          "showarrow": false,
          "text": "Arhar/Tur - 2014",
          "x": 0.89375,
          "xanchor": "center",
          "xref": "paper",
          "y": 0.7949999999999999,
          "yanchor": "bottom",
          "yref": "paper"
         },
         {
          "font": {
           "size": 16
          },
          "showarrow": false,
          "text": "Wheat - 2011",
          "x": 0.10625,
          "xanchor": "center",
          "xref": "paper",
          "y": 0.74375,
          "yanchor": "bottom",
          "yref": "paper"
         },
         {
          "font": {
           "size": 16
          },
          "showarrow": false,
          "text": "Wheat - 2012",
          "x": 0.36875,
          "xanchor": "center",
          "xref": "paper",
          "y": 0.74375,
          "yanchor": "bottom",
          "yref": "paper"
         },
         {
          "font": {
           "size": 16
          },
          "showarrow": false,
          "text": "Wheat - 2013",
          "x": 0.6312500000000001,
          "xanchor": "center",
          "xref": "paper",
          "y": 0.74375,
          "yanchor": "bottom",
          "yref": "paper"
         },
         {
          "font": {
           "size": 16
          },
          "showarrow": false,
          "text": "Wheat - 2014",
          "x": 0.89375,
          "xanchor": "center",
          "xref": "paper",
          "y": 0.74375,
          "yanchor": "bottom",
          "yref": "paper"
         },
         {
          "font": {
           "size": 16
          },
          "showarrow": false,
          "text": "Sesamum - 2011",
          "x": 0.10625,
          "xanchor": "center",
          "xref": "paper",
          "y": 0.6925,
          "yanchor": "bottom",
          "yref": "paper"
         },
         {
          "font": {
           "size": 16
          },
          "showarrow": false,
          "text": "Sesamum - 2012",
          "x": 0.36875,
          "xanchor": "center",
          "xref": "paper",
          "y": 0.6925,
          "yanchor": "bottom",
          "yref": "paper"
         },
         {
          "font": {
           "size": 16
          },
          "showarrow": false,
          "text": "Sesamum - 2013",
          "x": 0.6312500000000001,
          "xanchor": "center",
          "xref": "paper",
          "y": 0.6925,
          "yanchor": "bottom",
          "yref": "paper"
         },
         {
          "font": {
           "size": 16
          },
          "showarrow": false,
          "text": "Sesamum - 2014",
          "x": 0.89375,
          "xanchor": "center",
          "xref": "paper",
          "y": 0.6925,
          "yanchor": "bottom",
          "yref": "paper"
         },
         {
          "font": {
           "size": 16
          },
          "showarrow": false,
          "text": "Groundnut - 2011",
          "x": 0.10625,
          "xanchor": "center",
          "xref": "paper",
          "y": 0.64125,
          "yanchor": "bottom",
          "yref": "paper"
         },
         {
          "font": {
           "size": 16
          },
          "showarrow": false,
          "text": "Groundnut - 2012",
          "x": 0.36875,
          "xanchor": "center",
          "xref": "paper",
          "y": 0.64125,
          "yanchor": "bottom",
          "yref": "paper"
         },
         {
          "font": {
           "size": 16
          },
          "showarrow": false,
          "text": "Groundnut - 2013",
          "x": 0.6312500000000001,
          "xanchor": "center",
          "xref": "paper",
          "y": 0.64125,
          "yanchor": "bottom",
          "yref": "paper"
         },
         {
          "font": {
           "size": 16
          },
          "showarrow": false,
          "text": "Groundnut - 2014",
          "x": 0.89375,
          "xanchor": "center",
          "xref": "paper",
          "y": 0.64125,
          "yanchor": "bottom",
          "yref": "paper"
         },
         {
          "font": {
           "size": 16
          },
          "showarrow": false,
          "text": "Urad - 2011",
          "x": 0.10625,
          "xanchor": "center",
          "xref": "paper",
          "y": 0.59,
          "yanchor": "bottom",
          "yref": "paper"
         },
         {
          "font": {
           "size": 16
          },
          "showarrow": false,
          "text": "Urad - 2012",
          "x": 0.36875,
          "xanchor": "center",
          "xref": "paper",
          "y": 0.59,
          "yanchor": "bottom",
          "yref": "paper"
         },
         {
          "font": {
           "size": 16
          },
          "showarrow": false,
          "text": "Urad - 2013",
          "x": 0.6312500000000001,
          "xanchor": "center",
          "xref": "paper",
          "y": 0.59,
          "yanchor": "bottom",
          "yref": "paper"
         },
         {
          "font": {
           "size": 16
          },
          "showarrow": false,
          "text": "Urad - 2014",
          "x": 0.89375,
          "xanchor": "center",
          "xref": "paper",
          "y": 0.59,
          "yanchor": "bottom",
          "yref": "paper"
         },
         {
          "font": {
           "size": 16
          },
          "showarrow": false,
          "text": "Potato - 2011",
          "x": 0.10625,
          "xanchor": "center",
          "xref": "paper",
          "y": 0.53875,
          "yanchor": "bottom",
          "yref": "paper"
         },
         {
          "font": {
           "size": 16
          },
          "showarrow": false,
          "text": "Potato - 2012",
          "x": 0.36875,
          "xanchor": "center",
          "xref": "paper",
          "y": 0.53875,
          "yanchor": "bottom",
          "yref": "paper"
         },
         {
          "font": {
           "size": 16
          },
          "showarrow": false,
          "text": "Potato - 2013",
          "x": 0.6312500000000001,
          "xanchor": "center",
          "xref": "paper",
          "y": 0.53875,
          "yanchor": "bottom",
          "yref": "paper"
         },
         {
          "font": {
           "size": 16
          },
          "showarrow": false,
          "text": "Potato - 2014",
          "x": 0.89375,
          "xanchor": "center",
          "xref": "paper",
          "y": 0.53875,
          "yanchor": "bottom",
          "yref": "paper"
         },
         {
          "font": {
           "size": 16
          },
          "showarrow": false,
          "text": "Moong(Green Gram) - 2011",
          "x": 0.10625,
          "xanchor": "center",
          "xref": "paper",
          "y": 0.48749999999999993,
          "yanchor": "bottom",
          "yref": "paper"
         },
         {
          "font": {
           "size": 16
          },
          "showarrow": false,
          "text": "Moong(Green Gram) - 2012",
          "x": 0.36875,
          "xanchor": "center",
          "xref": "paper",
          "y": 0.48749999999999993,
          "yanchor": "bottom",
          "yref": "paper"
         },
         {
          "font": {
           "size": 16
          },
          "showarrow": false,
          "text": "Moong(Green Gram) - 2013",
          "x": 0.6312500000000001,
          "xanchor": "center",
          "xref": "paper",
          "y": 0.48749999999999993,
          "yanchor": "bottom",
          "yref": "paper"
         },
         {
          "font": {
           "size": 16
          },
          "showarrow": false,
          "text": "Moong(Green Gram) - 2014",
          "x": 0.89375,
          "xanchor": "center",
          "xref": "paper",
          "y": 0.48749999999999993,
          "yanchor": "bottom",
          "yref": "paper"
         },
         {
          "font": {
           "size": 16
          },
          "showarrow": false,
          "text": "Gram - 2011",
          "x": 0.10625,
          "xanchor": "center",
          "xref": "paper",
          "y": 0.43624999999999997,
          "yanchor": "bottom",
          "yref": "paper"
         },
         {
          "font": {
           "size": 16
          },
          "showarrow": false,
          "text": "Gram - 2012",
          "x": 0.36875,
          "xanchor": "center",
          "xref": "paper",
          "y": 0.43624999999999997,
          "yanchor": "bottom",
          "yref": "paper"
         },
         {
          "font": {
           "size": 16
          },
          "showarrow": false,
          "text": "Gram - 2013",
          "x": 0.6312500000000001,
          "xanchor": "center",
          "xref": "paper",
          "y": 0.43624999999999997,
          "yanchor": "bottom",
          "yref": "paper"
         },
         {
          "font": {
           "size": 16
          },
          "showarrow": false,
          "text": "Gram - 2014",
          "x": 0.89375,
          "xanchor": "center",
          "xref": "paper",
          "y": 0.43624999999999997,
          "yanchor": "bottom",
          "yref": "paper"
         },
         {
          "font": {
           "size": 16
          },
          "showarrow": false,
          "text": "Other  Rabi pulses - 2011",
          "x": 0.10625,
          "xanchor": "center",
          "xref": "paper",
          "y": 0.385,
          "yanchor": "bottom",
          "yref": "paper"
         },
         {
          "font": {
           "size": 16
          },
          "showarrow": false,
          "text": "Other  Rabi pulses - 2012",
          "x": 0.36875,
          "xanchor": "center",
          "xref": "paper",
          "y": 0.385,
          "yanchor": "bottom",
          "yref": "paper"
         },
         {
          "font": {
           "size": 16
          },
          "showarrow": false,
          "text": "Other  Rabi pulses - 2013",
          "x": 0.6312500000000001,
          "xanchor": "center",
          "xref": "paper",
          "y": 0.385,
          "yanchor": "bottom",
          "yref": "paper"
         },
         {
          "font": {
           "size": 16
          },
          "showarrow": false,
          "text": "Other  Rabi pulses - 2014",
          "x": 0.89375,
          "xanchor": "center",
          "xref": "paper",
          "y": 0.385,
          "yanchor": "bottom",
          "yref": "paper"
         },
         {
          "font": {
           "size": 16
          },
          "showarrow": false,
          "text": "Other Kharif pulses - 2011",
          "x": 0.10625,
          "xanchor": "center",
          "xref": "paper",
          "y": 0.33375,
          "yanchor": "bottom",
          "yref": "paper"
         },
         {
          "font": {
           "size": 16
          },
          "showarrow": false,
          "text": "Other Kharif pulses - 2012",
          "x": 0.36875,
          "xanchor": "center",
          "xref": "paper",
          "y": 0.33375,
          "yanchor": "bottom",
          "yref": "paper"
         },
         {
          "font": {
           "size": 16
          },
          "showarrow": false,
          "text": "Other Kharif pulses - 2013",
          "x": 0.6312500000000001,
          "xanchor": "center",
          "xref": "paper",
          "y": 0.33375,
          "yanchor": "bottom",
          "yref": "paper"
         },
         {
          "font": {
           "size": 16
          },
          "showarrow": false,
          "text": "Other Kharif pulses - 2014",
          "x": 0.89375,
          "xanchor": "center",
          "xref": "paper",
          "y": 0.33375,
          "yanchor": "bottom",
          "yref": "paper"
         },
         {
          "font": {
           "size": 16
          },
          "showarrow": false,
          "text": "Cotton(lint) - 2011",
          "x": 0.10625,
          "xanchor": "center",
          "xref": "paper",
          "y": 0.2825,
          "yanchor": "bottom",
          "yref": "paper"
         },
         {
          "font": {
           "size": 16
          },
          "showarrow": false,
          "text": "Cotton(lint) - 2012",
          "x": 0.36875,
          "xanchor": "center",
          "xref": "paper",
          "y": 0.2825,
          "yanchor": "bottom",
          "yref": "paper"
         },
         {
          "font": {
           "size": 16
          },
          "showarrow": false,
          "text": "Cotton(lint) - 2013",
          "x": 0.6312500000000001,
          "xanchor": "center",
          "xref": "paper",
          "y": 0.2825,
          "yanchor": "bottom",
          "yref": "paper"
         },
         {
          "font": {
           "size": 16
          },
          "showarrow": false,
          "text": "Cotton(lint) - 2014",
          "x": 0.89375,
          "xanchor": "center",
          "xref": "paper",
          "y": 0.2825,
          "yanchor": "bottom",
          "yref": "paper"
         },
         {
          "font": {
           "size": 16
          },
          "showarrow": false,
          "text": "Dry chillies - 2011",
          "x": 0.10625,
          "xanchor": "center",
          "xref": "paper",
          "y": 0.23124999999999998,
          "yanchor": "bottom",
          "yref": "paper"
         },
         {
          "font": {
           "size": 16
          },
          "showarrow": false,
          "text": "Dry chillies - 2012",
          "x": 0.36875,
          "xanchor": "center",
          "xref": "paper",
          "y": 0.23124999999999998,
          "yanchor": "bottom",
          "yref": "paper"
         },
         {
          "font": {
           "size": 16
          },
          "showarrow": false,
          "text": "Dry chillies - 2013",
          "x": 0.6312500000000001,
          "xanchor": "center",
          "xref": "paper",
          "y": 0.23124999999999998,
          "yanchor": "bottom",
          "yref": "paper"
         },
         {
          "font": {
           "size": 16
          },
          "showarrow": false,
          "text": "Dry chillies - 2014",
          "x": 0.89375,
          "xanchor": "center",
          "xref": "paper",
          "y": 0.23124999999999998,
          "yanchor": "bottom",
          "yref": "paper"
         },
         {
          "font": {
           "size": 16
          },
          "showarrow": false,
          "text": "Small millets - 2011",
          "x": 0.10625,
          "xanchor": "center",
          "xref": "paper",
          "y": 0.18,
          "yanchor": "bottom",
          "yref": "paper"
         },
         {
          "font": {
           "size": 16
          },
          "showarrow": false,
          "text": "Small millets - 2012",
          "x": 0.36875,
          "xanchor": "center",
          "xref": "paper",
          "y": 0.18,
          "yanchor": "bottom",
          "yref": "paper"
         },
         {
          "font": {
           "size": 16
          },
          "showarrow": false,
          "text": "Small millets - 2013",
          "x": 0.6312500000000001,
          "xanchor": "center",
          "xref": "paper",
          "y": 0.18,
          "yanchor": "bottom",
          "yref": "paper"
         },
         {
          "font": {
           "size": 16
          },
          "showarrow": false,
          "text": "Small millets - 2014",
          "x": 0.89375,
          "xanchor": "center",
          "xref": "paper",
          "y": 0.18,
          "yanchor": "bottom",
          "yref": "paper"
         },
         {
          "font": {
           "size": 16
          },
          "showarrow": false,
          "text": "Turmeric - 2011",
          "x": 0.10625,
          "xanchor": "center",
          "xref": "paper",
          "y": 0.12874999999999998,
          "yanchor": "bottom",
          "yref": "paper"
         },
         {
          "font": {
           "size": 16
          },
          "showarrow": false,
          "text": "Turmeric - 2012",
          "x": 0.36875,
          "xanchor": "center",
          "xref": "paper",
          "y": 0.12874999999999998,
          "yanchor": "bottom",
          "yref": "paper"
         },
         {
          "font": {
           "size": 16
          },
          "showarrow": false,
          "text": "Turmeric - 2013",
          "x": 0.6312500000000001,
          "xanchor": "center",
          "xref": "paper",
          "y": 0.12874999999999998,
          "yanchor": "bottom",
          "yref": "paper"
         },
         {
          "font": {
           "size": 16
          },
          "showarrow": false,
          "text": "Turmeric - 2014",
          "x": 0.89375,
          "xanchor": "center",
          "xref": "paper",
          "y": 0.12874999999999998,
          "yanchor": "bottom",
          "yref": "paper"
         },
         {
          "font": {
           "size": 16
          },
          "showarrow": false,
          "text": "Dry ginger - 2011",
          "x": 0.10625,
          "xanchor": "center",
          "xref": "paper",
          "y": 0.07749999999999999,
          "yanchor": "bottom",
          "yref": "paper"
         },
         {
          "font": {
           "size": 16
          },
          "showarrow": false,
          "text": "Dry ginger - 2012",
          "x": 0.36875,
          "xanchor": "center",
          "xref": "paper",
          "y": 0.07749999999999999,
          "yanchor": "bottom",
          "yref": "paper"
         },
         {
          "font": {
           "size": 16
          },
          "showarrow": false,
          "text": "Dry ginger - 2013",
          "x": 0.6312500000000001,
          "xanchor": "center",
          "xref": "paper",
          "y": 0.07749999999999999,
          "yanchor": "bottom",
          "yref": "paper"
         },
         {
          "font": {
           "size": 16
          },
          "showarrow": false,
          "text": "Dry ginger - 2014",
          "x": 0.89375,
          "xanchor": "center",
          "xref": "paper",
          "y": 0.07749999999999999,
          "yanchor": "bottom",
          "yref": "paper"
         },
         {
          "font": {
           "size": 16
          },
          "showarrow": false,
          "text": "Jowar - 2011",
          "x": 0.10625,
          "xanchor": "center",
          "xref": "paper",
          "y": 0.026249999999999996,
          "yanchor": "bottom",
          "yref": "paper"
         },
         {
          "font": {
           "size": 16
          },
          "showarrow": false,
          "text": "Jowar - 2012",
          "x": 0.36875,
          "xanchor": "center",
          "xref": "paper",
          "y": 0.026249999999999996,
          "yanchor": "bottom",
          "yref": "paper"
         },
         {
          "font": {
           "size": 16
          },
          "showarrow": false,
          "text": "Jowar - 2013",
          "x": 0.6312500000000001,
          "xanchor": "center",
          "xref": "paper",
          "y": 0.026249999999999996,
          "yanchor": "bottom",
          "yref": "paper"
         },
         {
          "font": {
           "size": 16
          },
          "showarrow": false,
          "text": "Jowar - 2014",
          "x": 0.89375,
          "xanchor": "center",
          "xref": "paper",
          "y": 0.026249999999999996,
          "yanchor": "bottom",
          "yref": "paper"
         }
        ],
        "height": 6000,
        "showlegend": false,
        "template": {
         "data": {
          "bar": [
           {
            "error_x": {
             "color": "#2a3f5f"
            },
            "error_y": {
             "color": "#2a3f5f"
            },
            "marker": {
             "line": {
              "color": "#E5ECF6",
              "width": 0.5
             },
             "pattern": {
              "fillmode": "overlay",
              "size": 10,
              "solidity": 0.2
             }
            },
            "type": "bar"
           }
          ],
          "barpolar": [
           {
            "marker": {
             "line": {
              "color": "#E5ECF6",
              "width": 0.5
             },
             "pattern": {
              "fillmode": "overlay",
              "size": 10,
              "solidity": 0.2
             }
            },
            "type": "barpolar"
           }
          ],
          "carpet": [
           {
            "aaxis": {
             "endlinecolor": "#2a3f5f",
             "gridcolor": "white",
             "linecolor": "white",
             "minorgridcolor": "white",
             "startlinecolor": "#2a3f5f"
            },
            "baxis": {
             "endlinecolor": "#2a3f5f",
             "gridcolor": "white",
             "linecolor": "white",
             "minorgridcolor": "white",
             "startlinecolor": "#2a3f5f"
            },
            "type": "carpet"
           }
          ],
          "choropleth": [
           {
            "colorbar": {
             "outlinewidth": 0,
             "ticks": ""
            },
            "type": "choropleth"
           }
          ],
          "contour": [
           {
            "colorbar": {
             "outlinewidth": 0,
             "ticks": ""
            },
            "colorscale": [
             [
              0,
              "#0d0887"
             ],
             [
              0.1111111111111111,
              "#46039f"
             ],
             [
              0.2222222222222222,
              "#7201a8"
             ],
             [
              0.3333333333333333,
              "#9c179e"
             ],
             [
              0.4444444444444444,
              "#bd3786"
             ],
             [
              0.5555555555555556,
              "#d8576b"
             ],
             [
              0.6666666666666666,
              "#ed7953"
             ],
             [
              0.7777777777777778,
              "#fb9f3a"
             ],
             [
              0.8888888888888888,
              "#fdca26"
             ],
             [
              1,
              "#f0f921"
             ]
            ],
            "type": "contour"
           }
          ],
          "contourcarpet": [
           {
            "colorbar": {
             "outlinewidth": 0,
             "ticks": ""
            },
            "type": "contourcarpet"
           }
          ],
          "heatmap": [
           {
            "colorbar": {
             "outlinewidth": 0,
             "ticks": ""
            },
            "colorscale": [
             [
              0,
              "#0d0887"
             ],
             [
              0.1111111111111111,
              "#46039f"
             ],
             [
              0.2222222222222222,
              "#7201a8"
             ],
             [
              0.3333333333333333,
              "#9c179e"
             ],
             [
              0.4444444444444444,
              "#bd3786"
             ],
             [
              0.5555555555555556,
              "#d8576b"
             ],
             [
              0.6666666666666666,
              "#ed7953"
             ],
             [
              0.7777777777777778,
              "#fb9f3a"
             ],
             [
              0.8888888888888888,
              "#fdca26"
             ],
             [
              1,
              "#f0f921"
             ]
            ],
            "type": "heatmap"
           }
          ],
          "heatmapgl": [
           {
            "colorbar": {
             "outlinewidth": 0,
             "ticks": ""
            },
            "colorscale": [
             [
              0,
              "#0d0887"
             ],
             [
              0.1111111111111111,
              "#46039f"
             ],
             [
              0.2222222222222222,
              "#7201a8"
             ],
             [
              0.3333333333333333,
              "#9c179e"
             ],
             [
              0.4444444444444444,
              "#bd3786"
             ],
             [
              0.5555555555555556,
              "#d8576b"
             ],
             [
              0.6666666666666666,
              "#ed7953"
             ],
             [
              0.7777777777777778,
              "#fb9f3a"
             ],
             [
              0.8888888888888888,
              "#fdca26"
             ],
             [
              1,
              "#f0f921"
             ]
            ],
            "type": "heatmapgl"
           }
          ],
          "histogram": [
           {
            "marker": {
             "pattern": {
              "fillmode": "overlay",
              "size": 10,
              "solidity": 0.2
             }
            },
            "type": "histogram"
           }
          ],
          "histogram2d": [
           {
            "colorbar": {
             "outlinewidth": 0,
             "ticks": ""
            },
            "colorscale": [
             [
              0,
              "#0d0887"
             ],
             [
              0.1111111111111111,
              "#46039f"
             ],
             [
              0.2222222222222222,
              "#7201a8"
             ],
             [
              0.3333333333333333,
              "#9c179e"
             ],
             [
              0.4444444444444444,
              "#bd3786"
             ],
             [
              0.5555555555555556,
              "#d8576b"
             ],
             [
              0.6666666666666666,
              "#ed7953"
             ],
             [
              0.7777777777777778,
              "#fb9f3a"
             ],
             [
              0.8888888888888888,
              "#fdca26"
             ],
             [
              1,
              "#f0f921"
             ]
            ],
            "type": "histogram2d"
           }
          ],
          "histogram2dcontour": [
           {
            "colorbar": {
             "outlinewidth": 0,
             "ticks": ""
            },
            "colorscale": [
             [
              0,
              "#0d0887"
             ],
             [
              0.1111111111111111,
              "#46039f"
             ],
             [
              0.2222222222222222,
              "#7201a8"
             ],
             [
              0.3333333333333333,
              "#9c179e"
             ],
             [
              0.4444444444444444,
              "#bd3786"
             ],
             [
              0.5555555555555556,
              "#d8576b"
             ],
             [
              0.6666666666666666,
              "#ed7953"
             ],
             [
              0.7777777777777778,
              "#fb9f3a"
             ],
             [
              0.8888888888888888,
              "#fdca26"
             ],
             [
              1,
              "#f0f921"
             ]
            ],
            "type": "histogram2dcontour"
           }
          ],
          "mesh3d": [
           {
            "colorbar": {
             "outlinewidth": 0,
             "ticks": ""
            },
            "type": "mesh3d"
           }
          ],
          "parcoords": [
           {
            "line": {
             "colorbar": {
              "outlinewidth": 0,
              "ticks": ""
             }
            },
            "type": "parcoords"
           }
          ],
          "pie": [
           {
            "automargin": true,
            "type": "pie"
           }
          ],
          "scatter": [
           {
            "fillpattern": {
             "fillmode": "overlay",
             "size": 10,
             "solidity": 0.2
            },
            "type": "scatter"
           }
          ],
          "scatter3d": [
           {
            "line": {
             "colorbar": {
              "outlinewidth": 0,
              "ticks": ""
             }
            },
            "marker": {
             "colorbar": {
              "outlinewidth": 0,
              "ticks": ""
             }
            },
            "type": "scatter3d"
           }
          ],
          "scattercarpet": [
           {
            "marker": {
             "colorbar": {
              "outlinewidth": 0,
              "ticks": ""
             }
            },
            "type": "scattercarpet"
           }
          ],
          "scattergeo": [
           {
            "marker": {
             "colorbar": {
              "outlinewidth": 0,
              "ticks": ""
             }
            },
            "type": "scattergeo"
           }
          ],
          "scattergl": [
           {
            "marker": {
             "colorbar": {
              "outlinewidth": 0,
              "ticks": ""
             }
            },
            "type": "scattergl"
           }
          ],
          "scattermapbox": [
           {
            "marker": {
             "colorbar": {
              "outlinewidth": 0,
              "ticks": ""
             }
            },
            "type": "scattermapbox"
           }
          ],
          "scatterpolar": [
           {
            "marker": {
             "colorbar": {
              "outlinewidth": 0,
              "ticks": ""
             }
            },
            "type": "scatterpolar"
           }
          ],
          "scatterpolargl": [
           {
            "marker": {
             "colorbar": {
              "outlinewidth": 0,
              "ticks": ""
             }
            },
            "type": "scatterpolargl"
           }
          ],
          "scatterternary": [
           {
            "marker": {
             "colorbar": {
              "outlinewidth": 0,
              "ticks": ""
             }
            },
            "type": "scatterternary"
           }
          ],
          "surface": [
           {
            "colorbar": {
             "outlinewidth": 0,
             "ticks": ""
            },
            "colorscale": [
             [
              0,
              "#0d0887"
             ],
             [
              0.1111111111111111,
              "#46039f"
             ],
             [
              0.2222222222222222,
              "#7201a8"
             ],
             [
              0.3333333333333333,
              "#9c179e"
             ],
             [
              0.4444444444444444,
              "#bd3786"
             ],
             [
              0.5555555555555556,
              "#d8576b"
             ],
             [
              0.6666666666666666,
              "#ed7953"
             ],
             [
              0.7777777777777778,
              "#fb9f3a"
             ],
             [
              0.8888888888888888,
              "#fdca26"
             ],
             [
              1,
              "#f0f921"
             ]
            ],
            "type": "surface"
           }
          ],
          "table": [
           {
            "cells": {
             "fill": {
              "color": "#EBF0F8"
             },
             "line": {
              "color": "white"
             }
            },
            "header": {
             "fill": {
              "color": "#C8D4E3"
             },
             "line": {
              "color": "white"
             }
            },
            "type": "table"
           }
          ]
         },
         "layout": {
          "annotationdefaults": {
           "arrowcolor": "#2a3f5f",
           "arrowhead": 0,
           "arrowwidth": 1
          },
          "autotypenumbers": "strict",
          "coloraxis": {
           "colorbar": {
            "outlinewidth": 0,
            "ticks": ""
           }
          },
          "colorscale": {
           "diverging": [
            [
             0,
             "#8e0152"
            ],
            [
             0.1,
             "#c51b7d"
            ],
            [
             0.2,
             "#de77ae"
            ],
            [
             0.3,
             "#f1b6da"
            ],
            [
             0.4,
             "#fde0ef"
            ],
            [
             0.5,
             "#f7f7f7"
            ],
            [
             0.6,
             "#e6f5d0"
            ],
            [
             0.7,
             "#b8e186"
            ],
            [
             0.8,
             "#7fbc41"
            ],
            [
             0.9,
             "#4d9221"
            ],
            [
             1,
             "#276419"
            ]
           ],
           "sequential": [
            [
             0,
             "#0d0887"
            ],
            [
             0.1111111111111111,
             "#46039f"
            ],
            [
             0.2222222222222222,
             "#7201a8"
            ],
            [
             0.3333333333333333,
             "#9c179e"
            ],
            [
             0.4444444444444444,
             "#bd3786"
            ],
            [
             0.5555555555555556,
             "#d8576b"
            ],
            [
             0.6666666666666666,
             "#ed7953"
            ],
            [
             0.7777777777777778,
             "#fb9f3a"
            ],
            [
             0.8888888888888888,
             "#fdca26"
            ],
            [
             1,
             "#f0f921"
            ]
           ],
           "sequentialminus": [
            [
             0,
             "#0d0887"
            ],
            [
             0.1111111111111111,
             "#46039f"
            ],
            [
             0.2222222222222222,
             "#7201a8"
            ],
            [
             0.3333333333333333,
             "#9c179e"
            ],
            [
             0.4444444444444444,
             "#bd3786"
            ],
            [
             0.5555555555555556,
             "#d8576b"
            ],
            [
             0.6666666666666666,
             "#ed7953"
            ],
            [
             0.7777777777777778,
             "#fb9f3a"
            ],
            [
             0.8888888888888888,
             "#fdca26"
            ],
            [
             1,
             "#f0f921"
            ]
           ]
          },
          "colorway": [
           "#636efa",
           "#EF553B",
           "#00cc96",
           "#ab63fa",
           "#FFA15A",
           "#19d3f3",
           "#FF6692",
           "#B6E880",
           "#FF97FF",
           "#FECB52"
          ],
          "font": {
           "color": "#2a3f5f"
          },
          "geo": {
           "bgcolor": "white",
           "lakecolor": "white",
           "landcolor": "#E5ECF6",
           "showlakes": true,
           "showland": true,
           "subunitcolor": "white"
          },
          "hoverlabel": {
           "align": "left"
          },
          "hovermode": "closest",
          "mapbox": {
           "style": "light"
          },
          "paper_bgcolor": "white",
          "plot_bgcolor": "#E5ECF6",
          "polar": {
           "angularaxis": {
            "gridcolor": "white",
            "linecolor": "white",
            "ticks": ""
           },
           "bgcolor": "#E5ECF6",
           "radialaxis": {
            "gridcolor": "white",
            "linecolor": "white",
            "ticks": ""
           }
          },
          "scene": {
           "xaxis": {
            "backgroundcolor": "#E5ECF6",
            "gridcolor": "white",
            "gridwidth": 2,
            "linecolor": "white",
            "showbackground": true,
            "ticks": "",
            "zerolinecolor": "white"
           },
           "yaxis": {
            "backgroundcolor": "#E5ECF6",
            "gridcolor": "white",
            "gridwidth": 2,
            "linecolor": "white",
            "showbackground": true,
            "ticks": "",
            "zerolinecolor": "white"
           },
           "zaxis": {
            "backgroundcolor": "#E5ECF6",
            "gridcolor": "white",
            "gridwidth": 2,
            "linecolor": "white",
            "showbackground": true,
            "ticks": "",
            "zerolinecolor": "white"
           }
          },
          "shapedefaults": {
           "line": {
            "color": "#2a3f5f"
           }
          },
          "ternary": {
           "aaxis": {
            "gridcolor": "white",
            "linecolor": "white",
            "ticks": ""
           },
           "baxis": {
            "gridcolor": "white",
            "linecolor": "white",
            "ticks": ""
           },
           "bgcolor": "#E5ECF6",
           "caxis": {
            "gridcolor": "white",
            "linecolor": "white",
            "ticks": ""
           }
          },
          "title": {
           "x": 0.05
          },
          "xaxis": {
           "automargin": true,
           "gridcolor": "white",
           "linecolor": "white",
           "ticks": "",
           "title": {
            "standoff": 15
           },
           "zerolinecolor": "white",
           "zerolinewidth": 2
          },
          "yaxis": {
           "automargin": true,
           "gridcolor": "white",
           "linecolor": "white",
           "ticks": "",
           "title": {
            "standoff": 15
           },
           "zerolinecolor": "white",
           "zerolinewidth": 2
          }
         }
        },
        "title": {
         "text": "Production Analysis by Crop and Year"
        },
        "width": 1000,
        "xaxis": {
         "anchor": "y",
         "domain": [
          0,
          0.2125
         ],
         "tickangle": 90
        },
        "xaxis10": {
         "anchor": "y10",
         "domain": [
          0.2625,
          0.475
         ],
         "tickangle": 90
        },
        "xaxis11": {
         "anchor": "y11",
         "domain": [
          0.525,
          0.7375
         ],
         "tickangle": 90
        },
        "xaxis12": {
         "anchor": "y12",
         "domain": [
          0.7875,
          1
         ],
         "tickangle": 90
        },
        "xaxis13": {
         "anchor": "y13",
         "domain": [
          0,
          0.2125
         ],
         "tickangle": 90
        },
        "xaxis14": {
         "anchor": "y14",
         "domain": [
          0.2625,
          0.475
         ],
         "tickangle": 90
        },
        "xaxis15": {
         "anchor": "y15",
         "domain": [
          0.525,
          0.7375
         ],
         "tickangle": 90
        },
        "xaxis16": {
         "anchor": "y16",
         "domain": [
          0.7875,
          1
         ],
         "tickangle": 90
        },
        "xaxis17": {
         "anchor": "y17",
         "domain": [
          0,
          0.2125
         ],
         "tickangle": 90
        },
        "xaxis18": {
         "anchor": "y18",
         "domain": [
          0.2625,
          0.475
         ],
         "tickangle": 90
        },
        "xaxis19": {
         "anchor": "y19",
         "domain": [
          0.525,
          0.7375
         ],
         "tickangle": 90
        },
        "xaxis2": {
         "anchor": "y2",
         "domain": [
          0.2625,
          0.475
         ],
         "tickangle": 90
        },
        "xaxis20": {
         "anchor": "y20",
         "domain": [
          0.7875,
          1
         ],
         "tickangle": 90
        },
        "xaxis21": {
         "anchor": "y21",
         "domain": [
          0,
          0.2125
         ],
         "tickangle": 90
        },
        "xaxis22": {
         "anchor": "y22",
         "domain": [
          0.2625,
          0.475
         ],
         "tickangle": 90
        },
        "xaxis23": {
         "anchor": "y23",
         "domain": [
          0.525,
          0.7375
         ],
         "tickangle": 90
        },
        "xaxis24": {
         "anchor": "y24",
         "domain": [
          0.7875,
          1
         ],
         "tickangle": 90
        },
        "xaxis25": {
         "anchor": "y25",
         "domain": [
          0,
          0.2125
         ],
         "tickangle": 90
        },
        "xaxis26": {
         "anchor": "y26",
         "domain": [
          0.2625,
          0.475
         ],
         "tickangle": 90
        },
        "xaxis27": {
         "anchor": "y27",
         "domain": [
          0.525,
          0.7375
         ],
         "tickangle": 90
        },
        "xaxis28": {
         "anchor": "y28",
         "domain": [
          0.7875,
          1
         ],
         "tickangle": 90
        },
        "xaxis29": {
         "anchor": "y29",
         "domain": [
          0,
          0.2125
         ],
         "tickangle": 90
        },
        "xaxis3": {
         "anchor": "y3",
         "domain": [
          0.525,
          0.7375
         ],
         "tickangle": 90
        },
        "xaxis30": {
         "anchor": "y30",
         "domain": [
          0.2625,
          0.475
         ],
         "tickangle": 90
        },
        "xaxis31": {
         "anchor": "y31",
         "domain": [
          0.525,
          0.7375
         ],
         "tickangle": 90
        },
        "xaxis32": {
         "anchor": "y32",
         "domain": [
          0.7875,
          1
         ],
         "tickangle": 90
        },
        "xaxis33": {
         "anchor": "y33",
         "domain": [
          0,
          0.2125
         ],
         "tickangle": 90
        },
        "xaxis34": {
         "anchor": "y34",
         "domain": [
          0.2625,
          0.475
         ],
         "tickangle": 90
        },
        "xaxis35": {
         "anchor": "y35",
         "domain": [
          0.525,
          0.7375
         ],
         "tickangle": 90
        },
        "xaxis36": {
         "anchor": "y36",
         "domain": [
          0.7875,
          1
         ],
         "tickangle": 90
        },
        "xaxis37": {
         "anchor": "y37",
         "domain": [
          0,
          0.2125
         ],
         "tickangle": 90
        },
        "xaxis38": {
         "anchor": "y38",
         "domain": [
          0.2625,
          0.475
         ],
         "tickangle": 90
        },
        "xaxis39": {
         "anchor": "y39",
         "domain": [
          0.525,
          0.7375
         ],
         "tickangle": 90
        },
        "xaxis4": {
         "anchor": "y4",
         "domain": [
          0.7875,
          1
         ],
         "tickangle": 90
        },
        "xaxis40": {
         "anchor": "y40",
         "domain": [
          0.7875,
          1
         ],
         "tickangle": 90
        },
        "xaxis41": {
         "anchor": "y41",
         "domain": [
          0,
          0.2125
         ],
         "tickangle": 90
        },
        "xaxis42": {
         "anchor": "y42",
         "domain": [
          0.2625,
          0.475
         ],
         "tickangle": 90
        },
        "xaxis43": {
         "anchor": "y43",
         "domain": [
          0.525,
          0.7375
         ],
         "tickangle": 90
        },
        "xaxis44": {
         "anchor": "y44",
         "domain": [
          0.7875,
          1
         ],
         "tickangle": 90
        },
        "xaxis45": {
         "anchor": "y45",
         "domain": [
          0,
          0.2125
         ],
         "tickangle": 90
        },
        "xaxis46": {
         "anchor": "y46",
         "domain": [
          0.2625,
          0.475
         ],
         "tickangle": 90
        },
        "xaxis47": {
         "anchor": "y47",
         "domain": [
          0.525,
          0.7375
         ],
         "tickangle": 90
        },
        "xaxis48": {
         "anchor": "y48",
         "domain": [
          0.7875,
          1
         ],
         "tickangle": 90
        },
        "xaxis49": {
         "anchor": "y49",
         "domain": [
          0,
          0.2125
         ],
         "tickangle": 90
        },
        "xaxis5": {
         "anchor": "y5",
         "domain": [
          0,
          0.2125
         ],
         "tickangle": 90
        },
        "xaxis50": {
         "anchor": "y50",
         "domain": [
          0.2625,
          0.475
         ],
         "tickangle": 90
        },
        "xaxis51": {
         "anchor": "y51",
         "domain": [
          0.525,
          0.7375
         ],
         "tickangle": 90
        },
        "xaxis52": {
         "anchor": "y52",
         "domain": [
          0.7875,
          1
         ],
         "tickangle": 90
        },
        "xaxis53": {
         "anchor": "y53",
         "domain": [
          0,
          0.2125
         ],
         "tickangle": 90
        },
        "xaxis54": {
         "anchor": "y54",
         "domain": [
          0.2625,
          0.475
         ],
         "tickangle": 90
        },
        "xaxis55": {
         "anchor": "y55",
         "domain": [
          0.525,
          0.7375
         ],
         "tickangle": 90
        },
        "xaxis56": {
         "anchor": "y56",
         "domain": [
          0.7875,
          1
         ],
         "tickangle": 90
        },
        "xaxis57": {
         "anchor": "y57",
         "domain": [
          0,
          0.2125
         ],
         "tickangle": 90
        },
        "xaxis58": {
         "anchor": "y58",
         "domain": [
          0.2625,
          0.475
         ],
         "tickangle": 90
        },
        "xaxis59": {
         "anchor": "y59",
         "domain": [
          0.525,
          0.7375
         ],
         "tickangle": 90
        },
        "xaxis6": {
         "anchor": "y6",
         "domain": [
          0.2625,
          0.475
         ],
         "tickangle": 90
        },
        "xaxis60": {
         "anchor": "y60",
         "domain": [
          0.7875,
          1
         ],
         "tickangle": 90
        },
        "xaxis61": {
         "anchor": "y61",
         "domain": [
          0,
          0.2125
         ],
         "tickangle": 90
        },
        "xaxis62": {
         "anchor": "y62",
         "domain": [
          0.2625,
          0.475
         ],
         "tickangle": 90
        },
        "xaxis63": {
         "anchor": "y63",
         "domain": [
          0.525,
          0.7375
         ],
         "tickangle": 90
        },
        "xaxis64": {
         "anchor": "y64",
         "domain": [
          0.7875,
          1
         ],
         "tickangle": 90
        },
        "xaxis65": {
         "anchor": "y65",
         "domain": [
          0,
          0.2125
         ],
         "tickangle": 90
        },
        "xaxis66": {
         "anchor": "y66",
         "domain": [
          0.2625,
          0.475
         ],
         "tickangle": 90
        },
        "xaxis67": {
         "anchor": "y67",
         "domain": [
          0.525,
          0.7375
         ],
         "tickangle": 90
        },
        "xaxis68": {
         "anchor": "y68",
         "domain": [
          0.7875,
          1
         ],
         "tickangle": 90
        },
        "xaxis69": {
         "anchor": "y69",
         "domain": [
          0,
          0.2125
         ],
         "tickangle": 90
        },
        "xaxis7": {
         "anchor": "y7",
         "domain": [
          0.525,
          0.7375
         ],
         "tickangle": 90
        },
        "xaxis70": {
         "anchor": "y70",
         "domain": [
          0.2625,
          0.475
         ],
         "tickangle": 90
        },
        "xaxis71": {
         "anchor": "y71",
         "domain": [
          0.525,
          0.7375
         ],
         "tickangle": 90
        },
        "xaxis72": {
         "anchor": "y72",
         "domain": [
          0.7875,
          1
         ],
         "tickangle": 90
        },
        "xaxis73": {
         "anchor": "y73",
         "domain": [
          0,
          0.2125
         ],
         "tickangle": 90
        },
        "xaxis74": {
         "anchor": "y74",
         "domain": [
          0.2625,
          0.475
         ],
         "tickangle": 90
        },
        "xaxis75": {
         "anchor": "y75",
         "domain": [
          0.525,
          0.7375
         ],
         "tickangle": 90
        },
        "xaxis76": {
         "anchor": "y76",
         "domain": [
          0.7875,
          1
         ],
         "tickangle": 90
        },
        "xaxis77": {
         "anchor": "y77",
         "domain": [
          0,
          0.2125
         ],
         "tickangle": 90
        },
        "xaxis78": {
         "anchor": "y78",
         "domain": [
          0.2625,
          0.475
         ],
         "tickangle": 90
        },
        "xaxis79": {
         "anchor": "y79",
         "domain": [
          0.525,
          0.7375
         ],
         "tickangle": 90
        },
        "xaxis8": {
         "anchor": "y8",
         "domain": [
          0.7875,
          1
         ],
         "tickangle": 90
        },
        "xaxis80": {
         "anchor": "y80",
         "domain": [
          0.7875,
          1
         ],
         "tickangle": 90
        },
        "xaxis9": {
         "anchor": "y9",
         "domain": [
          0,
          0.2125
         ],
         "tickangle": 90
        },
        "yaxis": {
         "anchor": "x",
         "domain": [
          0.9737499999999999,
          0.9999999999999999
         ],
         "title": {
          "text": "Production"
         }
        },
        "yaxis10": {
         "anchor": "x10",
         "domain": [
          0.87125,
          0.8975
         ],
         "matches": "y9",
         "showticklabels": false
        },
        "yaxis11": {
         "anchor": "x11",
         "domain": [
          0.87125,
          0.8975
         ],
         "matches": "y9",
         "showticklabels": false
        },
        "yaxis12": {
         "anchor": "x12",
         "domain": [
          0.87125,
          0.8975
         ],
         "matches": "y9",
         "showticklabels": false
        },
        "yaxis13": {
         "anchor": "x13",
         "domain": [
          0.82,
          0.84625
         ]
        },
        "yaxis14": {
         "anchor": "x14",
         "domain": [
          0.82,
          0.84625
         ],
         "matches": "y13",
         "showticklabels": false
        },
        "yaxis15": {
         "anchor": "x15",
         "domain": [
          0.82,
          0.84625
         ],
         "matches": "y13",
         "showticklabels": false
        },
        "yaxis16": {
         "anchor": "x16",
         "domain": [
          0.82,
          0.84625
         ],
         "matches": "y13",
         "showticklabels": false
        },
        "yaxis17": {
         "anchor": "x17",
         "domain": [
          0.7687499999999999,
          0.7949999999999999
         ]
        },
        "yaxis18": {
         "anchor": "x18",
         "domain": [
          0.7687499999999999,
          0.7949999999999999
         ],
         "matches": "y17",
         "showticklabels": false
        },
        "yaxis19": {
         "anchor": "x19",
         "domain": [
          0.7687499999999999,
          0.7949999999999999
         ],
         "matches": "y17",
         "showticklabels": false
        },
        "yaxis2": {
         "anchor": "x2",
         "domain": [
          0.9737499999999999,
          0.9999999999999999
         ],
         "matches": "y",
         "showticklabels": false
        },
        "yaxis20": {
         "anchor": "x20",
         "domain": [
          0.7687499999999999,
          0.7949999999999999
         ],
         "matches": "y17",
         "showticklabels": false
        },
        "yaxis21": {
         "anchor": "x21",
         "domain": [
          0.7175,
          0.74375
         ]
        },
        "yaxis22": {
         "anchor": "x22",
         "domain": [
          0.7175,
          0.74375
         ],
         "matches": "y21",
         "showticklabels": false
        },
        "yaxis23": {
         "anchor": "x23",
         "domain": [
          0.7175,
          0.74375
         ],
         "matches": "y21",
         "showticklabels": false
        },
        "yaxis24": {
         "anchor": "x24",
         "domain": [
          0.7175,
          0.74375
         ],
         "matches": "y21",
         "showticklabels": false
        },
        "yaxis25": {
         "anchor": "x25",
         "domain": [
          0.66625,
          0.6925
         ]
        },
        "yaxis26": {
         "anchor": "x26",
         "domain": [
          0.66625,
          0.6925
         ],
         "matches": "y25",
         "showticklabels": false
        },
        "yaxis27": {
         "anchor": "x27",
         "domain": [
          0.66625,
          0.6925
         ],
         "matches": "y25",
         "showticklabels": false
        },
        "yaxis28": {
         "anchor": "x28",
         "domain": [
          0.66625,
          0.6925
         ],
         "matches": "y25",
         "showticklabels": false
        },
        "yaxis29": {
         "anchor": "x29",
         "domain": [
          0.615,
          0.64125
         ]
        },
        "yaxis3": {
         "anchor": "x3",
         "domain": [
          0.9737499999999999,
          0.9999999999999999
         ],
         "matches": "y",
         "showticklabels": false
        },
        "yaxis30": {
         "anchor": "x30",
         "domain": [
          0.615,
          0.64125
         ],
         "matches": "y29",
         "showticklabels": false
        },
        "yaxis31": {
         "anchor": "x31",
         "domain": [
          0.615,
          0.64125
         ],
         "matches": "y29",
         "showticklabels": false
        },
        "yaxis32": {
         "anchor": "x32",
         "domain": [
          0.615,
          0.64125
         ],
         "matches": "y29",
         "showticklabels": false
        },
        "yaxis33": {
         "anchor": "x33",
         "domain": [
          0.56375,
          0.59
         ]
        },
        "yaxis34": {
         "anchor": "x34",
         "domain": [
          0.56375,
          0.59
         ],
         "matches": "y33",
         "showticklabels": false
        },
        "yaxis35": {
         "anchor": "x35",
         "domain": [
          0.56375,
          0.59
         ],
         "matches": "y33",
         "showticklabels": false
        },
        "yaxis36": {
         "anchor": "x36",
         "domain": [
          0.56375,
          0.59
         ],
         "matches": "y33",
         "showticklabels": false
        },
        "yaxis37": {
         "anchor": "x37",
         "domain": [
          0.5125,
          0.53875
         ]
        },
        "yaxis38": {
         "anchor": "x38",
         "domain": [
          0.5125,
          0.53875
         ],
         "matches": "y37",
         "showticklabels": false
        },
        "yaxis39": {
         "anchor": "x39",
         "domain": [
          0.5125,
          0.53875
         ],
         "matches": "y37",
         "showticklabels": false
        },
        "yaxis4": {
         "anchor": "x4",
         "domain": [
          0.9737499999999999,
          0.9999999999999999
         ],
         "matches": "y",
         "showticklabels": false
        },
        "yaxis40": {
         "anchor": "x40",
         "domain": [
          0.5125,
          0.53875
         ],
         "matches": "y37",
         "showticklabels": false
        },
        "yaxis41": {
         "anchor": "x41",
         "domain": [
          0.46124999999999994,
          0.48749999999999993
         ]
        },
        "yaxis42": {
         "anchor": "x42",
         "domain": [
          0.46124999999999994,
          0.48749999999999993
         ],
         "matches": "y41",
         "showticklabels": false
        },
        "yaxis43": {
         "anchor": "x43",
         "domain": [
          0.46124999999999994,
          0.48749999999999993
         ],
         "matches": "y41",
         "showticklabels": false
        },
        "yaxis44": {
         "anchor": "x44",
         "domain": [
          0.46124999999999994,
          0.48749999999999993
         ],
         "matches": "y41",
         "showticklabels": false
        },
        "yaxis45": {
         "anchor": "x45",
         "domain": [
          0.41,
          0.43624999999999997
         ]
        },
        "yaxis46": {
         "anchor": "x46",
         "domain": [
          0.41,
          0.43624999999999997
         ],
         "matches": "y45",
         "showticklabels": false
        },
        "yaxis47": {
         "anchor": "x47",
         "domain": [
          0.41,
          0.43624999999999997
         ],
         "matches": "y45",
         "showticklabels": false
        },
        "yaxis48": {
         "anchor": "x48",
         "domain": [
          0.41,
          0.43624999999999997
         ],
         "matches": "y45",
         "showticklabels": false
        },
        "yaxis49": {
         "anchor": "x49",
         "domain": [
          0.35875,
          0.385
         ]
        },
        "yaxis5": {
         "anchor": "x5",
         "domain": [
          0.9224999999999999,
          0.9487499999999999
         ]
        },
        "yaxis50": {
         "anchor": "x50",
         "domain": [
          0.35875,
          0.385
         ],
         "matches": "y49",
         "showticklabels": false
        },
        "yaxis51": {
         "anchor": "x51",
         "domain": [
          0.35875,
          0.385
         ],
         "matches": "y49",
         "showticklabels": false
        },
        "yaxis52": {
         "anchor": "x52",
         "domain": [
          0.35875,
          0.385
         ],
         "matches": "y49",
         "showticklabels": false
        },
        "yaxis53": {
         "anchor": "x53",
         "domain": [
          0.3075,
          0.33375
         ]
        },
        "yaxis54": {
         "anchor": "x54",
         "domain": [
          0.3075,
          0.33375
         ],
         "matches": "y53",
         "showticklabels": false
        },
        "yaxis55": {
         "anchor": "x55",
         "domain": [
          0.3075,
          0.33375
         ],
         "matches": "y53",
         "showticklabels": false
        },
        "yaxis56": {
         "anchor": "x56",
         "domain": [
          0.3075,
          0.33375
         ],
         "matches": "y53",
         "showticklabels": false
        },
        "yaxis57": {
         "anchor": "x57",
         "domain": [
          0.25625,
          0.2825
         ]
        },
        "yaxis58": {
         "anchor": "x58",
         "domain": [
          0.25625,
          0.2825
         ],
         "matches": "y57",
         "showticklabels": false
        },
        "yaxis59": {
         "anchor": "x59",
         "domain": [
          0.25625,
          0.2825
         ],
         "matches": "y57",
         "showticklabels": false
        },
        "yaxis6": {
         "anchor": "x6",
         "domain": [
          0.9224999999999999,
          0.9487499999999999
         ],
         "matches": "y5",
         "showticklabels": false
        },
        "yaxis60": {
         "anchor": "x60",
         "domain": [
          0.25625,
          0.2825
         ],
         "matches": "y57",
         "showticklabels": false
        },
        "yaxis61": {
         "anchor": "x61",
         "domain": [
          0.205,
          0.23124999999999998
         ]
        },
        "yaxis62": {
         "anchor": "x62",
         "domain": [
          0.205,
          0.23124999999999998
         ],
         "matches": "y61",
         "showticklabels": false
        },
        "yaxis63": {
         "anchor": "x63",
         "domain": [
          0.205,
          0.23124999999999998
         ],
         "matches": "y61",
         "showticklabels": false
        },
        "yaxis64": {
         "anchor": "x64",
         "domain": [
          0.205,
          0.23124999999999998
         ],
         "matches": "y61",
         "showticklabels": false
        },
        "yaxis65": {
         "anchor": "x65",
         "domain": [
          0.15375,
          0.18
         ]
        },
        "yaxis66": {
         "anchor": "x66",
         "domain": [
          0.15375,
          0.18
         ],
         "matches": "y65",
         "showticklabels": false
        },
        "yaxis67": {
         "anchor": "x67",
         "domain": [
          0.15375,
          0.18
         ],
         "matches": "y65",
         "showticklabels": false
        },
        "yaxis68": {
         "anchor": "x68",
         "domain": [
          0.15375,
          0.18
         ],
         "matches": "y65",
         "showticklabels": false
        },
        "yaxis69": {
         "anchor": "x69",
         "domain": [
          0.1025,
          0.12874999999999998
         ]
        },
        "yaxis7": {
         "anchor": "x7",
         "domain": [
          0.9224999999999999,
          0.9487499999999999
         ],
         "matches": "y5",
         "showticklabels": false
        },
        "yaxis70": {
         "anchor": "x70",
         "domain": [
          0.1025,
          0.12874999999999998
         ],
         "matches": "y69",
         "showticklabels": false
        },
        "yaxis71": {
         "anchor": "x71",
         "domain": [
          0.1025,
          0.12874999999999998
         ],
         "matches": "y69",
         "showticklabels": false
        },
        "yaxis72": {
         "anchor": "x72",
         "domain": [
          0.1025,
          0.12874999999999998
         ],
         "matches": "y69",
         "showticklabels": false
        },
        "yaxis73": {
         "anchor": "x73",
         "domain": [
          0.05125,
          0.07749999999999999
         ]
        },
        "yaxis74": {
         "anchor": "x74",
         "domain": [
          0.05125,
          0.07749999999999999
         ],
         "matches": "y73",
         "showticklabels": false
        },
        "yaxis75": {
         "anchor": "x75",
         "domain": [
          0.05125,
          0.07749999999999999
         ],
         "matches": "y73",
         "showticklabels": false
        },
        "yaxis76": {
         "anchor": "x76",
         "domain": [
          0.05125,
          0.07749999999999999
         ],
         "matches": "y73",
         "showticklabels": false
        },
        "yaxis77": {
         "anchor": "x77",
         "domain": [
          0,
          0.026249999999999996
         ]
        },
        "yaxis78": {
         "anchor": "x78",
         "domain": [
          0,
          0.026249999999999996
         ],
         "matches": "y77",
         "showticklabels": false
        },
        "yaxis79": {
         "anchor": "x79",
         "domain": [
          0,
          0.026249999999999996
         ],
         "matches": "y77",
         "showticklabels": false
        },
        "yaxis8": {
         "anchor": "x8",
         "domain": [
          0.9224999999999999,
          0.9487499999999999
         ],
         "matches": "y5",
         "showticklabels": false
        },
        "yaxis80": {
         "anchor": "x80",
         "domain": [
          0,
          0.026249999999999996
         ],
         "matches": "y77",
         "showticklabels": false
        },
        "yaxis9": {
         "anchor": "x9",
         "domain": [
          0.87125,
          0.8975
         ]
        }
       }
      }
     },
     "metadata": {},
     "output_type": "display_data"
    }
   ],
   "source": [
    "import pandas as pd\n",
    "import plotly.graph_objects as go\n",
    "from plotly.subplots import make_subplots\n",
    "\n",
    "fig = make_subplots(\n",
    "    rows=len(crops_to_be_analysed), cols=len(years_to_be_analysed), \n",
    "    subplot_titles=[f'{crop} - {year}' for crop in crops_to_be_analysed for year in years_to_be_analysed],\n",
    "    shared_yaxes=True\n",
    ")\n",
    "\n",
    "for i, crop in enumerate(crops_to_be_analysed):\n",
    "    for j, year in enumerate(years_to_be_analysed):\n",
    "        state_pro_dict = {}\n",
    "        \n",
    "        for state in states:\n",
    "            subset = df[(df['Crop'] == crop) & (df['Crop_Year'] == year) & (df['State_Name'] == state)]\n",
    "            production_sum = subset['Production'].sum()\n",
    "            state_pro_dict[state] = production_sum\n",
    "        \n",
    "        sorted_states = sorted(state_pro_dict, key=lambda k: state_pro_dict[k], reverse=True)\n",
    "        sorted_pro = [state_pro_dict[state] for state in sorted_states]\n",
    "        \n",
    "        fig.add_trace(go.Bar(x=sorted_states, y=sorted_pro, name=f'{crop} - {year}'), row=i+1, col=j+1)\n",
    "\n",
    "# Calculate appropriate height: 500 pixels per row\n",
    "fig_height = 300 * len(crops_to_be_analysed)\n",
    "fig.update_layout(title='Production Analysis by Crop and Year', height=fig_height, width=1000, showlegend=False)\n",
    "\n",
    "for i in range(len(crops_to_be_analysed)):\n",
    "    for j in range(len(years_to_be_analysed)):\n",
    "        fig.update_xaxes(row=i+1, col=j+1, tickangle=90)\n",
    "fig.update_yaxes(title_text='Production', row=1, col=1)\n",
    "\n",
    "fig.show()"
   ]
  },
  {
   "cell_type": "markdown",
   "metadata": {},
   "source": []
  },
  {
   "cell_type": "code",
   "execution_count": null,
   "metadata": {},
   "outputs": [],
   "source": []
  }
 ],
 "metadata": {
  "kernelspec": {
   "display_name": "base",
   "language": "python",
   "name": "python3"
  },
  "language_info": {
   "codemirror_mode": {
    "name": "ipython",
    "version": 3
   },
   "file_extension": ".py",
   "mimetype": "text/x-python",
   "name": "python",
   "nbconvert_exporter": "python",
   "pygments_lexer": "ipython3",
   "version": "3.10.9"
  }
 },
 "nbformat": 4,
 "nbformat_minor": 2
}
