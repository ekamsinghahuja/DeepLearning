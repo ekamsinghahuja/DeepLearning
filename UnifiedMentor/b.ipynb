{
 "cells": [
  {
   "cell_type": "code",
   "execution_count": null,
   "metadata": {},
   "outputs": [],
   "source": [
    "import pandas as pd"
   ]
  },
  {
   "cell_type": "code",
   "execution_count": null,
   "metadata": {},
   "outputs": [],
   "source": [
    "df = pd.read_csv('crop_production.csv')\n",
    "df.head()"
   ]
  },
  {
   "cell_type": "code",
   "execution_count": null,
   "metadata": {},
   "outputs": [],
   "source": [
    "states = list(df['State_Name'].unique())\n"
   ]
  },
  {
   "cell_type": "markdown",
   "metadata": {},
   "source": [
    "# some states are missing - why?\n",
    "## Delhi:\n",
    "\n",
    "Urbanization: Delhi is a highly urbanized city-state with minimal agricultural activities. Its economy is predominantly service-based with a focus on commerce, finance, and government services.\n",
    "\n",
    "## Lakshadweep:\n",
    "\n",
    "Geography: Lakshadweep is an archipelago with very limited land area suitable for agriculture. The islands are known more for their marine resources and tourism rather than agriculture.\n",
    "\n",
    "## Ladakh:\n",
    "\n",
    "Climate and Terrain: Ladakh has an extremely harsh climate and rugged terrain, making large-scale agriculture challenging. The region has limited agricultural activities due to its high altitude and arid conditions\n",
    "\n"
   ]
  },
  {
   "cell_type": "code",
   "execution_count": null,
   "metadata": {},
   "outputs": [],
   "source": [
    "states"
   ]
  },
  {
   "cell_type": "markdown",
   "metadata": {},
   "source": [
    "# Points to Note:\n",
    "# kharif and autum\n",
    "## Dataset mentions autumn and kharif seperately\n",
    "## Kharif means \"autumn\" in Arabic.\n",
    "## but agriculure reference says - \n",
    "    kharif - June and end in October\n",
    "    autumn - September, October, November\n",
    "    so lets consider them different \n",
    "\n",
    "## gemini solved my confusion - \n",
    "    Kharif: This word comes from Arabic and literally translates to \"autumn.\" However, in the context of agriculture in India and some other South Asian countries, it refers to the monsoon season for planting crops.\n",
    "\n",
    "    Monsoon: This word is used in English and many other languages to describe seasonal winds that bring rain. In India, the monsoon season coincides with the Kharif season (roughly June to September).\n",
    "\n",
    "# summer / Zaid\n",
    "## summer agriculture season -\n",
    "    Zaid or Summer cropping season runs from March to June\n",
    "\n",
    "\n",
    "# rabi / winter\n",
    "    these two overlaps\n",
    "    Rabi-Season: Winter (October to March)\n",
    "    Winter-Season: Overlaps with Rabi (November to February)"
   ]
  },
  {
   "cell_type": "code",
   "execution_count": null,
   "metadata": {},
   "outputs": [],
   "source": [
    "seasons = list(df['Season'].unique())\n",
    "seasons"
   ]
  },
  {
   "cell_type": "markdown",
   "metadata": {},
   "source": [
    "## We have 16 years of data"
   ]
  },
  {
   "cell_type": "code",
   "execution_count": null,
   "metadata": {},
   "outputs": [],
   "source": [
    "years = list(df['Crop_Year'].unique())"
   ]
  },
  {
   "cell_type": "code",
   "execution_count": null,
   "metadata": {},
   "outputs": [],
   "source": [
    "years"
   ]
  },
  {
   "cell_type": "markdown",
   "metadata": {},
   "source": [
    "# 124 differnt crops are there in dataset\n",
    "\n",
    "## but actually -\n",
    "Between 500 and 1000\n",
    "\n",
    "This range considers the following factors:\n",
    "\n",
    "Major Crop Categories: As mentioned earlier, there are several major categories like food grains, pulses, oilseeds, fruits, vegetables, spices, and plantation crops. Each category itself holds a substantial number of crops.\n",
    "Regional Variations: While some crops are widespread, many are specific to certain regions due to climate or soil conditions. Accounting for these variations adds to the total number.\n",
    "Varietal Differences: Within many crops, there can be numerous varieties with slight differences. Including these variations increases the overall count\n"
   ]
  },
  {
   "cell_type": "markdown",
   "metadata": {},
   "source": [
    "# govenment gives  MSP on these crops\n",
    "## Kharif Crops (14):\n",
    "\n",
    "Paddy\n",
    "Jowar (Sorghum)\n",
    "Bajra (Pearl millet)\n",
    "Tur (Arhar)\n",
    "Moong (Green gram)\n",
    "Urad (Black gram)\n",
    "Groundnut\n",
    "Cotton\n",
    "Soyabean\n",
    "Sunflower seed\n",
    "Sesamum\n",
    "Nigerseed\n",
    "Hempseed\n",
    "Kuttu (Buckwheat)\n",
    "\n",
    "## Rabi Crops (6):\n",
    "\n",
    "Wheat\n",
    "Barley\n",
    "Gram (Chickpea)\n",
    "Masur (Lentil)\n",
    "Rapeseed & Mustard\n",
    "Safflower\n",
    "Other Commercial Crops (2):\n",
    "\n",
    "## Sugarcane\n",
    "Copra (dried coconut kernel)"
   ]
  },
  {
   "cell_type": "markdown",
   "metadata": {},
   "source": [
    "# so possible that production of msp products is higher "
   ]
  },
  {
   "cell_type": "code",
   "execution_count": null,
   "metadata": {},
   "outputs": [],
   "source": [
    "crop = list(df['Crop'].unique())\n"
   ]
  },
  {
   "cell_type": "code",
   "execution_count": null,
   "metadata": {},
   "outputs": [],
   "source": [
    "len(crop)"
   ]
  },
  {
   "cell_type": "code",
   "execution_count": null,
   "metadata": {},
   "outputs": [],
   "source": [
    "crop"
   ]
  },
  {
   "cell_type": "markdown",
   "metadata": {},
   "source": [
    "# area and production\n",
    "## area and production units are not mentioned anywhere so we can not do comparison between the crops"
   ]
  },
  {
   "cell_type": "code",
   "execution_count": null,
   "metadata": {},
   "outputs": [],
   "source": [
    "df['Area'].max()"
   ]
  },
  {
   "cell_type": "code",
   "execution_count": null,
   "metadata": {},
   "outputs": [],
   "source": [
    "df['Area'].min()"
   ]
  },
  {
   "cell_type": "code",
   "execution_count": null,
   "metadata": {},
   "outputs": [],
   "source": [
    "df.Area.value_counts()"
   ]
  },
  {
   "cell_type": "markdown",
   "metadata": {},
   "source": [
    "# we can deep dive into visualization now"
   ]
  },
  {
   "cell_type": "markdown",
   "metadata": {},
   "source": [
    "## kharif and Rabi are important seasons "
   ]
  },
  {
   "cell_type": "code",
   "execution_count": null,
   "metadata": {},
   "outputs": [],
   "source": [
    "distinct_crops_in_season_list = []\n",
    "for x in seasons:\n",
    "    distinct_crops_in_season_list.append(len(df[df['Season']==x]['Crop'].unique()))\n",
    "    \n",
    "    "
   ]
  },
  {
   "cell_type": "code",
   "execution_count": null,
   "metadata": {},
   "outputs": [],
   "source": [
    "import plotly.graph_objects as go\n",
    "\n",
    "fig = go.Figure(data=[\n",
    "    go.Bar(name='Distinct Crops', x=seasons, y=distinct_crops_in_season_list)\n",
    "])\n",
    "\n",
    "\n",
    "fig.update_layout(\n",
    "    title='Number of Distinct Crops in Each Season',\n",
    "    xaxis_title='Season',\n",
    "    yaxis_title='Number of Distinct Crops',\n",
    "    barmode='group'\n",
    ")\n",
    "\n",
    "\n",
    "fig.show()"
   ]
  },
  {
   "cell_type": "code",
   "execution_count": null,
   "metadata": {},
   "outputs": [],
   "source": [
    "# just doing this because i want to submit this some where and they want graphs in seaborn\n",
    "import seaborn as sns\n",
    "import matplotlib.pyplot as plt\n",
    "import pandas as pd\n",
    "data = pd.DataFrame({\n",
    "    'Season': seasons,\n",
    "    'Distinct Crops': distinct_crops_in_season_list\n",
    "})\n",
    "\n",
    "# Create the bar plot\n",
    "plt.figure(figsize=(10, 6))\n",
    "sns.barplot(x='Season', y='Distinct Crops', data=data, palette='viridis')\n",
    "\n",
    "# Add titles and labels\n",
    "plt.title('Number of Distinct Crops in Each Season')\n",
    "plt.xlabel('Season')\n",
    "plt.ylabel('Number of Distinct Crops')\n",
    "\n",
    "# Show the plot\n",
    "plt.show()"
   ]
  },
  {
   "cell_type": "markdown",
   "metadata": {},
   "source": [
    "## now let analyse crop wise data \n",
    "## there are 124 crops mentioned in data set\n",
    "## rice is a crop that grow in every state\n",
    "## fact found on google - Almost all parts of India are suitable for raising rice during the summer season provided that water is available. "
   ]
  },
  {
   "cell_type": "code",
   "execution_count": null,
   "metadata": {},
   "outputs": [],
   "source": [
    "# now let analyse crop wise data \n",
    "# there are 124 crops mentioned in data set\n",
    "# rice is a crop that grow in every state\n",
    "# fact found on google - Almost all parts of India are suitable for raising rice during the summer season provided that water is available. \n",
    "crop"
   ]
  },
  {
   "cell_type": "code",
   "execution_count": null,
   "metadata": {},
   "outputs": [],
   "source": [
    "# lets figure out which crop grows in most of the states\n",
    "df[df['Crop'] == 'Wheat']['State_Name'].unique()"
   ]
  },
  {
   "cell_type": "code",
   "execution_count": null,
   "metadata": {},
   "outputs": [],
   "source": [
    "total_states_for_each_crop = []\n",
    "for x in crop:\n",
    "    total_states_for_each_crop.append(len(df[df['Crop'] == x]['State_Name'].unique()))\n",
    "    \n",
    "    "
   ]
  },
  {
   "cell_type": "code",
   "execution_count": null,
   "metadata": {},
   "outputs": [],
   "source": [
    "import seaborn as sns\n",
    "import matplotlib.pyplot as plt\n",
    "import pandas as pd\n",
    "\n",
    "\n",
    "crop = df['Crop'].unique()\n",
    "total_states_for_each_crop = [len(df[df['Crop'] == x]['State_Name'].unique()) for x in crop]\n",
    "\n",
    "data = pd.DataFrame({\n",
    "    'Crop': crop,\n",
    "    'Total States': total_states_for_each_crop\n",
    "})\n",
    "\n",
    "top_10_data = data.sort_values(by='Total States', ascending=False).head(50)\n",
    "\n",
    "plt.figure(figsize=(12, 8))\n",
    "sns.barplot(x='Crop', y='Total States', data=top_10_data, palette='viridis')\n",
    "\n",
    "\n",
    "plt.title('Crops by Number of States')\n",
    "plt.xlabel('Crop')\n",
    "plt.ylabel('Total States')\n",
    "plt.xticks(rotation = 90)\n",
    "\n",
    "plt.show()\n"
   ]
  },
  {
   "cell_type": "code",
   "execution_count": null,
   "metadata": {},
   "outputs": [],
   "source": [
    "import plotly.graph_objects as go\n",
    "import pandas as pd\n",
    "\n",
    "crop = df['Crop'].unique()\n",
    "total_states_for_each_crop = [len(df[df['Crop'] == x]['State_Name'].unique()) for x in crop]\n",
    "\n",
    "\n",
    "data = pd.DataFrame({\n",
    "    'Crop': crop,\n",
    "    'Total States': total_states_for_each_crop\n",
    "})\n",
    "\n",
    "\n",
    "top_data = data.sort_values(by='Total States', ascending=False)\n",
    "\n",
    "\n",
    "fig = go.Figure(data=[\n",
    "    go.Bar(\n",
    "        name='Total States',\n",
    "        x=top_data['Crop'],\n",
    "        y=top_data['Total States'],\n",
    "        marker=dict(\n",
    "            color=top_data['Total States'],\n",
    "            colorscale='Viridis', \n",
    "            showscale=True\n",
    "        )\n",
    "    )\n",
    "])\n",
    "\n",
    "fig.update_layout(\n",
    "    title='Top 10 Crops by Number of States',\n",
    "    xaxis_title='Crop',\n",
    "    yaxis_title='Total States',\n",
    "    barmode='group',\n",
    "    width=1500,  \n",
    "    height=400,  \n",
    "    xaxis=dict(\n",
    "        tickangle=90,\n",
    "        tickfont=dict(size=5)  \n",
    "    )\n",
    ")\n",
    "\n",
    "fig.show()\n"
   ]
  },
  {
   "cell_type": "code",
   "execution_count": 88,
   "metadata": {},
   "outputs": [],
   "source": [
    "# which state is mass producer of which product\n",
    "\n",
    "crops_to_be_analysed = list(top_data[:2]['Crop'].values)"
   ]
  },
  {
   "cell_type": "code",
   "execution_count": 89,
   "metadata": {},
   "outputs": [
    {
     "data": {
      "text/plain": [
       "['Rice', 'Sugarcane']"
      ]
     },
     "execution_count": 89,
     "metadata": {},
     "output_type": "execute_result"
    }
   ],
   "source": [
    "crops_to_be_analysed"
   ]
  },
  {
   "cell_type": "markdown",
   "metadata": {},
   "source": []
  },
  {
   "cell_type": "code",
   "execution_count": null,
   "metadata": {},
   "outputs": [],
   "source": [
    "years"
   ]
  },
  {
   "cell_type": "code",
   "execution_count": null,
   "metadata": {},
   "outputs": [],
   "source": [
    "df[(df['Crop'] == 'Arecanut')&(df['Crop_Year']==2000)&(df['State_Name']=='Andhra Pradesh')]['Production'].sum()"
   ]
  },
  {
   "cell_type": "code",
   "execution_count": null,
   "metadata": {},
   "outputs": [],
   "source": [
    "\n",
    "for x in crops_to_be_analysed:\n",
    "    for y in years:\n",
    "        for z in states:\n",
    "            df[(df['Crop'] == x)&(df['Crop_Year']==y)&(df['State_Name']== z)]['Production'].sum()\n",
    "            \n",
    "            \n",
    "    "
   ]
  },
  {
   "cell_type": "code",
   "execution_count": 105,
   "metadata": {},
   "outputs": [
    {
     "data": {
      "application/vnd.plotly.v1+json": {
       "config": {
        "plotlyServerURL": "https://plot.ly"
       },
       "data": [
        {
         "name": "Rice - 2000",
         "type": "bar",
         "x": [
          "West Bengal",
          "Uttar Pradesh",
          "Punjab",
          "Andhra Pradesh",
          "Tamil Nadu",
          "Bihar",
          "Odisha",
          "Telangana ",
          "Assam",
          "Karnataka",
          "Haryana",
          "Chhattisgarh",
          "Maharashtra",
          "Madhya Pradesh",
          "Kerala",
          "Uttarakhand",
          "Tripura",
          "Gujarat",
          "Jammu and Kashmir ",
          "Manipur",
          "Nagaland",
          "Meghalaya",
          "Rajasthan",
          "Arunachal Pradesh",
          "Himachal Pradesh",
          "Mizoram",
          "Puducherry",
          "Andaman and Nicobar Islands",
          "Dadra and Nagar Haveli",
          "Sikkim",
          "Chandigarh",
          "Goa",
          "Jharkhand"
         ],
         "xaxis": "x",
         "y": [
          12428038,
          11679149,
          9154000,
          8040667,
          7217903,
          5444370,
          4613380,
          4417347,
          3998443,
          3846736,
          2695000,
          2369295,
          1929700,
          975274,
          751328,
          588652,
          547520,
          483300,
          415341.80000000005,
          381750,
          233330,
          179042,
          155716,
          132690,
          124893,
          103673,
          103606,
          32184,
          28663,
          21358,
          350,
          0,
          0
         ],
         "yaxis": "y"
        },
        {
         "name": "Rice - 2001",
         "type": "bar",
         "x": [
          "West Bengal",
          "Uttar Pradesh",
          "Punjab",
          "Andhra Pradesh",
          "Odisha",
          "Tamil Nadu",
          "Bihar",
          "Chhattisgarh",
          "Assam",
          "Telangana ",
          "Karnataka",
          "Haryana",
          "Maharashtra",
          "Madhya Pradesh",
          "Gujarat",
          "Kerala",
          "Tripura",
          "Uttarakhand",
          "Jammu and Kashmir ",
          "Manipur",
          "Nagaland",
          "Meghalaya",
          "Rajasthan",
          "Himachal Pradesh",
          "Arunachal Pradesh",
          "Mizoram",
          "Puducherry",
          "Dadra and Nagar Haveli",
          "Andaman and Nicobar Islands",
          "Sikkim",
          "Chandigarh",
          "Goa",
          "Jharkhand"
         ],
         "xaxis": "x2",
         "y": [
          13815548,
          12855857,
          8816000,
          7823692,
          7220000,
          6583630,
          5301221,
          5073721,
          3854248,
          3566099,
          3234045,
          2726000,
          2651200,
          1685799,
          1040200,
          703504,
          587390,
          579517,
          422298,
          387270,
          237000,
          188971,
          180048,
          137418,
          134621,
          105713,
          66868,
          31035,
          27333,
          21372,
          250,
          0,
          0
         ],
         "yaxis": "y2"
        },
        {
         "name": "Rice - 2002",
         "type": "bar",
         "x": [
          "West Bengal",
          "Uttar Pradesh",
          "Punjab",
          "Andhra Pradesh",
          "Bihar",
          "Assam",
          "Tamil Nadu",
          "Odisha",
          "Chhattisgarh",
          "Haryana",
          "Karnataka",
          "Telangana ",
          "Maharashtra",
          "Jharkhand",
          "Madhya Pradesh",
          "Kerala",
          "Tripura",
          "Gujarat",
          "Uttarakhand",
          "Jammu and Kashmir ",
          "Manipur",
          "Nagaland",
          "Meghalaya",
          "Arunachal Pradesh",
          "Mizoram",
          "Himachal Pradesh",
          "Rajasthan",
          "Puducherry",
          "Dadra and Nagar Haveli",
          "Andaman and Nicobar Islands",
          "Sikkim",
          "Chandigarh",
          "Goa"
         ],
         "xaxis": "x3",
         "y": [
          14389238,
          9596346,
          8880000,
          5315408,
          5085566,
          3737802,
          3577108,
          3278000,
          2634853,
          2468000,
          2390085,
          2011378,
          1854100,
          1063091.01,
          1024930,
          688859,
          602410,
          596400,
          523175,
          421457,
          335700,
          223400,
          190937,
          152500,
          109205,
          85653,
          67932,
          57514,
          38321,
          32111.66,
          21220,
          700,
          0
         ],
         "yaxis": "y3"
        },
        {
         "name": "Rice - 2003",
         "type": "bar",
         "x": [
          "West Bengal",
          "Uttar Pradesh",
          "Punjab",
          "Odisha",
          "Andhra Pradesh",
          "Bihar",
          "Chhattisgarh",
          "Assam",
          "Tamil Nadu",
          "Telangana ",
          "Maharashtra",
          "Haryana",
          "Karnataka",
          "Jharkhand",
          "Madhya Pradesh",
          "Gujarat",
          "Tripura",
          "Kerala",
          "Uttarakhand",
          "Jammu and Kashmir ",
          "Manipur",
          "Nagaland",
          "Meghalaya",
          "Rajasthan",
          "Arunachal Pradesh",
          "Himachal Pradesh",
          "Mizoram",
          "Puducherry",
          "Andaman and Nicobar Islands",
          "Dadra and Nagar Haveli",
          "Sikkim",
          "Chandigarh",
          "Goa"
         ],
         "xaxis": "x4",
         "y": [
          14662239,
          12494939,
          9656000,
          6801000,
          6054099,
          5718627,
          5567644,
          3880934,
          3222776,
          2898703,
          2834100,
          2790000,
          2550399,
          1943353.1,
          1743430,
          1277000,
          616820,
          570045,
          541957,
          504797,
          381240,
          222990,
          200703,
          164858,
          154589,
          120624,
          114630,
          67003,
          30850.87,
          27933,
          21190,
          500,
          0
         ],
         "yaxis": "y4"
        },
        {
         "name": "Rice - 2004",
         "type": "bar",
         "x": [
          "West Bengal",
          "Uttar Pradesh",
          "Punjab",
          "Andhra Pradesh",
          "Odisha",
          "Tamil Nadu",
          "Chhattisgarh",
          "Karnataka",
          "Assam",
          "Haryana",
          "Bihar",
          "Telangana ",
          "Maharashtra",
          "Madhya Pradesh",
          "Gujarat",
          "Jharkhand",
          "Kerala",
          "Tripura",
          "Uttarakhand",
          "Jammu and Kashmir ",
          "Manipur",
          "Nagaland",
          "Meghalaya",
          "Rajasthan",
          "Goa",
          "Arunachal Pradesh",
          "Himachal Pradesh",
          "Mizoram",
          "Puducherry",
          "Andaman and Nicobar Islands",
          "Dadra and Nagar Haveli",
          "Sikkim",
          "Chandigarh"
         ],
         "xaxis": "x5",
         "y": [
          14884889,
          10749989,
          10437000,
          7392678,
          6536000,
          5061622,
          4586818,
          3707119.01,
          3470750,
          3010000,
          2472156,
          2208367,
          2147200,
          1302615,
          1196500,
          1006373.0400000002,
          667105,
          602221,
          560243,
          492732,
          435930,
          261750,
          193719,
          150423,
          145174,
          134950,
          109129,
          107660,
          61036,
          29192.23,
          29171,
          21610,
          400
         ],
         "yaxis": "y5"
        },
        {
         "name": "Rice - 2005",
         "type": "bar",
         "x": [
          "West Bengal",
          "Uttar Pradesh",
          "Punjab",
          "Andhra Pradesh",
          "Odisha",
          "Chhattisgarh",
          "Tamil Nadu",
          "Telangana ",
          "Karnataka",
          "Bihar",
          "Assam",
          "Haryana",
          "Maharashtra",
          "Madhya Pradesh",
          "Gujarat",
          "Kerala",
          "Jharkhand",
          "Tripura",
          "Uttarakhand",
          "Jammu and Kashmir ",
          "Manipur",
          "Nagaland",
          "Meghalaya",
          "Rajasthan",
          "Goa",
          "Arunachal Pradesh",
          "Himachal Pradesh",
          "Mizoram",
          "Puducherry",
          "Dadra and Nagar Haveli",
          "Andaman and Nicobar Islands",
          "Sikkim",
          "Chandigarh"
         ],
         "xaxis": "x6",
         "y": [
          14510742,
          11119095,
          10193000,
          7288721,
          6858000,
          5267537,
          5209433,
          4414903,
          3999246,
          3709285,
          3552438,
          3194000,
          2665900,
          1687475,
          1283600,
          629987,
          614026.71,
          602947,
          569166,
          556774,
          386070,
          263100,
          208277,
          153074,
          147236,
          146191,
          112139,
          107740,
          53617,
          33643,
          25883.04,
          23690,
          250
         ],
         "yaxis": "y6"
        },
        {
         "name": "Rice - 2006",
         "type": "bar",
         "x": [
          "West Bengal",
          "Uttar Pradesh",
          "Punjab",
          "Andhra Pradesh",
          "Odisha",
          "Tamil Nadu",
          "Chhattisgarh",
          "Bihar",
          "Telangana ",
          "Karnataka",
          "Haryana",
          "Assam",
          "Maharashtra",
          "Jharkhand",
          "Madhya Pradesh",
          "Gujarat",
          "Kerala",
          "Tripura",
          "Uttarakhand",
          "Manipur",
          "Nagaland",
          "Meghalaya",
          "Rajasthan",
          "Arunachal Pradesh",
          "Goa",
          "Himachal Pradesh",
          "Puducherry",
          "Dadra and Nagar Haveli",
          "Mizoram",
          "Andaman and Nicobar Islands",
          "Sikkim",
          "Chandigarh",
          "Jammu and Kashmir "
         ],
         "xaxis": "x7",
         "y": [
          14745892,
          11123613,
          10138000,
          7616392,
          6823000,
          6610607,
          5441525,
          5027947,
          4255738,
          3645526,
          3371000,
          2916014,
          2571700,
          1429944.08,
          1389269,
          1141200,
          641575,
          628200,
          571336,
          389170,
          263520,
          200209,
          169823,
          144635,
          128945,
          123485,
          60808,
          34515,
          29464,
          21535.26,
          21450,
          250,
          0
         ],
         "yaxis": "y7"
        },
        {
         "name": "Rice - 2010",
         "type": "bar",
         "x": [
          "West Bengal",
          "Uttar Pradesh",
          "Punjab",
          "Andhra Pradesh",
          "Odisha",
          "Chhattisgarh",
          "Telangana ",
          "Tamil Nadu",
          "Assam",
          "Karnataka",
          "Haryana",
          "Bihar",
          "Maharashtra",
          "Madhya Pradesh",
          "Gujarat",
          "Tripura",
          "Uttarakhand",
          "Kerala",
          "Nagaland",
          "Rajasthan",
          "Meghalaya",
          "Arunachal Pradesh",
          "Himachal Pradesh",
          "Goa",
          "Puducherry",
          "Andaman and Nicobar Islands",
          "Sikkim",
          "Dadra and Nagar Haveli",
          "Chandigarh",
          "Jammu and Kashmir ",
          "Jharkhand",
          "Manipur",
          "Mizoram"
         ],
         "xaxis": "x8",
         "y": [
          13389610,
          11992299,
          10837000,
          7883078,
          6824000,
          6637737,
          6536235,
          5792415,
          5032529,
          4473972,
          3465000,
          3112618,
          2624900,
          1766596,
          1665800,
          702473,
          545586,
          522738.1,
          381360,
          265545,
          207021,
          155993,
          128917,
          114994,
          51960,
          23916,
          20973,
          20839,
          103,
          0,
          0,
          0,
          0
         ],
         "yaxis": "y8"
        },
        {
         "name": "Rice - 1997",
         "type": "bar",
         "x": [
          "West Bengal",
          "Uttar Pradesh",
          "Punjab",
          "Tamil Nadu",
          "Andhra Pradesh",
          "Bihar",
          "Karnataka",
          "Haryana",
          "Maharashtra",
          "Assam",
          "Telangana ",
          "Gujarat",
          "Rajasthan",
          "Nagaland",
          "Meghalaya",
          "Arunachal Pradesh",
          "Mizoram",
          "Goa",
          "Jammu and Kashmir ",
          "Manipur",
          "Andaman and Nicobar Islands",
          "Chandigarh",
          "Chhattisgarh",
          "Dadra and Nagar Haveli",
          "Himachal Pradesh",
          "Jharkhand",
          "Kerala",
          "Madhya Pradesh",
          "Odisha",
          "Puducherry",
          "Sikkim",
          "Tripura",
          "Uttarakhand"
         ],
         "xaxis": "x9",
         "y": [
          13236590,
          11677947,
          7904000,
          6893730,
          6436200,
          5395078,
          3212602,
          2556000,
          2330646,
          2255230,
          2073800,
          1042300,
          190200,
          188250,
          150101,
          129505,
          110573,
          59916,
          5488,
          348,
          0,
          0,
          0,
          0,
          0,
          0,
          0,
          0,
          0,
          0,
          0,
          0,
          0
         ],
         "yaxis": "y9"
        },
        {
         "name": "Rice - 1998",
         "type": "bar",
         "x": [
          "West Bengal",
          "Uttar Pradesh",
          "Tamil Nadu",
          "Punjab",
          "Andhra Pradesh",
          "Odisha",
          "Bihar",
          "Telangana ",
          "Karnataka",
          "Assam",
          "Maharashtra",
          "Haryana",
          "Madhya Pradesh",
          "Gujarat",
          "Kerala",
          "Tripura",
          "Manipur",
          "Rajasthan",
          "Nagaland",
          "Meghalaya",
          "Himachal Pradesh",
          "Arunachal Pradesh",
          "Mizoram",
          "Puducherry",
          "Dadra and Nagar Haveli",
          "Sikkim",
          "Chandigarh",
          "Andaman and Nicobar Islands",
          "Chhattisgarh",
          "Goa",
          "Jammu and Kashmir ",
          "Jharkhand",
          "Uttarakhand"
         ],
         "xaxis": "x10",
         "y": [
          13316452,
          10826635,
          8215286,
          7940000,
          7687800,
          5391322,
          4670650,
          4190200,
          3656811,
          3254833,
          2467600,
          2432000,
          1089500,
          1015900,
          726743,
          491430,
          382190,
          205488,
          205000,
          149742,
          116997,
          114116,
          110813,
          56601,
          24793,
          21957,
          360,
          0,
          0,
          0,
          0,
          0,
          0
         ],
         "yaxis": "y10"
        },
        {
         "name": "Rice - 1999",
         "type": "bar",
         "x": [
          "West Bengal",
          "Uttar Pradesh",
          "Punjab",
          "Andhra Pradesh",
          "Tamil Nadu",
          "Odisha",
          "Assam",
          "Karnataka",
          "Telangana ",
          "Haryana",
          "Maharashtra",
          "Madhya Pradesh",
          "Gujarat",
          "Bihar",
          "Kerala",
          "Tripura",
          "Jammu and Kashmir ",
          "Manipur",
          "Rajasthan",
          "Nagaland",
          "Meghalaya",
          "Arunachal Pradesh",
          "Himachal Pradesh",
          "Mizoram",
          "Puducherry",
          "Dadra and Nagar Haveli",
          "Sikkim",
          "Chandigarh",
          "Andaman and Nicobar Islands",
          "Chhattisgarh",
          "Goa",
          "Jharkhand",
          "Uttarakhand"
         ],
         "xaxis": "x11",
         "y": [
          13759680,
          12632709,
          8716000,
          7362441,
          7225373,
          5187040,
          3860648,
          3716730,
          3275474,
          2563000,
          2549300,
          2004938,
          984900,
          945254,
          770686,
          505680,
          391528.60000000003,
          364980,
          252598,
          222000,
          170733,
          134807,
          120365,
          88397,
          59433,
          28692,
          23439,
          240,
          0,
          0,
          0,
          0,
          0
         ],
         "yaxis": "y11"
        },
        {
         "name": "Rice - 2007",
         "type": "bar",
         "x": [
          "West Bengal",
          "Uttar Pradesh",
          "Punjab",
          "Andhra Pradesh",
          "Odisha",
          "Chhattisgarh",
          "Tamil Nadu",
          "Bihar",
          "Telangana ",
          "Karnataka",
          "Haryana",
          "Assam",
          "Gujarat",
          "Jharkhand",
          "Madhya Pradesh",
          "Tripura",
          "Uttarakhand",
          "Jammu and Kashmir ",
          "Kerala",
          "Manipur",
          "Nagaland",
          "Rajasthan",
          "Meghalaya",
          "Arunachal Pradesh",
          "Goa",
          "Himachal Pradesh",
          "Puducherry",
          "Maharashtra",
          "Dadra and Nagar Haveli",
          "Sikkim",
          "Mizoram",
          "Chandigarh",
          "Andaman and Nicobar Islands"
         ],
         "xaxis": "x12",
         "y": [
          14719520,
          11780112,
          10489000,
          8880000,
          7540000,
          5634972,
          5039954,
          4458764,
          4444000,
          3868515,
          3606000,
          3318608,
          1474200,
          1470624,
          1325175,
          640424,
          565067,
          561355,
          528488,
          406150,
          311300,
          259657,
          200077,
          158146,
          121679,
          121453,
          53324,
          29128,
          23700,
          19480,
          15688,
          250,
          0
         ],
         "yaxis": "y12"
        },
        {
         "name": "Rice - 2008",
         "type": "bar",
         "x": [
          "West Bengal",
          "Uttar Pradesh",
          "Punjab",
          "Andhra Pradesh",
          "Odisha",
          "Bihar",
          "Telangana ",
          "Tamil Nadu",
          "Chhattisgarh",
          "Karnataka",
          "Assam",
          "Haryana",
          "Maharashtra",
          "Madhya Pradesh",
          "Gujarat",
          "Tripura",
          "Kerala",
          "Uttarakhand",
          "Nagaland",
          "Rajasthan",
          "Meghalaya",
          "Arunachal Pradesh",
          "Goa",
          "Himachal Pradesh",
          "Mizoram",
          "Puducherry",
          "Dadra and Nagar Haveli",
          "Sikkim",
          "Chandigarh",
          "Andaman and Nicobar Islands",
          "Jammu and Kashmir ",
          "Jharkhand",
          "Manipur"
         ],
         "xaxis": "x13",
         "y": [
          15037240,
          13097031,
          11000000,
          8880586,
          6812000,
          5589982,
          5360547,
          5183385,
          4707499,
          4031538.0700000003,
          4008435,
          3299000,
          2234210,
          1571103,
          1302900,
          627175,
          590241,
          568321,
          345090,
          241082,
          203862,
          164538,
          121867,
          118277,
          68917,
          50716,
          23400,
          22230,
          100,
          0,
          0,
          0,
          0
         ],
         "yaxis": "y13"
        },
        {
         "name": "Rice - 2009",
         "type": "bar",
         "x": [
          "West Bengal",
          "Punjab",
          "Uttar Pradesh",
          "Andhra Pradesh",
          "Odisha",
          "Tamil Nadu",
          "Assam",
          "Chhattisgarh",
          "Karnataka",
          "Bihar",
          "Haryana",
          "Telangana ",
          "Maharashtra",
          "Madhya Pradesh",
          "Gujarat",
          "Tripura",
          "Kerala",
          "Uttarakhand",
          "Nagaland",
          "Rajasthan",
          "Meghalaya",
          "Arunachal Pradesh",
          "Goa",
          "Mizoram",
          "Puducherry",
          "Sikkim",
          "Dadra and Nagar Haveli",
          "Chandigarh",
          "Andaman and Nicobar Islands",
          "Himachal Pradesh",
          "Jammu and Kashmir ",
          "Jharkhand",
          "Manipur"
         ],
         "xaxis": "x14",
         "y": [
          14340605,
          11236000,
          10776504,
          7569071,
          6913000,
          5665258,
          4408424,
          4347316,
          3877404.71,
          3640210,
          3628000,
          3269196,
          2137114,
          1355660,
          1293000,
          640010,
          598339,
          591016,
          240310,
          228284,
          204129,
          143894.6,
          100605,
          66131,
          52330,
          20930,
          13500,
          100,
          0,
          0,
          0,
          0,
          0
         ],
         "yaxis": "y14"
        },
        {
         "name": "Rice - 2011",
         "type": "bar",
         "x": [
          "West Bengal",
          "Uttar Pradesh",
          "Punjab",
          "Bihar",
          "Andhra Pradesh",
          "Tamil Nadu",
          "Chhattisgarh",
          "Odisha",
          "Telangana ",
          "Assam",
          "Karnataka",
          "Haryana",
          "Maharashtra",
          "Madhya Pradesh",
          "Gujarat",
          "Tripura",
          "Uttarakhand",
          "Kerala",
          "Nagaland",
          "Meghalaya",
          "Arunachal Pradesh",
          "Goa",
          "Puducherry",
          "Sikkim",
          "Dadra and Nagar Haveli",
          "Andaman and Nicobar Islands",
          "Chandigarh",
          "Himachal Pradesh",
          "Jammu and Kashmir ",
          "Jharkhand",
          "Manipur",
          "Mizoram",
          "Rajasthan"
         ],
         "xaxis": "x15",
         "y": [
          14605766,
          14022392,
          10542000,
          8237971,
          7744175,
          7458657,
          6300825,
          5806000,
          5147617,
          4715678,
          4181619,
          3574300,
          2848900,
          2273045,
          1789700,
          718304,
          589764,
          568993.48,
          382380,
          222731,
          159543,
          121991,
          42114,
          20880,
          18552,
          0,
          0,
          0,
          0,
          0,
          0,
          0,
          0
         ],
         "yaxis": "y15"
        },
        {
         "name": "Rice - 2012",
         "type": "bar",
         "x": [
          "West Bengal",
          "Uttar Pradesh",
          "Punjab",
          "Odisha",
          "Bihar",
          "Chhattisgarh",
          "Andhra Pradesh",
          "Assam",
          "Tamil Nadu",
          "Haryana",
          "Karnataka",
          "Madhya Pradesh",
          "Maharashtra",
          "Gujarat",
          "Tripura",
          "Uttarakhand",
          "Kerala",
          "Nagaland",
          "Meghalaya",
          "Arunachal Pradesh",
          "Goa",
          "Puducherry",
          "Dadra and Nagar Haveli",
          "Sikkim",
          "Andaman and Nicobar Islands",
          "Chandigarh",
          "Himachal Pradesh",
          "Jammu and Kashmir ",
          "Jharkhand",
          "Manipur",
          "Mizoram",
          "Rajasthan",
          "Telangana "
         ],
         "xaxis": "x16",
         "y": [
          14946735,
          14415939,
          11390000,
          9496000,
          8322010,
          7848401,
          6862854,
          5120052,
          4050334,
          3941000,
          3364379,
          3106146,
          3078040,
          1497300,
          713222,
          606891,
          508299,
          405180,
          265653,
          174662,
          122821,
          46519,
          26704,
          21340,
          0,
          0,
          0,
          0,
          0,
          0,
          0,
          0,
          0
         ],
         "yaxis": "y16"
        },
        {
         "name": "Rice - 2013",
         "type": "bar",
         "x": [
          "West Bengal",
          "Uttar Pradesh",
          "Punjab",
          "Andhra Pradesh",
          "Odisha",
          "Tamil Nadu",
          "Chhattisgarh",
          "Bihar",
          "Telangana ",
          "Assam",
          "Karnataka",
          "Madhya Pradesh",
          "Maharashtra",
          "Tripura",
          "Uttarakhand",
          "Kerala",
          "Nagaland",
          "Arunachal Pradesh",
          "Meghalaya",
          "Goa",
          "Puducherry",
          "Dadra and Nagar Haveli",
          "Sikkim",
          "Andaman and Nicobar Islands",
          "Chandigarh",
          "Gujarat",
          "Haryana",
          "Himachal Pradesh",
          "Jammu and Kashmir ",
          "Jharkhand",
          "Manipur",
          "Mizoram",
          "Rajasthan"
         ],
         "xaxis": "x17",
         "y": [
          15376869,
          14635836,
          11267000,
          7993425,
          7610000,
          7115195,
          7102729,
          6649589,
          6581090,
          5193379,
          4052599,
          3321724,
          3108290,
          711831,
          593068,
          564325,
          429640,
          184104,
          160016,
          126511,
          49792,
          25497,
          20260,
          0,
          0,
          0,
          0,
          0,
          0,
          0,
          0,
          0,
          0
         ],
         "yaxis": "y17"
        },
        {
         "name": "Rice - 2014",
         "type": "bar",
         "x": [
          "Andhra Pradesh",
          "West Bengal",
          "Uttar Pradesh",
          "Punjab",
          "Odisha",
          "Bihar",
          "Chhattisgarh",
          "Assam",
          "Telangana ",
          "Karnataka",
          "Maharashtra",
          "Uttarakhand",
          "Tripura",
          "Kerala",
          "Nagaland",
          "Jammu and Kashmir ",
          "Meghalaya",
          "Arunachal Pradesh",
          "Goa",
          "Puducherry",
          "Dadra and Nagar Haveli",
          "Sikkim",
          "Andaman and Nicobar Islands",
          "Chandigarh",
          "Gujarat",
          "Haryana",
          "Himachal Pradesh",
          "Jharkhand",
          "Madhya Pradesh",
          "Manipur",
          "Mizoram",
          "Rajasthan",
          "Tamil Nadu"
         ],
         "xaxis": "x18",
         "y": [
          16911168,
          15927196,
          13316967,
          11107000,
          9840000,
          8241624,
          7977746,
          5222645,
          4544982,
          4027747,
          2946600,
          1201720,
          746954,
          562092,
          454190,
          344823,
          235551,
          189992,
          120505,
          52717,
          25907,
          20070,
          0,
          0,
          0,
          0,
          0,
          0,
          0,
          0,
          0,
          0,
          0
         ],
         "yaxis": "y18"
        },
        {
         "name": "Rice - 2015",
         "type": "bar",
         "x": [
          "Odisha",
          "Sikkim",
          "Andaman and Nicobar Islands",
          "Andhra Pradesh",
          "Arunachal Pradesh",
          "Assam",
          "Bihar",
          "Chandigarh",
          "Chhattisgarh",
          "Dadra and Nagar Haveli",
          "Goa",
          "Gujarat",
          "Haryana",
          "Himachal Pradesh",
          "Jammu and Kashmir ",
          "Jharkhand",
          "Karnataka",
          "Kerala",
          "Madhya Pradesh",
          "Maharashtra",
          "Manipur",
          "Meghalaya",
          "Mizoram",
          "Nagaland",
          "Puducherry",
          "Punjab",
          "Rajasthan",
          "Tamil Nadu",
          "Telangana ",
          "Tripura",
          "Uttar Pradesh",
          "Uttarakhand",
          "West Bengal"
         ],
         "xaxis": "x19",
         "y": [
          5874000,
          19687,
          0,
          0,
          0,
          0,
          0,
          0,
          0,
          0,
          0,
          0,
          0,
          0,
          0,
          0,
          0,
          0,
          0,
          0,
          0,
          0,
          0,
          0,
          0,
          0,
          0,
          0,
          0,
          0,
          0,
          0,
          0
         ],
         "yaxis": "y19"
        },
        {
         "name": "Sugarcane - 2000",
         "type": "bar",
         "x": [
          "Uttar Pradesh",
          "Maharashtra",
          "Karnataka",
          "Tamil Nadu",
          "Andhra Pradesh",
          "Gujarat",
          "Haryana",
          "Punjab",
          "Uttarakhand",
          "Telangana ",
          "Bihar",
          "Madhya Pradesh",
          "West Bengal",
          "Assam",
          "Odisha",
          "Rajasthan",
          "Kerala",
          "Puducherry",
          "Dadra and Nagar Haveli",
          "Tripura",
          "Nagaland",
          "Manipur",
          "Arunachal Pradesh",
          "Chhattisgarh",
          "Himachal Pradesh",
          "Mizoram",
          "Andaman and Nicobar Islands",
          "Jammu and Kashmir ",
          "Meghalaya",
          "Chandigarh",
          "Goa",
          "Jharkhand",
          "Sikkim"
         ],
         "xaxis": "x20",
         "y": [
          106067503,
          49568700,
          42923496,
          34062855,
          13558629,
          12689000,
          8170000,
          7770000,
          6831440,
          4131502,
          3985577,
          1656840,
          1465550,
          987696,
          963915.1999999998,
          561338,
          275550,
          200413,
          92430,
          54100,
          35000,
          24170,
          14358,
          8628,
          7854.1,
          6361,
          3738,
          417,
          237,
          0,
          0,
          0,
          0
         ],
         "yaxis": "y20"
        },
        {
         "name": "Sugarcane - 2001",
         "type": "bar",
         "x": [
          "Uttar Pradesh",
          "Maharashtra",
          "Karnataka",
          "Tamil Nadu",
          "Andhra Pradesh",
          "Gujarat",
          "Haryana",
          "Punjab",
          "Uttarakhand",
          "Bihar",
          "Telangana ",
          "Madhya Pradesh",
          "West Bengal",
          "Assam",
          "Odisha",
          "Rajasthan",
          "Kerala",
          "Puducherry",
          "Dadra and Nagar Haveli",
          "Tripura",
          "Nagaland",
          "Arunachal Pradesh",
          "Himachal Pradesh",
          "Mizoram",
          "Chhattisgarh",
          "Andaman and Nicobar Islands",
          "Jammu and Kashmir ",
          "Meghalaya",
          "Chandigarh",
          "Goa",
          "Jharkhand",
          "Manipur",
          "Sikkim"
         ],
         "xaxis": "x21",
         "y": [
          117981573,
          45139800,
          33016618,
          32614900,
          13383359,
          12458000,
          9270000,
          9250000,
          6958951,
          5818262,
          4698530,
          1612840,
          1513656,
          1011398,
          644005.1000000001,
          432127,
          269780,
          197412,
          89110,
          52700,
          48000,
          18920,
          11219,
          9359,
          9046,
          2380,
          436,
          226,
          0,
          0,
          0,
          0,
          0
         ],
         "yaxis": "y21"
        },
        {
         "name": "Sugarcane - 2002",
         "type": "bar",
         "x": [
          "Uttar Pradesh",
          "Maharashtra",
          "Karnataka",
          "Tamil Nadu",
          "Gujarat",
          "Andhra Pradesh",
          "Haryana",
          "Punjab",
          "Uttarakhand",
          "Bihar",
          "Telangana ",
          "Madhya Pradesh",
          "West Bengal",
          "Assam",
          "Odisha",
          "Rajasthan",
          "Kerala",
          "Puducherry",
          "Dadra and Nagar Haveli",
          "Nagaland",
          "Tripura",
          "Arunachal Pradesh",
          "Andaman and Nicobar Islands",
          "Manipur",
          "Chhattisgarh",
          "Mizoram",
          "Himachal Pradesh",
          "Jammu and Kashmir ",
          "Meghalaya",
          "Chandigarh",
          "Goa",
          "Jharkhand",
          "Sikkim"
         ],
         "xaxis": "x22",
         "y": [
          120948041,
          42617000,
          32485308,
          24165390,
          14069000,
          11755368,
          10650000,
          9110000,
          7362658,
          4520510,
          3631850,
          1560420,
          1281276,
          916076,
          753193.2000000001,
          421716,
          312830,
          209496,
          122960,
          80000,
          56203,
          15284,
          13800,
          10450,
          9967,
          7443,
          4649,
          475,
          219,
          0,
          0,
          0,
          0
         ],
         "yaxis": "y22"
        },
        {
         "name": "Sugarcane - 2003",
         "type": "bar",
         "x": [
          "Uttar Pradesh",
          "Maharashtra",
          "Tamil Nadu",
          "Karnataka",
          "Gujarat",
          "Andhra Pradesh",
          "Haryana",
          "Uttarakhand",
          "Punjab",
          "Bihar",
          "Telangana ",
          "Madhya Pradesh",
          "West Bengal",
          "Assam",
          "Odisha",
          "Rajasthan",
          "Kerala",
          "Puducherry",
          "Nagaland",
          "Dadra and Nagar Haveli",
          "Tripura",
          "Mizoram",
          "Arunachal Pradesh",
          "Chhattisgarh",
          "Manipur",
          "Andaman and Nicobar Islands",
          "Jharkhand",
          "Jammu and Kashmir ",
          "Meghalaya",
          "Chandigarh",
          "Goa",
          "Himachal Pradesh",
          "Sikkim"
         ],
         "xaxis": "x23",
         "y": [
          117566725,
          25668400,
          19529277,
          16015440,
          12669000,
          11515819,
          9280000,
          7023220,
          6620000,
          4285888,
          3554005,
          1870120,
          1252628,
          981360,
          858094.4,
          309908,
          290980,
          146675,
          128890,
          96375,
          47510,
          36174,
          15150,
          13290,
          10780,
          2879.52,
          965.56,
          567,
          228,
          0,
          0,
          0,
          0
         ],
         "yaxis": "y23"
        },
        {
         "name": "Sugarcane - 2004",
         "type": "bar",
         "x": [
          "Uttar Pradesh",
          "Tamil Nadu",
          "Maharashtra",
          "Gujarat",
          "Andhra Pradesh",
          "Haryana",
          "Uttarakhand",
          "Punjab",
          "Bihar",
          "Telangana ",
          "Madhya Pradesh",
          "West Bengal",
          "Odisha",
          "Assam",
          "Rajasthan",
          "Kerala",
          "Nagaland",
          "Dadra and Nagar Haveli",
          "Puducherry",
          "Goa",
          "Tripura",
          "Chhattisgarh",
          "Arunachal Pradesh",
          "Jharkhand",
          "Manipur",
          "Andaman and Nicobar Islands",
          "Meghalaya",
          "Chandigarh",
          "Himachal Pradesh",
          "Jammu and Kashmir ",
          "Karnataka",
          "Mizoram",
          "Sikkim"
         ],
         "xaxis": "x24",
         "y": [
          121755620,
          24457244,
          23913700,
          14558000,
          12701367,
          8230000,
          6358655,
          5170000,
          4111722,
          3037805,
          1794420,
          1033235,
          926085.3000000002,
          883925,
          276642,
          154300,
          142100,
          120880,
          115690,
          60583,
          50413,
          16450,
          14132,
          13957.57,
          9800,
          1560,
          225,
          0,
          0,
          0,
          0,
          0,
          0
         ],
         "yaxis": "y24"
        },
        {
         "name": "Sugarcane - 2005",
         "type": "bar",
         "x": [
          "Uttar Pradesh",
          "Maharashtra",
          "Tamil Nadu",
          "Karnataka",
          "Gujarat",
          "Andhra Pradesh",
          "Haryana",
          "Uttarakhand",
          "Punjab",
          "Telangana ",
          "Bihar",
          "Madhya Pradesh",
          "West Bengal",
          "Odisha",
          "Assam",
          "Rajasthan",
          "Puducherry",
          "Nagaland",
          "Dadra and Nagar Haveli",
          "Kerala",
          "Goa",
          "Mizoram",
          "Tripura",
          "Himachal Pradesh",
          "Chhattisgarh",
          "Arunachal Pradesh",
          "Andaman and Nicobar Islands",
          "Manipur",
          "Jammu and Kashmir ",
          "Jharkhand",
          "Meghalaya",
          "Chandigarh",
          "Sikkim"
         ],
         "xaxis": "x25",
         "y": [
          125469871,
          38813700,
          35113269,
          19647650,
          17786000,
          13236997,
          8310000,
          6635715,
          5241000,
          4419398,
          4240463,
          2236980,
          1247713,
          1073008.2999999998,
          871219,
          482634,
          299000,
          210880,
          122480,
          91650,
          55867,
          45953,
          43334,
          25094,
          18562,
          16181,
          2448.2,
          2290,
          753.0999999999999,
          537.88,
          219,
          0,
          0
         ],
         "yaxis": "y25"
        },
        {
         "name": "Sugarcane - 2006",
         "type": "bar",
         "x": [
          "Uttar Pradesh",
          "Tamil Nadu",
          "Karnataka",
          "Andhra Pradesh",
          "Gujarat",
          "Haryana",
          "Uttarakhand",
          "Telangana ",
          "Madhya Pradesh",
          "Odisha",
          "West Bengal",
          "Assam",
          "Rajasthan",
          "Puducherry",
          "Nagaland",
          "Dadra and Nagar Haveli",
          "Kerala",
          "Himachal Pradesh",
          "Goa",
          "Tripura",
          "Jharkhand",
          "Chhattisgarh",
          "Arunachal Pradesh",
          "Manipur",
          "Mizoram",
          "Andaman and Nicobar Islands",
          "Meghalaya",
          "Bihar",
          "Chandigarh",
          "Jammu and Kashmir ",
          "Maharashtra",
          "Punjab",
          "Sikkim"
         ],
         "xaxis": "x26",
         "y": [
          133949379,
          48037332,
          23641948,
          16805897,
          16554000,
          9651000,
          7267238,
          4885741,
          2692260,
          1274370.5999999999,
          1266705,
          1055337,
          628963,
          383706,
          233850,
          93360,
          65790,
          59184,
          58279,
          42373,
          26102,
          20316,
          16843,
          16660,
          12188,
          2500,
          239,
          0,
          0,
          0,
          0,
          0,
          0
         ],
         "yaxis": "y26"
        },
        {
         "name": "Sugarcane - 2010",
         "type": "bar",
         "x": [
          "Uttar Pradesh",
          "Maharashtra",
          "Karnataka",
          "Tamil Nadu",
          "Gujarat",
          "Andhra Pradesh",
          "Bihar",
          "Uttarakhand",
          "Telangana ",
          "Madhya Pradesh",
          "West Bengal",
          "Assam",
          "Odisha",
          "Haryana",
          "Rajasthan",
          "Puducherry",
          "Kerala",
          "Nagaland",
          "Goa",
          "Tripura",
          "Himachal Pradesh",
          "Dadra and Nagar Haveli",
          "Arunachal Pradesh",
          "Chhattisgarh",
          "Andaman and Nicobar Islands",
          "Meghalaya",
          "Chandigarh",
          "Jammu and Kashmir ",
          "Jharkhand",
          "Manipur",
          "Mizoram",
          "Punjab",
          "Sikkim"
         ],
         "xaxis": "x27",
         "y": [
          120544784,
          85691500,
          42276713,
          34251796,
          13763000,
          11876398,
          11827664,
          6235474,
          3066057,
          1960980,
          1134059,
          1076332,
          902697.3,
          604000,
          369354,
          277683,
          271844.64,
          184920,
          49109,
          46481,
          38253,
          32800,
          28974,
          18456,
          1332.95,
          180,
          0,
          0,
          0,
          0,
          0,
          0,
          0
         ],
         "yaxis": "y27"
        },
        {
         "name": "Sugarcane - 1997",
         "type": "bar",
         "x": [
          "Tamil Nadu",
          "Uttar Pradesh",
          "Karnataka",
          "Gujarat",
          "Andhra Pradesh",
          "Haryana",
          "Punjab",
          "Bihar",
          "Telangana ",
          "West Bengal",
          "Assam",
          "Rajasthan",
          "Odisha",
          "Maharashtra",
          "Arunachal Pradesh",
          "Mizoram",
          "Meghalaya",
          "Manipur",
          "Andaman and Nicobar Islands",
          "Chandigarh",
          "Chhattisgarh",
          "Dadra and Nagar Haveli",
          "Goa",
          "Himachal Pradesh",
          "Jammu and Kashmir ",
          "Jharkhand",
          "Kerala",
          "Madhya Pradesh",
          "Nagaland",
          "Puducherry",
          "Sikkim",
          "Tripura",
          "Uttarakhand"
         ],
         "xaxis": "x28",
         "y": [
          307019000,
          114326591,
          28999269,
          11832000,
          11028300,
          7500000,
          7150000,
          4862145,
          2925000,
          1818700,
          1287451,
          1154200,
          1144012,
          158866,
          15806,
          7488,
          225,
          2,
          0,
          0,
          0,
          0,
          0,
          0,
          0,
          0,
          0,
          0,
          0,
          0,
          0,
          0,
          0
         ],
         "yaxis": "y28"
        },
        {
         "name": "Sugarcane - 1998",
         "type": "bar",
         "x": [
          "Uttar Pradesh",
          "Maharashtra",
          "Tamil Nadu",
          "Gujarat",
          "Andhra Pradesh",
          "Haryana",
          "Punjab",
          "Bihar",
          "Telangana ",
          "West Bengal",
          "Madhya Pradesh",
          "Odisha",
          "Assam",
          "Rajasthan",
          "Kerala",
          "Puducherry",
          "Dadra and Nagar Haveli",
          "Tripura",
          "Manipur",
          "Arunachal Pradesh",
          "Mizoram",
          "Meghalaya",
          "Andaman and Nicobar Islands",
          "Chandigarh",
          "Chhattisgarh",
          "Goa",
          "Himachal Pradesh",
          "Jammu and Kashmir ",
          "Jharkhand",
          "Karnataka",
          "Nagaland",
          "Sikkim",
          "Uttarakhand"
         ],
         "xaxis": "x29",
         "y": [
          109489138,
          47151100,
          46672800,
          13565000,
          12687100,
          7010000,
          6130000,
          5032996,
          3814600,
          2001900,
          1558440,
          1469529,
          1223578,
          1078790,
          472160,
          232369,
          122320,
          51300,
          22870,
          15032,
          7863,
          225,
          0,
          0,
          0,
          0,
          0,
          0,
          0,
          0,
          0,
          0,
          0
         ],
         "yaxis": "y29"
        },
        {
         "name": "Sugarcane - 1999",
         "type": "bar",
         "x": [
          "Uttar Pradesh",
          "Maharashtra",
          "Karnataka",
          "Tamil Nadu",
          "Andhra Pradesh",
          "Gujarat",
          "Haryana",
          "Punjab",
          "Bihar",
          "Telangana ",
          "Madhya Pradesh",
          "Odisha",
          "West Bengal",
          "Assam",
          "Rajasthan",
          "Kerala",
          "Puducherry",
          "Dadra and Nagar Haveli",
          "Tripura",
          "Nagaland",
          "Manipur",
          "Arunachal Pradesh",
          "Himachal Pradesh",
          "Mizoram",
          "Meghalaya",
          "Jammu and Kashmir ",
          "Andaman and Nicobar Islands",
          "Chandigarh",
          "Chhattisgarh",
          "Goa",
          "Jharkhand",
          "Sikkim",
          "Uttarakhand"
         ],
         "xaxis": "x30",
         "y": [
          108577182,
          53140400,
          37397876,
          35501817,
          14671879,
          14065000,
          7640000,
          6770000,
          3988969,
          3835735,
          1902760,
          1826930,
          1762806,
          1154615,
          786833,
          578820,
          237610,
          117120,
          51300,
          30000,
          21230,
          16219,
          15470,
          1510,
          223,
          141.8,
          0,
          0,
          0,
          0,
          0,
          0,
          0
         ],
         "yaxis": "y30"
        },
        {
         "name": "Sugarcane - 2007",
         "type": "bar",
         "x": [
          "Uttar Pradesh",
          "Tamil Nadu",
          "Karnataka",
          "Gujarat",
          "Andhra Pradesh",
          "Haryana",
          "Uttarakhand",
          "Telangana ",
          "Bihar",
          "Madhya Pradesh",
          "West Bengal",
          "Odisha",
          "Assam",
          "Maharashtra",
          "Rajasthan",
          "Puducherry",
          "Nagaland",
          "Kerala",
          "Himachal Pradesh",
          "Goa",
          "Tripura",
          "Jharkhand",
          "Chhattisgarh",
          "Arunachal Pradesh",
          "Manipur",
          "Mizoram",
          "Meghalaya",
          "Jammu and Kashmir ",
          "Andaman and Nicobar Islands",
          "Chandigarh",
          "Dadra and Nagar Haveli",
          "Punjab",
          "Sikkim"
         ],
         "xaxis": "x31",
         "y": [
          124665288,
          38070965,
          26028309,
          15190000,
          15159000,
          8850000,
          7594553,
          5023000,
          4027229,
          3276720,
          1772001,
          1069227.4,
          979860,
          883099,
          594056,
          228416,
          220320,
          159150,
          58442,
          56027,
          46678,
          40610,
          27254,
          21754,
          16660,
          828,
          252,
          221.3,
          0,
          0,
          0,
          0,
          0
         ],
         "yaxis": "y31"
        },
        {
         "name": "Sugarcane - 2008",
         "type": "bar",
         "x": [
          "Maharashtra",
          "Uttar Pradesh",
          "Tamil Nadu",
          "Karnataka",
          "Gujarat",
          "Andhra Pradesh",
          "Uttarakhand",
          "Haryana",
          "Bihar",
          "Telangana ",
          "Madhya Pradesh",
          "West Bengal",
          "Assam",
          "Odisha",
          "Rajasthan",
          "Kerala",
          "Nagaland",
          "Puducherry",
          "Himachal Pradesh",
          "Tripura",
          "Goa",
          "Arunachal Pradesh",
          "Chhattisgarh",
          "Mizoram",
          "Meghalaya",
          "Andaman and Nicobar Islands",
          "Chandigarh",
          "Dadra and Nagar Haveli",
          "Jammu and Kashmir ",
          "Jharkhand",
          "Manipur",
          "Punjab",
          "Sikkim"
         ],
         "xaxis": "x32",
         "y": [
          121297200,
          109047670,
          32798888,
          24266201,
          15512000,
          11940595,
          5683369,
          5242000,
          4959918,
          3442404,
          2381030,
          1638267,
          1099749,
          646243.7,
          387814,
          275480,
          185760,
          162323,
          53068,
          51695,
          49253,
          23439,
          22230,
          13696,
          250,
          0,
          0,
          0,
          0,
          0,
          0,
          0,
          0
         ],
         "yaxis": "y32"
        },
        {
         "name": "Sugarcane - 2009",
         "type": "bar",
         "x": [
          "Uttar Pradesh",
          "Maharashtra",
          "Karnataka",
          "Tamil Nadu",
          "Gujarat",
          "Andhra Pradesh",
          "Uttarakhand",
          "Haryana",
          "Bihar",
          "Telangana ",
          "Madhya Pradesh",
          "Assam",
          "West Bengal",
          "Odisha",
          "Punjab",
          "Rajasthan",
          "Kerala",
          "Puducherry",
          "Nagaland",
          "Goa",
          "Tripura",
          "Chhattisgarh",
          "Arunachal Pradesh",
          "Mizoram",
          "Meghalaya",
          "Andaman and Nicobar Islands",
          "Chandigarh",
          "Dadra and Nagar Haveli",
          "Himachal Pradesh",
          "Jammu and Kashmir ",
          "Jharkhand",
          "Manipur",
          "Sikkim"
         ],
         "xaxis": "x33",
         "y": [
          117139919,
          64159300,
          32285023,
          29758209,
          13304000,
          9561099,
          6088488,
          4078900,
          3443693,
          2134764,
          1847170,
          1062418,
          1000808,
          489940.1,
          370000,
          344502,
          284970,
          247254,
          152880,
          52343,
          44913,
          35356,
          27145,
          12368,
          206,
          0,
          0,
          0,
          0,
          0,
          0,
          0,
          0
         ],
         "yaxis": "y33"
        },
        {
         "name": "Sugarcane - 2011",
         "type": "bar",
         "x": [
          "Uttar Pradesh",
          "Maharashtra",
          "Karnataka",
          "Tamil Nadu",
          "Andhra Pradesh",
          "Gujarat",
          "Uttarakhand",
          "Punjab",
          "Telangana ",
          "Madhya Pradesh",
          "West Bengal",
          "Assam",
          "Odisha",
          "Haryana",
          "Puducherry",
          "Kerala",
          "Nagaland",
          "Dadra and Nagar Haveli",
          "Goa",
          "Chhattisgarh",
          "Tripura",
          "Arunachal Pradesh",
          "Meghalaya",
          "Andaman and Nicobar Islands",
          "Bihar",
          "Chandigarh",
          "Himachal Pradesh",
          "Jammu and Kashmir ",
          "Jharkhand",
          "Manipur",
          "Mizoram",
          "Rajasthan",
          "Sikkim"
         ],
         "xaxis": "x34",
         "y": [
          128818743,
          89456100,
          39470478,
          38974842,
          12844380,
          12748000,
          6348078,
          5653000,
          3844477,
          1965790,
          1681444,
          1052514,
          884713.1,
          695000,
          287785,
          263034.2,
          186670,
          53200,
          46584,
          45441,
          45001,
          30000,
          199,
          0,
          0,
          0,
          0,
          0,
          0,
          0,
          0,
          0,
          0
         ],
         "yaxis": "y34"
        },
        {
         "name": "Sugarcane - 2012",
         "type": "bar",
         "x": [
          "Uttar Pradesh",
          "Maharashtra",
          "Karnataka",
          "Tamil Nadu",
          "Bihar",
          "Andhra Pradesh",
          "Haryana",
          "Uttarakhand",
          "Punjab",
          "Madhya Pradesh",
          "West Bengal",
          "Gujarat",
          "Assam",
          "Odisha",
          "Puducherry",
          "Nagaland",
          "Dadra and Nagar Haveli",
          "Goa",
          "Tripura",
          "Arunachal Pradesh",
          "Chhattisgarh",
          "Kerala",
          "Meghalaya",
          "Andaman and Nicobar Islands",
          "Chandigarh",
          "Himachal Pradesh",
          "Jammu and Kashmir ",
          "Jharkhand",
          "Manipur",
          "Mizoram",
          "Rajasthan",
          "Sikkim",
          "Telangana "
         ],
         "xaxis": "x35",
         "y": [
          137904315,
          75335000,
          35510714,
          34014097,
          12741415,
          11993130,
          7500000,
          6344504,
          5832000,
          2756580,
          1617025,
          1260800,
          1028161,
          952366.8999999999,
          304516,
          187570,
          52960,
          46055,
          45437,
          30151,
          25800,
          16572,
          280,
          0,
          0,
          0,
          0,
          0,
          0,
          0,
          0,
          0,
          0
         ],
         "yaxis": "y35"
        },
        {
         "name": "Sugarcane - 2013",
         "type": "bar",
         "x": [
          "Uttar Pradesh",
          "Maharashtra",
          "Karnataka",
          "Tamil Nadu",
          "Bihar",
          "Andhra Pradesh",
          "Punjab",
          "Uttarakhand",
          "Telangana ",
          "Madhya Pradesh",
          "Chhattisgarh",
          "West Bengal",
          "Assam",
          "Odisha",
          "Puducherry",
          "Tripura",
          "Goa",
          "Arunachal Pradesh",
          "Kerala",
          "Meghalaya",
          "Andaman and Nicobar Islands",
          "Chandigarh",
          "Dadra and Nagar Haveli",
          "Gujarat",
          "Haryana",
          "Himachal Pradesh",
          "Jammu and Kashmir ",
          "Jharkhand",
          "Manipur",
          "Mizoram",
          "Nagaland",
          "Rajasthan",
          "Sikkim"
         ],
         "xaxis": "x36",
         "y": [
          142045762,
          83954000,
          38042382,
          32454135,
          12881781,
          12008047,
          6675000,
          6061428,
          3376625,
          2797460,
          2153011,
          1945042,
          1075171,
          936512.2,
          304066,
          49598,
          47669,
          30351,
          22152,
          315,
          0,
          0,
          0,
          0,
          0,
          0,
          0,
          0,
          0,
          0,
          0,
          0,
          0
         ],
         "yaxis": "y36"
        },
        {
         "name": "Sugarcane - 2014",
         "type": "bar",
         "x": [
          "Uttar Pradesh",
          "Maharashtra",
          "Karnataka",
          "Bihar",
          "Andhra Pradesh",
          "Punjab",
          "Uttarakhand",
          "Telangana ",
          "West Bengal",
          "Assam",
          "Odisha",
          "Puducherry",
          "Nagaland",
          "Chhattisgarh",
          "Goa",
          "Tripura",
          "Arunachal Pradesh",
          "Kerala",
          "Jammu and Kashmir ",
          "Meghalaya",
          "Andaman and Nicobar Islands",
          "Chandigarh",
          "Dadra and Nagar Haveli",
          "Gujarat",
          "Haryana",
          "Himachal Pradesh",
          "Jharkhand",
          "Madhya Pradesh",
          "Manipur",
          "Mizoram",
          "Rajasthan",
          "Sikkim",
          "Tamil Nadu"
         ],
         "xaxis": "x37",
         "y": [
          146576786,
          91538100,
          43838057,
          15498951,
          10002941,
          7039000,
          6108965,
          3343035,
          2105506,
          1099134,
          722890.5999999999,
          316965,
          189330,
          76149,
          49215,
          41510,
          34900,
          14853,
          1957.5,
          338,
          0,
          0,
          0,
          0,
          0,
          0,
          0,
          0,
          0,
          0,
          0,
          0,
          0
         ],
         "yaxis": "y37"
        },
        {
         "name": "Sugarcane - 2015",
         "type": "bar",
         "x": [
          "Odisha",
          "Andaman and Nicobar Islands",
          "Andhra Pradesh",
          "Arunachal Pradesh",
          "Assam",
          "Bihar",
          "Chandigarh",
          "Chhattisgarh",
          "Dadra and Nagar Haveli",
          "Goa",
          "Gujarat",
          "Haryana",
          "Himachal Pradesh",
          "Jammu and Kashmir ",
          "Jharkhand",
          "Karnataka",
          "Kerala",
          "Madhya Pradesh",
          "Maharashtra",
          "Manipur",
          "Meghalaya",
          "Mizoram",
          "Nagaland",
          "Puducherry",
          "Punjab",
          "Rajasthan",
          "Sikkim",
          "Tamil Nadu",
          "Telangana ",
          "Tripura",
          "Uttar Pradesh",
          "Uttarakhand",
          "West Bengal"
         ],
         "xaxis": "x38",
         "y": [
          577157.2000000001,
          0,
          0,
          0,
          0,
          0,
          0,
          0,
          0,
          0,
          0,
          0,
          0,
          0,
          0,
          0,
          0,
          0,
          0,
          0,
          0,
          0,
          0,
          0,
          0,
          0,
          0,
          0,
          0,
          0,
          0,
          0,
          0
         ],
         "yaxis": "y38"
        }
       ],
       "layout": {
        "annotations": [
         {
          "font": {
           "size": 16
          },
          "showarrow": false,
          "text": "Rice - 2000",
          "x": 0.021329639889196676,
          "xanchor": "center",
          "xref": "paper",
          "y": 1,
          "yanchor": "bottom",
          "yref": "paper"
         },
         {
          "font": {
           "size": 16
          },
          "showarrow": false,
          "text": "Rice - 2001",
          "x": 0.0745152354570637,
          "xanchor": "center",
          "xref": "paper",
          "y": 1,
          "yanchor": "bottom",
          "yref": "paper"
         },
         {
          "font": {
           "size": 16
          },
          "showarrow": false,
          "text": "Rice - 2002",
          "x": 0.12770083102493074,
          "xanchor": "center",
          "xref": "paper",
          "y": 1,
          "yanchor": "bottom",
          "yref": "paper"
         },
         {
          "font": {
           "size": 16
          },
          "showarrow": false,
          "text": "Rice - 2003",
          "x": 0.1808864265927978,
          "xanchor": "center",
          "xref": "paper",
          "y": 1,
          "yanchor": "bottom",
          "yref": "paper"
         },
         {
          "font": {
           "size": 16
          },
          "showarrow": false,
          "text": "Rice - 2004",
          "x": 0.2340720221606648,
          "xanchor": "center",
          "xref": "paper",
          "y": 1,
          "yanchor": "bottom",
          "yref": "paper"
         },
         {
          "font": {
           "size": 16
          },
          "showarrow": false,
          "text": "Rice - 2005",
          "x": 0.28725761772853187,
          "xanchor": "center",
          "xref": "paper",
          "y": 1,
          "yanchor": "bottom",
          "yref": "paper"
         },
         {
          "font": {
           "size": 16
          },
          "showarrow": false,
          "text": "Rice - 2006",
          "x": 0.3404432132963989,
          "xanchor": "center",
          "xref": "paper",
          "y": 1,
          "yanchor": "bottom",
          "yref": "paper"
         },
         {
          "font": {
           "size": 16
          },
          "showarrow": false,
          "text": "Rice - 2010",
          "x": 0.39362880886426593,
          "xanchor": "center",
          "xref": "paper",
          "y": 1,
          "yanchor": "bottom",
          "yref": "paper"
         },
         {
          "font": {
           "size": 16
          },
          "showarrow": false,
          "text": "Rice - 1997",
          "x": 0.44681440443213294,
          "xanchor": "center",
          "xref": "paper",
          "y": 1,
          "yanchor": "bottom",
          "yref": "paper"
         },
         {
          "font": {
           "size": 16
          },
          "showarrow": false,
          "text": "Rice - 1998",
          "x": 0.5,
          "xanchor": "center",
          "xref": "paper",
          "y": 1,
          "yanchor": "bottom",
          "yref": "paper"
         },
         {
          "font": {
           "size": 16
          },
          "showarrow": false,
          "text": "Rice - 1999",
          "x": 0.5531855955678671,
          "xanchor": "center",
          "xref": "paper",
          "y": 1,
          "yanchor": "bottom",
          "yref": "paper"
         },
         {
          "font": {
           "size": 16
          },
          "showarrow": false,
          "text": "Rice - 2007",
          "x": 0.606371191135734,
          "xanchor": "center",
          "xref": "paper",
          "y": 1,
          "yanchor": "bottom",
          "yref": "paper"
         },
         {
          "font": {
           "size": 16
          },
          "showarrow": false,
          "text": "Rice - 2008",
          "x": 0.6595567867036012,
          "xanchor": "center",
          "xref": "paper",
          "y": 1,
          "yanchor": "bottom",
          "yref": "paper"
         },
         {
          "font": {
           "size": 16
          },
          "showarrow": false,
          "text": "Rice - 2009",
          "x": 0.7127423822714681,
          "xanchor": "center",
          "xref": "paper",
          "y": 1,
          "yanchor": "bottom",
          "yref": "paper"
         },
         {
          "font": {
           "size": 16
          },
          "showarrow": false,
          "text": "Rice - 2011",
          "x": 0.7659279778393352,
          "xanchor": "center",
          "xref": "paper",
          "y": 1,
          "yanchor": "bottom",
          "yref": "paper"
         },
         {
          "font": {
           "size": 16
          },
          "showarrow": false,
          "text": "Rice - 2012",
          "x": 0.8191135734072021,
          "xanchor": "center",
          "xref": "paper",
          "y": 1,
          "yanchor": "bottom",
          "yref": "paper"
         },
         {
          "font": {
           "size": 16
          },
          "showarrow": false,
          "text": "Rice - 2013",
          "x": 0.8722991689750692,
          "xanchor": "center",
          "xref": "paper",
          "y": 1,
          "yanchor": "bottom",
          "yref": "paper"
         },
         {
          "font": {
           "size": 16
          },
          "showarrow": false,
          "text": "Rice - 2014",
          "x": 0.9254847645429363,
          "xanchor": "center",
          "xref": "paper",
          "y": 1,
          "yanchor": "bottom",
          "yref": "paper"
         },
         {
          "font": {
           "size": 16
          },
          "showarrow": false,
          "text": "Rice - 2015",
          "x": 0.9786703601108033,
          "xanchor": "center",
          "xref": "paper",
          "y": 1,
          "yanchor": "bottom",
          "yref": "paper"
         },
         {
          "font": {
           "size": 16
          },
          "showarrow": false,
          "text": "Sugarcane - 2000",
          "x": 0.021329639889196676,
          "xanchor": "center",
          "xref": "paper",
          "y": 0.45,
          "yanchor": "bottom",
          "yref": "paper"
         },
         {
          "font": {
           "size": 16
          },
          "showarrow": false,
          "text": "Sugarcane - 2001",
          "x": 0.0745152354570637,
          "xanchor": "center",
          "xref": "paper",
          "y": 0.45,
          "yanchor": "bottom",
          "yref": "paper"
         },
         {
          "font": {
           "size": 16
          },
          "showarrow": false,
          "text": "Sugarcane - 2002",
          "x": 0.12770083102493074,
          "xanchor": "center",
          "xref": "paper",
          "y": 0.45,
          "yanchor": "bottom",
          "yref": "paper"
         },
         {
          "font": {
           "size": 16
          },
          "showarrow": false,
          "text": "Sugarcane - 2003",
          "x": 0.1808864265927978,
          "xanchor": "center",
          "xref": "paper",
          "y": 0.45,
          "yanchor": "bottom",
          "yref": "paper"
         },
         {
          "font": {
           "size": 16
          },
          "showarrow": false,
          "text": "Sugarcane - 2004",
          "x": 0.2340720221606648,
          "xanchor": "center",
          "xref": "paper",
          "y": 0.45,
          "yanchor": "bottom",
          "yref": "paper"
         },
         {
          "font": {
           "size": 16
          },
          "showarrow": false,
          "text": "Sugarcane - 2005",
          "x": 0.28725761772853187,
          "xanchor": "center",
          "xref": "paper",
          "y": 0.45,
          "yanchor": "bottom",
          "yref": "paper"
         },
         {
          "font": {
           "size": 16
          },
          "showarrow": false,
          "text": "Sugarcane - 2006",
          "x": 0.3404432132963989,
          "xanchor": "center",
          "xref": "paper",
          "y": 0.45,
          "yanchor": "bottom",
          "yref": "paper"
         },
         {
          "font": {
           "size": 16
          },
          "showarrow": false,
          "text": "Sugarcane - 2010",
          "x": 0.39362880886426593,
          "xanchor": "center",
          "xref": "paper",
          "y": 0.45,
          "yanchor": "bottom",
          "yref": "paper"
         },
         {
          "font": {
           "size": 16
          },
          "showarrow": false,
          "text": "Sugarcane - 1997",
          "x": 0.44681440443213294,
          "xanchor": "center",
          "xref": "paper",
          "y": 0.45,
          "yanchor": "bottom",
          "yref": "paper"
         },
         {
          "font": {
           "size": 16
          },
          "showarrow": false,
          "text": "Sugarcane - 1998",
          "x": 0.5,
          "xanchor": "center",
          "xref": "paper",
          "y": 0.45,
          "yanchor": "bottom",
          "yref": "paper"
         },
         {
          "font": {
           "size": 16
          },
          "showarrow": false,
          "text": "Sugarcane - 1999",
          "x": 0.5531855955678671,
          "xanchor": "center",
          "xref": "paper",
          "y": 0.45,
          "yanchor": "bottom",
          "yref": "paper"
         },
         {
          "font": {
           "size": 16
          },
          "showarrow": false,
          "text": "Sugarcane - 2007",
          "x": 0.606371191135734,
          "xanchor": "center",
          "xref": "paper",
          "y": 0.45,
          "yanchor": "bottom",
          "yref": "paper"
         },
         {
          "font": {
           "size": 16
          },
          "showarrow": false,
          "text": "Sugarcane - 2008",
          "x": 0.6595567867036012,
          "xanchor": "center",
          "xref": "paper",
          "y": 0.45,
          "yanchor": "bottom",
          "yref": "paper"
         },
         {
          "font": {
           "size": 16
          },
          "showarrow": false,
          "text": "Sugarcane - 2009",
          "x": 0.7127423822714681,
          "xanchor": "center",
          "xref": "paper",
          "y": 0.45,
          "yanchor": "bottom",
          "yref": "paper"
         },
         {
          "font": {
           "size": 16
          },
          "showarrow": false,
          "text": "Sugarcane - 2011",
          "x": 0.7659279778393352,
          "xanchor": "center",
          "xref": "paper",
          "y": 0.45,
          "yanchor": "bottom",
          "yref": "paper"
         },
         {
          "font": {
           "size": 16
          },
          "showarrow": false,
          "text": "Sugarcane - 2012",
          "x": 0.8191135734072021,
          "xanchor": "center",
          "xref": "paper",
          "y": 0.45,
          "yanchor": "bottom",
          "yref": "paper"
         },
         {
          "font": {
           "size": 16
          },
          "showarrow": false,
          "text": "Sugarcane - 2013",
          "x": 0.8722991689750692,
          "xanchor": "center",
          "xref": "paper",
          "y": 0.45,
          "yanchor": "bottom",
          "yref": "paper"
         },
         {
          "font": {
           "size": 16
          },
          "showarrow": false,
          "text": "Sugarcane - 2014",
          "x": 0.9254847645429363,
          "xanchor": "center",
          "xref": "paper",
          "y": 0.45,
          "yanchor": "bottom",
          "yref": "paper"
         },
         {
          "font": {
           "size": 16
          },
          "showarrow": false,
          "text": "Sugarcane - 2015",
          "x": 0.9786703601108033,
          "xanchor": "center",
          "xref": "paper",
          "y": 0.45,
          "yanchor": "bottom",
          "yref": "paper"
         }
        ],
        "height": 800,
        "showlegend": false,
        "template": {
         "data": {
          "bar": [
           {
            "error_x": {
             "color": "#2a3f5f"
            },
            "error_y": {
             "color": "#2a3f5f"
            },
            "marker": {
             "line": {
              "color": "#E5ECF6",
              "width": 0.5
             },
             "pattern": {
              "fillmode": "overlay",
              "size": 10,
              "solidity": 0.2
             }
            },
            "type": "bar"
           }
          ],
          "barpolar": [
           {
            "marker": {
             "line": {
              "color": "#E5ECF6",
              "width": 0.5
             },
             "pattern": {
              "fillmode": "overlay",
              "size": 10,
              "solidity": 0.2
             }
            },
            "type": "barpolar"
           }
          ],
          "carpet": [
           {
            "aaxis": {
             "endlinecolor": "#2a3f5f",
             "gridcolor": "white",
             "linecolor": "white",
             "minorgridcolor": "white",
             "startlinecolor": "#2a3f5f"
            },
            "baxis": {
             "endlinecolor": "#2a3f5f",
             "gridcolor": "white",
             "linecolor": "white",
             "minorgridcolor": "white",
             "startlinecolor": "#2a3f5f"
            },
            "type": "carpet"
           }
          ],
          "choropleth": [
           {
            "colorbar": {
             "outlinewidth": 0,
             "ticks": ""
            },
            "type": "choropleth"
           }
          ],
          "contour": [
           {
            "colorbar": {
             "outlinewidth": 0,
             "ticks": ""
            },
            "colorscale": [
             [
              0,
              "#0d0887"
             ],
             [
              0.1111111111111111,
              "#46039f"
             ],
             [
              0.2222222222222222,
              "#7201a8"
             ],
             [
              0.3333333333333333,
              "#9c179e"
             ],
             [
              0.4444444444444444,
              "#bd3786"
             ],
             [
              0.5555555555555556,
              "#d8576b"
             ],
             [
              0.6666666666666666,
              "#ed7953"
             ],
             [
              0.7777777777777778,
              "#fb9f3a"
             ],
             [
              0.8888888888888888,
              "#fdca26"
             ],
             [
              1,
              "#f0f921"
             ]
            ],
            "type": "contour"
           }
          ],
          "contourcarpet": [
           {
            "colorbar": {
             "outlinewidth": 0,
             "ticks": ""
            },
            "type": "contourcarpet"
           }
          ],
          "heatmap": [
           {
            "colorbar": {
             "outlinewidth": 0,
             "ticks": ""
            },
            "colorscale": [
             [
              0,
              "#0d0887"
             ],
             [
              0.1111111111111111,
              "#46039f"
             ],
             [
              0.2222222222222222,
              "#7201a8"
             ],
             [
              0.3333333333333333,
              "#9c179e"
             ],
             [
              0.4444444444444444,
              "#bd3786"
             ],
             [
              0.5555555555555556,
              "#d8576b"
             ],
             [
              0.6666666666666666,
              "#ed7953"
             ],
             [
              0.7777777777777778,
              "#fb9f3a"
             ],
             [
              0.8888888888888888,
              "#fdca26"
             ],
             [
              1,
              "#f0f921"
             ]
            ],
            "type": "heatmap"
           }
          ],
          "heatmapgl": [
           {
            "colorbar": {
             "outlinewidth": 0,
             "ticks": ""
            },
            "colorscale": [
             [
              0,
              "#0d0887"
             ],
             [
              0.1111111111111111,
              "#46039f"
             ],
             [
              0.2222222222222222,
              "#7201a8"
             ],
             [
              0.3333333333333333,
              "#9c179e"
             ],
             [
              0.4444444444444444,
              "#bd3786"
             ],
             [
              0.5555555555555556,
              "#d8576b"
             ],
             [
              0.6666666666666666,
              "#ed7953"
             ],
             [
              0.7777777777777778,
              "#fb9f3a"
             ],
             [
              0.8888888888888888,
              "#fdca26"
             ],
             [
              1,
              "#f0f921"
             ]
            ],
            "type": "heatmapgl"
           }
          ],
          "histogram": [
           {
            "marker": {
             "pattern": {
              "fillmode": "overlay",
              "size": 10,
              "solidity": 0.2
             }
            },
            "type": "histogram"
           }
          ],
          "histogram2d": [
           {
            "colorbar": {
             "outlinewidth": 0,
             "ticks": ""
            },
            "colorscale": [
             [
              0,
              "#0d0887"
             ],
             [
              0.1111111111111111,
              "#46039f"
             ],
             [
              0.2222222222222222,
              "#7201a8"
             ],
             [
              0.3333333333333333,
              "#9c179e"
             ],
             [
              0.4444444444444444,
              "#bd3786"
             ],
             [
              0.5555555555555556,
              "#d8576b"
             ],
             [
              0.6666666666666666,
              "#ed7953"
             ],
             [
              0.7777777777777778,
              "#fb9f3a"
             ],
             [
              0.8888888888888888,
              "#fdca26"
             ],
             [
              1,
              "#f0f921"
             ]
            ],
            "type": "histogram2d"
           }
          ],
          "histogram2dcontour": [
           {
            "colorbar": {
             "outlinewidth": 0,
             "ticks": ""
            },
            "colorscale": [
             [
              0,
              "#0d0887"
             ],
             [
              0.1111111111111111,
              "#46039f"
             ],
             [
              0.2222222222222222,
              "#7201a8"
             ],
             [
              0.3333333333333333,
              "#9c179e"
             ],
             [
              0.4444444444444444,
              "#bd3786"
             ],
             [
              0.5555555555555556,
              "#d8576b"
             ],
             [
              0.6666666666666666,
              "#ed7953"
             ],
             [
              0.7777777777777778,
              "#fb9f3a"
             ],
             [
              0.8888888888888888,
              "#fdca26"
             ],
             [
              1,
              "#f0f921"
             ]
            ],
            "type": "histogram2dcontour"
           }
          ],
          "mesh3d": [
           {
            "colorbar": {
             "outlinewidth": 0,
             "ticks": ""
            },
            "type": "mesh3d"
           }
          ],
          "parcoords": [
           {
            "line": {
             "colorbar": {
              "outlinewidth": 0,
              "ticks": ""
             }
            },
            "type": "parcoords"
           }
          ],
          "pie": [
           {
            "automargin": true,
            "type": "pie"
           }
          ],
          "scatter": [
           {
            "fillpattern": {
             "fillmode": "overlay",
             "size": 10,
             "solidity": 0.2
            },
            "type": "scatter"
           }
          ],
          "scatter3d": [
           {
            "line": {
             "colorbar": {
              "outlinewidth": 0,
              "ticks": ""
             }
            },
            "marker": {
             "colorbar": {
              "outlinewidth": 0,
              "ticks": ""
             }
            },
            "type": "scatter3d"
           }
          ],
          "scattercarpet": [
           {
            "marker": {
             "colorbar": {
              "outlinewidth": 0,
              "ticks": ""
             }
            },
            "type": "scattercarpet"
           }
          ],
          "scattergeo": [
           {
            "marker": {
             "colorbar": {
              "outlinewidth": 0,
              "ticks": ""
             }
            },
            "type": "scattergeo"
           }
          ],
          "scattergl": [
           {
            "marker": {
             "colorbar": {
              "outlinewidth": 0,
              "ticks": ""
             }
            },
            "type": "scattergl"
           }
          ],
          "scattermapbox": [
           {
            "marker": {
             "colorbar": {
              "outlinewidth": 0,
              "ticks": ""
             }
            },
            "type": "scattermapbox"
           }
          ],
          "scatterpolar": [
           {
            "marker": {
             "colorbar": {
              "outlinewidth": 0,
              "ticks": ""
             }
            },
            "type": "scatterpolar"
           }
          ],
          "scatterpolargl": [
           {
            "marker": {
             "colorbar": {
              "outlinewidth": 0,
              "ticks": ""
             }
            },
            "type": "scatterpolargl"
           }
          ],
          "scatterternary": [
           {
            "marker": {
             "colorbar": {
              "outlinewidth": 0,
              "ticks": ""
             }
            },
            "type": "scatterternary"
           }
          ],
          "surface": [
           {
            "colorbar": {
             "outlinewidth": 0,
             "ticks": ""
            },
            "colorscale": [
             [
              0,
              "#0d0887"
             ],
             [
              0.1111111111111111,
              "#46039f"
             ],
             [
              0.2222222222222222,
              "#7201a8"
             ],
             [
              0.3333333333333333,
              "#9c179e"
             ],
             [
              0.4444444444444444,
              "#bd3786"
             ],
             [
              0.5555555555555556,
              "#d8576b"
             ],
             [
              0.6666666666666666,
              "#ed7953"
             ],
             [
              0.7777777777777778,
              "#fb9f3a"
             ],
             [
              0.8888888888888888,
              "#fdca26"
             ],
             [
              1,
              "#f0f921"
             ]
            ],
            "type": "surface"
           }
          ],
          "table": [
           {
            "cells": {
             "fill": {
              "color": "#EBF0F8"
             },
             "line": {
              "color": "white"
             }
            },
            "header": {
             "fill": {
              "color": "#C8D4E3"
             },
             "line": {
              "color": "white"
             }
            },
            "type": "table"
           }
          ]
         },
         "layout": {
          "annotationdefaults": {
           "arrowcolor": "#2a3f5f",
           "arrowhead": 0,
           "arrowwidth": 1
          },
          "autotypenumbers": "strict",
          "coloraxis": {
           "colorbar": {
            "outlinewidth": 0,
            "ticks": ""
           }
          },
          "colorscale": {
           "diverging": [
            [
             0,
             "#8e0152"
            ],
            [
             0.1,
             "#c51b7d"
            ],
            [
             0.2,
             "#de77ae"
            ],
            [
             0.3,
             "#f1b6da"
            ],
            [
             0.4,
             "#fde0ef"
            ],
            [
             0.5,
             "#f7f7f7"
            ],
            [
             0.6,
             "#e6f5d0"
            ],
            [
             0.7,
             "#b8e186"
            ],
            [
             0.8,
             "#7fbc41"
            ],
            [
             0.9,
             "#4d9221"
            ],
            [
             1,
             "#276419"
            ]
           ],
           "sequential": [
            [
             0,
             "#0d0887"
            ],
            [
             0.1111111111111111,
             "#46039f"
            ],
            [
             0.2222222222222222,
             "#7201a8"
            ],
            [
             0.3333333333333333,
             "#9c179e"
            ],
            [
             0.4444444444444444,
             "#bd3786"
            ],
            [
             0.5555555555555556,
             "#d8576b"
            ],
            [
             0.6666666666666666,
             "#ed7953"
            ],
            [
             0.7777777777777778,
             "#fb9f3a"
            ],
            [
             0.8888888888888888,
             "#fdca26"
            ],
            [
             1,
             "#f0f921"
            ]
           ],
           "sequentialminus": [
            [
             0,
             "#0d0887"
            ],
            [
             0.1111111111111111,
             "#46039f"
            ],
            [
             0.2222222222222222,
             "#7201a8"
            ],
            [
             0.3333333333333333,
             "#9c179e"
            ],
            [
             0.4444444444444444,
             "#bd3786"
            ],
            [
             0.5555555555555556,
             "#d8576b"
            ],
            [
             0.6666666666666666,
             "#ed7953"
            ],
            [
             0.7777777777777778,
             "#fb9f3a"
            ],
            [
             0.8888888888888888,
             "#fdca26"
            ],
            [
             1,
             "#f0f921"
            ]
           ]
          },
          "colorway": [
           "#636efa",
           "#EF553B",
           "#00cc96",
           "#ab63fa",
           "#FFA15A",
           "#19d3f3",
           "#FF6692",
           "#B6E880",
           "#FF97FF",
           "#FECB52"
          ],
          "font": {
           "color": "#2a3f5f"
          },
          "geo": {
           "bgcolor": "white",
           "lakecolor": "white",
           "landcolor": "#E5ECF6",
           "showlakes": true,
           "showland": true,
           "subunitcolor": "white"
          },
          "hoverlabel": {
           "align": "left"
          },
          "hovermode": "closest",
          "mapbox": {
           "style": "light"
          },
          "paper_bgcolor": "white",
          "plot_bgcolor": "#E5ECF6",
          "polar": {
           "angularaxis": {
            "gridcolor": "white",
            "linecolor": "white",
            "ticks": ""
           },
           "bgcolor": "#E5ECF6",
           "radialaxis": {
            "gridcolor": "white",
            "linecolor": "white",
            "ticks": ""
           }
          },
          "scene": {
           "xaxis": {
            "backgroundcolor": "#E5ECF6",
            "gridcolor": "white",
            "gridwidth": 2,
            "linecolor": "white",
            "showbackground": true,
            "ticks": "",
            "zerolinecolor": "white"
           },
           "yaxis": {
            "backgroundcolor": "#E5ECF6",
            "gridcolor": "white",
            "gridwidth": 2,
            "linecolor": "white",
            "showbackground": true,
            "ticks": "",
            "zerolinecolor": "white"
           },
           "zaxis": {
            "backgroundcolor": "#E5ECF6",
            "gridcolor": "white",
            "gridwidth": 2,
            "linecolor": "white",
            "showbackground": true,
            "ticks": "",
            "zerolinecolor": "white"
           }
          },
          "shapedefaults": {
           "line": {
            "color": "#2a3f5f"
           }
          },
          "ternary": {
           "aaxis": {
            "gridcolor": "white",
            "linecolor": "white",
            "ticks": ""
           },
           "baxis": {
            "gridcolor": "white",
            "linecolor": "white",
            "ticks": ""
           },
           "bgcolor": "#E5ECF6",
           "caxis": {
            "gridcolor": "white",
            "linecolor": "white",
            "ticks": ""
           }
          },
          "title": {
           "x": 0.05
          },
          "xaxis": {
           "automargin": true,
           "gridcolor": "white",
           "linecolor": "white",
           "ticks": "",
           "title": {
            "standoff": 15
           },
           "zerolinecolor": "white",
           "zerolinewidth": 2
          },
          "yaxis": {
           "automargin": true,
           "gridcolor": "white",
           "linecolor": "white",
           "ticks": "",
           "title": {
            "standoff": 15
           },
           "zerolinecolor": "white",
           "zerolinewidth": 2
          }
         }
        },
        "title": {
         "text": "Production Analysis by Crop and Year"
        },
        "width": 1000,
        "xaxis": {
         "anchor": "y",
         "domain": [
          0,
          0.04265927977839335
         ]
        },
        "xaxis10": {
         "anchor": "y10",
         "domain": [
          0.47867036011080333,
          0.5213296398891967
         ]
        },
        "xaxis11": {
         "anchor": "y11",
         "domain": [
          0.5318559556786704,
          0.5745152354570637
         ]
        },
        "xaxis12": {
         "anchor": "y12",
         "domain": [
          0.5850415512465373,
          0.6277008310249307
         ]
        },
        "xaxis13": {
         "anchor": "y13",
         "domain": [
          0.6382271468144045,
          0.6808864265927979
         ]
        },
        "xaxis14": {
         "anchor": "y14",
         "domain": [
          0.6914127423822715,
          0.7340720221606648
         ]
        },
        "xaxis15": {
         "anchor": "y15",
         "domain": [
          0.7445983379501385,
          0.7872576177285319
         ]
        },
        "xaxis16": {
         "anchor": "y16",
         "domain": [
          0.7977839335180055,
          0.8404432132963988
         ]
        },
        "xaxis17": {
         "anchor": "y17",
         "domain": [
          0.8509695290858725,
          0.8936288088642659
         ]
        },
        "xaxis18": {
         "anchor": "y18",
         "domain": [
          0.9041551246537396,
          0.9468144044321329
         ]
        },
        "xaxis19": {
         "anchor": "y19",
         "domain": [
          0.9573407202216067,
          1
         ]
        },
        "xaxis2": {
         "anchor": "y2",
         "domain": [
          0.05318559556786703,
          0.09584487534626038
         ]
        },
        "xaxis20": {
         "anchor": "y20",
         "domain": [
          0,
          0.04265927977839335
         ],
         "title": {
          "text": "States"
         }
        },
        "xaxis21": {
         "anchor": "y21",
         "domain": [
          0.05318559556786703,
          0.09584487534626038
         ]
        },
        "xaxis22": {
         "anchor": "y22",
         "domain": [
          0.10637119113573407,
          0.1490304709141274
         ]
        },
        "xaxis23": {
         "anchor": "y23",
         "domain": [
          0.15955678670360113,
          0.20221606648199447
         ]
        },
        "xaxis24": {
         "anchor": "y24",
         "domain": [
          0.21274238227146813,
          0.2554016620498615
         ]
        },
        "xaxis25": {
         "anchor": "y25",
         "domain": [
          0.2659279778393352,
          0.30858725761772854
         ]
        },
        "xaxis26": {
         "anchor": "y26",
         "domain": [
          0.31911357340720226,
          0.3617728531855956
         ]
        },
        "xaxis27": {
         "anchor": "y27",
         "domain": [
          0.37229916897506926,
          0.4149584487534626
         ]
        },
        "xaxis28": {
         "anchor": "y28",
         "domain": [
          0.42548476454293627,
          0.4681440443213296
         ]
        },
        "xaxis29": {
         "anchor": "y29",
         "domain": [
          0.47867036011080333,
          0.5213296398891967
         ]
        },
        "xaxis3": {
         "anchor": "y3",
         "domain": [
          0.10637119113573407,
          0.1490304709141274
         ]
        },
        "xaxis30": {
         "anchor": "y30",
         "domain": [
          0.5318559556786704,
          0.5745152354570637
         ]
        },
        "xaxis31": {
         "anchor": "y31",
         "domain": [
          0.5850415512465373,
          0.6277008310249307
         ]
        },
        "xaxis32": {
         "anchor": "y32",
         "domain": [
          0.6382271468144045,
          0.6808864265927979
         ]
        },
        "xaxis33": {
         "anchor": "y33",
         "domain": [
          0.6914127423822715,
          0.7340720221606648
         ]
        },
        "xaxis34": {
         "anchor": "y34",
         "domain": [
          0.7445983379501385,
          0.7872576177285319
         ]
        },
        "xaxis35": {
         "anchor": "y35",
         "domain": [
          0.7977839335180055,
          0.8404432132963988
         ]
        },
        "xaxis36": {
         "anchor": "y36",
         "domain": [
          0.8509695290858725,
          0.8936288088642659
         ]
        },
        "xaxis37": {
         "anchor": "y37",
         "domain": [
          0.9041551246537396,
          0.9468144044321329
         ]
        },
        "xaxis38": {
         "anchor": "y38",
         "domain": [
          0.9573407202216067,
          1
         ]
        },
        "xaxis4": {
         "anchor": "y4",
         "domain": [
          0.15955678670360113,
          0.20221606648199447
         ]
        },
        "xaxis5": {
         "anchor": "y5",
         "domain": [
          0.21274238227146813,
          0.2554016620498615
         ]
        },
        "xaxis6": {
         "anchor": "y6",
         "domain": [
          0.2659279778393352,
          0.30858725761772854
         ]
        },
        "xaxis7": {
         "anchor": "y7",
         "domain": [
          0.31911357340720226,
          0.3617728531855956
         ]
        },
        "xaxis8": {
         "anchor": "y8",
         "domain": [
          0.37229916897506926,
          0.4149584487534626
         ]
        },
        "xaxis9": {
         "anchor": "y9",
         "domain": [
          0.42548476454293627,
          0.4681440443213296
         ]
        },
        "yaxis": {
         "anchor": "x",
         "domain": [
          0.55,
          1
         ]
        },
        "yaxis10": {
         "anchor": "x10",
         "domain": [
          0.55,
          1
         ],
         "matches": "y",
         "showticklabels": false
        },
        "yaxis11": {
         "anchor": "x11",
         "domain": [
          0.55,
          1
         ],
         "matches": "y",
         "showticklabels": false
        },
        "yaxis12": {
         "anchor": "x12",
         "domain": [
          0.55,
          1
         ],
         "matches": "y",
         "showticklabels": false
        },
        "yaxis13": {
         "anchor": "x13",
         "domain": [
          0.55,
          1
         ],
         "matches": "y",
         "showticklabels": false
        },
        "yaxis14": {
         "anchor": "x14",
         "domain": [
          0.55,
          1
         ],
         "matches": "y",
         "showticklabels": false
        },
        "yaxis15": {
         "anchor": "x15",
         "domain": [
          0.55,
          1
         ],
         "matches": "y",
         "showticklabels": false
        },
        "yaxis16": {
         "anchor": "x16",
         "domain": [
          0.55,
          1
         ],
         "matches": "y",
         "showticklabels": false
        },
        "yaxis17": {
         "anchor": "x17",
         "domain": [
          0.55,
          1
         ],
         "matches": "y",
         "showticklabels": false
        },
        "yaxis18": {
         "anchor": "x18",
         "domain": [
          0.55,
          1
         ],
         "matches": "y",
         "showticklabels": false
        },
        "yaxis19": {
         "anchor": "x19",
         "domain": [
          0.55,
          1
         ],
         "matches": "y",
         "showticklabels": false
        },
        "yaxis2": {
         "anchor": "x2",
         "domain": [
          0.55,
          1
         ],
         "matches": "y",
         "showticklabels": false
        },
        "yaxis20": {
         "anchor": "x20",
         "domain": [
          0,
          0.45
         ],
         "title": {
          "text": "Production"
         }
        },
        "yaxis21": {
         "anchor": "x21",
         "domain": [
          0,
          0.45
         ],
         "matches": "y20",
         "showticklabels": false
        },
        "yaxis22": {
         "anchor": "x22",
         "domain": [
          0,
          0.45
         ],
         "matches": "y20",
         "showticklabels": false
        },
        "yaxis23": {
         "anchor": "x23",
         "domain": [
          0,
          0.45
         ],
         "matches": "y20",
         "showticklabels": false
        },
        "yaxis24": {
         "anchor": "x24",
         "domain": [
          0,
          0.45
         ],
         "matches": "y20",
         "showticklabels": false
        },
        "yaxis25": {
         "anchor": "x25",
         "domain": [
          0,
          0.45
         ],
         "matches": "y20",
         "showticklabels": false
        },
        "yaxis26": {
         "anchor": "x26",
         "domain": [
          0,
          0.45
         ],
         "matches": "y20",
         "showticklabels": false
        },
        "yaxis27": {
         "anchor": "x27",
         "domain": [
          0,
          0.45
         ],
         "matches": "y20",
         "showticklabels": false
        },
        "yaxis28": {
         "anchor": "x28",
         "domain": [
          0,
          0.45
         ],
         "matches": "y20",
         "showticklabels": false
        },
        "yaxis29": {
         "anchor": "x29",
         "domain": [
          0,
          0.45
         ],
         "matches": "y20",
         "showticklabels": false
        },
        "yaxis3": {
         "anchor": "x3",
         "domain": [
          0.55,
          1
         ],
         "matches": "y",
         "showticklabels": false
        },
        "yaxis30": {
         "anchor": "x30",
         "domain": [
          0,
          0.45
         ],
         "matches": "y20",
         "showticklabels": false
        },
        "yaxis31": {
         "anchor": "x31",
         "domain": [
          0,
          0.45
         ],
         "matches": "y20",
         "showticklabels": false
        },
        "yaxis32": {
         "anchor": "x32",
         "domain": [
          0,
          0.45
         ],
         "matches": "y20",
         "showticklabels": false
        },
        "yaxis33": {
         "anchor": "x33",
         "domain": [
          0,
          0.45
         ],
         "matches": "y20",
         "showticklabels": false
        },
        "yaxis34": {
         "anchor": "x34",
         "domain": [
          0,
          0.45
         ],
         "matches": "y20",
         "showticklabels": false
        },
        "yaxis35": {
         "anchor": "x35",
         "domain": [
          0,
          0.45
         ],
         "matches": "y20",
         "showticklabels": false
        },
        "yaxis36": {
         "anchor": "x36",
         "domain": [
          0,
          0.45
         ],
         "matches": "y20",
         "showticklabels": false
        },
        "yaxis37": {
         "anchor": "x37",
         "domain": [
          0,
          0.45
         ],
         "matches": "y20",
         "showticklabels": false
        },
        "yaxis38": {
         "anchor": "x38",
         "domain": [
          0,
          0.45
         ],
         "matches": "y20",
         "showticklabels": false
        },
        "yaxis4": {
         "anchor": "x4",
         "domain": [
          0.55,
          1
         ],
         "matches": "y",
         "showticklabels": false
        },
        "yaxis5": {
         "anchor": "x5",
         "domain": [
          0.55,
          1
         ],
         "matches": "y",
         "showticklabels": false
        },
        "yaxis6": {
         "anchor": "x6",
         "domain": [
          0.55,
          1
         ],
         "matches": "y",
         "showticklabels": false
        },
        "yaxis7": {
         "anchor": "x7",
         "domain": [
          0.55,
          1
         ],
         "matches": "y",
         "showticklabels": false
        },
        "yaxis8": {
         "anchor": "x8",
         "domain": [
          0.55,
          1
         ],
         "matches": "y",
         "showticklabels": false
        },
        "yaxis9": {
         "anchor": "x9",
         "domain": [
          0.55,
          1
         ],
         "matches": "y",
         "showticklabels": false
        }
       }
      }
     },
     "metadata": {},
     "output_type": "display_data"
    }
   ],
   "source": [
    "import plotly.graph_objects as go\n",
    "from plotly.subplots import make_subplots\n",
    "\n",
    "fig = make_subplots(rows=len(crops_to_be_analysed), cols=len(years), \n",
    "                    subplot_titles=[f'{crop} - {year}' for crop in crops_to_be_analysed for year in years],\n",
    "                    shared_yaxes=True, vertical_spacing=0.1,\n",
    "                    )  # Adjust subplot title font size\n",
    "\n",
    "# Iterate over combinations of crops, years, and states\n",
    "for i, crop in enumerate(crops_to_be_analysed):\n",
    "    for j, year in enumerate(years):\n",
    "        pro = []\n",
    "        state_pro_dict = {}  # Dictionary to store state production sums\n",
    "        \n",
    "        for state in states:\n",
    "            # Filter DataFrame based on current combination\n",
    "            subset = df[(df['Crop'] == crop) & (df['Crop_Year'] == year) & (df['State_Name'] == state)]\n",
    "            # Calculate production sum\n",
    "            production_sum = subset['Production'].sum()\n",
    "            state_pro_dict[state] = production_sum\n",
    "        \n",
    "        # Sort states based on production sums\n",
    "        sorted_states = sorted(state_pro_dict, key=lambda k: state_pro_dict[k], reverse=True)\n",
    "        sorted_pro = [state_pro_dict[state] for state in sorted_states]\n",
    "        \n",
    "        # Add trace to the subplot\n",
    "        fig.add_trace(go.Bar(x=sorted_states, y=sorted_pro, name=f'{crop} - {year}'), row=i+1, col=j+1)\n",
    "\n",
    "# Update layout\n",
    "fig.update_layout(title='Production Analysis by Crop and Year',\n",
    "                  height=800, width=1000, showlegend=False)\n",
    "\n",
    "# Update x-axis and y-axis titles\n",
    "fig.update_xaxes(title_text='States', row=len(crops_to_be_analysed), col=1)\n",
    "fig.update_yaxes(title_text='Production', row=int(len(crops_to_be_analysed)/2)+1, col=1)\n",
    "\n",
    "# Show plot\n",
    "fig.show()"
   ]
  },
  {
   "cell_type": "code",
   "execution_count": 102,
   "metadata": {},
   "outputs": [
    {
     "data": {
      "application/vnd.plotly.v1+json": {
       "config": {
        "plotlyServerURL": "https://plot.ly"
       },
       "data": [
        {
         "name": "Rice - 2000",
         "type": "bar",
         "x": [
          "Andaman and Nicobar Islands",
          "Andhra Pradesh",
          "Arunachal Pradesh",
          "Assam",
          "Bihar",
          "Chandigarh",
          "Chhattisgarh",
          "Dadra and Nagar Haveli",
          "Goa",
          "Gujarat",
          "Haryana",
          "Himachal Pradesh",
          "Jammu and Kashmir ",
          "Jharkhand",
          "Karnataka",
          "Kerala",
          "Madhya Pradesh",
          "Maharashtra",
          "Manipur",
          "Meghalaya",
          "Mizoram",
          "Nagaland",
          "Odisha",
          "Puducherry",
          "Punjab",
          "Rajasthan",
          "Sikkim",
          "Tamil Nadu",
          "Telangana ",
          "Tripura",
          "Uttar Pradesh",
          "Uttarakhand",
          "West Bengal"
         ],
         "xaxis": "x",
         "y": [
          32184,
          8040667,
          132690,
          3998443,
          5444370,
          350,
          2369295,
          28663,
          0,
          483300,
          2695000,
          124893,
          415341.80000000005,
          0,
          3846736,
          751328,
          975274,
          1929700,
          381750,
          179042,
          103673,
          233330,
          4613380,
          103606,
          9154000,
          155716,
          21358,
          7217903,
          4417347,
          547520,
          11679149,
          588652,
          12428038
         ],
         "yaxis": "y"
        },
        {
         "name": "Rice - 2001",
         "type": "bar",
         "x": [
          "Andaman and Nicobar Islands",
          "Andhra Pradesh",
          "Arunachal Pradesh",
          "Assam",
          "Bihar",
          "Chandigarh",
          "Chhattisgarh",
          "Dadra and Nagar Haveli",
          "Goa",
          "Gujarat",
          "Haryana",
          "Himachal Pradesh",
          "Jammu and Kashmir ",
          "Jharkhand",
          "Karnataka",
          "Kerala",
          "Madhya Pradesh",
          "Maharashtra",
          "Manipur",
          "Meghalaya",
          "Mizoram",
          "Nagaland",
          "Odisha",
          "Puducherry",
          "Punjab",
          "Rajasthan",
          "Sikkim",
          "Tamil Nadu",
          "Telangana ",
          "Tripura",
          "Uttar Pradesh",
          "Uttarakhand",
          "West Bengal"
         ],
         "xaxis": "x2",
         "y": [
          27333,
          7823692,
          134621,
          3854248,
          5301221,
          250,
          5073721,
          31035,
          0,
          1040200,
          2726000,
          137418,
          422298,
          0,
          3234045,
          703504,
          1685799,
          2651200,
          387270,
          188971,
          105713,
          237000,
          7220000,
          66868,
          8816000,
          180048,
          21372,
          6583630,
          3566099,
          587390,
          12855857,
          579517,
          13815548
         ],
         "yaxis": "y2"
        },
        {
         "name": "Rice - 2002",
         "type": "bar",
         "x": [
          "Andaman and Nicobar Islands",
          "Andhra Pradesh",
          "Arunachal Pradesh",
          "Assam",
          "Bihar",
          "Chandigarh",
          "Chhattisgarh",
          "Dadra and Nagar Haveli",
          "Goa",
          "Gujarat",
          "Haryana",
          "Himachal Pradesh",
          "Jammu and Kashmir ",
          "Jharkhand",
          "Karnataka",
          "Kerala",
          "Madhya Pradesh",
          "Maharashtra",
          "Manipur",
          "Meghalaya",
          "Mizoram",
          "Nagaland",
          "Odisha",
          "Puducherry",
          "Punjab",
          "Rajasthan",
          "Sikkim",
          "Tamil Nadu",
          "Telangana ",
          "Tripura",
          "Uttar Pradesh",
          "Uttarakhand",
          "West Bengal"
         ],
         "xaxis": "x3",
         "y": [
          32111.66,
          5315408,
          152500,
          3737802,
          5085566,
          700,
          2634853,
          38321,
          0,
          596400,
          2468000,
          85653,
          421457,
          1063091.01,
          2390085,
          688859,
          1024930,
          1854100,
          335700,
          190937,
          109205,
          223400,
          3278000,
          57514,
          8880000,
          67932,
          21220,
          3577108,
          2011378,
          602410,
          9596346,
          523175,
          14389238
         ],
         "yaxis": "y3"
        },
        {
         "name": "Rice - 2003",
         "type": "bar",
         "x": [
          "Andaman and Nicobar Islands",
          "Andhra Pradesh",
          "Arunachal Pradesh",
          "Assam",
          "Bihar",
          "Chandigarh",
          "Chhattisgarh",
          "Dadra and Nagar Haveli",
          "Goa",
          "Gujarat",
          "Haryana",
          "Himachal Pradesh",
          "Jammu and Kashmir ",
          "Jharkhand",
          "Karnataka",
          "Kerala",
          "Madhya Pradesh",
          "Maharashtra",
          "Manipur",
          "Meghalaya",
          "Mizoram",
          "Nagaland",
          "Odisha",
          "Puducherry",
          "Punjab",
          "Rajasthan",
          "Sikkim",
          "Tamil Nadu",
          "Telangana ",
          "Tripura",
          "Uttar Pradesh",
          "Uttarakhand",
          "West Bengal"
         ],
         "xaxis": "x4",
         "y": [
          30850.87,
          6054099,
          154589,
          3880934,
          5718627,
          500,
          5567644,
          27933,
          0,
          1277000,
          2790000,
          120624,
          504797,
          1943353.1,
          2550399,
          570045,
          1743430,
          2834100,
          381240,
          200703,
          114630,
          222990,
          6801000,
          67003,
          9656000,
          164858,
          21190,
          3222776,
          2898703,
          616820,
          12494939,
          541957,
          14662239
         ],
         "yaxis": "y4"
        },
        {
         "name": "Rice - 2004",
         "type": "bar",
         "x": [
          "Andaman and Nicobar Islands",
          "Andhra Pradesh",
          "Arunachal Pradesh",
          "Assam",
          "Bihar",
          "Chandigarh",
          "Chhattisgarh",
          "Dadra and Nagar Haveli",
          "Goa",
          "Gujarat",
          "Haryana",
          "Himachal Pradesh",
          "Jammu and Kashmir ",
          "Jharkhand",
          "Karnataka",
          "Kerala",
          "Madhya Pradesh",
          "Maharashtra",
          "Manipur",
          "Meghalaya",
          "Mizoram",
          "Nagaland",
          "Odisha",
          "Puducherry",
          "Punjab",
          "Rajasthan",
          "Sikkim",
          "Tamil Nadu",
          "Telangana ",
          "Tripura",
          "Uttar Pradesh",
          "Uttarakhand",
          "West Bengal"
         ],
         "xaxis": "x5",
         "y": [
          29192.23,
          7392678,
          134950,
          3470750,
          2472156,
          400,
          4586818,
          29171,
          145174,
          1196500,
          3010000,
          109129,
          492732,
          1006373.0400000002,
          3707119.01,
          667105,
          1302615,
          2147200,
          435930,
          193719,
          107660,
          261750,
          6536000,
          61036,
          10437000,
          150423,
          21610,
          5061622,
          2208367,
          602221,
          10749989,
          560243,
          14884889
         ],
         "yaxis": "y5"
        },
        {
         "name": "Rice - 2005",
         "type": "bar",
         "x": [
          "Andaman and Nicobar Islands",
          "Andhra Pradesh",
          "Arunachal Pradesh",
          "Assam",
          "Bihar",
          "Chandigarh",
          "Chhattisgarh",
          "Dadra and Nagar Haveli",
          "Goa",
          "Gujarat",
          "Haryana",
          "Himachal Pradesh",
          "Jammu and Kashmir ",
          "Jharkhand",
          "Karnataka",
          "Kerala",
          "Madhya Pradesh",
          "Maharashtra",
          "Manipur",
          "Meghalaya",
          "Mizoram",
          "Nagaland",
          "Odisha",
          "Puducherry",
          "Punjab",
          "Rajasthan",
          "Sikkim",
          "Tamil Nadu",
          "Telangana ",
          "Tripura",
          "Uttar Pradesh",
          "Uttarakhand",
          "West Bengal"
         ],
         "xaxis": "x6",
         "y": [
          25883.04,
          7288721,
          146191,
          3552438,
          3709285,
          250,
          5267537,
          33643,
          147236,
          1283600,
          3194000,
          112139,
          556774,
          614026.71,
          3999246,
          629987,
          1687475,
          2665900,
          386070,
          208277,
          107740,
          263100,
          6858000,
          53617,
          10193000,
          153074,
          23690,
          5209433,
          4414903,
          602947,
          11119095,
          569166,
          14510742
         ],
         "yaxis": "y6"
        },
        {
         "name": "Rice - 2006",
         "type": "bar",
         "x": [
          "Andaman and Nicobar Islands",
          "Andhra Pradesh",
          "Arunachal Pradesh",
          "Assam",
          "Bihar",
          "Chandigarh",
          "Chhattisgarh",
          "Dadra and Nagar Haveli",
          "Goa",
          "Gujarat",
          "Haryana",
          "Himachal Pradesh",
          "Jammu and Kashmir ",
          "Jharkhand",
          "Karnataka",
          "Kerala",
          "Madhya Pradesh",
          "Maharashtra",
          "Manipur",
          "Meghalaya",
          "Mizoram",
          "Nagaland",
          "Odisha",
          "Puducherry",
          "Punjab",
          "Rajasthan",
          "Sikkim",
          "Tamil Nadu",
          "Telangana ",
          "Tripura",
          "Uttar Pradesh",
          "Uttarakhand",
          "West Bengal"
         ],
         "xaxis": "x7",
         "y": [
          21535.26,
          7616392,
          144635,
          2916014,
          5027947,
          250,
          5441525,
          34515,
          128945,
          1141200,
          3371000,
          123485,
          0,
          1429944.08,
          3645526,
          641575,
          1389269,
          2571700,
          389170,
          200209,
          29464,
          263520,
          6823000,
          60808,
          10138000,
          169823,
          21450,
          6610607,
          4255738,
          628200,
          11123613,
          571336,
          14745892
         ],
         "yaxis": "y7"
        },
        {
         "name": "Rice - 2010",
         "type": "bar",
         "x": [
          "Andaman and Nicobar Islands",
          "Andhra Pradesh",
          "Arunachal Pradesh",
          "Assam",
          "Bihar",
          "Chandigarh",
          "Chhattisgarh",
          "Dadra and Nagar Haveli",
          "Goa",
          "Gujarat",
          "Haryana",
          "Himachal Pradesh",
          "Jammu and Kashmir ",
          "Jharkhand",
          "Karnataka",
          "Kerala",
          "Madhya Pradesh",
          "Maharashtra",
          "Manipur",
          "Meghalaya",
          "Mizoram",
          "Nagaland",
          "Odisha",
          "Puducherry",
          "Punjab",
          "Rajasthan",
          "Sikkim",
          "Tamil Nadu",
          "Telangana ",
          "Tripura",
          "Uttar Pradesh",
          "Uttarakhand",
          "West Bengal"
         ],
         "xaxis": "x8",
         "y": [
          23916,
          7883078,
          155993,
          5032529,
          3112618,
          103,
          6637737,
          20839,
          114994,
          1665800,
          3465000,
          128917,
          0,
          0,
          4473972,
          522738.1,
          1766596,
          2624900,
          0,
          207021,
          0,
          381360,
          6824000,
          51960,
          10837000,
          265545,
          20973,
          5792415,
          6536235,
          702473,
          11992299,
          545586,
          13389610
         ],
         "yaxis": "y8"
        },
        {
         "name": "Rice - 1997",
         "type": "bar",
         "x": [
          "Andaman and Nicobar Islands",
          "Andhra Pradesh",
          "Arunachal Pradesh",
          "Assam",
          "Bihar",
          "Chandigarh",
          "Chhattisgarh",
          "Dadra and Nagar Haveli",
          "Goa",
          "Gujarat",
          "Haryana",
          "Himachal Pradesh",
          "Jammu and Kashmir ",
          "Jharkhand",
          "Karnataka",
          "Kerala",
          "Madhya Pradesh",
          "Maharashtra",
          "Manipur",
          "Meghalaya",
          "Mizoram",
          "Nagaland",
          "Odisha",
          "Puducherry",
          "Punjab",
          "Rajasthan",
          "Sikkim",
          "Tamil Nadu",
          "Telangana ",
          "Tripura",
          "Uttar Pradesh",
          "Uttarakhand",
          "West Bengal"
         ],
         "xaxis": "x9",
         "y": [
          0,
          6436200,
          129505,
          2255230,
          5395078,
          0,
          0,
          0,
          59916,
          1042300,
          2556000,
          0,
          5488,
          0,
          3212602,
          0,
          0,
          2330646,
          348,
          150101,
          110573,
          188250,
          0,
          0,
          7904000,
          190200,
          0,
          6893730,
          2073800,
          0,
          11677947,
          0,
          13236590
         ],
         "yaxis": "y9"
        },
        {
         "name": "Rice - 1998",
         "type": "bar",
         "x": [
          "Andaman and Nicobar Islands",
          "Andhra Pradesh",
          "Arunachal Pradesh",
          "Assam",
          "Bihar",
          "Chandigarh",
          "Chhattisgarh",
          "Dadra and Nagar Haveli",
          "Goa",
          "Gujarat",
          "Haryana",
          "Himachal Pradesh",
          "Jammu and Kashmir ",
          "Jharkhand",
          "Karnataka",
          "Kerala",
          "Madhya Pradesh",
          "Maharashtra",
          "Manipur",
          "Meghalaya",
          "Mizoram",
          "Nagaland",
          "Odisha",
          "Puducherry",
          "Punjab",
          "Rajasthan",
          "Sikkim",
          "Tamil Nadu",
          "Telangana ",
          "Tripura",
          "Uttar Pradesh",
          "Uttarakhand",
          "West Bengal"
         ],
         "xaxis": "x10",
         "y": [
          0,
          7687800,
          114116,
          3254833,
          4670650,
          360,
          0,
          24793,
          0,
          1015900,
          2432000,
          116997,
          0,
          0,
          3656811,
          726743,
          1089500,
          2467600,
          382190,
          149742,
          110813,
          205000,
          5391322,
          56601,
          7940000,
          205488,
          21957,
          8215286,
          4190200,
          491430,
          10826635,
          0,
          13316452
         ],
         "yaxis": "y10"
        },
        {
         "name": "Rice - 1999",
         "type": "bar",
         "x": [
          "Andaman and Nicobar Islands",
          "Andhra Pradesh",
          "Arunachal Pradesh",
          "Assam",
          "Bihar",
          "Chandigarh",
          "Chhattisgarh",
          "Dadra and Nagar Haveli",
          "Goa",
          "Gujarat",
          "Haryana",
          "Himachal Pradesh",
          "Jammu and Kashmir ",
          "Jharkhand",
          "Karnataka",
          "Kerala",
          "Madhya Pradesh",
          "Maharashtra",
          "Manipur",
          "Meghalaya",
          "Mizoram",
          "Nagaland",
          "Odisha",
          "Puducherry",
          "Punjab",
          "Rajasthan",
          "Sikkim",
          "Tamil Nadu",
          "Telangana ",
          "Tripura",
          "Uttar Pradesh",
          "Uttarakhand",
          "West Bengal"
         ],
         "xaxis": "x11",
         "y": [
          0,
          7362441,
          134807,
          3860648,
          945254,
          240,
          0,
          28692,
          0,
          984900,
          2563000,
          120365,
          391528.60000000003,
          0,
          3716730,
          770686,
          2004938,
          2549300,
          364980,
          170733,
          88397,
          222000,
          5187040,
          59433,
          8716000,
          252598,
          23439,
          7225373,
          3275474,
          505680,
          12632709,
          0,
          13759680
         ],
         "yaxis": "y11"
        },
        {
         "name": "Rice - 2007",
         "type": "bar",
         "x": [
          "Andaman and Nicobar Islands",
          "Andhra Pradesh",
          "Arunachal Pradesh",
          "Assam",
          "Bihar",
          "Chandigarh",
          "Chhattisgarh",
          "Dadra and Nagar Haveli",
          "Goa",
          "Gujarat",
          "Haryana",
          "Himachal Pradesh",
          "Jammu and Kashmir ",
          "Jharkhand",
          "Karnataka",
          "Kerala",
          "Madhya Pradesh",
          "Maharashtra",
          "Manipur",
          "Meghalaya",
          "Mizoram",
          "Nagaland",
          "Odisha",
          "Puducherry",
          "Punjab",
          "Rajasthan",
          "Sikkim",
          "Tamil Nadu",
          "Telangana ",
          "Tripura",
          "Uttar Pradesh",
          "Uttarakhand",
          "West Bengal"
         ],
         "xaxis": "x12",
         "y": [
          0,
          8880000,
          158146,
          3318608,
          4458764,
          250,
          5634972,
          23700,
          121679,
          1474200,
          3606000,
          121453,
          561355,
          1470624,
          3868515,
          528488,
          1325175,
          29128,
          406150,
          200077,
          15688,
          311300,
          7540000,
          53324,
          10489000,
          259657,
          19480,
          5039954,
          4444000,
          640424,
          11780112,
          565067,
          14719520
         ],
         "yaxis": "y12"
        },
        {
         "name": "Rice - 2008",
         "type": "bar",
         "x": [
          "Andaman and Nicobar Islands",
          "Andhra Pradesh",
          "Arunachal Pradesh",
          "Assam",
          "Bihar",
          "Chandigarh",
          "Chhattisgarh",
          "Dadra and Nagar Haveli",
          "Goa",
          "Gujarat",
          "Haryana",
          "Himachal Pradesh",
          "Jammu and Kashmir ",
          "Jharkhand",
          "Karnataka",
          "Kerala",
          "Madhya Pradesh",
          "Maharashtra",
          "Manipur",
          "Meghalaya",
          "Mizoram",
          "Nagaland",
          "Odisha",
          "Puducherry",
          "Punjab",
          "Rajasthan",
          "Sikkim",
          "Tamil Nadu",
          "Telangana ",
          "Tripura",
          "Uttar Pradesh",
          "Uttarakhand",
          "West Bengal"
         ],
         "xaxis": "x13",
         "y": [
          0,
          8880586,
          164538,
          4008435,
          5589982,
          100,
          4707499,
          23400,
          121867,
          1302900,
          3299000,
          118277,
          0,
          0,
          4031538.0700000003,
          590241,
          1571103,
          2234210,
          0,
          203862,
          68917,
          345090,
          6812000,
          50716,
          11000000,
          241082,
          22230,
          5183385,
          5360547,
          627175,
          13097031,
          568321,
          15037240
         ],
         "yaxis": "y13"
        },
        {
         "name": "Rice - 2009",
         "type": "bar",
         "x": [
          "Andaman and Nicobar Islands",
          "Andhra Pradesh",
          "Arunachal Pradesh",
          "Assam",
          "Bihar",
          "Chandigarh",
          "Chhattisgarh",
          "Dadra and Nagar Haveli",
          "Goa",
          "Gujarat",
          "Haryana",
          "Himachal Pradesh",
          "Jammu and Kashmir ",
          "Jharkhand",
          "Karnataka",
          "Kerala",
          "Madhya Pradesh",
          "Maharashtra",
          "Manipur",
          "Meghalaya",
          "Mizoram",
          "Nagaland",
          "Odisha",
          "Puducherry",
          "Punjab",
          "Rajasthan",
          "Sikkim",
          "Tamil Nadu",
          "Telangana ",
          "Tripura",
          "Uttar Pradesh",
          "Uttarakhand",
          "West Bengal"
         ],
         "xaxis": "x14",
         "y": [
          0,
          7569071,
          143894.6,
          4408424,
          3640210,
          100,
          4347316,
          13500,
          100605,
          1293000,
          3628000,
          0,
          0,
          0,
          3877404.71,
          598339,
          1355660,
          2137114,
          0,
          204129,
          66131,
          240310,
          6913000,
          52330,
          11236000,
          228284,
          20930,
          5665258,
          3269196,
          640010,
          10776504,
          591016,
          14340605
         ],
         "yaxis": "y14"
        },
        {
         "name": "Rice - 2011",
         "type": "bar",
         "x": [
          "Andaman and Nicobar Islands",
          "Andhra Pradesh",
          "Arunachal Pradesh",
          "Assam",
          "Bihar",
          "Chandigarh",
          "Chhattisgarh",
          "Dadra and Nagar Haveli",
          "Goa",
          "Gujarat",
          "Haryana",
          "Himachal Pradesh",
          "Jammu and Kashmir ",
          "Jharkhand",
          "Karnataka",
          "Kerala",
          "Madhya Pradesh",
          "Maharashtra",
          "Manipur",
          "Meghalaya",
          "Mizoram",
          "Nagaland",
          "Odisha",
          "Puducherry",
          "Punjab",
          "Rajasthan",
          "Sikkim",
          "Tamil Nadu",
          "Telangana ",
          "Tripura",
          "Uttar Pradesh",
          "Uttarakhand",
          "West Bengal"
         ],
         "xaxis": "x15",
         "y": [
          0,
          7744175,
          159543,
          4715678,
          8237971,
          0,
          6300825,
          18552,
          121991,
          1789700,
          3574300,
          0,
          0,
          0,
          4181619,
          568993.48,
          2273045,
          2848900,
          0,
          222731,
          0,
          382380,
          5806000,
          42114,
          10542000,
          0,
          20880,
          7458657,
          5147617,
          718304,
          14022392,
          589764,
          14605766
         ],
         "yaxis": "y15"
        },
        {
         "name": "Rice - 2012",
         "type": "bar",
         "x": [
          "Andaman and Nicobar Islands",
          "Andhra Pradesh",
          "Arunachal Pradesh",
          "Assam",
          "Bihar",
          "Chandigarh",
          "Chhattisgarh",
          "Dadra and Nagar Haveli",
          "Goa",
          "Gujarat",
          "Haryana",
          "Himachal Pradesh",
          "Jammu and Kashmir ",
          "Jharkhand",
          "Karnataka",
          "Kerala",
          "Madhya Pradesh",
          "Maharashtra",
          "Manipur",
          "Meghalaya",
          "Mizoram",
          "Nagaland",
          "Odisha",
          "Puducherry",
          "Punjab",
          "Rajasthan",
          "Sikkim",
          "Tamil Nadu",
          "Telangana ",
          "Tripura",
          "Uttar Pradesh",
          "Uttarakhand",
          "West Bengal"
         ],
         "xaxis": "x16",
         "y": [
          0,
          6862854,
          174662,
          5120052,
          8322010,
          0,
          7848401,
          26704,
          122821,
          1497300,
          3941000,
          0,
          0,
          0,
          3364379,
          508299,
          3106146,
          3078040,
          0,
          265653,
          0,
          405180,
          9496000,
          46519,
          11390000,
          0,
          21340,
          4050334,
          0,
          713222,
          14415939,
          606891,
          14946735
         ],
         "yaxis": "y16"
        },
        {
         "name": "Rice - 2013",
         "type": "bar",
         "x": [
          "Andaman and Nicobar Islands",
          "Andhra Pradesh",
          "Arunachal Pradesh",
          "Assam",
          "Bihar",
          "Chandigarh",
          "Chhattisgarh",
          "Dadra and Nagar Haveli",
          "Goa",
          "Gujarat",
          "Haryana",
          "Himachal Pradesh",
          "Jammu and Kashmir ",
          "Jharkhand",
          "Karnataka",
          "Kerala",
          "Madhya Pradesh",
          "Maharashtra",
          "Manipur",
          "Meghalaya",
          "Mizoram",
          "Nagaland",
          "Odisha",
          "Puducherry",
          "Punjab",
          "Rajasthan",
          "Sikkim",
          "Tamil Nadu",
          "Telangana ",
          "Tripura",
          "Uttar Pradesh",
          "Uttarakhand",
          "West Bengal"
         ],
         "xaxis": "x17",
         "y": [
          0,
          7993425,
          184104,
          5193379,
          6649589,
          0,
          7102729,
          25497,
          126511,
          0,
          0,
          0,
          0,
          0,
          4052599,
          564325,
          3321724,
          3108290,
          0,
          160016,
          0,
          429640,
          7610000,
          49792,
          11267000,
          0,
          20260,
          7115195,
          6581090,
          711831,
          14635836,
          593068,
          15376869
         ],
         "yaxis": "y17"
        },
        {
         "name": "Rice - 2014",
         "type": "bar",
         "x": [
          "Andaman and Nicobar Islands",
          "Andhra Pradesh",
          "Arunachal Pradesh",
          "Assam",
          "Bihar",
          "Chandigarh",
          "Chhattisgarh",
          "Dadra and Nagar Haveli",
          "Goa",
          "Gujarat",
          "Haryana",
          "Himachal Pradesh",
          "Jammu and Kashmir ",
          "Jharkhand",
          "Karnataka",
          "Kerala",
          "Madhya Pradesh",
          "Maharashtra",
          "Manipur",
          "Meghalaya",
          "Mizoram",
          "Nagaland",
          "Odisha",
          "Puducherry",
          "Punjab",
          "Rajasthan",
          "Sikkim",
          "Tamil Nadu",
          "Telangana ",
          "Tripura",
          "Uttar Pradesh",
          "Uttarakhand",
          "West Bengal"
         ],
         "xaxis": "x18",
         "y": [
          0,
          16911168,
          189992,
          5222645,
          8241624,
          0,
          7977746,
          25907,
          120505,
          0,
          0,
          0,
          344823,
          0,
          4027747,
          562092,
          0,
          2946600,
          0,
          235551,
          0,
          454190,
          9840000,
          52717,
          11107000,
          0,
          20070,
          0,
          4544982,
          746954,
          13316967,
          1201720,
          15927196
         ],
         "yaxis": "y18"
        },
        {
         "name": "Rice - 2015",
         "type": "bar",
         "x": [
          "Andaman and Nicobar Islands",
          "Andhra Pradesh",
          "Arunachal Pradesh",
          "Assam",
          "Bihar",
          "Chandigarh",
          "Chhattisgarh",
          "Dadra and Nagar Haveli",
          "Goa",
          "Gujarat",
          "Haryana",
          "Himachal Pradesh",
          "Jammu and Kashmir ",
          "Jharkhand",
          "Karnataka",
          "Kerala",
          "Madhya Pradesh",
          "Maharashtra",
          "Manipur",
          "Meghalaya",
          "Mizoram",
          "Nagaland",
          "Odisha",
          "Puducherry",
          "Punjab",
          "Rajasthan",
          "Sikkim",
          "Tamil Nadu",
          "Telangana ",
          "Tripura",
          "Uttar Pradesh",
          "Uttarakhand",
          "West Bengal"
         ],
         "xaxis": "x19",
         "y": [
          0,
          0,
          0,
          0,
          0,
          0,
          0,
          0,
          0,
          0,
          0,
          0,
          0,
          0,
          0,
          0,
          0,
          0,
          0,
          0,
          0,
          0,
          5874000,
          0,
          0,
          0,
          19687,
          0,
          0,
          0,
          0,
          0,
          0
         ],
         "yaxis": "y19"
        },
        {
         "name": "Sugarcane - 2000",
         "type": "bar",
         "x": [
          "Andaman and Nicobar Islands",
          "Andhra Pradesh",
          "Arunachal Pradesh",
          "Assam",
          "Bihar",
          "Chandigarh",
          "Chhattisgarh",
          "Dadra and Nagar Haveli",
          "Goa",
          "Gujarat",
          "Haryana",
          "Himachal Pradesh",
          "Jammu and Kashmir ",
          "Jharkhand",
          "Karnataka",
          "Kerala",
          "Madhya Pradesh",
          "Maharashtra",
          "Manipur",
          "Meghalaya",
          "Mizoram",
          "Nagaland",
          "Odisha",
          "Puducherry",
          "Punjab",
          "Rajasthan",
          "Sikkim",
          "Tamil Nadu",
          "Telangana ",
          "Tripura",
          "Uttar Pradesh",
          "Uttarakhand",
          "West Bengal"
         ],
         "xaxis": "x20",
         "y": [
          3738,
          13558629,
          14358,
          987696,
          3985577,
          0,
          8628,
          92430,
          0,
          12689000,
          8170000,
          7854.1,
          417,
          0,
          42923496,
          275550,
          1656840,
          49568700,
          24170,
          237,
          6361,
          35000,
          963915.1999999998,
          200413,
          7770000,
          561338,
          0,
          34062855,
          4131502,
          54100,
          106067503,
          6831440,
          1465550
         ],
         "yaxis": "y20"
        },
        {
         "name": "Sugarcane - 2001",
         "type": "bar",
         "x": [
          "Andaman and Nicobar Islands",
          "Andhra Pradesh",
          "Arunachal Pradesh",
          "Assam",
          "Bihar",
          "Chandigarh",
          "Chhattisgarh",
          "Dadra and Nagar Haveli",
          "Goa",
          "Gujarat",
          "Haryana",
          "Himachal Pradesh",
          "Jammu and Kashmir ",
          "Jharkhand",
          "Karnataka",
          "Kerala",
          "Madhya Pradesh",
          "Maharashtra",
          "Manipur",
          "Meghalaya",
          "Mizoram",
          "Nagaland",
          "Odisha",
          "Puducherry",
          "Punjab",
          "Rajasthan",
          "Sikkim",
          "Tamil Nadu",
          "Telangana ",
          "Tripura",
          "Uttar Pradesh",
          "Uttarakhand",
          "West Bengal"
         ],
         "xaxis": "x21",
         "y": [
          2380,
          13383359,
          18920,
          1011398,
          5818262,
          0,
          9046,
          89110,
          0,
          12458000,
          9270000,
          11219,
          436,
          0,
          33016618,
          269780,
          1612840,
          45139800,
          0,
          226,
          9359,
          48000,
          644005.1000000001,
          197412,
          9250000,
          432127,
          0,
          32614900,
          4698530,
          52700,
          117981573,
          6958951,
          1513656
         ],
         "yaxis": "y21"
        },
        {
         "name": "Sugarcane - 2002",
         "type": "bar",
         "x": [
          "Andaman and Nicobar Islands",
          "Andhra Pradesh",
          "Arunachal Pradesh",
          "Assam",
          "Bihar",
          "Chandigarh",
          "Chhattisgarh",
          "Dadra and Nagar Haveli",
          "Goa",
          "Gujarat",
          "Haryana",
          "Himachal Pradesh",
          "Jammu and Kashmir ",
          "Jharkhand",
          "Karnataka",
          "Kerala",
          "Madhya Pradesh",
          "Maharashtra",
          "Manipur",
          "Meghalaya",
          "Mizoram",
          "Nagaland",
          "Odisha",
          "Puducherry",
          "Punjab",
          "Rajasthan",
          "Sikkim",
          "Tamil Nadu",
          "Telangana ",
          "Tripura",
          "Uttar Pradesh",
          "Uttarakhand",
          "West Bengal"
         ],
         "xaxis": "x22",
         "y": [
          13800,
          11755368,
          15284,
          916076,
          4520510,
          0,
          9967,
          122960,
          0,
          14069000,
          10650000,
          4649,
          475,
          0,
          32485308,
          312830,
          1560420,
          42617000,
          10450,
          219,
          7443,
          80000,
          753193.2000000001,
          209496,
          9110000,
          421716,
          0,
          24165390,
          3631850,
          56203,
          120948041,
          7362658,
          1281276
         ],
         "yaxis": "y22"
        },
        {
         "name": "Sugarcane - 2003",
         "type": "bar",
         "x": [
          "Andaman and Nicobar Islands",
          "Andhra Pradesh",
          "Arunachal Pradesh",
          "Assam",
          "Bihar",
          "Chandigarh",
          "Chhattisgarh",
          "Dadra and Nagar Haveli",
          "Goa",
          "Gujarat",
          "Haryana",
          "Himachal Pradesh",
          "Jammu and Kashmir ",
          "Jharkhand",
          "Karnataka",
          "Kerala",
          "Madhya Pradesh",
          "Maharashtra",
          "Manipur",
          "Meghalaya",
          "Mizoram",
          "Nagaland",
          "Odisha",
          "Puducherry",
          "Punjab",
          "Rajasthan",
          "Sikkim",
          "Tamil Nadu",
          "Telangana ",
          "Tripura",
          "Uttar Pradesh",
          "Uttarakhand",
          "West Bengal"
         ],
         "xaxis": "x23",
         "y": [
          2879.52,
          11515819,
          15150,
          981360,
          4285888,
          0,
          13290,
          96375,
          0,
          12669000,
          9280000,
          0,
          567,
          965.56,
          16015440,
          290980,
          1870120,
          25668400,
          10780,
          228,
          36174,
          128890,
          858094.4,
          146675,
          6620000,
          309908,
          0,
          19529277,
          3554005,
          47510,
          117566725,
          7023220,
          1252628
         ],
         "yaxis": "y23"
        },
        {
         "name": "Sugarcane - 2004",
         "type": "bar",
         "x": [
          "Andaman and Nicobar Islands",
          "Andhra Pradesh",
          "Arunachal Pradesh",
          "Assam",
          "Bihar",
          "Chandigarh",
          "Chhattisgarh",
          "Dadra and Nagar Haveli",
          "Goa",
          "Gujarat",
          "Haryana",
          "Himachal Pradesh",
          "Jammu and Kashmir ",
          "Jharkhand",
          "Karnataka",
          "Kerala",
          "Madhya Pradesh",
          "Maharashtra",
          "Manipur",
          "Meghalaya",
          "Mizoram",
          "Nagaland",
          "Odisha",
          "Puducherry",
          "Punjab",
          "Rajasthan",
          "Sikkim",
          "Tamil Nadu",
          "Telangana ",
          "Tripura",
          "Uttar Pradesh",
          "Uttarakhand",
          "West Bengal"
         ],
         "xaxis": "x24",
         "y": [
          1560,
          12701367,
          14132,
          883925,
          4111722,
          0,
          16450,
          120880,
          60583,
          14558000,
          8230000,
          0,
          0,
          13957.57,
          0,
          154300,
          1794420,
          23913700,
          9800,
          225,
          0,
          142100,
          926085.3000000002,
          115690,
          5170000,
          276642,
          0,
          24457244,
          3037805,
          50413,
          121755620,
          6358655,
          1033235
         ],
         "yaxis": "y24"
        },
        {
         "name": "Sugarcane - 2005",
         "type": "bar",
         "x": [
          "Andaman and Nicobar Islands",
          "Andhra Pradesh",
          "Arunachal Pradesh",
          "Assam",
          "Bihar",
          "Chandigarh",
          "Chhattisgarh",
          "Dadra and Nagar Haveli",
          "Goa",
          "Gujarat",
          "Haryana",
          "Himachal Pradesh",
          "Jammu and Kashmir ",
          "Jharkhand",
          "Karnataka",
          "Kerala",
          "Madhya Pradesh",
          "Maharashtra",
          "Manipur",
          "Meghalaya",
          "Mizoram",
          "Nagaland",
          "Odisha",
          "Puducherry",
          "Punjab",
          "Rajasthan",
          "Sikkim",
          "Tamil Nadu",
          "Telangana ",
          "Tripura",
          "Uttar Pradesh",
          "Uttarakhand",
          "West Bengal"
         ],
         "xaxis": "x25",
         "y": [
          2448.2,
          13236997,
          16181,
          871219,
          4240463,
          0,
          18562,
          122480,
          55867,
          17786000,
          8310000,
          25094,
          753.0999999999999,
          537.88,
          19647650,
          91650,
          2236980,
          38813700,
          2290,
          219,
          45953,
          210880,
          1073008.2999999998,
          299000,
          5241000,
          482634,
          0,
          35113269,
          4419398,
          43334,
          125469871,
          6635715,
          1247713
         ],
         "yaxis": "y25"
        },
        {
         "name": "Sugarcane - 2006",
         "type": "bar",
         "x": [
          "Andaman and Nicobar Islands",
          "Andhra Pradesh",
          "Arunachal Pradesh",
          "Assam",
          "Bihar",
          "Chandigarh",
          "Chhattisgarh",
          "Dadra and Nagar Haveli",
          "Goa",
          "Gujarat",
          "Haryana",
          "Himachal Pradesh",
          "Jammu and Kashmir ",
          "Jharkhand",
          "Karnataka",
          "Kerala",
          "Madhya Pradesh",
          "Maharashtra",
          "Manipur",
          "Meghalaya",
          "Mizoram",
          "Nagaland",
          "Odisha",
          "Puducherry",
          "Punjab",
          "Rajasthan",
          "Sikkim",
          "Tamil Nadu",
          "Telangana ",
          "Tripura",
          "Uttar Pradesh",
          "Uttarakhand",
          "West Bengal"
         ],
         "xaxis": "x26",
         "y": [
          2500,
          16805897,
          16843,
          1055337,
          0,
          0,
          20316,
          93360,
          58279,
          16554000,
          9651000,
          59184,
          0,
          26102,
          23641948,
          65790,
          2692260,
          0,
          16660,
          239,
          12188,
          233850,
          1274370.5999999999,
          383706,
          0,
          628963,
          0,
          48037332,
          4885741,
          42373,
          133949379,
          7267238,
          1266705
         ],
         "yaxis": "y26"
        },
        {
         "name": "Sugarcane - 2010",
         "type": "bar",
         "x": [
          "Andaman and Nicobar Islands",
          "Andhra Pradesh",
          "Arunachal Pradesh",
          "Assam",
          "Bihar",
          "Chandigarh",
          "Chhattisgarh",
          "Dadra and Nagar Haveli",
          "Goa",
          "Gujarat",
          "Haryana",
          "Himachal Pradesh",
          "Jammu and Kashmir ",
          "Jharkhand",
          "Karnataka",
          "Kerala",
          "Madhya Pradesh",
          "Maharashtra",
          "Manipur",
          "Meghalaya",
          "Mizoram",
          "Nagaland",
          "Odisha",
          "Puducherry",
          "Punjab",
          "Rajasthan",
          "Sikkim",
          "Tamil Nadu",
          "Telangana ",
          "Tripura",
          "Uttar Pradesh",
          "Uttarakhand",
          "West Bengal"
         ],
         "xaxis": "x27",
         "y": [
          1332.95,
          11876398,
          28974,
          1076332,
          11827664,
          0,
          18456,
          32800,
          49109,
          13763000,
          604000,
          38253,
          0,
          0,
          42276713,
          271844.64,
          1960980,
          85691500,
          0,
          180,
          0,
          184920,
          902697.3,
          277683,
          0,
          369354,
          0,
          34251796,
          3066057,
          46481,
          120544784,
          6235474,
          1134059
         ],
         "yaxis": "y27"
        },
        {
         "name": "Sugarcane - 1997",
         "type": "bar",
         "x": [
          "Andaman and Nicobar Islands",
          "Andhra Pradesh",
          "Arunachal Pradesh",
          "Assam",
          "Bihar",
          "Chandigarh",
          "Chhattisgarh",
          "Dadra and Nagar Haveli",
          "Goa",
          "Gujarat",
          "Haryana",
          "Himachal Pradesh",
          "Jammu and Kashmir ",
          "Jharkhand",
          "Karnataka",
          "Kerala",
          "Madhya Pradesh",
          "Maharashtra",
          "Manipur",
          "Meghalaya",
          "Mizoram",
          "Nagaland",
          "Odisha",
          "Puducherry",
          "Punjab",
          "Rajasthan",
          "Sikkim",
          "Tamil Nadu",
          "Telangana ",
          "Tripura",
          "Uttar Pradesh",
          "Uttarakhand",
          "West Bengal"
         ],
         "xaxis": "x28",
         "y": [
          0,
          11028300,
          15806,
          1287451,
          4862145,
          0,
          0,
          0,
          0,
          11832000,
          7500000,
          0,
          0,
          0,
          28999269,
          0,
          0,
          158866,
          2,
          225,
          7488,
          0,
          1144012,
          0,
          7150000,
          1154200,
          0,
          307019000,
          2925000,
          0,
          114326591,
          0,
          1818700
         ],
         "yaxis": "y28"
        },
        {
         "name": "Sugarcane - 1998",
         "type": "bar",
         "x": [
          "Andaman and Nicobar Islands",
          "Andhra Pradesh",
          "Arunachal Pradesh",
          "Assam",
          "Bihar",
          "Chandigarh",
          "Chhattisgarh",
          "Dadra and Nagar Haveli",
          "Goa",
          "Gujarat",
          "Haryana",
          "Himachal Pradesh",
          "Jammu and Kashmir ",
          "Jharkhand",
          "Karnataka",
          "Kerala",
          "Madhya Pradesh",
          "Maharashtra",
          "Manipur",
          "Meghalaya",
          "Mizoram",
          "Nagaland",
          "Odisha",
          "Puducherry",
          "Punjab",
          "Rajasthan",
          "Sikkim",
          "Tamil Nadu",
          "Telangana ",
          "Tripura",
          "Uttar Pradesh",
          "Uttarakhand",
          "West Bengal"
         ],
         "xaxis": "x29",
         "y": [
          0,
          12687100,
          15032,
          1223578,
          5032996,
          0,
          0,
          122320,
          0,
          13565000,
          7010000,
          0,
          0,
          0,
          0,
          472160,
          1558440,
          47151100,
          22870,
          225,
          7863,
          0,
          1469529,
          232369,
          6130000,
          1078790,
          0,
          46672800,
          3814600,
          51300,
          109489138,
          0,
          2001900
         ],
         "yaxis": "y29"
        },
        {
         "name": "Sugarcane - 1999",
         "type": "bar",
         "x": [
          "Andaman and Nicobar Islands",
          "Andhra Pradesh",
          "Arunachal Pradesh",
          "Assam",
          "Bihar",
          "Chandigarh",
          "Chhattisgarh",
          "Dadra and Nagar Haveli",
          "Goa",
          "Gujarat",
          "Haryana",
          "Himachal Pradesh",
          "Jammu and Kashmir ",
          "Jharkhand",
          "Karnataka",
          "Kerala",
          "Madhya Pradesh",
          "Maharashtra",
          "Manipur",
          "Meghalaya",
          "Mizoram",
          "Nagaland",
          "Odisha",
          "Puducherry",
          "Punjab",
          "Rajasthan",
          "Sikkim",
          "Tamil Nadu",
          "Telangana ",
          "Tripura",
          "Uttar Pradesh",
          "Uttarakhand",
          "West Bengal"
         ],
         "xaxis": "x30",
         "y": [
          0,
          14671879,
          16219,
          1154615,
          3988969,
          0,
          0,
          117120,
          0,
          14065000,
          7640000,
          15470,
          141.8,
          0,
          37397876,
          578820,
          1902760,
          53140400,
          21230,
          223,
          1510,
          30000,
          1826930,
          237610,
          6770000,
          786833,
          0,
          35501817,
          3835735,
          51300,
          108577182,
          0,
          1762806
         ],
         "yaxis": "y30"
        },
        {
         "name": "Sugarcane - 2007",
         "type": "bar",
         "x": [
          "Andaman and Nicobar Islands",
          "Andhra Pradesh",
          "Arunachal Pradesh",
          "Assam",
          "Bihar",
          "Chandigarh",
          "Chhattisgarh",
          "Dadra and Nagar Haveli",
          "Goa",
          "Gujarat",
          "Haryana",
          "Himachal Pradesh",
          "Jammu and Kashmir ",
          "Jharkhand",
          "Karnataka",
          "Kerala",
          "Madhya Pradesh",
          "Maharashtra",
          "Manipur",
          "Meghalaya",
          "Mizoram",
          "Nagaland",
          "Odisha",
          "Puducherry",
          "Punjab",
          "Rajasthan",
          "Sikkim",
          "Tamil Nadu",
          "Telangana ",
          "Tripura",
          "Uttar Pradesh",
          "Uttarakhand",
          "West Bengal"
         ],
         "xaxis": "x31",
         "y": [
          0,
          15159000,
          21754,
          979860,
          4027229,
          0,
          27254,
          0,
          56027,
          15190000,
          8850000,
          58442,
          221.3,
          40610,
          26028309,
          159150,
          3276720,
          883099,
          16660,
          252,
          828,
          220320,
          1069227.4,
          228416,
          0,
          594056,
          0,
          38070965,
          5023000,
          46678,
          124665288,
          7594553,
          1772001
         ],
         "yaxis": "y31"
        },
        {
         "name": "Sugarcane - 2008",
         "type": "bar",
         "x": [
          "Andaman and Nicobar Islands",
          "Andhra Pradesh",
          "Arunachal Pradesh",
          "Assam",
          "Bihar",
          "Chandigarh",
          "Chhattisgarh",
          "Dadra and Nagar Haveli",
          "Goa",
          "Gujarat",
          "Haryana",
          "Himachal Pradesh",
          "Jammu and Kashmir ",
          "Jharkhand",
          "Karnataka",
          "Kerala",
          "Madhya Pradesh",
          "Maharashtra",
          "Manipur",
          "Meghalaya",
          "Mizoram",
          "Nagaland",
          "Odisha",
          "Puducherry",
          "Punjab",
          "Rajasthan",
          "Sikkim",
          "Tamil Nadu",
          "Telangana ",
          "Tripura",
          "Uttar Pradesh",
          "Uttarakhand",
          "West Bengal"
         ],
         "xaxis": "x32",
         "y": [
          0,
          11940595,
          23439,
          1099749,
          4959918,
          0,
          22230,
          0,
          49253,
          15512000,
          5242000,
          53068,
          0,
          0,
          24266201,
          275480,
          2381030,
          121297200,
          0,
          250,
          13696,
          185760,
          646243.7,
          162323,
          0,
          387814,
          0,
          32798888,
          3442404,
          51695,
          109047670,
          5683369,
          1638267
         ],
         "yaxis": "y32"
        },
        {
         "name": "Sugarcane - 2009",
         "type": "bar",
         "x": [
          "Andaman and Nicobar Islands",
          "Andhra Pradesh",
          "Arunachal Pradesh",
          "Assam",
          "Bihar",
          "Chandigarh",
          "Chhattisgarh",
          "Dadra and Nagar Haveli",
          "Goa",
          "Gujarat",
          "Haryana",
          "Himachal Pradesh",
          "Jammu and Kashmir ",
          "Jharkhand",
          "Karnataka",
          "Kerala",
          "Madhya Pradesh",
          "Maharashtra",
          "Manipur",
          "Meghalaya",
          "Mizoram",
          "Nagaland",
          "Odisha",
          "Puducherry",
          "Punjab",
          "Rajasthan",
          "Sikkim",
          "Tamil Nadu",
          "Telangana ",
          "Tripura",
          "Uttar Pradesh",
          "Uttarakhand",
          "West Bengal"
         ],
         "xaxis": "x33",
         "y": [
          0,
          9561099,
          27145,
          1062418,
          3443693,
          0,
          35356,
          0,
          52343,
          13304000,
          4078900,
          0,
          0,
          0,
          32285023,
          284970,
          1847170,
          64159300,
          0,
          206,
          12368,
          152880,
          489940.1,
          247254,
          370000,
          344502,
          0,
          29758209,
          2134764,
          44913,
          117139919,
          6088488,
          1000808
         ],
         "yaxis": "y33"
        },
        {
         "name": "Sugarcane - 2011",
         "type": "bar",
         "x": [
          "Andaman and Nicobar Islands",
          "Andhra Pradesh",
          "Arunachal Pradesh",
          "Assam",
          "Bihar",
          "Chandigarh",
          "Chhattisgarh",
          "Dadra and Nagar Haveli",
          "Goa",
          "Gujarat",
          "Haryana",
          "Himachal Pradesh",
          "Jammu and Kashmir ",
          "Jharkhand",
          "Karnataka",
          "Kerala",
          "Madhya Pradesh",
          "Maharashtra",
          "Manipur",
          "Meghalaya",
          "Mizoram",
          "Nagaland",
          "Odisha",
          "Puducherry",
          "Punjab",
          "Rajasthan",
          "Sikkim",
          "Tamil Nadu",
          "Telangana ",
          "Tripura",
          "Uttar Pradesh",
          "Uttarakhand",
          "West Bengal"
         ],
         "xaxis": "x34",
         "y": [
          0,
          12844380,
          30000,
          1052514,
          0,
          0,
          45441,
          53200,
          46584,
          12748000,
          695000,
          0,
          0,
          0,
          39470478,
          263034.2,
          1965790,
          89456100,
          0,
          199,
          0,
          186670,
          884713.1,
          287785,
          5653000,
          0,
          0,
          38974842,
          3844477,
          45001,
          128818743,
          6348078,
          1681444
         ],
         "yaxis": "y34"
        },
        {
         "name": "Sugarcane - 2012",
         "type": "bar",
         "x": [
          "Andaman and Nicobar Islands",
          "Andhra Pradesh",
          "Arunachal Pradesh",
          "Assam",
          "Bihar",
          "Chandigarh",
          "Chhattisgarh",
          "Dadra and Nagar Haveli",
          "Goa",
          "Gujarat",
          "Haryana",
          "Himachal Pradesh",
          "Jammu and Kashmir ",
          "Jharkhand",
          "Karnataka",
          "Kerala",
          "Madhya Pradesh",
          "Maharashtra",
          "Manipur",
          "Meghalaya",
          "Mizoram",
          "Nagaland",
          "Odisha",
          "Puducherry",
          "Punjab",
          "Rajasthan",
          "Sikkim",
          "Tamil Nadu",
          "Telangana ",
          "Tripura",
          "Uttar Pradesh",
          "Uttarakhand",
          "West Bengal"
         ],
         "xaxis": "x35",
         "y": [
          0,
          11993130,
          30151,
          1028161,
          12741415,
          0,
          25800,
          52960,
          46055,
          1260800,
          7500000,
          0,
          0,
          0,
          35510714,
          16572,
          2756580,
          75335000,
          0,
          280,
          0,
          187570,
          952366.8999999999,
          304516,
          5832000,
          0,
          0,
          34014097,
          0,
          45437,
          137904315,
          6344504,
          1617025
         ],
         "yaxis": "y35"
        },
        {
         "name": "Sugarcane - 2013",
         "type": "bar",
         "x": [
          "Andaman and Nicobar Islands",
          "Andhra Pradesh",
          "Arunachal Pradesh",
          "Assam",
          "Bihar",
          "Chandigarh",
          "Chhattisgarh",
          "Dadra and Nagar Haveli",
          "Goa",
          "Gujarat",
          "Haryana",
          "Himachal Pradesh",
          "Jammu and Kashmir ",
          "Jharkhand",
          "Karnataka",
          "Kerala",
          "Madhya Pradesh",
          "Maharashtra",
          "Manipur",
          "Meghalaya",
          "Mizoram",
          "Nagaland",
          "Odisha",
          "Puducherry",
          "Punjab",
          "Rajasthan",
          "Sikkim",
          "Tamil Nadu",
          "Telangana ",
          "Tripura",
          "Uttar Pradesh",
          "Uttarakhand",
          "West Bengal"
         ],
         "xaxis": "x36",
         "y": [
          0,
          12008047,
          30351,
          1075171,
          12881781,
          0,
          2153011,
          0,
          47669,
          0,
          0,
          0,
          0,
          0,
          38042382,
          22152,
          2797460,
          83954000,
          0,
          315,
          0,
          0,
          936512.2,
          304066,
          6675000,
          0,
          0,
          32454135,
          3376625,
          49598,
          142045762,
          6061428,
          1945042
         ],
         "yaxis": "y36"
        },
        {
         "name": "Sugarcane - 2014",
         "type": "bar",
         "x": [
          "Andaman and Nicobar Islands",
          "Andhra Pradesh",
          "Arunachal Pradesh",
          "Assam",
          "Bihar",
          "Chandigarh",
          "Chhattisgarh",
          "Dadra and Nagar Haveli",
          "Goa",
          "Gujarat",
          "Haryana",
          "Himachal Pradesh",
          "Jammu and Kashmir ",
          "Jharkhand",
          "Karnataka",
          "Kerala",
          "Madhya Pradesh",
          "Maharashtra",
          "Manipur",
          "Meghalaya",
          "Mizoram",
          "Nagaland",
          "Odisha",
          "Puducherry",
          "Punjab",
          "Rajasthan",
          "Sikkim",
          "Tamil Nadu",
          "Telangana ",
          "Tripura",
          "Uttar Pradesh",
          "Uttarakhand",
          "West Bengal"
         ],
         "xaxis": "x37",
         "y": [
          0,
          10002941,
          34900,
          1099134,
          15498951,
          0,
          76149,
          0,
          49215,
          0,
          0,
          0,
          1957.5,
          0,
          43838057,
          14853,
          0,
          91538100,
          0,
          338,
          0,
          189330,
          722890.5999999999,
          316965,
          7039000,
          0,
          0,
          0,
          3343035,
          41510,
          146576786,
          6108965,
          2105506
         ],
         "yaxis": "y37"
        },
        {
         "name": "Sugarcane - 2015",
         "type": "bar",
         "x": [
          "Andaman and Nicobar Islands",
          "Andhra Pradesh",
          "Arunachal Pradesh",
          "Assam",
          "Bihar",
          "Chandigarh",
          "Chhattisgarh",
          "Dadra and Nagar Haveli",
          "Goa",
          "Gujarat",
          "Haryana",
          "Himachal Pradesh",
          "Jammu and Kashmir ",
          "Jharkhand",
          "Karnataka",
          "Kerala",
          "Madhya Pradesh",
          "Maharashtra",
          "Manipur",
          "Meghalaya",
          "Mizoram",
          "Nagaland",
          "Odisha",
          "Puducherry",
          "Punjab",
          "Rajasthan",
          "Sikkim",
          "Tamil Nadu",
          "Telangana ",
          "Tripura",
          "Uttar Pradesh",
          "Uttarakhand",
          "West Bengal"
         ],
         "xaxis": "x38",
         "y": [
          0,
          0,
          0,
          0,
          0,
          0,
          0,
          0,
          0,
          0,
          0,
          0,
          0,
          0,
          0,
          0,
          0,
          0,
          0,
          0,
          0,
          0,
          577157.2000000001,
          0,
          0,
          0,
          0,
          0,
          0,
          0,
          0,
          0,
          0
         ],
         "yaxis": "y38"
        }
       ],
       "layout": {
        "annotations": [
         {
          "font": {
           "size": 16
          },
          "showarrow": false,
          "text": "Rice - 2000",
          "x": 0.021329639889196676,
          "xanchor": "center",
          "xref": "paper",
          "y": 1,
          "yanchor": "bottom",
          "yref": "paper"
         },
         {
          "font": {
           "size": 16
          },
          "showarrow": false,
          "text": "Rice - 2001",
          "x": 0.0745152354570637,
          "xanchor": "center",
          "xref": "paper",
          "y": 1,
          "yanchor": "bottom",
          "yref": "paper"
         },
         {
          "font": {
           "size": 16
          },
          "showarrow": false,
          "text": "Rice - 2002",
          "x": 0.12770083102493074,
          "xanchor": "center",
          "xref": "paper",
          "y": 1,
          "yanchor": "bottom",
          "yref": "paper"
         },
         {
          "font": {
           "size": 16
          },
          "showarrow": false,
          "text": "Rice - 2003",
          "x": 0.1808864265927978,
          "xanchor": "center",
          "xref": "paper",
          "y": 1,
          "yanchor": "bottom",
          "yref": "paper"
         },
         {
          "font": {
           "size": 16
          },
          "showarrow": false,
          "text": "Rice - 2004",
          "x": 0.2340720221606648,
          "xanchor": "center",
          "xref": "paper",
          "y": 1,
          "yanchor": "bottom",
          "yref": "paper"
         },
         {
          "font": {
           "size": 16
          },
          "showarrow": false,
          "text": "Rice - 2005",
          "x": 0.28725761772853187,
          "xanchor": "center",
          "xref": "paper",
          "y": 1,
          "yanchor": "bottom",
          "yref": "paper"
         },
         {
          "font": {
           "size": 16
          },
          "showarrow": false,
          "text": "Rice - 2006",
          "x": 0.3404432132963989,
          "xanchor": "center",
          "xref": "paper",
          "y": 1,
          "yanchor": "bottom",
          "yref": "paper"
         },
         {
          "font": {
           "size": 16
          },
          "showarrow": false,
          "text": "Rice - 2010",
          "x": 0.39362880886426593,
          "xanchor": "center",
          "xref": "paper",
          "y": 1,
          "yanchor": "bottom",
          "yref": "paper"
         },
         {
          "font": {
           "size": 16
          },
          "showarrow": false,
          "text": "Rice - 1997",
          "x": 0.44681440443213294,
          "xanchor": "center",
          "xref": "paper",
          "y": 1,
          "yanchor": "bottom",
          "yref": "paper"
         },
         {
          "font": {
           "size": 16
          },
          "showarrow": false,
          "text": "Rice - 1998",
          "x": 0.5,
          "xanchor": "center",
          "xref": "paper",
          "y": 1,
          "yanchor": "bottom",
          "yref": "paper"
         },
         {
          "font": {
           "size": 16
          },
          "showarrow": false,
          "text": "Rice - 1999",
          "x": 0.5531855955678671,
          "xanchor": "center",
          "xref": "paper",
          "y": 1,
          "yanchor": "bottom",
          "yref": "paper"
         },
         {
          "font": {
           "size": 16
          },
          "showarrow": false,
          "text": "Rice - 2007",
          "x": 0.606371191135734,
          "xanchor": "center",
          "xref": "paper",
          "y": 1,
          "yanchor": "bottom",
          "yref": "paper"
         },
         {
          "font": {
           "size": 16
          },
          "showarrow": false,
          "text": "Rice - 2008",
          "x": 0.6595567867036012,
          "xanchor": "center",
          "xref": "paper",
          "y": 1,
          "yanchor": "bottom",
          "yref": "paper"
         },
         {
          "font": {
           "size": 16
          },
          "showarrow": false,
          "text": "Rice - 2009",
          "x": 0.7127423822714681,
          "xanchor": "center",
          "xref": "paper",
          "y": 1,
          "yanchor": "bottom",
          "yref": "paper"
         },
         {
          "font": {
           "size": 16
          },
          "showarrow": false,
          "text": "Rice - 2011",
          "x": 0.7659279778393352,
          "xanchor": "center",
          "xref": "paper",
          "y": 1,
          "yanchor": "bottom",
          "yref": "paper"
         },
         {
          "font": {
           "size": 16
          },
          "showarrow": false,
          "text": "Rice - 2012",
          "x": 0.8191135734072021,
          "xanchor": "center",
          "xref": "paper",
          "y": 1,
          "yanchor": "bottom",
          "yref": "paper"
         },
         {
          "font": {
           "size": 16
          },
          "showarrow": false,
          "text": "Rice - 2013",
          "x": 0.8722991689750692,
          "xanchor": "center",
          "xref": "paper",
          "y": 1,
          "yanchor": "bottom",
          "yref": "paper"
         },
         {
          "font": {
           "size": 16
          },
          "showarrow": false,
          "text": "Rice - 2014",
          "x": 0.9254847645429363,
          "xanchor": "center",
          "xref": "paper",
          "y": 1,
          "yanchor": "bottom",
          "yref": "paper"
         },
         {
          "font": {
           "size": 16
          },
          "showarrow": false,
          "text": "Rice - 2015",
          "x": 0.9786703601108033,
          "xanchor": "center",
          "xref": "paper",
          "y": 1,
          "yanchor": "bottom",
          "yref": "paper"
         },
         {
          "font": {
           "size": 16
          },
          "showarrow": false,
          "text": "Sugarcane - 2000",
          "x": 0.021329639889196676,
          "xanchor": "center",
          "xref": "paper",
          "y": 0.45,
          "yanchor": "bottom",
          "yref": "paper"
         },
         {
          "font": {
           "size": 16
          },
          "showarrow": false,
          "text": "Sugarcane - 2001",
          "x": 0.0745152354570637,
          "xanchor": "center",
          "xref": "paper",
          "y": 0.45,
          "yanchor": "bottom",
          "yref": "paper"
         },
         {
          "font": {
           "size": 16
          },
          "showarrow": false,
          "text": "Sugarcane - 2002",
          "x": 0.12770083102493074,
          "xanchor": "center",
          "xref": "paper",
          "y": 0.45,
          "yanchor": "bottom",
          "yref": "paper"
         },
         {
          "font": {
           "size": 16
          },
          "showarrow": false,
          "text": "Sugarcane - 2003",
          "x": 0.1808864265927978,
          "xanchor": "center",
          "xref": "paper",
          "y": 0.45,
          "yanchor": "bottom",
          "yref": "paper"
         },
         {
          "font": {
           "size": 16
          },
          "showarrow": false,
          "text": "Sugarcane - 2004",
          "x": 0.2340720221606648,
          "xanchor": "center",
          "xref": "paper",
          "y": 0.45,
          "yanchor": "bottom",
          "yref": "paper"
         },
         {
          "font": {
           "size": 16
          },
          "showarrow": false,
          "text": "Sugarcane - 2005",
          "x": 0.28725761772853187,
          "xanchor": "center",
          "xref": "paper",
          "y": 0.45,
          "yanchor": "bottom",
          "yref": "paper"
         },
         {
          "font": {
           "size": 16
          },
          "showarrow": false,
          "text": "Sugarcane - 2006",
          "x": 0.3404432132963989,
          "xanchor": "center",
          "xref": "paper",
          "y": 0.45,
          "yanchor": "bottom",
          "yref": "paper"
         },
         {
          "font": {
           "size": 16
          },
          "showarrow": false,
          "text": "Sugarcane - 2010",
          "x": 0.39362880886426593,
          "xanchor": "center",
          "xref": "paper",
          "y": 0.45,
          "yanchor": "bottom",
          "yref": "paper"
         },
         {
          "font": {
           "size": 16
          },
          "showarrow": false,
          "text": "Sugarcane - 1997",
          "x": 0.44681440443213294,
          "xanchor": "center",
          "xref": "paper",
          "y": 0.45,
          "yanchor": "bottom",
          "yref": "paper"
         },
         {
          "font": {
           "size": 16
          },
          "showarrow": false,
          "text": "Sugarcane - 1998",
          "x": 0.5,
          "xanchor": "center",
          "xref": "paper",
          "y": 0.45,
          "yanchor": "bottom",
          "yref": "paper"
         },
         {
          "font": {
           "size": 16
          },
          "showarrow": false,
          "text": "Sugarcane - 1999",
          "x": 0.5531855955678671,
          "xanchor": "center",
          "xref": "paper",
          "y": 0.45,
          "yanchor": "bottom",
          "yref": "paper"
         },
         {
          "font": {
           "size": 16
          },
          "showarrow": false,
          "text": "Sugarcane - 2007",
          "x": 0.606371191135734,
          "xanchor": "center",
          "xref": "paper",
          "y": 0.45,
          "yanchor": "bottom",
          "yref": "paper"
         },
         {
          "font": {
           "size": 16
          },
          "showarrow": false,
          "text": "Sugarcane - 2008",
          "x": 0.6595567867036012,
          "xanchor": "center",
          "xref": "paper",
          "y": 0.45,
          "yanchor": "bottom",
          "yref": "paper"
         },
         {
          "font": {
           "size": 16
          },
          "showarrow": false,
          "text": "Sugarcane - 2009",
          "x": 0.7127423822714681,
          "xanchor": "center",
          "xref": "paper",
          "y": 0.45,
          "yanchor": "bottom",
          "yref": "paper"
         },
         {
          "font": {
           "size": 16
          },
          "showarrow": false,
          "text": "Sugarcane - 2011",
          "x": 0.7659279778393352,
          "xanchor": "center",
          "xref": "paper",
          "y": 0.45,
          "yanchor": "bottom",
          "yref": "paper"
         },
         {
          "font": {
           "size": 16
          },
          "showarrow": false,
          "text": "Sugarcane - 2012",
          "x": 0.8191135734072021,
          "xanchor": "center",
          "xref": "paper",
          "y": 0.45,
          "yanchor": "bottom",
          "yref": "paper"
         },
         {
          "font": {
           "size": 16
          },
          "showarrow": false,
          "text": "Sugarcane - 2013",
          "x": 0.8722991689750692,
          "xanchor": "center",
          "xref": "paper",
          "y": 0.45,
          "yanchor": "bottom",
          "yref": "paper"
         },
         {
          "font": {
           "size": 16
          },
          "showarrow": false,
          "text": "Sugarcane - 2014",
          "x": 0.9254847645429363,
          "xanchor": "center",
          "xref": "paper",
          "y": 0.45,
          "yanchor": "bottom",
          "yref": "paper"
         },
         {
          "font": {
           "size": 16
          },
          "showarrow": false,
          "text": "Sugarcane - 2015",
          "x": 0.9786703601108033,
          "xanchor": "center",
          "xref": "paper",
          "y": 0.45,
          "yanchor": "bottom",
          "yref": "paper"
         }
        ],
        "height": 1500,
        "showlegend": false,
        "template": {
         "data": {
          "bar": [
           {
            "error_x": {
             "color": "#2a3f5f"
            },
            "error_y": {
             "color": "#2a3f5f"
            },
            "marker": {
             "line": {
              "color": "#E5ECF6",
              "width": 0.5
             },
             "pattern": {
              "fillmode": "overlay",
              "size": 10,
              "solidity": 0.2
             }
            },
            "type": "bar"
           }
          ],
          "barpolar": [
           {
            "marker": {
             "line": {
              "color": "#E5ECF6",
              "width": 0.5
             },
             "pattern": {
              "fillmode": "overlay",
              "size": 10,
              "solidity": 0.2
             }
            },
            "type": "barpolar"
           }
          ],
          "carpet": [
           {
            "aaxis": {
             "endlinecolor": "#2a3f5f",
             "gridcolor": "white",
             "linecolor": "white",
             "minorgridcolor": "white",
             "startlinecolor": "#2a3f5f"
            },
            "baxis": {
             "endlinecolor": "#2a3f5f",
             "gridcolor": "white",
             "linecolor": "white",
             "minorgridcolor": "white",
             "startlinecolor": "#2a3f5f"
            },
            "type": "carpet"
           }
          ],
          "choropleth": [
           {
            "colorbar": {
             "outlinewidth": 0,
             "ticks": ""
            },
            "type": "choropleth"
           }
          ],
          "contour": [
           {
            "colorbar": {
             "outlinewidth": 0,
             "ticks": ""
            },
            "colorscale": [
             [
              0,
              "#0d0887"
             ],
             [
              0.1111111111111111,
              "#46039f"
             ],
             [
              0.2222222222222222,
              "#7201a8"
             ],
             [
              0.3333333333333333,
              "#9c179e"
             ],
             [
              0.4444444444444444,
              "#bd3786"
             ],
             [
              0.5555555555555556,
              "#d8576b"
             ],
             [
              0.6666666666666666,
              "#ed7953"
             ],
             [
              0.7777777777777778,
              "#fb9f3a"
             ],
             [
              0.8888888888888888,
              "#fdca26"
             ],
             [
              1,
              "#f0f921"
             ]
            ],
            "type": "contour"
           }
          ],
          "contourcarpet": [
           {
            "colorbar": {
             "outlinewidth": 0,
             "ticks": ""
            },
            "type": "contourcarpet"
           }
          ],
          "heatmap": [
           {
            "colorbar": {
             "outlinewidth": 0,
             "ticks": ""
            },
            "colorscale": [
             [
              0,
              "#0d0887"
             ],
             [
              0.1111111111111111,
              "#46039f"
             ],
             [
              0.2222222222222222,
              "#7201a8"
             ],
             [
              0.3333333333333333,
              "#9c179e"
             ],
             [
              0.4444444444444444,
              "#bd3786"
             ],
             [
              0.5555555555555556,
              "#d8576b"
             ],
             [
              0.6666666666666666,
              "#ed7953"
             ],
             [
              0.7777777777777778,
              "#fb9f3a"
             ],
             [
              0.8888888888888888,
              "#fdca26"
             ],
             [
              1,
              "#f0f921"
             ]
            ],
            "type": "heatmap"
           }
          ],
          "heatmapgl": [
           {
            "colorbar": {
             "outlinewidth": 0,
             "ticks": ""
            },
            "colorscale": [
             [
              0,
              "#0d0887"
             ],
             [
              0.1111111111111111,
              "#46039f"
             ],
             [
              0.2222222222222222,
              "#7201a8"
             ],
             [
              0.3333333333333333,
              "#9c179e"
             ],
             [
              0.4444444444444444,
              "#bd3786"
             ],
             [
              0.5555555555555556,
              "#d8576b"
             ],
             [
              0.6666666666666666,
              "#ed7953"
             ],
             [
              0.7777777777777778,
              "#fb9f3a"
             ],
             [
              0.8888888888888888,
              "#fdca26"
             ],
             [
              1,
              "#f0f921"
             ]
            ],
            "type": "heatmapgl"
           }
          ],
          "histogram": [
           {
            "marker": {
             "pattern": {
              "fillmode": "overlay",
              "size": 10,
              "solidity": 0.2
             }
            },
            "type": "histogram"
           }
          ],
          "histogram2d": [
           {
            "colorbar": {
             "outlinewidth": 0,
             "ticks": ""
            },
            "colorscale": [
             [
              0,
              "#0d0887"
             ],
             [
              0.1111111111111111,
              "#46039f"
             ],
             [
              0.2222222222222222,
              "#7201a8"
             ],
             [
              0.3333333333333333,
              "#9c179e"
             ],
             [
              0.4444444444444444,
              "#bd3786"
             ],
             [
              0.5555555555555556,
              "#d8576b"
             ],
             [
              0.6666666666666666,
              "#ed7953"
             ],
             [
              0.7777777777777778,
              "#fb9f3a"
             ],
             [
              0.8888888888888888,
              "#fdca26"
             ],
             [
              1,
              "#f0f921"
             ]
            ],
            "type": "histogram2d"
           }
          ],
          "histogram2dcontour": [
           {
            "colorbar": {
             "outlinewidth": 0,
             "ticks": ""
            },
            "colorscale": [
             [
              0,
              "#0d0887"
             ],
             [
              0.1111111111111111,
              "#46039f"
             ],
             [
              0.2222222222222222,
              "#7201a8"
             ],
             [
              0.3333333333333333,
              "#9c179e"
             ],
             [
              0.4444444444444444,
              "#bd3786"
             ],
             [
              0.5555555555555556,
              "#d8576b"
             ],
             [
              0.6666666666666666,
              "#ed7953"
             ],
             [
              0.7777777777777778,
              "#fb9f3a"
             ],
             [
              0.8888888888888888,
              "#fdca26"
             ],
             [
              1,
              "#f0f921"
             ]
            ],
            "type": "histogram2dcontour"
           }
          ],
          "mesh3d": [
           {
            "colorbar": {
             "outlinewidth": 0,
             "ticks": ""
            },
            "type": "mesh3d"
           }
          ],
          "parcoords": [
           {
            "line": {
             "colorbar": {
              "outlinewidth": 0,
              "ticks": ""
             }
            },
            "type": "parcoords"
           }
          ],
          "pie": [
           {
            "automargin": true,
            "type": "pie"
           }
          ],
          "scatter": [
           {
            "fillpattern": {
             "fillmode": "overlay",
             "size": 10,
             "solidity": 0.2
            },
            "type": "scatter"
           }
          ],
          "scatter3d": [
           {
            "line": {
             "colorbar": {
              "outlinewidth": 0,
              "ticks": ""
             }
            },
            "marker": {
             "colorbar": {
              "outlinewidth": 0,
              "ticks": ""
             }
            },
            "type": "scatter3d"
           }
          ],
          "scattercarpet": [
           {
            "marker": {
             "colorbar": {
              "outlinewidth": 0,
              "ticks": ""
             }
            },
            "type": "scattercarpet"
           }
          ],
          "scattergeo": [
           {
            "marker": {
             "colorbar": {
              "outlinewidth": 0,
              "ticks": ""
             }
            },
            "type": "scattergeo"
           }
          ],
          "scattergl": [
           {
            "marker": {
             "colorbar": {
              "outlinewidth": 0,
              "ticks": ""
             }
            },
            "type": "scattergl"
           }
          ],
          "scattermapbox": [
           {
            "marker": {
             "colorbar": {
              "outlinewidth": 0,
              "ticks": ""
             }
            },
            "type": "scattermapbox"
           }
          ],
          "scatterpolar": [
           {
            "marker": {
             "colorbar": {
              "outlinewidth": 0,
              "ticks": ""
             }
            },
            "type": "scatterpolar"
           }
          ],
          "scatterpolargl": [
           {
            "marker": {
             "colorbar": {
              "outlinewidth": 0,
              "ticks": ""
             }
            },
            "type": "scatterpolargl"
           }
          ],
          "scatterternary": [
           {
            "marker": {
             "colorbar": {
              "outlinewidth": 0,
              "ticks": ""
             }
            },
            "type": "scatterternary"
           }
          ],
          "surface": [
           {
            "colorbar": {
             "outlinewidth": 0,
             "ticks": ""
            },
            "colorscale": [
             [
              0,
              "#0d0887"
             ],
             [
              0.1111111111111111,
              "#46039f"
             ],
             [
              0.2222222222222222,
              "#7201a8"
             ],
             [
              0.3333333333333333,
              "#9c179e"
             ],
             [
              0.4444444444444444,
              "#bd3786"
             ],
             [
              0.5555555555555556,
              "#d8576b"
             ],
             [
              0.6666666666666666,
              "#ed7953"
             ],
             [
              0.7777777777777778,
              "#fb9f3a"
             ],
             [
              0.8888888888888888,
              "#fdca26"
             ],
             [
              1,
              "#f0f921"
             ]
            ],
            "type": "surface"
           }
          ],
          "table": [
           {
            "cells": {
             "fill": {
              "color": "#EBF0F8"
             },
             "line": {
              "color": "white"
             }
            },
            "header": {
             "fill": {
              "color": "#C8D4E3"
             },
             "line": {
              "color": "white"
             }
            },
            "type": "table"
           }
          ]
         },
         "layout": {
          "annotationdefaults": {
           "arrowcolor": "#2a3f5f",
           "arrowhead": 0,
           "arrowwidth": 1
          },
          "autotypenumbers": "strict",
          "coloraxis": {
           "colorbar": {
            "outlinewidth": 0,
            "ticks": ""
           }
          },
          "colorscale": {
           "diverging": [
            [
             0,
             "#8e0152"
            ],
            [
             0.1,
             "#c51b7d"
            ],
            [
             0.2,
             "#de77ae"
            ],
            [
             0.3,
             "#f1b6da"
            ],
            [
             0.4,
             "#fde0ef"
            ],
            [
             0.5,
             "#f7f7f7"
            ],
            [
             0.6,
             "#e6f5d0"
            ],
            [
             0.7,
             "#b8e186"
            ],
            [
             0.8,
             "#7fbc41"
            ],
            [
             0.9,
             "#4d9221"
            ],
            [
             1,
             "#276419"
            ]
           ],
           "sequential": [
            [
             0,
             "#0d0887"
            ],
            [
             0.1111111111111111,
             "#46039f"
            ],
            [
             0.2222222222222222,
             "#7201a8"
            ],
            [
             0.3333333333333333,
             "#9c179e"
            ],
            [
             0.4444444444444444,
             "#bd3786"
            ],
            [
             0.5555555555555556,
             "#d8576b"
            ],
            [
             0.6666666666666666,
             "#ed7953"
            ],
            [
             0.7777777777777778,
             "#fb9f3a"
            ],
            [
             0.8888888888888888,
             "#fdca26"
            ],
            [
             1,
             "#f0f921"
            ]
           ],
           "sequentialminus": [
            [
             0,
             "#0d0887"
            ],
            [
             0.1111111111111111,
             "#46039f"
            ],
            [
             0.2222222222222222,
             "#7201a8"
            ],
            [
             0.3333333333333333,
             "#9c179e"
            ],
            [
             0.4444444444444444,
             "#bd3786"
            ],
            [
             0.5555555555555556,
             "#d8576b"
            ],
            [
             0.6666666666666666,
             "#ed7953"
            ],
            [
             0.7777777777777778,
             "#fb9f3a"
            ],
            [
             0.8888888888888888,
             "#fdca26"
            ],
            [
             1,
             "#f0f921"
            ]
           ]
          },
          "colorway": [
           "#636efa",
           "#EF553B",
           "#00cc96",
           "#ab63fa",
           "#FFA15A",
           "#19d3f3",
           "#FF6692",
           "#B6E880",
           "#FF97FF",
           "#FECB52"
          ],
          "font": {
           "color": "#2a3f5f"
          },
          "geo": {
           "bgcolor": "white",
           "lakecolor": "white",
           "landcolor": "#E5ECF6",
           "showlakes": true,
           "showland": true,
           "subunitcolor": "white"
          },
          "hoverlabel": {
           "align": "left"
          },
          "hovermode": "closest",
          "mapbox": {
           "style": "light"
          },
          "paper_bgcolor": "white",
          "plot_bgcolor": "#E5ECF6",
          "polar": {
           "angularaxis": {
            "gridcolor": "white",
            "linecolor": "white",
            "ticks": ""
           },
           "bgcolor": "#E5ECF6",
           "radialaxis": {
            "gridcolor": "white",
            "linecolor": "white",
            "ticks": ""
           }
          },
          "scene": {
           "xaxis": {
            "backgroundcolor": "#E5ECF6",
            "gridcolor": "white",
            "gridwidth": 2,
            "linecolor": "white",
            "showbackground": true,
            "ticks": "",
            "zerolinecolor": "white"
           },
           "yaxis": {
            "backgroundcolor": "#E5ECF6",
            "gridcolor": "white",
            "gridwidth": 2,
            "linecolor": "white",
            "showbackground": true,
            "ticks": "",
            "zerolinecolor": "white"
           },
           "zaxis": {
            "backgroundcolor": "#E5ECF6",
            "gridcolor": "white",
            "gridwidth": 2,
            "linecolor": "white",
            "showbackground": true,
            "ticks": "",
            "zerolinecolor": "white"
           }
          },
          "shapedefaults": {
           "line": {
            "color": "#2a3f5f"
           }
          },
          "ternary": {
           "aaxis": {
            "gridcolor": "white",
            "linecolor": "white",
            "ticks": ""
           },
           "baxis": {
            "gridcolor": "white",
            "linecolor": "white",
            "ticks": ""
           },
           "bgcolor": "#E5ECF6",
           "caxis": {
            "gridcolor": "white",
            "linecolor": "white",
            "ticks": ""
           }
          },
          "title": {
           "x": 0.05
          },
          "xaxis": {
           "automargin": true,
           "gridcolor": "white",
           "linecolor": "white",
           "ticks": "",
           "title": {
            "standoff": 15
           },
           "zerolinecolor": "white",
           "zerolinewidth": 2
          },
          "yaxis": {
           "automargin": true,
           "gridcolor": "white",
           "linecolor": "white",
           "ticks": "",
           "title": {
            "standoff": 15
           },
           "zerolinecolor": "white",
           "zerolinewidth": 2
          }
         }
        },
        "title": {
         "text": "Production Analysis by Crop and Year"
        },
        "width": 10000,
        "xaxis": {
         "anchor": "y",
         "domain": [
          0,
          0.04265927977839335
         ]
        },
        "xaxis10": {
         "anchor": "y10",
         "domain": [
          0.47867036011080333,
          0.5213296398891967
         ]
        },
        "xaxis11": {
         "anchor": "y11",
         "domain": [
          0.5318559556786704,
          0.5745152354570637
         ]
        },
        "xaxis12": {
         "anchor": "y12",
         "domain": [
          0.5850415512465373,
          0.6277008310249307
         ]
        },
        "xaxis13": {
         "anchor": "y13",
         "domain": [
          0.6382271468144045,
          0.6808864265927979
         ]
        },
        "xaxis14": {
         "anchor": "y14",
         "domain": [
          0.6914127423822715,
          0.7340720221606648
         ]
        },
        "xaxis15": {
         "anchor": "y15",
         "domain": [
          0.7445983379501385,
          0.7872576177285319
         ]
        },
        "xaxis16": {
         "anchor": "y16",
         "domain": [
          0.7977839335180055,
          0.8404432132963988
         ]
        },
        "xaxis17": {
         "anchor": "y17",
         "domain": [
          0.8509695290858725,
          0.8936288088642659
         ]
        },
        "xaxis18": {
         "anchor": "y18",
         "domain": [
          0.9041551246537396,
          0.9468144044321329
         ]
        },
        "xaxis19": {
         "anchor": "y19",
         "domain": [
          0.9573407202216067,
          1
         ]
        },
        "xaxis2": {
         "anchor": "y2",
         "domain": [
          0.05318559556786703,
          0.09584487534626038
         ]
        },
        "xaxis20": {
         "anchor": "y20",
         "domain": [
          0,
          0.04265927977839335
         ],
         "title": {
          "text": "States"
         }
        },
        "xaxis21": {
         "anchor": "y21",
         "domain": [
          0.05318559556786703,
          0.09584487534626038
         ]
        },
        "xaxis22": {
         "anchor": "y22",
         "domain": [
          0.10637119113573407,
          0.1490304709141274
         ]
        },
        "xaxis23": {
         "anchor": "y23",
         "domain": [
          0.15955678670360113,
          0.20221606648199447
         ]
        },
        "xaxis24": {
         "anchor": "y24",
         "domain": [
          0.21274238227146813,
          0.2554016620498615
         ]
        },
        "xaxis25": {
         "anchor": "y25",
         "domain": [
          0.2659279778393352,
          0.30858725761772854
         ]
        },
        "xaxis26": {
         "anchor": "y26",
         "domain": [
          0.31911357340720226,
          0.3617728531855956
         ]
        },
        "xaxis27": {
         "anchor": "y27",
         "domain": [
          0.37229916897506926,
          0.4149584487534626
         ]
        },
        "xaxis28": {
         "anchor": "y28",
         "domain": [
          0.42548476454293627,
          0.4681440443213296
         ]
        },
        "xaxis29": {
         "anchor": "y29",
         "domain": [
          0.47867036011080333,
          0.5213296398891967
         ]
        },
        "xaxis3": {
         "anchor": "y3",
         "domain": [
          0.10637119113573407,
          0.1490304709141274
         ]
        },
        "xaxis30": {
         "anchor": "y30",
         "domain": [
          0.5318559556786704,
          0.5745152354570637
         ]
        },
        "xaxis31": {
         "anchor": "y31",
         "domain": [
          0.5850415512465373,
          0.6277008310249307
         ]
        },
        "xaxis32": {
         "anchor": "y32",
         "domain": [
          0.6382271468144045,
          0.6808864265927979
         ]
        },
        "xaxis33": {
         "anchor": "y33",
         "domain": [
          0.6914127423822715,
          0.7340720221606648
         ]
        },
        "xaxis34": {
         "anchor": "y34",
         "domain": [
          0.7445983379501385,
          0.7872576177285319
         ]
        },
        "xaxis35": {
         "anchor": "y35",
         "domain": [
          0.7977839335180055,
          0.8404432132963988
         ]
        },
        "xaxis36": {
         "anchor": "y36",
         "domain": [
          0.8509695290858725,
          0.8936288088642659
         ]
        },
        "xaxis37": {
         "anchor": "y37",
         "domain": [
          0.9041551246537396,
          0.9468144044321329
         ]
        },
        "xaxis38": {
         "anchor": "y38",
         "domain": [
          0.9573407202216067,
          1
         ]
        },
        "xaxis4": {
         "anchor": "y4",
         "domain": [
          0.15955678670360113,
          0.20221606648199447
         ]
        },
        "xaxis5": {
         "anchor": "y5",
         "domain": [
          0.21274238227146813,
          0.2554016620498615
         ]
        },
        "xaxis6": {
         "anchor": "y6",
         "domain": [
          0.2659279778393352,
          0.30858725761772854
         ]
        },
        "xaxis7": {
         "anchor": "y7",
         "domain": [
          0.31911357340720226,
          0.3617728531855956
         ]
        },
        "xaxis8": {
         "anchor": "y8",
         "domain": [
          0.37229916897506926,
          0.4149584487534626
         ]
        },
        "xaxis9": {
         "anchor": "y9",
         "domain": [
          0.42548476454293627,
          0.4681440443213296
         ]
        },
        "yaxis": {
         "anchor": "x",
         "domain": [
          0.55,
          1
         ]
        },
        "yaxis10": {
         "anchor": "x10",
         "domain": [
          0.55,
          1
         ],
         "matches": "y",
         "showticklabels": false
        },
        "yaxis11": {
         "anchor": "x11",
         "domain": [
          0.55,
          1
         ],
         "matches": "y",
         "showticklabels": false
        },
        "yaxis12": {
         "anchor": "x12",
         "domain": [
          0.55,
          1
         ],
         "matches": "y",
         "showticklabels": false
        },
        "yaxis13": {
         "anchor": "x13",
         "domain": [
          0.55,
          1
         ],
         "matches": "y",
         "showticklabels": false
        },
        "yaxis14": {
         "anchor": "x14",
         "domain": [
          0.55,
          1
         ],
         "matches": "y",
         "showticklabels": false
        },
        "yaxis15": {
         "anchor": "x15",
         "domain": [
          0.55,
          1
         ],
         "matches": "y",
         "showticklabels": false
        },
        "yaxis16": {
         "anchor": "x16",
         "domain": [
          0.55,
          1
         ],
         "matches": "y",
         "showticklabels": false
        },
        "yaxis17": {
         "anchor": "x17",
         "domain": [
          0.55,
          1
         ],
         "matches": "y",
         "showticklabels": false
        },
        "yaxis18": {
         "anchor": "x18",
         "domain": [
          0.55,
          1
         ],
         "matches": "y",
         "showticklabels": false
        },
        "yaxis19": {
         "anchor": "x19",
         "domain": [
          0.55,
          1
         ],
         "matches": "y",
         "showticklabels": false
        },
        "yaxis2": {
         "anchor": "x2",
         "domain": [
          0.55,
          1
         ],
         "matches": "y",
         "showticklabels": false
        },
        "yaxis20": {
         "anchor": "x20",
         "domain": [
          0,
          0.45
         ],
         "title": {
          "text": "Production"
         }
        },
        "yaxis21": {
         "anchor": "x21",
         "domain": [
          0,
          0.45
         ],
         "matches": "y20",
         "showticklabels": false
        },
        "yaxis22": {
         "anchor": "x22",
         "domain": [
          0,
          0.45
         ],
         "matches": "y20",
         "showticklabels": false
        },
        "yaxis23": {
         "anchor": "x23",
         "domain": [
          0,
          0.45
         ],
         "matches": "y20",
         "showticklabels": false
        },
        "yaxis24": {
         "anchor": "x24",
         "domain": [
          0,
          0.45
         ],
         "matches": "y20",
         "showticklabels": false
        },
        "yaxis25": {
         "anchor": "x25",
         "domain": [
          0,
          0.45
         ],
         "matches": "y20",
         "showticklabels": false
        },
        "yaxis26": {
         "anchor": "x26",
         "domain": [
          0,
          0.45
         ],
         "matches": "y20",
         "showticklabels": false
        },
        "yaxis27": {
         "anchor": "x27",
         "domain": [
          0,
          0.45
         ],
         "matches": "y20",
         "showticklabels": false
        },
        "yaxis28": {
         "anchor": "x28",
         "domain": [
          0,
          0.45
         ],
         "matches": "y20",
         "showticklabels": false
        },
        "yaxis29": {
         "anchor": "x29",
         "domain": [
          0,
          0.45
         ],
         "matches": "y20",
         "showticklabels": false
        },
        "yaxis3": {
         "anchor": "x3",
         "domain": [
          0.55,
          1
         ],
         "matches": "y",
         "showticklabels": false
        },
        "yaxis30": {
         "anchor": "x30",
         "domain": [
          0,
          0.45
         ],
         "matches": "y20",
         "showticklabels": false
        },
        "yaxis31": {
         "anchor": "x31",
         "domain": [
          0,
          0.45
         ],
         "matches": "y20",
         "showticklabels": false
        },
        "yaxis32": {
         "anchor": "x32",
         "domain": [
          0,
          0.45
         ],
         "matches": "y20",
         "showticklabels": false
        },
        "yaxis33": {
         "anchor": "x33",
         "domain": [
          0,
          0.45
         ],
         "matches": "y20",
         "showticklabels": false
        },
        "yaxis34": {
         "anchor": "x34",
         "domain": [
          0,
          0.45
         ],
         "matches": "y20",
         "showticklabels": false
        },
        "yaxis35": {
         "anchor": "x35",
         "domain": [
          0,
          0.45
         ],
         "matches": "y20",
         "showticklabels": false
        },
        "yaxis36": {
         "anchor": "x36",
         "domain": [
          0,
          0.45
         ],
         "matches": "y20",
         "showticklabels": false
        },
        "yaxis37": {
         "anchor": "x37",
         "domain": [
          0,
          0.45
         ],
         "matches": "y20",
         "showticklabels": false
        },
        "yaxis38": {
         "anchor": "x38",
         "domain": [
          0,
          0.45
         ],
         "matches": "y20",
         "showticklabels": false
        },
        "yaxis4": {
         "anchor": "x4",
         "domain": [
          0.55,
          1
         ],
         "matches": "y",
         "showticklabels": false
        },
        "yaxis5": {
         "anchor": "x5",
         "domain": [
          0.55,
          1
         ],
         "matches": "y",
         "showticklabels": false
        },
        "yaxis6": {
         "anchor": "x6",
         "domain": [
          0.55,
          1
         ],
         "matches": "y",
         "showticklabels": false
        },
        "yaxis7": {
         "anchor": "x7",
         "domain": [
          0.55,
          1
         ],
         "matches": "y",
         "showticklabels": false
        },
        "yaxis8": {
         "anchor": "x8",
         "domain": [
          0.55,
          1
         ],
         "matches": "y",
         "showticklabels": false
        },
        "yaxis9": {
         "anchor": "x9",
         "domain": [
          0.55,
          1
         ],
         "matches": "y",
         "showticklabels": false
        }
       }
      }
     },
     "metadata": {},
     "output_type": "display_data"
    }
   ],
   "source": [
    "fig.update_layout(title='Production Analysis by Crop and Year',\n",
    "                  height=1500, width=10000, showlegend=False)\n",
    "\n",
    "# Update x-axis and y-axis titles\n",
    "fig.update_xaxes(title_text='States', row=len(crops_to_be_analysed), col=1)\n",
    "fig.update_yaxes(title_text='Production', row=int(len(crops_to_be_analysed)), col=1)\n",
    "\n",
    "# Show plot\n",
    "fig.show()"
   ]
  },
  {
   "cell_type": "code",
   "execution_count": 113,
   "metadata": {},
   "outputs": [
    {
     "data": {
      "application/vnd.plotly.v1+json": {
       "config": {
        "plotlyServerURL": "https://plot.ly"
       },
       "data": [
        {
         "name": "Rice - 2000",
         "type": "bar",
         "x": [
          "West Bengal",
          "Uttar Pradesh",
          "Punjab",
          "Andhra Pradesh",
          "Tamil Nadu",
          "Bihar",
          "Odisha",
          "Telangana ",
          "Assam",
          "Karnataka",
          "Haryana",
          "Chhattisgarh",
          "Maharashtra",
          "Madhya Pradesh",
          "Kerala",
          "Uttarakhand",
          "Tripura",
          "Gujarat",
          "Jammu and Kashmir ",
          "Manipur",
          "Nagaland",
          "Meghalaya",
          "Rajasthan",
          "Arunachal Pradesh",
          "Himachal Pradesh",
          "Mizoram",
          "Puducherry",
          "Andaman and Nicobar Islands",
          "Dadra and Nagar Haveli",
          "Sikkim",
          "Chandigarh",
          "Goa",
          "Jharkhand"
         ],
         "xaxis": "x",
         "y": [
          12428038,
          11679149,
          9154000,
          8040667,
          7217903,
          5444370,
          4613380,
          4417347,
          3998443,
          3846736,
          2695000,
          2369295,
          1929700,
          975274,
          751328,
          588652,
          547520,
          483300,
          415341.80000000005,
          381750,
          233330,
          179042,
          155716,
          132690,
          124893,
          103673,
          103606,
          32184,
          28663,
          21358,
          350,
          0,
          0
         ],
         "yaxis": "y"
        },
        {
         "name": "Rice - 2001",
         "type": "bar",
         "x": [
          "West Bengal",
          "Uttar Pradesh",
          "Punjab",
          "Andhra Pradesh",
          "Odisha",
          "Tamil Nadu",
          "Bihar",
          "Chhattisgarh",
          "Assam",
          "Telangana ",
          "Karnataka",
          "Haryana",
          "Maharashtra",
          "Madhya Pradesh",
          "Gujarat",
          "Kerala",
          "Tripura",
          "Uttarakhand",
          "Jammu and Kashmir ",
          "Manipur",
          "Nagaland",
          "Meghalaya",
          "Rajasthan",
          "Himachal Pradesh",
          "Arunachal Pradesh",
          "Mizoram",
          "Puducherry",
          "Dadra and Nagar Haveli",
          "Andaman and Nicobar Islands",
          "Sikkim",
          "Chandigarh",
          "Goa",
          "Jharkhand"
         ],
         "xaxis": "x2",
         "y": [
          13815548,
          12855857,
          8816000,
          7823692,
          7220000,
          6583630,
          5301221,
          5073721,
          3854248,
          3566099,
          3234045,
          2726000,
          2651200,
          1685799,
          1040200,
          703504,
          587390,
          579517,
          422298,
          387270,
          237000,
          188971,
          180048,
          137418,
          134621,
          105713,
          66868,
          31035,
          27333,
          21372,
          250,
          0,
          0
         ],
         "yaxis": "y2"
        },
        {
         "name": "Rice - 2002",
         "type": "bar",
         "x": [
          "West Bengal",
          "Uttar Pradesh",
          "Punjab",
          "Andhra Pradesh",
          "Bihar",
          "Assam",
          "Tamil Nadu",
          "Odisha",
          "Chhattisgarh",
          "Haryana",
          "Karnataka",
          "Telangana ",
          "Maharashtra",
          "Jharkhand",
          "Madhya Pradesh",
          "Kerala",
          "Tripura",
          "Gujarat",
          "Uttarakhand",
          "Jammu and Kashmir ",
          "Manipur",
          "Nagaland",
          "Meghalaya",
          "Arunachal Pradesh",
          "Mizoram",
          "Himachal Pradesh",
          "Rajasthan",
          "Puducherry",
          "Dadra and Nagar Haveli",
          "Andaman and Nicobar Islands",
          "Sikkim",
          "Chandigarh",
          "Goa"
         ],
         "xaxis": "x3",
         "y": [
          14389238,
          9596346,
          8880000,
          5315408,
          5085566,
          3737802,
          3577108,
          3278000,
          2634853,
          2468000,
          2390085,
          2011378,
          1854100,
          1063091.01,
          1024930,
          688859,
          602410,
          596400,
          523175,
          421457,
          335700,
          223400,
          190937,
          152500,
          109205,
          85653,
          67932,
          57514,
          38321,
          32111.66,
          21220,
          700,
          0
         ],
         "yaxis": "y3"
        },
        {
         "name": "Rice - 2003",
         "type": "bar",
         "x": [
          "West Bengal",
          "Uttar Pradesh",
          "Punjab",
          "Odisha",
          "Andhra Pradesh",
          "Bihar",
          "Chhattisgarh",
          "Assam",
          "Tamil Nadu",
          "Telangana ",
          "Maharashtra",
          "Haryana",
          "Karnataka",
          "Jharkhand",
          "Madhya Pradesh",
          "Gujarat",
          "Tripura",
          "Kerala",
          "Uttarakhand",
          "Jammu and Kashmir ",
          "Manipur",
          "Nagaland",
          "Meghalaya",
          "Rajasthan",
          "Arunachal Pradesh",
          "Himachal Pradesh",
          "Mizoram",
          "Puducherry",
          "Andaman and Nicobar Islands",
          "Dadra and Nagar Haveli",
          "Sikkim",
          "Chandigarh",
          "Goa"
         ],
         "xaxis": "x4",
         "y": [
          14662239,
          12494939,
          9656000,
          6801000,
          6054099,
          5718627,
          5567644,
          3880934,
          3222776,
          2898703,
          2834100,
          2790000,
          2550399,
          1943353.1,
          1743430,
          1277000,
          616820,
          570045,
          541957,
          504797,
          381240,
          222990,
          200703,
          164858,
          154589,
          120624,
          114630,
          67003,
          30850.87,
          27933,
          21190,
          500,
          0
         ],
         "yaxis": "y4"
        },
        {
         "name": "Rice - 2004",
         "type": "bar",
         "x": [
          "West Bengal",
          "Uttar Pradesh",
          "Punjab",
          "Andhra Pradesh",
          "Odisha",
          "Tamil Nadu",
          "Chhattisgarh",
          "Karnataka",
          "Assam",
          "Haryana",
          "Bihar",
          "Telangana ",
          "Maharashtra",
          "Madhya Pradesh",
          "Gujarat",
          "Jharkhand",
          "Kerala",
          "Tripura",
          "Uttarakhand",
          "Jammu and Kashmir ",
          "Manipur",
          "Nagaland",
          "Meghalaya",
          "Rajasthan",
          "Goa",
          "Arunachal Pradesh",
          "Himachal Pradesh",
          "Mizoram",
          "Puducherry",
          "Andaman and Nicobar Islands",
          "Dadra and Nagar Haveli",
          "Sikkim",
          "Chandigarh"
         ],
         "xaxis": "x5",
         "y": [
          14884889,
          10749989,
          10437000,
          7392678,
          6536000,
          5061622,
          4586818,
          3707119.01,
          3470750,
          3010000,
          2472156,
          2208367,
          2147200,
          1302615,
          1196500,
          1006373.0400000002,
          667105,
          602221,
          560243,
          492732,
          435930,
          261750,
          193719,
          150423,
          145174,
          134950,
          109129,
          107660,
          61036,
          29192.23,
          29171,
          21610,
          400
         ],
         "yaxis": "y5"
        },
        {
         "name": "Rice - 2005",
         "type": "bar",
         "x": [
          "West Bengal",
          "Uttar Pradesh",
          "Punjab",
          "Andhra Pradesh",
          "Odisha",
          "Chhattisgarh",
          "Tamil Nadu",
          "Telangana ",
          "Karnataka",
          "Bihar",
          "Assam",
          "Haryana",
          "Maharashtra",
          "Madhya Pradesh",
          "Gujarat",
          "Kerala",
          "Jharkhand",
          "Tripura",
          "Uttarakhand",
          "Jammu and Kashmir ",
          "Manipur",
          "Nagaland",
          "Meghalaya",
          "Rajasthan",
          "Goa",
          "Arunachal Pradesh",
          "Himachal Pradesh",
          "Mizoram",
          "Puducherry",
          "Dadra and Nagar Haveli",
          "Andaman and Nicobar Islands",
          "Sikkim",
          "Chandigarh"
         ],
         "xaxis": "x6",
         "y": [
          14510742,
          11119095,
          10193000,
          7288721,
          6858000,
          5267537,
          5209433,
          4414903,
          3999246,
          3709285,
          3552438,
          3194000,
          2665900,
          1687475,
          1283600,
          629987,
          614026.71,
          602947,
          569166,
          556774,
          386070,
          263100,
          208277,
          153074,
          147236,
          146191,
          112139,
          107740,
          53617,
          33643,
          25883.04,
          23690,
          250
         ],
         "yaxis": "y6"
        },
        {
         "name": "Rice - 2006",
         "type": "bar",
         "x": [
          "West Bengal",
          "Uttar Pradesh",
          "Punjab",
          "Andhra Pradesh",
          "Odisha",
          "Tamil Nadu",
          "Chhattisgarh",
          "Bihar",
          "Telangana ",
          "Karnataka",
          "Haryana",
          "Assam",
          "Maharashtra",
          "Jharkhand",
          "Madhya Pradesh",
          "Gujarat",
          "Kerala",
          "Tripura",
          "Uttarakhand",
          "Manipur",
          "Nagaland",
          "Meghalaya",
          "Rajasthan",
          "Arunachal Pradesh",
          "Goa",
          "Himachal Pradesh",
          "Puducherry",
          "Dadra and Nagar Haveli",
          "Mizoram",
          "Andaman and Nicobar Islands",
          "Sikkim",
          "Chandigarh",
          "Jammu and Kashmir "
         ],
         "xaxis": "x7",
         "y": [
          14745892,
          11123613,
          10138000,
          7616392,
          6823000,
          6610607,
          5441525,
          5027947,
          4255738,
          3645526,
          3371000,
          2916014,
          2571700,
          1429944.08,
          1389269,
          1141200,
          641575,
          628200,
          571336,
          389170,
          263520,
          200209,
          169823,
          144635,
          128945,
          123485,
          60808,
          34515,
          29464,
          21535.26,
          21450,
          250,
          0
         ],
         "yaxis": "y7"
        },
        {
         "name": "Rice - 2010",
         "type": "bar",
         "x": [
          "West Bengal",
          "Uttar Pradesh",
          "Punjab",
          "Andhra Pradesh",
          "Odisha",
          "Chhattisgarh",
          "Telangana ",
          "Tamil Nadu",
          "Assam",
          "Karnataka",
          "Haryana",
          "Bihar",
          "Maharashtra",
          "Madhya Pradesh",
          "Gujarat",
          "Tripura",
          "Uttarakhand",
          "Kerala",
          "Nagaland",
          "Rajasthan",
          "Meghalaya",
          "Arunachal Pradesh",
          "Himachal Pradesh",
          "Goa",
          "Puducherry",
          "Andaman and Nicobar Islands",
          "Sikkim",
          "Dadra and Nagar Haveli",
          "Chandigarh",
          "Jammu and Kashmir ",
          "Jharkhand",
          "Manipur",
          "Mizoram"
         ],
         "xaxis": "x8",
         "y": [
          13389610,
          11992299,
          10837000,
          7883078,
          6824000,
          6637737,
          6536235,
          5792415,
          5032529,
          4473972,
          3465000,
          3112618,
          2624900,
          1766596,
          1665800,
          702473,
          545586,
          522738.1,
          381360,
          265545,
          207021,
          155993,
          128917,
          114994,
          51960,
          23916,
          20973,
          20839,
          103,
          0,
          0,
          0,
          0
         ],
         "yaxis": "y8"
        },
        {
         "name": "Rice - 1997",
         "type": "bar",
         "x": [
          "West Bengal",
          "Uttar Pradesh",
          "Punjab",
          "Tamil Nadu",
          "Andhra Pradesh",
          "Bihar",
          "Karnataka",
          "Haryana",
          "Maharashtra",
          "Assam",
          "Telangana ",
          "Gujarat",
          "Rajasthan",
          "Nagaland",
          "Meghalaya",
          "Arunachal Pradesh",
          "Mizoram",
          "Goa",
          "Jammu and Kashmir ",
          "Manipur",
          "Andaman and Nicobar Islands",
          "Chandigarh",
          "Chhattisgarh",
          "Dadra and Nagar Haveli",
          "Himachal Pradesh",
          "Jharkhand",
          "Kerala",
          "Madhya Pradesh",
          "Odisha",
          "Puducherry",
          "Sikkim",
          "Tripura",
          "Uttarakhand"
         ],
         "xaxis": "x9",
         "y": [
          13236590,
          11677947,
          7904000,
          6893730,
          6436200,
          5395078,
          3212602,
          2556000,
          2330646,
          2255230,
          2073800,
          1042300,
          190200,
          188250,
          150101,
          129505,
          110573,
          59916,
          5488,
          348,
          0,
          0,
          0,
          0,
          0,
          0,
          0,
          0,
          0,
          0,
          0,
          0,
          0
         ],
         "yaxis": "y9"
        },
        {
         "name": "Rice - 1998",
         "type": "bar",
         "x": [
          "West Bengal",
          "Uttar Pradesh",
          "Tamil Nadu",
          "Punjab",
          "Andhra Pradesh",
          "Odisha",
          "Bihar",
          "Telangana ",
          "Karnataka",
          "Assam",
          "Maharashtra",
          "Haryana",
          "Madhya Pradesh",
          "Gujarat",
          "Kerala",
          "Tripura",
          "Manipur",
          "Rajasthan",
          "Nagaland",
          "Meghalaya",
          "Himachal Pradesh",
          "Arunachal Pradesh",
          "Mizoram",
          "Puducherry",
          "Dadra and Nagar Haveli",
          "Sikkim",
          "Chandigarh",
          "Andaman and Nicobar Islands",
          "Chhattisgarh",
          "Goa",
          "Jammu and Kashmir ",
          "Jharkhand",
          "Uttarakhand"
         ],
         "xaxis": "x10",
         "y": [
          13316452,
          10826635,
          8215286,
          7940000,
          7687800,
          5391322,
          4670650,
          4190200,
          3656811,
          3254833,
          2467600,
          2432000,
          1089500,
          1015900,
          726743,
          491430,
          382190,
          205488,
          205000,
          149742,
          116997,
          114116,
          110813,
          56601,
          24793,
          21957,
          360,
          0,
          0,
          0,
          0,
          0,
          0
         ],
         "yaxis": "y10"
        },
        {
         "name": "Rice - 1999",
         "type": "bar",
         "x": [
          "West Bengal",
          "Uttar Pradesh",
          "Punjab",
          "Andhra Pradesh",
          "Tamil Nadu",
          "Odisha",
          "Assam",
          "Karnataka",
          "Telangana ",
          "Haryana",
          "Maharashtra",
          "Madhya Pradesh",
          "Gujarat",
          "Bihar",
          "Kerala",
          "Tripura",
          "Jammu and Kashmir ",
          "Manipur",
          "Rajasthan",
          "Nagaland",
          "Meghalaya",
          "Arunachal Pradesh",
          "Himachal Pradesh",
          "Mizoram",
          "Puducherry",
          "Dadra and Nagar Haveli",
          "Sikkim",
          "Chandigarh",
          "Andaman and Nicobar Islands",
          "Chhattisgarh",
          "Goa",
          "Jharkhand",
          "Uttarakhand"
         ],
         "xaxis": "x11",
         "y": [
          13759680,
          12632709,
          8716000,
          7362441,
          7225373,
          5187040,
          3860648,
          3716730,
          3275474,
          2563000,
          2549300,
          2004938,
          984900,
          945254,
          770686,
          505680,
          391528.60000000003,
          364980,
          252598,
          222000,
          170733,
          134807,
          120365,
          88397,
          59433,
          28692,
          23439,
          240,
          0,
          0,
          0,
          0,
          0
         ],
         "yaxis": "y11"
        },
        {
         "name": "Rice - 2007",
         "type": "bar",
         "x": [
          "West Bengal",
          "Uttar Pradesh",
          "Punjab",
          "Andhra Pradesh",
          "Odisha",
          "Chhattisgarh",
          "Tamil Nadu",
          "Bihar",
          "Telangana ",
          "Karnataka",
          "Haryana",
          "Assam",
          "Gujarat",
          "Jharkhand",
          "Madhya Pradesh",
          "Tripura",
          "Uttarakhand",
          "Jammu and Kashmir ",
          "Kerala",
          "Manipur",
          "Nagaland",
          "Rajasthan",
          "Meghalaya",
          "Arunachal Pradesh",
          "Goa",
          "Himachal Pradesh",
          "Puducherry",
          "Maharashtra",
          "Dadra and Nagar Haveli",
          "Sikkim",
          "Mizoram",
          "Chandigarh",
          "Andaman and Nicobar Islands"
         ],
         "xaxis": "x12",
         "y": [
          14719520,
          11780112,
          10489000,
          8880000,
          7540000,
          5634972,
          5039954,
          4458764,
          4444000,
          3868515,
          3606000,
          3318608,
          1474200,
          1470624,
          1325175,
          640424,
          565067,
          561355,
          528488,
          406150,
          311300,
          259657,
          200077,
          158146,
          121679,
          121453,
          53324,
          29128,
          23700,
          19480,
          15688,
          250,
          0
         ],
         "yaxis": "y12"
        },
        {
         "name": "Rice - 2008",
         "type": "bar",
         "x": [
          "West Bengal",
          "Uttar Pradesh",
          "Punjab",
          "Andhra Pradesh",
          "Odisha",
          "Bihar",
          "Telangana ",
          "Tamil Nadu",
          "Chhattisgarh",
          "Karnataka",
          "Assam",
          "Haryana",
          "Maharashtra",
          "Madhya Pradesh",
          "Gujarat",
          "Tripura",
          "Kerala",
          "Uttarakhand",
          "Nagaland",
          "Rajasthan",
          "Meghalaya",
          "Arunachal Pradesh",
          "Goa",
          "Himachal Pradesh",
          "Mizoram",
          "Puducherry",
          "Dadra and Nagar Haveli",
          "Sikkim",
          "Chandigarh",
          "Andaman and Nicobar Islands",
          "Jammu and Kashmir ",
          "Jharkhand",
          "Manipur"
         ],
         "xaxis": "x13",
         "y": [
          15037240,
          13097031,
          11000000,
          8880586,
          6812000,
          5589982,
          5360547,
          5183385,
          4707499,
          4031538.0700000003,
          4008435,
          3299000,
          2234210,
          1571103,
          1302900,
          627175,
          590241,
          568321,
          345090,
          241082,
          203862,
          164538,
          121867,
          118277,
          68917,
          50716,
          23400,
          22230,
          100,
          0,
          0,
          0,
          0
         ],
         "yaxis": "y13"
        },
        {
         "name": "Rice - 2009",
         "type": "bar",
         "x": [
          "West Bengal",
          "Punjab",
          "Uttar Pradesh",
          "Andhra Pradesh",
          "Odisha",
          "Tamil Nadu",
          "Assam",
          "Chhattisgarh",
          "Karnataka",
          "Bihar",
          "Haryana",
          "Telangana ",
          "Maharashtra",
          "Madhya Pradesh",
          "Gujarat",
          "Tripura",
          "Kerala",
          "Uttarakhand",
          "Nagaland",
          "Rajasthan",
          "Meghalaya",
          "Arunachal Pradesh",
          "Goa",
          "Mizoram",
          "Puducherry",
          "Sikkim",
          "Dadra and Nagar Haveli",
          "Chandigarh",
          "Andaman and Nicobar Islands",
          "Himachal Pradesh",
          "Jammu and Kashmir ",
          "Jharkhand",
          "Manipur"
         ],
         "xaxis": "x14",
         "y": [
          14340605,
          11236000,
          10776504,
          7569071,
          6913000,
          5665258,
          4408424,
          4347316,
          3877404.71,
          3640210,
          3628000,
          3269196,
          2137114,
          1355660,
          1293000,
          640010,
          598339,
          591016,
          240310,
          228284,
          204129,
          143894.6,
          100605,
          66131,
          52330,
          20930,
          13500,
          100,
          0,
          0,
          0,
          0,
          0
         ],
         "yaxis": "y14"
        },
        {
         "name": "Rice - 2011",
         "type": "bar",
         "x": [
          "West Bengal",
          "Uttar Pradesh",
          "Punjab",
          "Bihar",
          "Andhra Pradesh",
          "Tamil Nadu",
          "Chhattisgarh",
          "Odisha",
          "Telangana ",
          "Assam",
          "Karnataka",
          "Haryana",
          "Maharashtra",
          "Madhya Pradesh",
          "Gujarat",
          "Tripura",
          "Uttarakhand",
          "Kerala",
          "Nagaland",
          "Meghalaya",
          "Arunachal Pradesh",
          "Goa",
          "Puducherry",
          "Sikkim",
          "Dadra and Nagar Haveli",
          "Andaman and Nicobar Islands",
          "Chandigarh",
          "Himachal Pradesh",
          "Jammu and Kashmir ",
          "Jharkhand",
          "Manipur",
          "Mizoram",
          "Rajasthan"
         ],
         "xaxis": "x15",
         "y": [
          14605766,
          14022392,
          10542000,
          8237971,
          7744175,
          7458657,
          6300825,
          5806000,
          5147617,
          4715678,
          4181619,
          3574300,
          2848900,
          2273045,
          1789700,
          718304,
          589764,
          568993.48,
          382380,
          222731,
          159543,
          121991,
          42114,
          20880,
          18552,
          0,
          0,
          0,
          0,
          0,
          0,
          0,
          0
         ],
         "yaxis": "y15"
        },
        {
         "name": "Rice - 2012",
         "type": "bar",
         "x": [
          "West Bengal",
          "Uttar Pradesh",
          "Punjab",
          "Odisha",
          "Bihar",
          "Chhattisgarh",
          "Andhra Pradesh",
          "Assam",
          "Tamil Nadu",
          "Haryana",
          "Karnataka",
          "Madhya Pradesh",
          "Maharashtra",
          "Gujarat",
          "Tripura",
          "Uttarakhand",
          "Kerala",
          "Nagaland",
          "Meghalaya",
          "Arunachal Pradesh",
          "Goa",
          "Puducherry",
          "Dadra and Nagar Haveli",
          "Sikkim",
          "Andaman and Nicobar Islands",
          "Chandigarh",
          "Himachal Pradesh",
          "Jammu and Kashmir ",
          "Jharkhand",
          "Manipur",
          "Mizoram",
          "Rajasthan",
          "Telangana "
         ],
         "xaxis": "x16",
         "y": [
          14946735,
          14415939,
          11390000,
          9496000,
          8322010,
          7848401,
          6862854,
          5120052,
          4050334,
          3941000,
          3364379,
          3106146,
          3078040,
          1497300,
          713222,
          606891,
          508299,
          405180,
          265653,
          174662,
          122821,
          46519,
          26704,
          21340,
          0,
          0,
          0,
          0,
          0,
          0,
          0,
          0,
          0
         ],
         "yaxis": "y16"
        },
        {
         "name": "Rice - 2013",
         "type": "bar",
         "x": [
          "West Bengal",
          "Uttar Pradesh",
          "Punjab",
          "Andhra Pradesh",
          "Odisha",
          "Tamil Nadu",
          "Chhattisgarh",
          "Bihar",
          "Telangana ",
          "Assam",
          "Karnataka",
          "Madhya Pradesh",
          "Maharashtra",
          "Tripura",
          "Uttarakhand",
          "Kerala",
          "Nagaland",
          "Arunachal Pradesh",
          "Meghalaya",
          "Goa",
          "Puducherry",
          "Dadra and Nagar Haveli",
          "Sikkim",
          "Andaman and Nicobar Islands",
          "Chandigarh",
          "Gujarat",
          "Haryana",
          "Himachal Pradesh",
          "Jammu and Kashmir ",
          "Jharkhand",
          "Manipur",
          "Mizoram",
          "Rajasthan"
         ],
         "xaxis": "x17",
         "y": [
          15376869,
          14635836,
          11267000,
          7993425,
          7610000,
          7115195,
          7102729,
          6649589,
          6581090,
          5193379,
          4052599,
          3321724,
          3108290,
          711831,
          593068,
          564325,
          429640,
          184104,
          160016,
          126511,
          49792,
          25497,
          20260,
          0,
          0,
          0,
          0,
          0,
          0,
          0,
          0,
          0,
          0
         ],
         "yaxis": "y17"
        },
        {
         "name": "Rice - 2014",
         "type": "bar",
         "x": [
          "Andhra Pradesh",
          "West Bengal",
          "Uttar Pradesh",
          "Punjab",
          "Odisha",
          "Bihar",
          "Chhattisgarh",
          "Assam",
          "Telangana ",
          "Karnataka",
          "Maharashtra",
          "Uttarakhand",
          "Tripura",
          "Kerala",
          "Nagaland",
          "Jammu and Kashmir ",
          "Meghalaya",
          "Arunachal Pradesh",
          "Goa",
          "Puducherry",
          "Dadra and Nagar Haveli",
          "Sikkim",
          "Andaman and Nicobar Islands",
          "Chandigarh",
          "Gujarat",
          "Haryana",
          "Himachal Pradesh",
          "Jharkhand",
          "Madhya Pradesh",
          "Manipur",
          "Mizoram",
          "Rajasthan",
          "Tamil Nadu"
         ],
         "xaxis": "x18",
         "y": [
          16911168,
          15927196,
          13316967,
          11107000,
          9840000,
          8241624,
          7977746,
          5222645,
          4544982,
          4027747,
          2946600,
          1201720,
          746954,
          562092,
          454190,
          344823,
          235551,
          189992,
          120505,
          52717,
          25907,
          20070,
          0,
          0,
          0,
          0,
          0,
          0,
          0,
          0,
          0,
          0,
          0
         ],
         "yaxis": "y18"
        },
        {
         "name": "Rice - 2015",
         "type": "bar",
         "x": [
          "Odisha",
          "Sikkim",
          "Andaman and Nicobar Islands",
          "Andhra Pradesh",
          "Arunachal Pradesh",
          "Assam",
          "Bihar",
          "Chandigarh",
          "Chhattisgarh",
          "Dadra and Nagar Haveli",
          "Goa",
          "Gujarat",
          "Haryana",
          "Himachal Pradesh",
          "Jammu and Kashmir ",
          "Jharkhand",
          "Karnataka",
          "Kerala",
          "Madhya Pradesh",
          "Maharashtra",
          "Manipur",
          "Meghalaya",
          "Mizoram",
          "Nagaland",
          "Puducherry",
          "Punjab",
          "Rajasthan",
          "Tamil Nadu",
          "Telangana ",
          "Tripura",
          "Uttar Pradesh",
          "Uttarakhand",
          "West Bengal"
         ],
         "xaxis": "x19",
         "y": [
          5874000,
          19687,
          0,
          0,
          0,
          0,
          0,
          0,
          0,
          0,
          0,
          0,
          0,
          0,
          0,
          0,
          0,
          0,
          0,
          0,
          0,
          0,
          0,
          0,
          0,
          0,
          0,
          0,
          0,
          0,
          0,
          0,
          0
         ],
         "yaxis": "y19"
        },
        {
         "name": "Sugarcane - 2000",
         "type": "bar",
         "x": [
          "Uttar Pradesh",
          "Maharashtra",
          "Karnataka",
          "Tamil Nadu",
          "Andhra Pradesh",
          "Gujarat",
          "Haryana",
          "Punjab",
          "Uttarakhand",
          "Telangana ",
          "Bihar",
          "Madhya Pradesh",
          "West Bengal",
          "Assam",
          "Odisha",
          "Rajasthan",
          "Kerala",
          "Puducherry",
          "Dadra and Nagar Haveli",
          "Tripura",
          "Nagaland",
          "Manipur",
          "Arunachal Pradesh",
          "Chhattisgarh",
          "Himachal Pradesh",
          "Mizoram",
          "Andaman and Nicobar Islands",
          "Jammu and Kashmir ",
          "Meghalaya",
          "Chandigarh",
          "Goa",
          "Jharkhand",
          "Sikkim"
         ],
         "xaxis": "x20",
         "y": [
          106067503,
          49568700,
          42923496,
          34062855,
          13558629,
          12689000,
          8170000,
          7770000,
          6831440,
          4131502,
          3985577,
          1656840,
          1465550,
          987696,
          963915.1999999998,
          561338,
          275550,
          200413,
          92430,
          54100,
          35000,
          24170,
          14358,
          8628,
          7854.1,
          6361,
          3738,
          417,
          237,
          0,
          0,
          0,
          0
         ],
         "yaxis": "y20"
        },
        {
         "name": "Sugarcane - 2001",
         "type": "bar",
         "x": [
          "Uttar Pradesh",
          "Maharashtra",
          "Karnataka",
          "Tamil Nadu",
          "Andhra Pradesh",
          "Gujarat",
          "Haryana",
          "Punjab",
          "Uttarakhand",
          "Bihar",
          "Telangana ",
          "Madhya Pradesh",
          "West Bengal",
          "Assam",
          "Odisha",
          "Rajasthan",
          "Kerala",
          "Puducherry",
          "Dadra and Nagar Haveli",
          "Tripura",
          "Nagaland",
          "Arunachal Pradesh",
          "Himachal Pradesh",
          "Mizoram",
          "Chhattisgarh",
          "Andaman and Nicobar Islands",
          "Jammu and Kashmir ",
          "Meghalaya",
          "Chandigarh",
          "Goa",
          "Jharkhand",
          "Manipur",
          "Sikkim"
         ],
         "xaxis": "x21",
         "y": [
          117981573,
          45139800,
          33016618,
          32614900,
          13383359,
          12458000,
          9270000,
          9250000,
          6958951,
          5818262,
          4698530,
          1612840,
          1513656,
          1011398,
          644005.1000000001,
          432127,
          269780,
          197412,
          89110,
          52700,
          48000,
          18920,
          11219,
          9359,
          9046,
          2380,
          436,
          226,
          0,
          0,
          0,
          0,
          0
         ],
         "yaxis": "y21"
        },
        {
         "name": "Sugarcane - 2002",
         "type": "bar",
         "x": [
          "Uttar Pradesh",
          "Maharashtra",
          "Karnataka",
          "Tamil Nadu",
          "Gujarat",
          "Andhra Pradesh",
          "Haryana",
          "Punjab",
          "Uttarakhand",
          "Bihar",
          "Telangana ",
          "Madhya Pradesh",
          "West Bengal",
          "Assam",
          "Odisha",
          "Rajasthan",
          "Kerala",
          "Puducherry",
          "Dadra and Nagar Haveli",
          "Nagaland",
          "Tripura",
          "Arunachal Pradesh",
          "Andaman and Nicobar Islands",
          "Manipur",
          "Chhattisgarh",
          "Mizoram",
          "Himachal Pradesh",
          "Jammu and Kashmir ",
          "Meghalaya",
          "Chandigarh",
          "Goa",
          "Jharkhand",
          "Sikkim"
         ],
         "xaxis": "x22",
         "y": [
          120948041,
          42617000,
          32485308,
          24165390,
          14069000,
          11755368,
          10650000,
          9110000,
          7362658,
          4520510,
          3631850,
          1560420,
          1281276,
          916076,
          753193.2000000001,
          421716,
          312830,
          209496,
          122960,
          80000,
          56203,
          15284,
          13800,
          10450,
          9967,
          7443,
          4649,
          475,
          219,
          0,
          0,
          0,
          0
         ],
         "yaxis": "y22"
        },
        {
         "name": "Sugarcane - 2003",
         "type": "bar",
         "x": [
          "Uttar Pradesh",
          "Maharashtra",
          "Tamil Nadu",
          "Karnataka",
          "Gujarat",
          "Andhra Pradesh",
          "Haryana",
          "Uttarakhand",
          "Punjab",
          "Bihar",
          "Telangana ",
          "Madhya Pradesh",
          "West Bengal",
          "Assam",
          "Odisha",
          "Rajasthan",
          "Kerala",
          "Puducherry",
          "Nagaland",
          "Dadra and Nagar Haveli",
          "Tripura",
          "Mizoram",
          "Arunachal Pradesh",
          "Chhattisgarh",
          "Manipur",
          "Andaman and Nicobar Islands",
          "Jharkhand",
          "Jammu and Kashmir ",
          "Meghalaya",
          "Chandigarh",
          "Goa",
          "Himachal Pradesh",
          "Sikkim"
         ],
         "xaxis": "x23",
         "y": [
          117566725,
          25668400,
          19529277,
          16015440,
          12669000,
          11515819,
          9280000,
          7023220,
          6620000,
          4285888,
          3554005,
          1870120,
          1252628,
          981360,
          858094.4,
          309908,
          290980,
          146675,
          128890,
          96375,
          47510,
          36174,
          15150,
          13290,
          10780,
          2879.52,
          965.56,
          567,
          228,
          0,
          0,
          0,
          0
         ],
         "yaxis": "y23"
        },
        {
         "name": "Sugarcane - 2004",
         "type": "bar",
         "x": [
          "Uttar Pradesh",
          "Tamil Nadu",
          "Maharashtra",
          "Gujarat",
          "Andhra Pradesh",
          "Haryana",
          "Uttarakhand",
          "Punjab",
          "Bihar",
          "Telangana ",
          "Madhya Pradesh",
          "West Bengal",
          "Odisha",
          "Assam",
          "Rajasthan",
          "Kerala",
          "Nagaland",
          "Dadra and Nagar Haveli",
          "Puducherry",
          "Goa",
          "Tripura",
          "Chhattisgarh",
          "Arunachal Pradesh",
          "Jharkhand",
          "Manipur",
          "Andaman and Nicobar Islands",
          "Meghalaya",
          "Chandigarh",
          "Himachal Pradesh",
          "Jammu and Kashmir ",
          "Karnataka",
          "Mizoram",
          "Sikkim"
         ],
         "xaxis": "x24",
         "y": [
          121755620,
          24457244,
          23913700,
          14558000,
          12701367,
          8230000,
          6358655,
          5170000,
          4111722,
          3037805,
          1794420,
          1033235,
          926085.3000000002,
          883925,
          276642,
          154300,
          142100,
          120880,
          115690,
          60583,
          50413,
          16450,
          14132,
          13957.57,
          9800,
          1560,
          225,
          0,
          0,
          0,
          0,
          0,
          0
         ],
         "yaxis": "y24"
        },
        {
         "name": "Sugarcane - 2005",
         "type": "bar",
         "x": [
          "Uttar Pradesh",
          "Maharashtra",
          "Tamil Nadu",
          "Karnataka",
          "Gujarat",
          "Andhra Pradesh",
          "Haryana",
          "Uttarakhand",
          "Punjab",
          "Telangana ",
          "Bihar",
          "Madhya Pradesh",
          "West Bengal",
          "Odisha",
          "Assam",
          "Rajasthan",
          "Puducherry",
          "Nagaland",
          "Dadra and Nagar Haveli",
          "Kerala",
          "Goa",
          "Mizoram",
          "Tripura",
          "Himachal Pradesh",
          "Chhattisgarh",
          "Arunachal Pradesh",
          "Andaman and Nicobar Islands",
          "Manipur",
          "Jammu and Kashmir ",
          "Jharkhand",
          "Meghalaya",
          "Chandigarh",
          "Sikkim"
         ],
         "xaxis": "x25",
         "y": [
          125469871,
          38813700,
          35113269,
          19647650,
          17786000,
          13236997,
          8310000,
          6635715,
          5241000,
          4419398,
          4240463,
          2236980,
          1247713,
          1073008.2999999998,
          871219,
          482634,
          299000,
          210880,
          122480,
          91650,
          55867,
          45953,
          43334,
          25094,
          18562,
          16181,
          2448.2,
          2290,
          753.0999999999999,
          537.88,
          219,
          0,
          0
         ],
         "yaxis": "y25"
        },
        {
         "name": "Sugarcane - 2006",
         "type": "bar",
         "x": [
          "Uttar Pradesh",
          "Tamil Nadu",
          "Karnataka",
          "Andhra Pradesh",
          "Gujarat",
          "Haryana",
          "Uttarakhand",
          "Telangana ",
          "Madhya Pradesh",
          "Odisha",
          "West Bengal",
          "Assam",
          "Rajasthan",
          "Puducherry",
          "Nagaland",
          "Dadra and Nagar Haveli",
          "Kerala",
          "Himachal Pradesh",
          "Goa",
          "Tripura",
          "Jharkhand",
          "Chhattisgarh",
          "Arunachal Pradesh",
          "Manipur",
          "Mizoram",
          "Andaman and Nicobar Islands",
          "Meghalaya",
          "Bihar",
          "Chandigarh",
          "Jammu and Kashmir ",
          "Maharashtra",
          "Punjab",
          "Sikkim"
         ],
         "xaxis": "x26",
         "y": [
          133949379,
          48037332,
          23641948,
          16805897,
          16554000,
          9651000,
          7267238,
          4885741,
          2692260,
          1274370.5999999999,
          1266705,
          1055337,
          628963,
          383706,
          233850,
          93360,
          65790,
          59184,
          58279,
          42373,
          26102,
          20316,
          16843,
          16660,
          12188,
          2500,
          239,
          0,
          0,
          0,
          0,
          0,
          0
         ],
         "yaxis": "y26"
        },
        {
         "name": "Sugarcane - 2010",
         "type": "bar",
         "x": [
          "Uttar Pradesh",
          "Maharashtra",
          "Karnataka",
          "Tamil Nadu",
          "Gujarat",
          "Andhra Pradesh",
          "Bihar",
          "Uttarakhand",
          "Telangana ",
          "Madhya Pradesh",
          "West Bengal",
          "Assam",
          "Odisha",
          "Haryana",
          "Rajasthan",
          "Puducherry",
          "Kerala",
          "Nagaland",
          "Goa",
          "Tripura",
          "Himachal Pradesh",
          "Dadra and Nagar Haveli",
          "Arunachal Pradesh",
          "Chhattisgarh",
          "Andaman and Nicobar Islands",
          "Meghalaya",
          "Chandigarh",
          "Jammu and Kashmir ",
          "Jharkhand",
          "Manipur",
          "Mizoram",
          "Punjab",
          "Sikkim"
         ],
         "xaxis": "x27",
         "y": [
          120544784,
          85691500,
          42276713,
          34251796,
          13763000,
          11876398,
          11827664,
          6235474,
          3066057,
          1960980,
          1134059,
          1076332,
          902697.3,
          604000,
          369354,
          277683,
          271844.64,
          184920,
          49109,
          46481,
          38253,
          32800,
          28974,
          18456,
          1332.95,
          180,
          0,
          0,
          0,
          0,
          0,
          0,
          0
         ],
         "yaxis": "y27"
        },
        {
         "name": "Sugarcane - 1997",
         "type": "bar",
         "x": [
          "Tamil Nadu",
          "Uttar Pradesh",
          "Karnataka",
          "Gujarat",
          "Andhra Pradesh",
          "Haryana",
          "Punjab",
          "Bihar",
          "Telangana ",
          "West Bengal",
          "Assam",
          "Rajasthan",
          "Odisha",
          "Maharashtra",
          "Arunachal Pradesh",
          "Mizoram",
          "Meghalaya",
          "Manipur",
          "Andaman and Nicobar Islands",
          "Chandigarh",
          "Chhattisgarh",
          "Dadra and Nagar Haveli",
          "Goa",
          "Himachal Pradesh",
          "Jammu and Kashmir ",
          "Jharkhand",
          "Kerala",
          "Madhya Pradesh",
          "Nagaland",
          "Puducherry",
          "Sikkim",
          "Tripura",
          "Uttarakhand"
         ],
         "xaxis": "x28",
         "y": [
          307019000,
          114326591,
          28999269,
          11832000,
          11028300,
          7500000,
          7150000,
          4862145,
          2925000,
          1818700,
          1287451,
          1154200,
          1144012,
          158866,
          15806,
          7488,
          225,
          2,
          0,
          0,
          0,
          0,
          0,
          0,
          0,
          0,
          0,
          0,
          0,
          0,
          0,
          0,
          0
         ],
         "yaxis": "y28"
        },
        {
         "name": "Sugarcane - 1998",
         "type": "bar",
         "x": [
          "Uttar Pradesh",
          "Maharashtra",
          "Tamil Nadu",
          "Gujarat",
          "Andhra Pradesh",
          "Haryana",
          "Punjab",
          "Bihar",
          "Telangana ",
          "West Bengal",
          "Madhya Pradesh",
          "Odisha",
          "Assam",
          "Rajasthan",
          "Kerala",
          "Puducherry",
          "Dadra and Nagar Haveli",
          "Tripura",
          "Manipur",
          "Arunachal Pradesh",
          "Mizoram",
          "Meghalaya",
          "Andaman and Nicobar Islands",
          "Chandigarh",
          "Chhattisgarh",
          "Goa",
          "Himachal Pradesh",
          "Jammu and Kashmir ",
          "Jharkhand",
          "Karnataka",
          "Nagaland",
          "Sikkim",
          "Uttarakhand"
         ],
         "xaxis": "x29",
         "y": [
          109489138,
          47151100,
          46672800,
          13565000,
          12687100,
          7010000,
          6130000,
          5032996,
          3814600,
          2001900,
          1558440,
          1469529,
          1223578,
          1078790,
          472160,
          232369,
          122320,
          51300,
          22870,
          15032,
          7863,
          225,
          0,
          0,
          0,
          0,
          0,
          0,
          0,
          0,
          0,
          0,
          0
         ],
         "yaxis": "y29"
        },
        {
         "name": "Sugarcane - 1999",
         "type": "bar",
         "x": [
          "Uttar Pradesh",
          "Maharashtra",
          "Karnataka",
          "Tamil Nadu",
          "Andhra Pradesh",
          "Gujarat",
          "Haryana",
          "Punjab",
          "Bihar",
          "Telangana ",
          "Madhya Pradesh",
          "Odisha",
          "West Bengal",
          "Assam",
          "Rajasthan",
          "Kerala",
          "Puducherry",
          "Dadra and Nagar Haveli",
          "Tripura",
          "Nagaland",
          "Manipur",
          "Arunachal Pradesh",
          "Himachal Pradesh",
          "Mizoram",
          "Meghalaya",
          "Jammu and Kashmir ",
          "Andaman and Nicobar Islands",
          "Chandigarh",
          "Chhattisgarh",
          "Goa",
          "Jharkhand",
          "Sikkim",
          "Uttarakhand"
         ],
         "xaxis": "x30",
         "y": [
          108577182,
          53140400,
          37397876,
          35501817,
          14671879,
          14065000,
          7640000,
          6770000,
          3988969,
          3835735,
          1902760,
          1826930,
          1762806,
          1154615,
          786833,
          578820,
          237610,
          117120,
          51300,
          30000,
          21230,
          16219,
          15470,
          1510,
          223,
          141.8,
          0,
          0,
          0,
          0,
          0,
          0,
          0
         ],
         "yaxis": "y30"
        },
        {
         "name": "Sugarcane - 2007",
         "type": "bar",
         "x": [
          "Uttar Pradesh",
          "Tamil Nadu",
          "Karnataka",
          "Gujarat",
          "Andhra Pradesh",
          "Haryana",
          "Uttarakhand",
          "Telangana ",
          "Bihar",
          "Madhya Pradesh",
          "West Bengal",
          "Odisha",
          "Assam",
          "Maharashtra",
          "Rajasthan",
          "Puducherry",
          "Nagaland",
          "Kerala",
          "Himachal Pradesh",
          "Goa",
          "Tripura",
          "Jharkhand",
          "Chhattisgarh",
          "Arunachal Pradesh",
          "Manipur",
          "Mizoram",
          "Meghalaya",
          "Jammu and Kashmir ",
          "Andaman and Nicobar Islands",
          "Chandigarh",
          "Dadra and Nagar Haveli",
          "Punjab",
          "Sikkim"
         ],
         "xaxis": "x31",
         "y": [
          124665288,
          38070965,
          26028309,
          15190000,
          15159000,
          8850000,
          7594553,
          5023000,
          4027229,
          3276720,
          1772001,
          1069227.4,
          979860,
          883099,
          594056,
          228416,
          220320,
          159150,
          58442,
          56027,
          46678,
          40610,
          27254,
          21754,
          16660,
          828,
          252,
          221.3,
          0,
          0,
          0,
          0,
          0
         ],
         "yaxis": "y31"
        },
        {
         "name": "Sugarcane - 2008",
         "type": "bar",
         "x": [
          "Maharashtra",
          "Uttar Pradesh",
          "Tamil Nadu",
          "Karnataka",
          "Gujarat",
          "Andhra Pradesh",
          "Uttarakhand",
          "Haryana",
          "Bihar",
          "Telangana ",
          "Madhya Pradesh",
          "West Bengal",
          "Assam",
          "Odisha",
          "Rajasthan",
          "Kerala",
          "Nagaland",
          "Puducherry",
          "Himachal Pradesh",
          "Tripura",
          "Goa",
          "Arunachal Pradesh",
          "Chhattisgarh",
          "Mizoram",
          "Meghalaya",
          "Andaman and Nicobar Islands",
          "Chandigarh",
          "Dadra and Nagar Haveli",
          "Jammu and Kashmir ",
          "Jharkhand",
          "Manipur",
          "Punjab",
          "Sikkim"
         ],
         "xaxis": "x32",
         "y": [
          121297200,
          109047670,
          32798888,
          24266201,
          15512000,
          11940595,
          5683369,
          5242000,
          4959918,
          3442404,
          2381030,
          1638267,
          1099749,
          646243.7,
          387814,
          275480,
          185760,
          162323,
          53068,
          51695,
          49253,
          23439,
          22230,
          13696,
          250,
          0,
          0,
          0,
          0,
          0,
          0,
          0,
          0
         ],
         "yaxis": "y32"
        },
        {
         "name": "Sugarcane - 2009",
         "type": "bar",
         "x": [
          "Uttar Pradesh",
          "Maharashtra",
          "Karnataka",
          "Tamil Nadu",
          "Gujarat",
          "Andhra Pradesh",
          "Uttarakhand",
          "Haryana",
          "Bihar",
          "Telangana ",
          "Madhya Pradesh",
          "Assam",
          "West Bengal",
          "Odisha",
          "Punjab",
          "Rajasthan",
          "Kerala",
          "Puducherry",
          "Nagaland",
          "Goa",
          "Tripura",
          "Chhattisgarh",
          "Arunachal Pradesh",
          "Mizoram",
          "Meghalaya",
          "Andaman and Nicobar Islands",
          "Chandigarh",
          "Dadra and Nagar Haveli",
          "Himachal Pradesh",
          "Jammu and Kashmir ",
          "Jharkhand",
          "Manipur",
          "Sikkim"
         ],
         "xaxis": "x33",
         "y": [
          117139919,
          64159300,
          32285023,
          29758209,
          13304000,
          9561099,
          6088488,
          4078900,
          3443693,
          2134764,
          1847170,
          1062418,
          1000808,
          489940.1,
          370000,
          344502,
          284970,
          247254,
          152880,
          52343,
          44913,
          35356,
          27145,
          12368,
          206,
          0,
          0,
          0,
          0,
          0,
          0,
          0,
          0
         ],
         "yaxis": "y33"
        },
        {
         "name": "Sugarcane - 2011",
         "type": "bar",
         "x": [
          "Uttar Pradesh",
          "Maharashtra",
          "Karnataka",
          "Tamil Nadu",
          "Andhra Pradesh",
          "Gujarat",
          "Uttarakhand",
          "Punjab",
          "Telangana ",
          "Madhya Pradesh",
          "West Bengal",
          "Assam",
          "Odisha",
          "Haryana",
          "Puducherry",
          "Kerala",
          "Nagaland",
          "Dadra and Nagar Haveli",
          "Goa",
          "Chhattisgarh",
          "Tripura",
          "Arunachal Pradesh",
          "Meghalaya",
          "Andaman and Nicobar Islands",
          "Bihar",
          "Chandigarh",
          "Himachal Pradesh",
          "Jammu and Kashmir ",
          "Jharkhand",
          "Manipur",
          "Mizoram",
          "Rajasthan",
          "Sikkim"
         ],
         "xaxis": "x34",
         "y": [
          128818743,
          89456100,
          39470478,
          38974842,
          12844380,
          12748000,
          6348078,
          5653000,
          3844477,
          1965790,
          1681444,
          1052514,
          884713.1,
          695000,
          287785,
          263034.2,
          186670,
          53200,
          46584,
          45441,
          45001,
          30000,
          199,
          0,
          0,
          0,
          0,
          0,
          0,
          0,
          0,
          0,
          0
         ],
         "yaxis": "y34"
        },
        {
         "name": "Sugarcane - 2012",
         "type": "bar",
         "x": [
          "Uttar Pradesh",
          "Maharashtra",
          "Karnataka",
          "Tamil Nadu",
          "Bihar",
          "Andhra Pradesh",
          "Haryana",
          "Uttarakhand",
          "Punjab",
          "Madhya Pradesh",
          "West Bengal",
          "Gujarat",
          "Assam",
          "Odisha",
          "Puducherry",
          "Nagaland",
          "Dadra and Nagar Haveli",
          "Goa",
          "Tripura",
          "Arunachal Pradesh",
          "Chhattisgarh",
          "Kerala",
          "Meghalaya",
          "Andaman and Nicobar Islands",
          "Chandigarh",
          "Himachal Pradesh",
          "Jammu and Kashmir ",
          "Jharkhand",
          "Manipur",
          "Mizoram",
          "Rajasthan",
          "Sikkim",
          "Telangana "
         ],
         "xaxis": "x35",
         "y": [
          137904315,
          75335000,
          35510714,
          34014097,
          12741415,
          11993130,
          7500000,
          6344504,
          5832000,
          2756580,
          1617025,
          1260800,
          1028161,
          952366.8999999999,
          304516,
          187570,
          52960,
          46055,
          45437,
          30151,
          25800,
          16572,
          280,
          0,
          0,
          0,
          0,
          0,
          0,
          0,
          0,
          0,
          0
         ],
         "yaxis": "y35"
        },
        {
         "name": "Sugarcane - 2013",
         "type": "bar",
         "x": [
          "Uttar Pradesh",
          "Maharashtra",
          "Karnataka",
          "Tamil Nadu",
          "Bihar",
          "Andhra Pradesh",
          "Punjab",
          "Uttarakhand",
          "Telangana ",
          "Madhya Pradesh",
          "Chhattisgarh",
          "West Bengal",
          "Assam",
          "Odisha",
          "Puducherry",
          "Tripura",
          "Goa",
          "Arunachal Pradesh",
          "Kerala",
          "Meghalaya",
          "Andaman and Nicobar Islands",
          "Chandigarh",
          "Dadra and Nagar Haveli",
          "Gujarat",
          "Haryana",
          "Himachal Pradesh",
          "Jammu and Kashmir ",
          "Jharkhand",
          "Manipur",
          "Mizoram",
          "Nagaland",
          "Rajasthan",
          "Sikkim"
         ],
         "xaxis": "x36",
         "y": [
          142045762,
          83954000,
          38042382,
          32454135,
          12881781,
          12008047,
          6675000,
          6061428,
          3376625,
          2797460,
          2153011,
          1945042,
          1075171,
          936512.2,
          304066,
          49598,
          47669,
          30351,
          22152,
          315,
          0,
          0,
          0,
          0,
          0,
          0,
          0,
          0,
          0,
          0,
          0,
          0,
          0
         ],
         "yaxis": "y36"
        },
        {
         "name": "Sugarcane - 2014",
         "type": "bar",
         "x": [
          "Uttar Pradesh",
          "Maharashtra",
          "Karnataka",
          "Bihar",
          "Andhra Pradesh",
          "Punjab",
          "Uttarakhand",
          "Telangana ",
          "West Bengal",
          "Assam",
          "Odisha",
          "Puducherry",
          "Nagaland",
          "Chhattisgarh",
          "Goa",
          "Tripura",
          "Arunachal Pradesh",
          "Kerala",
          "Jammu and Kashmir ",
          "Meghalaya",
          "Andaman and Nicobar Islands",
          "Chandigarh",
          "Dadra and Nagar Haveli",
          "Gujarat",
          "Haryana",
          "Himachal Pradesh",
          "Jharkhand",
          "Madhya Pradesh",
          "Manipur",
          "Mizoram",
          "Rajasthan",
          "Sikkim",
          "Tamil Nadu"
         ],
         "xaxis": "x37",
         "y": [
          146576786,
          91538100,
          43838057,
          15498951,
          10002941,
          7039000,
          6108965,
          3343035,
          2105506,
          1099134,
          722890.5999999999,
          316965,
          189330,
          76149,
          49215,
          41510,
          34900,
          14853,
          1957.5,
          338,
          0,
          0,
          0,
          0,
          0,
          0,
          0,
          0,
          0,
          0,
          0,
          0,
          0
         ],
         "yaxis": "y37"
        },
        {
         "name": "Sugarcane - 2015",
         "type": "bar",
         "x": [
          "Odisha",
          "Andaman and Nicobar Islands",
          "Andhra Pradesh",
          "Arunachal Pradesh",
          "Assam",
          "Bihar",
          "Chandigarh",
          "Chhattisgarh",
          "Dadra and Nagar Haveli",
          "Goa",
          "Gujarat",
          "Haryana",
          "Himachal Pradesh",
          "Jammu and Kashmir ",
          "Jharkhand",
          "Karnataka",
          "Kerala",
          "Madhya Pradesh",
          "Maharashtra",
          "Manipur",
          "Meghalaya",
          "Mizoram",
          "Nagaland",
          "Puducherry",
          "Punjab",
          "Rajasthan",
          "Sikkim",
          "Tamil Nadu",
          "Telangana ",
          "Tripura",
          "Uttar Pradesh",
          "Uttarakhand",
          "West Bengal"
         ],
         "xaxis": "x38",
         "y": [
          577157.2000000001,
          0,
          0,
          0,
          0,
          0,
          0,
          0,
          0,
          0,
          0,
          0,
          0,
          0,
          0,
          0,
          0,
          0,
          0,
          0,
          0,
          0,
          0,
          0,
          0,
          0,
          0,
          0,
          0,
          0,
          0,
          0,
          0
         ],
         "yaxis": "y38"
        }
       ],
       "layout": {
        "annotations": [
         {
          "font": {
           "size": 16
          },
          "showarrow": false,
          "text": "Rice - 2000",
          "x": 0.021329639889196676,
          "xanchor": "center",
          "xref": "paper",
          "y": 1,
          "yanchor": "bottom",
          "yref": "paper"
         },
         {
          "font": {
           "size": 16
          },
          "showarrow": false,
          "text": "Rice - 2001",
          "x": 0.0745152354570637,
          "xanchor": "center",
          "xref": "paper",
          "y": 1,
          "yanchor": "bottom",
          "yref": "paper"
         },
         {
          "font": {
           "size": 16
          },
          "showarrow": false,
          "text": "Rice - 2002",
          "x": 0.12770083102493074,
          "xanchor": "center",
          "xref": "paper",
          "y": 1,
          "yanchor": "bottom",
          "yref": "paper"
         },
         {
          "font": {
           "size": 16
          },
          "showarrow": false,
          "text": "Rice - 2003",
          "x": 0.1808864265927978,
          "xanchor": "center",
          "xref": "paper",
          "y": 1,
          "yanchor": "bottom",
          "yref": "paper"
         },
         {
          "font": {
           "size": 16
          },
          "showarrow": false,
          "text": "Rice - 2004",
          "x": 0.2340720221606648,
          "xanchor": "center",
          "xref": "paper",
          "y": 1,
          "yanchor": "bottom",
          "yref": "paper"
         },
         {
          "font": {
           "size": 16
          },
          "showarrow": false,
          "text": "Rice - 2005",
          "x": 0.28725761772853187,
          "xanchor": "center",
          "xref": "paper",
          "y": 1,
          "yanchor": "bottom",
          "yref": "paper"
         },
         {
          "font": {
           "size": 16
          },
          "showarrow": false,
          "text": "Rice - 2006",
          "x": 0.3404432132963989,
          "xanchor": "center",
          "xref": "paper",
          "y": 1,
          "yanchor": "bottom",
          "yref": "paper"
         },
         {
          "font": {
           "size": 16
          },
          "showarrow": false,
          "text": "Rice - 2010",
          "x": 0.39362880886426593,
          "xanchor": "center",
          "xref": "paper",
          "y": 1,
          "yanchor": "bottom",
          "yref": "paper"
         },
         {
          "font": {
           "size": 16
          },
          "showarrow": false,
          "text": "Rice - 1997",
          "x": 0.44681440443213294,
          "xanchor": "center",
          "xref": "paper",
          "y": 1,
          "yanchor": "bottom",
          "yref": "paper"
         },
         {
          "font": {
           "size": 16
          },
          "showarrow": false,
          "text": "Rice - 1998",
          "x": 0.5,
          "xanchor": "center",
          "xref": "paper",
          "y": 1,
          "yanchor": "bottom",
          "yref": "paper"
         },
         {
          "font": {
           "size": 16
          },
          "showarrow": false,
          "text": "Rice - 1999",
          "x": 0.5531855955678671,
          "xanchor": "center",
          "xref": "paper",
          "y": 1,
          "yanchor": "bottom",
          "yref": "paper"
         },
         {
          "font": {
           "size": 16
          },
          "showarrow": false,
          "text": "Rice - 2007",
          "x": 0.606371191135734,
          "xanchor": "center",
          "xref": "paper",
          "y": 1,
          "yanchor": "bottom",
          "yref": "paper"
         },
         {
          "font": {
           "size": 16
          },
          "showarrow": false,
          "text": "Rice - 2008",
          "x": 0.6595567867036012,
          "xanchor": "center",
          "xref": "paper",
          "y": 1,
          "yanchor": "bottom",
          "yref": "paper"
         },
         {
          "font": {
           "size": 16
          },
          "showarrow": false,
          "text": "Rice - 2009",
          "x": 0.7127423822714681,
          "xanchor": "center",
          "xref": "paper",
          "y": 1,
          "yanchor": "bottom",
          "yref": "paper"
         },
         {
          "font": {
           "size": 16
          },
          "showarrow": false,
          "text": "Rice - 2011",
          "x": 0.7659279778393352,
          "xanchor": "center",
          "xref": "paper",
          "y": 1,
          "yanchor": "bottom",
          "yref": "paper"
         },
         {
          "font": {
           "size": 16
          },
          "showarrow": false,
          "text": "Rice - 2012",
          "x": 0.8191135734072021,
          "xanchor": "center",
          "xref": "paper",
          "y": 1,
          "yanchor": "bottom",
          "yref": "paper"
         },
         {
          "font": {
           "size": 16
          },
          "showarrow": false,
          "text": "Rice - 2013",
          "x": 0.8722991689750692,
          "xanchor": "center",
          "xref": "paper",
          "y": 1,
          "yanchor": "bottom",
          "yref": "paper"
         },
         {
          "font": {
           "size": 16
          },
          "showarrow": false,
          "text": "Rice - 2014",
          "x": 0.9254847645429363,
          "xanchor": "center",
          "xref": "paper",
          "y": 1,
          "yanchor": "bottom",
          "yref": "paper"
         },
         {
          "font": {
           "size": 16
          },
          "showarrow": false,
          "text": "Rice - 2015",
          "x": 0.9786703601108033,
          "xanchor": "center",
          "xref": "paper",
          "y": 1,
          "yanchor": "bottom",
          "yref": "paper"
         },
         {
          "font": {
           "size": 16
          },
          "showarrow": false,
          "text": "Sugarcane - 2000",
          "x": 0.021329639889196676,
          "xanchor": "center",
          "xref": "paper",
          "y": 0.4,
          "yanchor": "bottom",
          "yref": "paper"
         },
         {
          "font": {
           "size": 16
          },
          "showarrow": false,
          "text": "Sugarcane - 2001",
          "x": 0.0745152354570637,
          "xanchor": "center",
          "xref": "paper",
          "y": 0.4,
          "yanchor": "bottom",
          "yref": "paper"
         },
         {
          "font": {
           "size": 16
          },
          "showarrow": false,
          "text": "Sugarcane - 2002",
          "x": 0.12770083102493074,
          "xanchor": "center",
          "xref": "paper",
          "y": 0.4,
          "yanchor": "bottom",
          "yref": "paper"
         },
         {
          "font": {
           "size": 16
          },
          "showarrow": false,
          "text": "Sugarcane - 2003",
          "x": 0.1808864265927978,
          "xanchor": "center",
          "xref": "paper",
          "y": 0.4,
          "yanchor": "bottom",
          "yref": "paper"
         },
         {
          "font": {
           "size": 16
          },
          "showarrow": false,
          "text": "Sugarcane - 2004",
          "x": 0.2340720221606648,
          "xanchor": "center",
          "xref": "paper",
          "y": 0.4,
          "yanchor": "bottom",
          "yref": "paper"
         },
         {
          "font": {
           "size": 16
          },
          "showarrow": false,
          "text": "Sugarcane - 2005",
          "x": 0.28725761772853187,
          "xanchor": "center",
          "xref": "paper",
          "y": 0.4,
          "yanchor": "bottom",
          "yref": "paper"
         },
         {
          "font": {
           "size": 16
          },
          "showarrow": false,
          "text": "Sugarcane - 2006",
          "x": 0.3404432132963989,
          "xanchor": "center",
          "xref": "paper",
          "y": 0.4,
          "yanchor": "bottom",
          "yref": "paper"
         },
         {
          "font": {
           "size": 16
          },
          "showarrow": false,
          "text": "Sugarcane - 2010",
          "x": 0.39362880886426593,
          "xanchor": "center",
          "xref": "paper",
          "y": 0.4,
          "yanchor": "bottom",
          "yref": "paper"
         },
         {
          "font": {
           "size": 16
          },
          "showarrow": false,
          "text": "Sugarcane - 1997",
          "x": 0.44681440443213294,
          "xanchor": "center",
          "xref": "paper",
          "y": 0.4,
          "yanchor": "bottom",
          "yref": "paper"
         },
         {
          "font": {
           "size": 16
          },
          "showarrow": false,
          "text": "Sugarcane - 1998",
          "x": 0.5,
          "xanchor": "center",
          "xref": "paper",
          "y": 0.4,
          "yanchor": "bottom",
          "yref": "paper"
         },
         {
          "font": {
           "size": 16
          },
          "showarrow": false,
          "text": "Sugarcane - 1999",
          "x": 0.5531855955678671,
          "xanchor": "center",
          "xref": "paper",
          "y": 0.4,
          "yanchor": "bottom",
          "yref": "paper"
         },
         {
          "font": {
           "size": 16
          },
          "showarrow": false,
          "text": "Sugarcane - 2007",
          "x": 0.606371191135734,
          "xanchor": "center",
          "xref": "paper",
          "y": 0.4,
          "yanchor": "bottom",
          "yref": "paper"
         },
         {
          "font": {
           "size": 16
          },
          "showarrow": false,
          "text": "Sugarcane - 2008",
          "x": 0.6595567867036012,
          "xanchor": "center",
          "xref": "paper",
          "y": 0.4,
          "yanchor": "bottom",
          "yref": "paper"
         },
         {
          "font": {
           "size": 16
          },
          "showarrow": false,
          "text": "Sugarcane - 2009",
          "x": 0.7127423822714681,
          "xanchor": "center",
          "xref": "paper",
          "y": 0.4,
          "yanchor": "bottom",
          "yref": "paper"
         },
         {
          "font": {
           "size": 16
          },
          "showarrow": false,
          "text": "Sugarcane - 2011",
          "x": 0.7659279778393352,
          "xanchor": "center",
          "xref": "paper",
          "y": 0.4,
          "yanchor": "bottom",
          "yref": "paper"
         },
         {
          "font": {
           "size": 16
          },
          "showarrow": false,
          "text": "Sugarcane - 2012",
          "x": 0.8191135734072021,
          "xanchor": "center",
          "xref": "paper",
          "y": 0.4,
          "yanchor": "bottom",
          "yref": "paper"
         },
         {
          "font": {
           "size": 16
          },
          "showarrow": false,
          "text": "Sugarcane - 2013",
          "x": 0.8722991689750692,
          "xanchor": "center",
          "xref": "paper",
          "y": 0.4,
          "yanchor": "bottom",
          "yref": "paper"
         },
         {
          "font": {
           "size": 16
          },
          "showarrow": false,
          "text": "Sugarcane - 2014",
          "x": 0.9254847645429363,
          "xanchor": "center",
          "xref": "paper",
          "y": 0.4,
          "yanchor": "bottom",
          "yref": "paper"
         },
         {
          "font": {
           "size": 16
          },
          "showarrow": false,
          "text": "Sugarcane - 2015",
          "x": 0.9786703601108033,
          "xanchor": "center",
          "xref": "paper",
          "y": 0.4,
          "yanchor": "bottom",
          "yref": "paper"
         }
        ],
        "height": 1500,
        "showlegend": false,
        "template": {
         "data": {
          "bar": [
           {
            "error_x": {
             "color": "#2a3f5f"
            },
            "error_y": {
             "color": "#2a3f5f"
            },
            "marker": {
             "line": {
              "color": "#E5ECF6",
              "width": 0.5
             },
             "pattern": {
              "fillmode": "overlay",
              "size": 10,
              "solidity": 0.2
             }
            },
            "type": "bar"
           }
          ],
          "barpolar": [
           {
            "marker": {
             "line": {
              "color": "#E5ECF6",
              "width": 0.5
             },
             "pattern": {
              "fillmode": "overlay",
              "size": 10,
              "solidity": 0.2
             }
            },
            "type": "barpolar"
           }
          ],
          "carpet": [
           {
            "aaxis": {
             "endlinecolor": "#2a3f5f",
             "gridcolor": "white",
             "linecolor": "white",
             "minorgridcolor": "white",
             "startlinecolor": "#2a3f5f"
            },
            "baxis": {
             "endlinecolor": "#2a3f5f",
             "gridcolor": "white",
             "linecolor": "white",
             "minorgridcolor": "white",
             "startlinecolor": "#2a3f5f"
            },
            "type": "carpet"
           }
          ],
          "choropleth": [
           {
            "colorbar": {
             "outlinewidth": 0,
             "ticks": ""
            },
            "type": "choropleth"
           }
          ],
          "contour": [
           {
            "colorbar": {
             "outlinewidth": 0,
             "ticks": ""
            },
            "colorscale": [
             [
              0,
              "#0d0887"
             ],
             [
              0.1111111111111111,
              "#46039f"
             ],
             [
              0.2222222222222222,
              "#7201a8"
             ],
             [
              0.3333333333333333,
              "#9c179e"
             ],
             [
              0.4444444444444444,
              "#bd3786"
             ],
             [
              0.5555555555555556,
              "#d8576b"
             ],
             [
              0.6666666666666666,
              "#ed7953"
             ],
             [
              0.7777777777777778,
              "#fb9f3a"
             ],
             [
              0.8888888888888888,
              "#fdca26"
             ],
             [
              1,
              "#f0f921"
             ]
            ],
            "type": "contour"
           }
          ],
          "contourcarpet": [
           {
            "colorbar": {
             "outlinewidth": 0,
             "ticks": ""
            },
            "type": "contourcarpet"
           }
          ],
          "heatmap": [
           {
            "colorbar": {
             "outlinewidth": 0,
             "ticks": ""
            },
            "colorscale": [
             [
              0,
              "#0d0887"
             ],
             [
              0.1111111111111111,
              "#46039f"
             ],
             [
              0.2222222222222222,
              "#7201a8"
             ],
             [
              0.3333333333333333,
              "#9c179e"
             ],
             [
              0.4444444444444444,
              "#bd3786"
             ],
             [
              0.5555555555555556,
              "#d8576b"
             ],
             [
              0.6666666666666666,
              "#ed7953"
             ],
             [
              0.7777777777777778,
              "#fb9f3a"
             ],
             [
              0.8888888888888888,
              "#fdca26"
             ],
             [
              1,
              "#f0f921"
             ]
            ],
            "type": "heatmap"
           }
          ],
          "heatmapgl": [
           {
            "colorbar": {
             "outlinewidth": 0,
             "ticks": ""
            },
            "colorscale": [
             [
              0,
              "#0d0887"
             ],
             [
              0.1111111111111111,
              "#46039f"
             ],
             [
              0.2222222222222222,
              "#7201a8"
             ],
             [
              0.3333333333333333,
              "#9c179e"
             ],
             [
              0.4444444444444444,
              "#bd3786"
             ],
             [
              0.5555555555555556,
              "#d8576b"
             ],
             [
              0.6666666666666666,
              "#ed7953"
             ],
             [
              0.7777777777777778,
              "#fb9f3a"
             ],
             [
              0.8888888888888888,
              "#fdca26"
             ],
             [
              1,
              "#f0f921"
             ]
            ],
            "type": "heatmapgl"
           }
          ],
          "histogram": [
           {
            "marker": {
             "pattern": {
              "fillmode": "overlay",
              "size": 10,
              "solidity": 0.2
             }
            },
            "type": "histogram"
           }
          ],
          "histogram2d": [
           {
            "colorbar": {
             "outlinewidth": 0,
             "ticks": ""
            },
            "colorscale": [
             [
              0,
              "#0d0887"
             ],
             [
              0.1111111111111111,
              "#46039f"
             ],
             [
              0.2222222222222222,
              "#7201a8"
             ],
             [
              0.3333333333333333,
              "#9c179e"
             ],
             [
              0.4444444444444444,
              "#bd3786"
             ],
             [
              0.5555555555555556,
              "#d8576b"
             ],
             [
              0.6666666666666666,
              "#ed7953"
             ],
             [
              0.7777777777777778,
              "#fb9f3a"
             ],
             [
              0.8888888888888888,
              "#fdca26"
             ],
             [
              1,
              "#f0f921"
             ]
            ],
            "type": "histogram2d"
           }
          ],
          "histogram2dcontour": [
           {
            "colorbar": {
             "outlinewidth": 0,
             "ticks": ""
            },
            "colorscale": [
             [
              0,
              "#0d0887"
             ],
             [
              0.1111111111111111,
              "#46039f"
             ],
             [
              0.2222222222222222,
              "#7201a8"
             ],
             [
              0.3333333333333333,
              "#9c179e"
             ],
             [
              0.4444444444444444,
              "#bd3786"
             ],
             [
              0.5555555555555556,
              "#d8576b"
             ],
             [
              0.6666666666666666,
              "#ed7953"
             ],
             [
              0.7777777777777778,
              "#fb9f3a"
             ],
             [
              0.8888888888888888,
              "#fdca26"
             ],
             [
              1,
              "#f0f921"
             ]
            ],
            "type": "histogram2dcontour"
           }
          ],
          "mesh3d": [
           {
            "colorbar": {
             "outlinewidth": 0,
             "ticks": ""
            },
            "type": "mesh3d"
           }
          ],
          "parcoords": [
           {
            "line": {
             "colorbar": {
              "outlinewidth": 0,
              "ticks": ""
             }
            },
            "type": "parcoords"
           }
          ],
          "pie": [
           {
            "automargin": true,
            "type": "pie"
           }
          ],
          "scatter": [
           {
            "fillpattern": {
             "fillmode": "overlay",
             "size": 10,
             "solidity": 0.2
            },
            "type": "scatter"
           }
          ],
          "scatter3d": [
           {
            "line": {
             "colorbar": {
              "outlinewidth": 0,
              "ticks": ""
             }
            },
            "marker": {
             "colorbar": {
              "outlinewidth": 0,
              "ticks": ""
             }
            },
            "type": "scatter3d"
           }
          ],
          "scattercarpet": [
           {
            "marker": {
             "colorbar": {
              "outlinewidth": 0,
              "ticks": ""
             }
            },
            "type": "scattercarpet"
           }
          ],
          "scattergeo": [
           {
            "marker": {
             "colorbar": {
              "outlinewidth": 0,
              "ticks": ""
             }
            },
            "type": "scattergeo"
           }
          ],
          "scattergl": [
           {
            "marker": {
             "colorbar": {
              "outlinewidth": 0,
              "ticks": ""
             }
            },
            "type": "scattergl"
           }
          ],
          "scattermapbox": [
           {
            "marker": {
             "colorbar": {
              "outlinewidth": 0,
              "ticks": ""
             }
            },
            "type": "scattermapbox"
           }
          ],
          "scatterpolar": [
           {
            "marker": {
             "colorbar": {
              "outlinewidth": 0,
              "ticks": ""
             }
            },
            "type": "scatterpolar"
           }
          ],
          "scatterpolargl": [
           {
            "marker": {
             "colorbar": {
              "outlinewidth": 0,
              "ticks": ""
             }
            },
            "type": "scatterpolargl"
           }
          ],
          "scatterternary": [
           {
            "marker": {
             "colorbar": {
              "outlinewidth": 0,
              "ticks": ""
             }
            },
            "type": "scatterternary"
           }
          ],
          "surface": [
           {
            "colorbar": {
             "outlinewidth": 0,
             "ticks": ""
            },
            "colorscale": [
             [
              0,
              "#0d0887"
             ],
             [
              0.1111111111111111,
              "#46039f"
             ],
             [
              0.2222222222222222,
              "#7201a8"
             ],
             [
              0.3333333333333333,
              "#9c179e"
             ],
             [
              0.4444444444444444,
              "#bd3786"
             ],
             [
              0.5555555555555556,
              "#d8576b"
             ],
             [
              0.6666666666666666,
              "#ed7953"
             ],
             [
              0.7777777777777778,
              "#fb9f3a"
             ],
             [
              0.8888888888888888,
              "#fdca26"
             ],
             [
              1,
              "#f0f921"
             ]
            ],
            "type": "surface"
           }
          ],
          "table": [
           {
            "cells": {
             "fill": {
              "color": "#EBF0F8"
             },
             "line": {
              "color": "white"
             }
            },
            "header": {
             "fill": {
              "color": "#C8D4E3"
             },
             "line": {
              "color": "white"
             }
            },
            "type": "table"
           }
          ]
         },
         "layout": {
          "annotationdefaults": {
           "arrowcolor": "#2a3f5f",
           "arrowhead": 0,
           "arrowwidth": 1
          },
          "autotypenumbers": "strict",
          "coloraxis": {
           "colorbar": {
            "outlinewidth": 0,
            "ticks": ""
           }
          },
          "colorscale": {
           "diverging": [
            [
             0,
             "#8e0152"
            ],
            [
             0.1,
             "#c51b7d"
            ],
            [
             0.2,
             "#de77ae"
            ],
            [
             0.3,
             "#f1b6da"
            ],
            [
             0.4,
             "#fde0ef"
            ],
            [
             0.5,
             "#f7f7f7"
            ],
            [
             0.6,
             "#e6f5d0"
            ],
            [
             0.7,
             "#b8e186"
            ],
            [
             0.8,
             "#7fbc41"
            ],
            [
             0.9,
             "#4d9221"
            ],
            [
             1,
             "#276419"
            ]
           ],
           "sequential": [
            [
             0,
             "#0d0887"
            ],
            [
             0.1111111111111111,
             "#46039f"
            ],
            [
             0.2222222222222222,
             "#7201a8"
            ],
            [
             0.3333333333333333,
             "#9c179e"
            ],
            [
             0.4444444444444444,
             "#bd3786"
            ],
            [
             0.5555555555555556,
             "#d8576b"
            ],
            [
             0.6666666666666666,
             "#ed7953"
            ],
            [
             0.7777777777777778,
             "#fb9f3a"
            ],
            [
             0.8888888888888888,
             "#fdca26"
            ],
            [
             1,
             "#f0f921"
            ]
           ],
           "sequentialminus": [
            [
             0,
             "#0d0887"
            ],
            [
             0.1111111111111111,
             "#46039f"
            ],
            [
             0.2222222222222222,
             "#7201a8"
            ],
            [
             0.3333333333333333,
             "#9c179e"
            ],
            [
             0.4444444444444444,
             "#bd3786"
            ],
            [
             0.5555555555555556,
             "#d8576b"
            ],
            [
             0.6666666666666666,
             "#ed7953"
            ],
            [
             0.7777777777777778,
             "#fb9f3a"
            ],
            [
             0.8888888888888888,
             "#fdca26"
            ],
            [
             1,
             "#f0f921"
            ]
           ]
          },
          "colorway": [
           "#636efa",
           "#EF553B",
           "#00cc96",
           "#ab63fa",
           "#FFA15A",
           "#19d3f3",
           "#FF6692",
           "#B6E880",
           "#FF97FF",
           "#FECB52"
          ],
          "font": {
           "color": "#2a3f5f"
          },
          "geo": {
           "bgcolor": "white",
           "lakecolor": "white",
           "landcolor": "#E5ECF6",
           "showlakes": true,
           "showland": true,
           "subunitcolor": "white"
          },
          "hoverlabel": {
           "align": "left"
          },
          "hovermode": "closest",
          "mapbox": {
           "style": "light"
          },
          "paper_bgcolor": "white",
          "plot_bgcolor": "#E5ECF6",
          "polar": {
           "angularaxis": {
            "gridcolor": "white",
            "linecolor": "white",
            "ticks": ""
           },
           "bgcolor": "#E5ECF6",
           "radialaxis": {
            "gridcolor": "white",
            "linecolor": "white",
            "ticks": ""
           }
          },
          "scene": {
           "xaxis": {
            "backgroundcolor": "#E5ECF6",
            "gridcolor": "white",
            "gridwidth": 2,
            "linecolor": "white",
            "showbackground": true,
            "ticks": "",
            "zerolinecolor": "white"
           },
           "yaxis": {
            "backgroundcolor": "#E5ECF6",
            "gridcolor": "white",
            "gridwidth": 2,
            "linecolor": "white",
            "showbackground": true,
            "ticks": "",
            "zerolinecolor": "white"
           },
           "zaxis": {
            "backgroundcolor": "#E5ECF6",
            "gridcolor": "white",
            "gridwidth": 2,
            "linecolor": "white",
            "showbackground": true,
            "ticks": "",
            "zerolinecolor": "white"
           }
          },
          "shapedefaults": {
           "line": {
            "color": "#2a3f5f"
           }
          },
          "ternary": {
           "aaxis": {
            "gridcolor": "white",
            "linecolor": "white",
            "ticks": ""
           },
           "baxis": {
            "gridcolor": "white",
            "linecolor": "white",
            "ticks": ""
           },
           "bgcolor": "#E5ECF6",
           "caxis": {
            "gridcolor": "white",
            "linecolor": "white",
            "ticks": ""
           }
          },
          "title": {
           "x": 0.05
          },
          "xaxis": {
           "automargin": true,
           "gridcolor": "white",
           "linecolor": "white",
           "ticks": "",
           "title": {
            "standoff": 15
           },
           "zerolinecolor": "white",
           "zerolinewidth": 2
          },
          "yaxis": {
           "automargin": true,
           "gridcolor": "white",
           "linecolor": "white",
           "ticks": "",
           "title": {
            "standoff": 15
           },
           "zerolinecolor": "white",
           "zerolinewidth": 2
          }
         }
        },
        "title": {
         "text": "Production Analysis by Crop and Year"
        },
        "width": 5000,
        "xaxis": {
         "anchor": "y",
         "domain": [
          0,
          0.04265927977839335
         ]
        },
        "xaxis10": {
         "anchor": "y10",
         "domain": [
          0.47867036011080333,
          0.5213296398891967
         ]
        },
        "xaxis11": {
         "anchor": "y11",
         "domain": [
          0.5318559556786704,
          0.5745152354570637
         ]
        },
        "xaxis12": {
         "anchor": "y12",
         "domain": [
          0.5850415512465373,
          0.6277008310249307
         ]
        },
        "xaxis13": {
         "anchor": "y13",
         "domain": [
          0.6382271468144045,
          0.6808864265927979
         ]
        },
        "xaxis14": {
         "anchor": "y14",
         "domain": [
          0.6914127423822715,
          0.7340720221606648
         ]
        },
        "xaxis15": {
         "anchor": "y15",
         "domain": [
          0.7445983379501385,
          0.7872576177285319
         ]
        },
        "xaxis16": {
         "anchor": "y16",
         "domain": [
          0.7977839335180055,
          0.8404432132963988
         ]
        },
        "xaxis17": {
         "anchor": "y17",
         "domain": [
          0.8509695290858725,
          0.8936288088642659
         ]
        },
        "xaxis18": {
         "anchor": "y18",
         "domain": [
          0.9041551246537396,
          0.9468144044321329
         ]
        },
        "xaxis19": {
         "anchor": "y19",
         "domain": [
          0.9573407202216067,
          1
         ]
        },
        "xaxis2": {
         "anchor": "y2",
         "domain": [
          0.05318559556786703,
          0.09584487534626038
         ]
        },
        "xaxis20": {
         "anchor": "y20",
         "domain": [
          0,
          0.04265927977839335
         ],
         "title": {
          "text": "States"
         }
        },
        "xaxis21": {
         "anchor": "y21",
         "domain": [
          0.05318559556786703,
          0.09584487534626038
         ]
        },
        "xaxis22": {
         "anchor": "y22",
         "domain": [
          0.10637119113573407,
          0.1490304709141274
         ]
        },
        "xaxis23": {
         "anchor": "y23",
         "domain": [
          0.15955678670360113,
          0.20221606648199447
         ]
        },
        "xaxis24": {
         "anchor": "y24",
         "domain": [
          0.21274238227146813,
          0.2554016620498615
         ]
        },
        "xaxis25": {
         "anchor": "y25",
         "domain": [
          0.2659279778393352,
          0.30858725761772854
         ]
        },
        "xaxis26": {
         "anchor": "y26",
         "domain": [
          0.31911357340720226,
          0.3617728531855956
         ]
        },
        "xaxis27": {
         "anchor": "y27",
         "domain": [
          0.37229916897506926,
          0.4149584487534626
         ]
        },
        "xaxis28": {
         "anchor": "y28",
         "domain": [
          0.42548476454293627,
          0.4681440443213296
         ]
        },
        "xaxis29": {
         "anchor": "y29",
         "domain": [
          0.47867036011080333,
          0.5213296398891967
         ]
        },
        "xaxis3": {
         "anchor": "y3",
         "domain": [
          0.10637119113573407,
          0.1490304709141274
         ]
        },
        "xaxis30": {
         "anchor": "y30",
         "domain": [
          0.5318559556786704,
          0.5745152354570637
         ]
        },
        "xaxis31": {
         "anchor": "y31",
         "domain": [
          0.5850415512465373,
          0.6277008310249307
         ]
        },
        "xaxis32": {
         "anchor": "y32",
         "domain": [
          0.6382271468144045,
          0.6808864265927979
         ]
        },
        "xaxis33": {
         "anchor": "y33",
         "domain": [
          0.6914127423822715,
          0.7340720221606648
         ]
        },
        "xaxis34": {
         "anchor": "y34",
         "domain": [
          0.7445983379501385,
          0.7872576177285319
         ]
        },
        "xaxis35": {
         "anchor": "y35",
         "domain": [
          0.7977839335180055,
          0.8404432132963988
         ]
        },
        "xaxis36": {
         "anchor": "y36",
         "domain": [
          0.8509695290858725,
          0.8936288088642659
         ]
        },
        "xaxis37": {
         "anchor": "y37",
         "domain": [
          0.9041551246537396,
          0.9468144044321329
         ]
        },
        "xaxis38": {
         "anchor": "y38",
         "domain": [
          0.9573407202216067,
          1
         ]
        },
        "xaxis4": {
         "anchor": "y4",
         "domain": [
          0.15955678670360113,
          0.20221606648199447
         ]
        },
        "xaxis5": {
         "anchor": "y5",
         "domain": [
          0.21274238227146813,
          0.2554016620498615
         ]
        },
        "xaxis6": {
         "anchor": "y6",
         "domain": [
          0.2659279778393352,
          0.30858725761772854
         ]
        },
        "xaxis7": {
         "anchor": "y7",
         "domain": [
          0.31911357340720226,
          0.3617728531855956
         ]
        },
        "xaxis8": {
         "anchor": "y8",
         "domain": [
          0.37229916897506926,
          0.4149584487534626
         ]
        },
        "xaxis9": {
         "anchor": "y9",
         "domain": [
          0.42548476454293627,
          0.4681440443213296
         ]
        },
        "yaxis": {
         "anchor": "x",
         "domain": [
          0.6000000000000001,
          1
         ]
        },
        "yaxis10": {
         "anchor": "x10",
         "domain": [
          0.6000000000000001,
          1
         ],
         "matches": "y",
         "showticklabels": false
        },
        "yaxis11": {
         "anchor": "x11",
         "domain": [
          0.6000000000000001,
          1
         ],
         "matches": "y",
         "showticklabels": false
        },
        "yaxis12": {
         "anchor": "x12",
         "domain": [
          0.6000000000000001,
          1
         ],
         "matches": "y",
         "showticklabels": false
        },
        "yaxis13": {
         "anchor": "x13",
         "domain": [
          0.6000000000000001,
          1
         ],
         "matches": "y",
         "showticklabels": false
        },
        "yaxis14": {
         "anchor": "x14",
         "domain": [
          0.6000000000000001,
          1
         ],
         "matches": "y",
         "showticklabels": false
        },
        "yaxis15": {
         "anchor": "x15",
         "domain": [
          0.6000000000000001,
          1
         ],
         "matches": "y",
         "showticklabels": false
        },
        "yaxis16": {
         "anchor": "x16",
         "domain": [
          0.6000000000000001,
          1
         ],
         "matches": "y",
         "showticklabels": false
        },
        "yaxis17": {
         "anchor": "x17",
         "domain": [
          0.6000000000000001,
          1
         ],
         "matches": "y",
         "showticklabels": false
        },
        "yaxis18": {
         "anchor": "x18",
         "domain": [
          0.6000000000000001,
          1
         ],
         "matches": "y",
         "showticklabels": false
        },
        "yaxis19": {
         "anchor": "x19",
         "domain": [
          0.6000000000000001,
          1
         ],
         "matches": "y",
         "showticklabels": false
        },
        "yaxis2": {
         "anchor": "x2",
         "domain": [
          0.6000000000000001,
          1
         ],
         "matches": "y",
         "showticklabels": false
        },
        "yaxis20": {
         "anchor": "x20",
         "domain": [
          0,
          0.4
         ],
         "title": {
          "text": "Production"
         }
        },
        "yaxis21": {
         "anchor": "x21",
         "domain": [
          0,
          0.4
         ],
         "matches": "y20",
         "showticklabels": false
        },
        "yaxis22": {
         "anchor": "x22",
         "domain": [
          0,
          0.4
         ],
         "matches": "y20",
         "showticklabels": false
        },
        "yaxis23": {
         "anchor": "x23",
         "domain": [
          0,
          0.4
         ],
         "matches": "y20",
         "showticklabels": false
        },
        "yaxis24": {
         "anchor": "x24",
         "domain": [
          0,
          0.4
         ],
         "matches": "y20",
         "showticklabels": false
        },
        "yaxis25": {
         "anchor": "x25",
         "domain": [
          0,
          0.4
         ],
         "matches": "y20",
         "showticklabels": false
        },
        "yaxis26": {
         "anchor": "x26",
         "domain": [
          0,
          0.4
         ],
         "matches": "y20",
         "showticklabels": false
        },
        "yaxis27": {
         "anchor": "x27",
         "domain": [
          0,
          0.4
         ],
         "matches": "y20",
         "showticklabels": false
        },
        "yaxis28": {
         "anchor": "x28",
         "domain": [
          0,
          0.4
         ],
         "matches": "y20",
         "showticklabels": false
        },
        "yaxis29": {
         "anchor": "x29",
         "domain": [
          0,
          0.4
         ],
         "matches": "y20",
         "showticklabels": false
        },
        "yaxis3": {
         "anchor": "x3",
         "domain": [
          0.6000000000000001,
          1
         ],
         "matches": "y",
         "showticklabels": false
        },
        "yaxis30": {
         "anchor": "x30",
         "domain": [
          0,
          0.4
         ],
         "matches": "y20",
         "showticklabels": false
        },
        "yaxis31": {
         "anchor": "x31",
         "domain": [
          0,
          0.4
         ],
         "matches": "y20",
         "showticklabels": false
        },
        "yaxis32": {
         "anchor": "x32",
         "domain": [
          0,
          0.4
         ],
         "matches": "y20",
         "showticklabels": false
        },
        "yaxis33": {
         "anchor": "x33",
         "domain": [
          0,
          0.4
         ],
         "matches": "y20",
         "showticklabels": false
        },
        "yaxis34": {
         "anchor": "x34",
         "domain": [
          0,
          0.4
         ],
         "matches": "y20",
         "showticklabels": false
        },
        "yaxis35": {
         "anchor": "x35",
         "domain": [
          0,
          0.4
         ],
         "matches": "y20",
         "showticklabels": false
        },
        "yaxis36": {
         "anchor": "x36",
         "domain": [
          0,
          0.4
         ],
         "matches": "y20",
         "showticklabels": false
        },
        "yaxis37": {
         "anchor": "x37",
         "domain": [
          0,
          0.4
         ],
         "matches": "y20",
         "showticklabels": false
        },
        "yaxis38": {
         "anchor": "x38",
         "domain": [
          0,
          0.4
         ],
         "matches": "y20",
         "showticklabels": false
        },
        "yaxis4": {
         "anchor": "x4",
         "domain": [
          0.6000000000000001,
          1
         ],
         "matches": "y",
         "showticklabels": false
        },
        "yaxis5": {
         "anchor": "x5",
         "domain": [
          0.6000000000000001,
          1
         ],
         "matches": "y",
         "showticklabels": false
        },
        "yaxis6": {
         "anchor": "x6",
         "domain": [
          0.6000000000000001,
          1
         ],
         "matches": "y",
         "showticklabels": false
        },
        "yaxis7": {
         "anchor": "x7",
         "domain": [
          0.6000000000000001,
          1
         ],
         "matches": "y",
         "showticklabels": false
        },
        "yaxis8": {
         "anchor": "x8",
         "domain": [
          0.6000000000000001,
          1
         ],
         "matches": "y",
         "showticklabels": false
        },
        "yaxis9": {
         "anchor": "x9",
         "domain": [
          0.6000000000000001,
          1
         ],
         "matches": "y",
         "showticklabels": false
        }
       }
      }
     },
     "metadata": {},
     "output_type": "display_data"
    }
   ],
   "source": [
    "fig = make_subplots(rows=len(crops_to_be_analysed), cols=len(years), \n",
    "                    subplot_titles=[f'{crop} - {year}' for crop in crops_to_be_analysed for year in years],\n",
    "                    shared_yaxes=True, vertical_spacing=0.2, \n",
    "                    )  \n",
    "\n",
    "\n",
    "for i, crop in enumerate(crops_to_be_analysed):\n",
    "    for j, year in enumerate(years):\n",
    "        pro = []\n",
    "        state_pro_dict = {}  \n",
    "        \n",
    "        for state in states:\n",
    "           \n",
    "            subset = df[(df['Crop'] == crop) & (df['Crop_Year'] == year) & (df['State_Name'] == state)]\n",
    "            \n",
    "            production_sum = subset['Production'].sum()\n",
    "            state_pro_dict[state] = production_sum\n",
    "        \n",
    "      \n",
    "        sorted_states = sorted(state_pro_dict, key=lambda k: state_pro_dict[k], reverse=True)\n",
    "        sorted_pro = [state_pro_dict[state] for state in sorted_states]\n",
    "        \n",
    "      \n",
    "        fig.add_trace(go.Bar(x=sorted_states, y=sorted_pro, name=f'{crop} - {year}'), row=i+1, col=j+1)\n",
    "\n",
    "\n",
    "fig.update_layout(title='Production Analysis by Crop and Year',\n",
    "                  height=1500, width=5000, showlegend=False)\n",
    "\n",
    "\n",
    "fig.update_xaxes(title_text='States', row=len(crops_to_be_analysed), col=1)\n",
    "fig.update_yaxes(title_text='Production', row=int(len(crops_to_be_analysed)/2)+1, col=1)\n",
    "\n",
    "# Show plot\n",
    "fig.show()"
   ]
  },
  {
   "cell_type": "markdown",
   "metadata": {},
   "source": []
  },
  {
   "cell_type": "code",
   "execution_count": 116,
   "metadata": {},
   "outputs": [],
   "source": [
    "import numpy as np\n",
    "x = np.random.rand(4, 5)\n",
    "y = np.sum(x, axis=1)"
   ]
  },
  {
   "cell_type": "code",
   "execution_count": 117,
   "metadata": {},
   "outputs": [
    {
     "data": {
      "text/plain": [
       "(4,)"
      ]
     },
     "execution_count": 117,
     "metadata": {},
     "output_type": "execute_result"
    }
   ],
   "source": [
    "y.shape"
   ]
  },
  {
   "cell_type": "code",
   "execution_count": 118,
   "metadata": {},
   "outputs": [],
   "source": [
    "x = np.random.rand(4, 5)"
   ]
  },
  {
   "cell_type": "code",
   "execution_count": 119,
   "metadata": {},
   "outputs": [
    {
     "data": {
      "text/plain": [
       "array([[0.16308772, 0.87937542, 0.02999974, 0.77590332, 0.63584052],\n",
       "       [0.91093147, 0.93182198, 0.10991356, 0.85364527, 0.24281416],\n",
       "       [0.19052864, 0.27716712, 0.21912877, 0.52428508, 0.0906354 ],\n",
       "       [0.84185624, 0.55586875, 0.21574812, 0.88840714, 0.14575053]])"
      ]
     },
     "execution_count": 119,
     "metadata": {},
     "output_type": "execute_result"
    }
   ],
   "source": [
    "x"
   ]
  },
  {
   "cell_type": "code",
   "execution_count": 122,
   "metadata": {},
   "outputs": [],
   "source": [
    "y = np.sum(x, axis=0)"
   ]
  },
  {
   "cell_type": "code",
   "execution_count": 123,
   "metadata": {},
   "outputs": [
    {
     "data": {
      "text/plain": [
       "array([2.10640406, 2.64423328, 0.57479018, 3.0422408 , 1.1150406 ])"
      ]
     },
     "execution_count": 123,
     "metadata": {},
     "output_type": "execute_result"
    }
   ],
   "source": [
    "y"
   ]
  },
  {
   "cell_type": "code",
   "execution_count": null,
   "metadata": {},
   "outputs": [],
   "source": []
  }
 ],
 "metadata": {
  "kernelspec": {
   "display_name": "base",
   "language": "python",
   "name": "python3"
  },
  "language_info": {
   "codemirror_mode": {
    "name": "ipython",
    "version": 3
   },
   "file_extension": ".py",
   "mimetype": "text/x-python",
   "name": "python",
   "nbconvert_exporter": "python",
   "pygments_lexer": "ipython3",
   "version": "3.10.9"
  }
 },
 "nbformat": 4,
 "nbformat_minor": 2
}
