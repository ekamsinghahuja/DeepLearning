{
 "cells": [
  {
   "cell_type": "code",
   "execution_count": 2,
   "metadata": {},
   "outputs": [],
   "source": [
    "import pandas as pd"
   ]
  },
  {
   "cell_type": "code",
   "execution_count": 3,
   "metadata": {},
   "outputs": [
    {
     "data": {
      "text/html": [
       "<div>\n",
       "<style scoped>\n",
       "    .dataframe tbody tr th:only-of-type {\n",
       "        vertical-align: middle;\n",
       "    }\n",
       "\n",
       "    .dataframe tbody tr th {\n",
       "        vertical-align: top;\n",
       "    }\n",
       "\n",
       "    .dataframe thead th {\n",
       "        text-align: right;\n",
       "    }\n",
       "</style>\n",
       "<table border=\"1\" class=\"dataframe\">\n",
       "  <thead>\n",
       "    <tr style=\"text-align: right;\">\n",
       "      <th></th>\n",
       "      <th>State_Name</th>\n",
       "      <th>District_Name</th>\n",
       "      <th>Crop_Year</th>\n",
       "      <th>Season</th>\n",
       "      <th>Crop</th>\n",
       "      <th>Area</th>\n",
       "      <th>Production</th>\n",
       "    </tr>\n",
       "  </thead>\n",
       "  <tbody>\n",
       "    <tr>\n",
       "      <th>0</th>\n",
       "      <td>Andaman and Nicobar Islands</td>\n",
       "      <td>NICOBARS</td>\n",
       "      <td>2000</td>\n",
       "      <td>Kharif</td>\n",
       "      <td>Arecanut</td>\n",
       "      <td>1254.0</td>\n",
       "      <td>2000.0</td>\n",
       "    </tr>\n",
       "    <tr>\n",
       "      <th>1</th>\n",
       "      <td>Andaman and Nicobar Islands</td>\n",
       "      <td>NICOBARS</td>\n",
       "      <td>2000</td>\n",
       "      <td>Kharif</td>\n",
       "      <td>Other Kharif pulses</td>\n",
       "      <td>2.0</td>\n",
       "      <td>1.0</td>\n",
       "    </tr>\n",
       "    <tr>\n",
       "      <th>2</th>\n",
       "      <td>Andaman and Nicobar Islands</td>\n",
       "      <td>NICOBARS</td>\n",
       "      <td>2000</td>\n",
       "      <td>Kharif</td>\n",
       "      <td>Rice</td>\n",
       "      <td>102.0</td>\n",
       "      <td>321.0</td>\n",
       "    </tr>\n",
       "    <tr>\n",
       "      <th>3</th>\n",
       "      <td>Andaman and Nicobar Islands</td>\n",
       "      <td>NICOBARS</td>\n",
       "      <td>2000</td>\n",
       "      <td>Whole Year</td>\n",
       "      <td>Banana</td>\n",
       "      <td>176.0</td>\n",
       "      <td>641.0</td>\n",
       "    </tr>\n",
       "    <tr>\n",
       "      <th>4</th>\n",
       "      <td>Andaman and Nicobar Islands</td>\n",
       "      <td>NICOBARS</td>\n",
       "      <td>2000</td>\n",
       "      <td>Whole Year</td>\n",
       "      <td>Cashewnut</td>\n",
       "      <td>720.0</td>\n",
       "      <td>165.0</td>\n",
       "    </tr>\n",
       "  </tbody>\n",
       "</table>\n",
       "</div>"
      ],
      "text/plain": [
       "                    State_Name District_Name  Crop_Year       Season  \\\n",
       "0  Andaman and Nicobar Islands      NICOBARS       2000  Kharif        \n",
       "1  Andaman and Nicobar Islands      NICOBARS       2000  Kharif        \n",
       "2  Andaman and Nicobar Islands      NICOBARS       2000  Kharif        \n",
       "3  Andaman and Nicobar Islands      NICOBARS       2000  Whole Year    \n",
       "4  Andaman and Nicobar Islands      NICOBARS       2000  Whole Year    \n",
       "\n",
       "                  Crop    Area  Production  \n",
       "0             Arecanut  1254.0      2000.0  \n",
       "1  Other Kharif pulses     2.0         1.0  \n",
       "2                 Rice   102.0       321.0  \n",
       "3               Banana   176.0       641.0  \n",
       "4            Cashewnut   720.0       165.0  "
      ]
     },
     "execution_count": 3,
     "metadata": {},
     "output_type": "execute_result"
    }
   ],
   "source": [
    "df = pd.read_csv('crop_production.csv')\n",
    "df.head()"
   ]
  },
  {
   "cell_type": "code",
   "execution_count": 4,
   "metadata": {},
   "outputs": [],
   "source": [
    "states = list(df['State_Name'].unique())\n"
   ]
  },
  {
   "cell_type": "markdown",
   "metadata": {},
   "source": [
    "# some states are missing - why?\n",
    "## Delhi:\n",
    "\n",
    "Urbanization: Delhi is a highly urbanized city-state with minimal agricultural activities. Its economy is predominantly service-based with a focus on commerce, finance, and government services.\n",
    "\n",
    "## Lakshadweep:\n",
    "\n",
    "Geography: Lakshadweep is an archipelago with very limited land area suitable for agriculture. The islands are known more for their marine resources and tourism rather than agriculture.\n",
    "\n",
    "## Ladakh:\n",
    "\n",
    "Climate and Terrain: Ladakh has an extremely harsh climate and rugged terrain, making large-scale agriculture challenging. The region has limited agricultural activities due to its high altitude and arid conditions\n",
    "\n"
   ]
  },
  {
   "cell_type": "code",
   "execution_count": 5,
   "metadata": {},
   "outputs": [
    {
     "data": {
      "text/plain": [
       "['Andaman and Nicobar Islands',\n",
       " 'Andhra Pradesh',\n",
       " 'Arunachal Pradesh',\n",
       " 'Assam',\n",
       " 'Bihar',\n",
       " 'Chandigarh',\n",
       " 'Chhattisgarh',\n",
       " 'Dadra and Nagar Haveli',\n",
       " 'Goa',\n",
       " 'Gujarat',\n",
       " 'Haryana',\n",
       " 'Himachal Pradesh',\n",
       " 'Jammu and Kashmir ',\n",
       " 'Jharkhand',\n",
       " 'Karnataka',\n",
       " 'Kerala',\n",
       " 'Madhya Pradesh',\n",
       " 'Maharashtra',\n",
       " 'Manipur',\n",
       " 'Meghalaya',\n",
       " 'Mizoram',\n",
       " 'Nagaland',\n",
       " 'Odisha',\n",
       " 'Puducherry',\n",
       " 'Punjab',\n",
       " 'Rajasthan',\n",
       " 'Sikkim',\n",
       " 'Tamil Nadu',\n",
       " 'Telangana ',\n",
       " 'Tripura',\n",
       " 'Uttar Pradesh',\n",
       " 'Uttarakhand',\n",
       " 'West Bengal']"
      ]
     },
     "execution_count": 5,
     "metadata": {},
     "output_type": "execute_result"
    }
   ],
   "source": [
    "states"
   ]
  },
  {
   "cell_type": "markdown",
   "metadata": {},
   "source": [
    "# Points to Note:\n",
    "# kharif and autum\n",
    "## Dataset mentions autumn and kharif seperately\n",
    "## Kharif means \"autumn\" in Arabic.\n",
    "## but agriculure reference says - \n",
    "    kharif - June and end in October\n",
    "    autumn - September, October, November\n",
    "    so lets consider them different \n",
    "\n",
    "## gemini solved my confusion - \n",
    "    Kharif: This word comes from Arabic and literally translates to \"autumn.\" However, in the context of agriculture in India and some other South Asian countries, it refers to the monsoon season for planting crops.\n",
    "\n",
    "    Monsoon: This word is used in English and many other languages to describe seasonal winds that bring rain. In India, the monsoon season coincides with the Kharif season (roughly June to September).\n",
    "\n",
    "# summer / Zaid\n",
    "## summer agriculture season -\n",
    "    Zaid or Summer cropping season runs from March to June\n",
    "\n",
    "\n",
    "# rabi / winter\n",
    "    these two overlaps\n",
    "    Rabi-Season: Winter (October to March)\n",
    "    Winter-Season: Overlaps with Rabi (November to February)"
   ]
  },
  {
   "cell_type": "code",
   "execution_count": 6,
   "metadata": {},
   "outputs": [
    {
     "data": {
      "text/plain": [
       "['Kharif     ',\n",
       " 'Whole Year ',\n",
       " 'Autumn     ',\n",
       " 'Rabi       ',\n",
       " 'Summer     ',\n",
       " 'Winter     ']"
      ]
     },
     "execution_count": 6,
     "metadata": {},
     "output_type": "execute_result"
    }
   ],
   "source": [
    "seasons = list(df['Season'].unique())\n",
    "seasons"
   ]
  },
  {
   "cell_type": "markdown",
   "metadata": {},
   "source": [
    "## We have 16 years of data"
   ]
  },
  {
   "cell_type": "code",
   "execution_count": 7,
   "metadata": {},
   "outputs": [],
   "source": [
    "years = list(df['Crop_Year'].unique())"
   ]
  },
  {
   "cell_type": "code",
   "execution_count": 8,
   "metadata": {},
   "outputs": [
    {
     "data": {
      "text/plain": [
       "[2000,\n",
       " 2001,\n",
       " 2002,\n",
       " 2003,\n",
       " 2004,\n",
       " 2005,\n",
       " 2006,\n",
       " 2010,\n",
       " 1997,\n",
       " 1998,\n",
       " 1999,\n",
       " 2007,\n",
       " 2008,\n",
       " 2009,\n",
       " 2011,\n",
       " 2012,\n",
       " 2013,\n",
       " 2014,\n",
       " 2015]"
      ]
     },
     "execution_count": 8,
     "metadata": {},
     "output_type": "execute_result"
    }
   ],
   "source": [
    "years"
   ]
  },
  {
   "cell_type": "markdown",
   "metadata": {},
   "source": [
    "# 124 differnt crops are there in dataset\n",
    "\n",
    "## but actually -\n",
    "Between 500 and 1000\n",
    "\n",
    "This range considers the following factors:\n",
    "\n",
    "Major Crop Categories: As mentioned earlier, there are several major categories like food grains, pulses, oilseeds, fruits, vegetables, spices, and plantation crops. Each category itself holds a substantial number of crops.\n",
    "Regional Variations: While some crops are widespread, many are specific to certain regions due to climate or soil conditions. Accounting for these variations adds to the total number.\n",
    "Varietal Differences: Within many crops, there can be numerous varieties with slight differences. Including these variations increases the overall count\n"
   ]
  },
  {
   "cell_type": "markdown",
   "metadata": {},
   "source": [
    "# govenment gives  MSP on these crops\n",
    "## Kharif Crops (14):\n",
    "\n",
    "Paddy\n",
    "Jowar (Sorghum)\n",
    "Bajra (Pearl millet)\n",
    "Tur (Arhar)\n",
    "Moong (Green gram)\n",
    "Urad (Black gram)\n",
    "Groundnut\n",
    "Cotton\n",
    "Soyabean\n",
    "Sunflower seed\n",
    "Sesamum\n",
    "Nigerseed\n",
    "Hempseed\n",
    "Kuttu (Buckwheat)\n",
    "\n",
    "## Rabi Crops (6):\n",
    "\n",
    "Wheat\n",
    "Barley\n",
    "Gram (Chickpea)\n",
    "Masur (Lentil)\n",
    "Rapeseed & Mustard\n",
    "Safflower\n",
    "Other Commercial Crops (2):\n",
    "\n",
    "## Sugarcane\n",
    "Copra (dried coconut kernel)"
   ]
  },
  {
   "cell_type": "markdown",
   "metadata": {},
   "source": [
    "# so possible that production of msp products is higher "
   ]
  },
  {
   "cell_type": "code",
   "execution_count": 9,
   "metadata": {},
   "outputs": [],
   "source": [
    "crop = list(df['Crop'].unique())\n"
   ]
  },
  {
   "cell_type": "code",
   "execution_count": 10,
   "metadata": {},
   "outputs": [
    {
     "data": {
      "text/plain": [
       "124"
      ]
     },
     "execution_count": 10,
     "metadata": {},
     "output_type": "execute_result"
    }
   ],
   "source": [
    "len(crop)"
   ]
  },
  {
   "cell_type": "code",
   "execution_count": 11,
   "metadata": {},
   "outputs": [
    {
     "data": {
      "text/plain": [
       "['Arecanut',\n",
       " 'Other Kharif pulses',\n",
       " 'Rice',\n",
       " 'Banana',\n",
       " 'Cashewnut',\n",
       " 'Coconut ',\n",
       " 'Dry ginger',\n",
       " 'Sugarcane',\n",
       " 'Sweet potato',\n",
       " 'Tapioca',\n",
       " 'Black pepper',\n",
       " 'Dry chillies',\n",
       " 'other oilseeds',\n",
       " 'Turmeric',\n",
       " 'Maize',\n",
       " 'Moong(Green Gram)',\n",
       " 'Urad',\n",
       " 'Arhar/Tur',\n",
       " 'Groundnut',\n",
       " 'Sunflower',\n",
       " 'Bajra',\n",
       " 'Castor seed',\n",
       " 'Cotton(lint)',\n",
       " 'Horse-gram',\n",
       " 'Jowar',\n",
       " 'Korra',\n",
       " 'Ragi',\n",
       " 'Tobacco',\n",
       " 'Gram',\n",
       " 'Wheat',\n",
       " 'Masoor',\n",
       " 'Sesamum',\n",
       " 'Linseed',\n",
       " 'Safflower',\n",
       " 'Onion',\n",
       " 'other misc. pulses',\n",
       " 'Samai',\n",
       " 'Small millets',\n",
       " 'Coriander',\n",
       " 'Potato',\n",
       " 'Other  Rabi pulses',\n",
       " 'Soyabean',\n",
       " 'Beans & Mutter(Vegetable)',\n",
       " 'Bhindi',\n",
       " 'Brinjal',\n",
       " 'Citrus Fruit',\n",
       " 'Cucumber',\n",
       " 'Grapes',\n",
       " 'Mango',\n",
       " 'Orange',\n",
       " 'other fibres',\n",
       " 'Other Fresh Fruits',\n",
       " 'Other Vegetables',\n",
       " 'Papaya',\n",
       " 'Pome Fruit',\n",
       " 'Tomato',\n",
       " 'Rapeseed &Mustard',\n",
       " 'Mesta',\n",
       " 'Cowpea(Lobia)',\n",
       " 'Lemon',\n",
       " 'Pome Granet',\n",
       " 'Sapota',\n",
       " 'Cabbage',\n",
       " 'Peas  (vegetable)',\n",
       " 'Niger seed',\n",
       " 'Bottle Gourd',\n",
       " 'Sannhamp',\n",
       " 'Varagu',\n",
       " 'Garlic',\n",
       " 'Ginger',\n",
       " 'Oilseeds total',\n",
       " 'Pulses total',\n",
       " 'Jute',\n",
       " 'Peas & beans (Pulses)',\n",
       " 'Blackgram',\n",
       " 'Paddy',\n",
       " 'Pineapple',\n",
       " 'Barley',\n",
       " 'Khesari',\n",
       " 'Guar seed',\n",
       " 'Moth',\n",
       " 'Other Cereals & Millets',\n",
       " 'Cond-spcs other',\n",
       " 'Turnip',\n",
       " 'Carrot',\n",
       " 'Redish',\n",
       " 'Arcanut (Processed)',\n",
       " 'Atcanut (Raw)',\n",
       " 'Cashewnut Processed',\n",
       " 'Cashewnut Raw',\n",
       " 'Cardamom',\n",
       " 'Rubber',\n",
       " 'Bitter Gourd',\n",
       " 'Drum Stick',\n",
       " 'Jack Fruit',\n",
       " 'Snak Guard',\n",
       " 'Pump Kin',\n",
       " 'Tea',\n",
       " 'Coffee',\n",
       " 'Cauliflower',\n",
       " 'Other Citrus Fruit',\n",
       " 'Water Melon',\n",
       " 'Total foodgrain',\n",
       " 'Kapas',\n",
       " 'Colocosia',\n",
       " 'Lentil',\n",
       " 'Bean',\n",
       " 'Jobster',\n",
       " 'Perilla',\n",
       " 'Rajmash Kholar',\n",
       " 'Ricebean (nagadal)',\n",
       " 'Ash Gourd',\n",
       " 'Beet Root',\n",
       " 'Lab-Lab',\n",
       " 'Ribed Guard',\n",
       " 'Yam',\n",
       " 'Apple',\n",
       " 'Peach',\n",
       " 'Pear',\n",
       " 'Plums',\n",
       " 'Litchi',\n",
       " 'Ber',\n",
       " 'Other Dry Fruit',\n",
       " 'Jute & mesta']"
      ]
     },
     "execution_count": 11,
     "metadata": {},
     "output_type": "execute_result"
    }
   ],
   "source": [
    "crop"
   ]
  },
  {
   "cell_type": "markdown",
   "metadata": {},
   "source": [
    "# area and production\n",
    "## area and production units are not mentioned anywhere so we can not do comparison between the crops"
   ]
  },
  {
   "cell_type": "code",
   "execution_count": 17,
   "metadata": {},
   "outputs": [
    {
     "data": {
      "text/plain": [
       "8580100.0"
      ]
     },
     "execution_count": 17,
     "metadata": {},
     "output_type": "execute_result"
    }
   ],
   "source": [
    "df['Area'].max()"
   ]
  },
  {
   "cell_type": "code",
   "execution_count": 18,
   "metadata": {},
   "outputs": [
    {
     "data": {
      "text/plain": [
       "0.04"
      ]
     },
     "execution_count": 18,
     "metadata": {},
     "output_type": "execute_result"
    }
   ],
   "source": [
    "df['Area'].min()"
   ]
  },
  {
   "cell_type": "code",
   "execution_count": 20,
   "metadata": {},
   "outputs": [
    {
     "data": {
      "text/plain": [
       "1.0         4553\n",
       "2.0         3453\n",
       "100.0       2824\n",
       "3.0         2636\n",
       "4.0         2273\n",
       "            ... \n",
       "21521.0        1\n",
       "21261.0        1\n",
       "249741.0       1\n",
       "245200.0       1\n",
       "279151.0       1\n",
       "Name: Area, Length: 38442, dtype: int64"
      ]
     },
     "execution_count": 20,
     "metadata": {},
     "output_type": "execute_result"
    }
   ],
   "source": [
    "df.Area.value_counts()"
   ]
  },
  {
   "cell_type": "markdown",
   "metadata": {},
   "source": [
    "# we can deep dive into visualization now"
   ]
  },
  {
   "cell_type": "markdown",
   "metadata": {},
   "source": [
    "## kharif and Rabi are important seasons "
   ]
  },
  {
   "cell_type": "code",
   "execution_count": 28,
   "metadata": {},
   "outputs": [],
   "source": [
    "distinct_crops_in_season_list = []\n",
    "for x in seasons:\n",
    "    distinct_crops_in_season_list.append(len(df[df['Season']==x]['Crop'].unique()))\n",
    "    \n",
    "    "
   ]
  },
  {
   "cell_type": "code",
   "execution_count": 30,
   "metadata": {},
   "outputs": [
    {
     "data": {
      "application/vnd.plotly.v1+json": {
       "config": {
        "plotlyServerURL": "https://plot.ly"
       },
       "data": [
        {
         "name": "Distinct Crops",
         "type": "bar",
         "x": [
          "Kharif     ",
          "Whole Year ",
          "Autumn     ",
          "Rabi       ",
          "Summer     ",
          "Winter     "
         ],
         "y": [
          82,
          105,
          25,
          68,
          31,
          28
         ]
        }
       ],
       "layout": {
        "barmode": "group",
        "template": {
         "data": {
          "bar": [
           {
            "error_x": {
             "color": "#2a3f5f"
            },
            "error_y": {
             "color": "#2a3f5f"
            },
            "marker": {
             "line": {
              "color": "#E5ECF6",
              "width": 0.5
             },
             "pattern": {
              "fillmode": "overlay",
              "size": 10,
              "solidity": 0.2
             }
            },
            "type": "bar"
           }
          ],
          "barpolar": [
           {
            "marker": {
             "line": {
              "color": "#E5ECF6",
              "width": 0.5
             },
             "pattern": {
              "fillmode": "overlay",
              "size": 10,
              "solidity": 0.2
             }
            },
            "type": "barpolar"
           }
          ],
          "carpet": [
           {
            "aaxis": {
             "endlinecolor": "#2a3f5f",
             "gridcolor": "white",
             "linecolor": "white",
             "minorgridcolor": "white",
             "startlinecolor": "#2a3f5f"
            },
            "baxis": {
             "endlinecolor": "#2a3f5f",
             "gridcolor": "white",
             "linecolor": "white",
             "minorgridcolor": "white",
             "startlinecolor": "#2a3f5f"
            },
            "type": "carpet"
           }
          ],
          "choropleth": [
           {
            "colorbar": {
             "outlinewidth": 0,
             "ticks": ""
            },
            "type": "choropleth"
           }
          ],
          "contour": [
           {
            "colorbar": {
             "outlinewidth": 0,
             "ticks": ""
            },
            "colorscale": [
             [
              0,
              "#0d0887"
             ],
             [
              0.1111111111111111,
              "#46039f"
             ],
             [
              0.2222222222222222,
              "#7201a8"
             ],
             [
              0.3333333333333333,
              "#9c179e"
             ],
             [
              0.4444444444444444,
              "#bd3786"
             ],
             [
              0.5555555555555556,
              "#d8576b"
             ],
             [
              0.6666666666666666,
              "#ed7953"
             ],
             [
              0.7777777777777778,
              "#fb9f3a"
             ],
             [
              0.8888888888888888,
              "#fdca26"
             ],
             [
              1,
              "#f0f921"
             ]
            ],
            "type": "contour"
           }
          ],
          "contourcarpet": [
           {
            "colorbar": {
             "outlinewidth": 0,
             "ticks": ""
            },
            "type": "contourcarpet"
           }
          ],
          "heatmap": [
           {
            "colorbar": {
             "outlinewidth": 0,
             "ticks": ""
            },
            "colorscale": [
             [
              0,
              "#0d0887"
             ],
             [
              0.1111111111111111,
              "#46039f"
             ],
             [
              0.2222222222222222,
              "#7201a8"
             ],
             [
              0.3333333333333333,
              "#9c179e"
             ],
             [
              0.4444444444444444,
              "#bd3786"
             ],
             [
              0.5555555555555556,
              "#d8576b"
             ],
             [
              0.6666666666666666,
              "#ed7953"
             ],
             [
              0.7777777777777778,
              "#fb9f3a"
             ],
             [
              0.8888888888888888,
              "#fdca26"
             ],
             [
              1,
              "#f0f921"
             ]
            ],
            "type": "heatmap"
           }
          ],
          "heatmapgl": [
           {
            "colorbar": {
             "outlinewidth": 0,
             "ticks": ""
            },
            "colorscale": [
             [
              0,
              "#0d0887"
             ],
             [
              0.1111111111111111,
              "#46039f"
             ],
             [
              0.2222222222222222,
              "#7201a8"
             ],
             [
              0.3333333333333333,
              "#9c179e"
             ],
             [
              0.4444444444444444,
              "#bd3786"
             ],
             [
              0.5555555555555556,
              "#d8576b"
             ],
             [
              0.6666666666666666,
              "#ed7953"
             ],
             [
              0.7777777777777778,
              "#fb9f3a"
             ],
             [
              0.8888888888888888,
              "#fdca26"
             ],
             [
              1,
              "#f0f921"
             ]
            ],
            "type": "heatmapgl"
           }
          ],
          "histogram": [
           {
            "marker": {
             "pattern": {
              "fillmode": "overlay",
              "size": 10,
              "solidity": 0.2
             }
            },
            "type": "histogram"
           }
          ],
          "histogram2d": [
           {
            "colorbar": {
             "outlinewidth": 0,
             "ticks": ""
            },
            "colorscale": [
             [
              0,
              "#0d0887"
             ],
             [
              0.1111111111111111,
              "#46039f"
             ],
             [
              0.2222222222222222,
              "#7201a8"
             ],
             [
              0.3333333333333333,
              "#9c179e"
             ],
             [
              0.4444444444444444,
              "#bd3786"
             ],
             [
              0.5555555555555556,
              "#d8576b"
             ],
             [
              0.6666666666666666,
              "#ed7953"
             ],
             [
              0.7777777777777778,
              "#fb9f3a"
             ],
             [
              0.8888888888888888,
              "#fdca26"
             ],
             [
              1,
              "#f0f921"
             ]
            ],
            "type": "histogram2d"
           }
          ],
          "histogram2dcontour": [
           {
            "colorbar": {
             "outlinewidth": 0,
             "ticks": ""
            },
            "colorscale": [
             [
              0,
              "#0d0887"
             ],
             [
              0.1111111111111111,
              "#46039f"
             ],
             [
              0.2222222222222222,
              "#7201a8"
             ],
             [
              0.3333333333333333,
              "#9c179e"
             ],
             [
              0.4444444444444444,
              "#bd3786"
             ],
             [
              0.5555555555555556,
              "#d8576b"
             ],
             [
              0.6666666666666666,
              "#ed7953"
             ],
             [
              0.7777777777777778,
              "#fb9f3a"
             ],
             [
              0.8888888888888888,
              "#fdca26"
             ],
             [
              1,
              "#f0f921"
             ]
            ],
            "type": "histogram2dcontour"
           }
          ],
          "mesh3d": [
           {
            "colorbar": {
             "outlinewidth": 0,
             "ticks": ""
            },
            "type": "mesh3d"
           }
          ],
          "parcoords": [
           {
            "line": {
             "colorbar": {
              "outlinewidth": 0,
              "ticks": ""
             }
            },
            "type": "parcoords"
           }
          ],
          "pie": [
           {
            "automargin": true,
            "type": "pie"
           }
          ],
          "scatter": [
           {
            "fillpattern": {
             "fillmode": "overlay",
             "size": 10,
             "solidity": 0.2
            },
            "type": "scatter"
           }
          ],
          "scatter3d": [
           {
            "line": {
             "colorbar": {
              "outlinewidth": 0,
              "ticks": ""
             }
            },
            "marker": {
             "colorbar": {
              "outlinewidth": 0,
              "ticks": ""
             }
            },
            "type": "scatter3d"
           }
          ],
          "scattercarpet": [
           {
            "marker": {
             "colorbar": {
              "outlinewidth": 0,
              "ticks": ""
             }
            },
            "type": "scattercarpet"
           }
          ],
          "scattergeo": [
           {
            "marker": {
             "colorbar": {
              "outlinewidth": 0,
              "ticks": ""
             }
            },
            "type": "scattergeo"
           }
          ],
          "scattergl": [
           {
            "marker": {
             "colorbar": {
              "outlinewidth": 0,
              "ticks": ""
             }
            },
            "type": "scattergl"
           }
          ],
          "scattermapbox": [
           {
            "marker": {
             "colorbar": {
              "outlinewidth": 0,
              "ticks": ""
             }
            },
            "type": "scattermapbox"
           }
          ],
          "scatterpolar": [
           {
            "marker": {
             "colorbar": {
              "outlinewidth": 0,
              "ticks": ""
             }
            },
            "type": "scatterpolar"
           }
          ],
          "scatterpolargl": [
           {
            "marker": {
             "colorbar": {
              "outlinewidth": 0,
              "ticks": ""
             }
            },
            "type": "scatterpolargl"
           }
          ],
          "scatterternary": [
           {
            "marker": {
             "colorbar": {
              "outlinewidth": 0,
              "ticks": ""
             }
            },
            "type": "scatterternary"
           }
          ],
          "surface": [
           {
            "colorbar": {
             "outlinewidth": 0,
             "ticks": ""
            },
            "colorscale": [
             [
              0,
              "#0d0887"
             ],
             [
              0.1111111111111111,
              "#46039f"
             ],
             [
              0.2222222222222222,
              "#7201a8"
             ],
             [
              0.3333333333333333,
              "#9c179e"
             ],
             [
              0.4444444444444444,
              "#bd3786"
             ],
             [
              0.5555555555555556,
              "#d8576b"
             ],
             [
              0.6666666666666666,
              "#ed7953"
             ],
             [
              0.7777777777777778,
              "#fb9f3a"
             ],
             [
              0.8888888888888888,
              "#fdca26"
             ],
             [
              1,
              "#f0f921"
             ]
            ],
            "type": "surface"
           }
          ],
          "table": [
           {
            "cells": {
             "fill": {
              "color": "#EBF0F8"
             },
             "line": {
              "color": "white"
             }
            },
            "header": {
             "fill": {
              "color": "#C8D4E3"
             },
             "line": {
              "color": "white"
             }
            },
            "type": "table"
           }
          ]
         },
         "layout": {
          "annotationdefaults": {
           "arrowcolor": "#2a3f5f",
           "arrowhead": 0,
           "arrowwidth": 1
          },
          "autotypenumbers": "strict",
          "coloraxis": {
           "colorbar": {
            "outlinewidth": 0,
            "ticks": ""
           }
          },
          "colorscale": {
           "diverging": [
            [
             0,
             "#8e0152"
            ],
            [
             0.1,
             "#c51b7d"
            ],
            [
             0.2,
             "#de77ae"
            ],
            [
             0.3,
             "#f1b6da"
            ],
            [
             0.4,
             "#fde0ef"
            ],
            [
             0.5,
             "#f7f7f7"
            ],
            [
             0.6,
             "#e6f5d0"
            ],
            [
             0.7,
             "#b8e186"
            ],
            [
             0.8,
             "#7fbc41"
            ],
            [
             0.9,
             "#4d9221"
            ],
            [
             1,
             "#276419"
            ]
           ],
           "sequential": [
            [
             0,
             "#0d0887"
            ],
            [
             0.1111111111111111,
             "#46039f"
            ],
            [
             0.2222222222222222,
             "#7201a8"
            ],
            [
             0.3333333333333333,
             "#9c179e"
            ],
            [
             0.4444444444444444,
             "#bd3786"
            ],
            [
             0.5555555555555556,
             "#d8576b"
            ],
            [
             0.6666666666666666,
             "#ed7953"
            ],
            [
             0.7777777777777778,
             "#fb9f3a"
            ],
            [
             0.8888888888888888,
             "#fdca26"
            ],
            [
             1,
             "#f0f921"
            ]
           ],
           "sequentialminus": [
            [
             0,
             "#0d0887"
            ],
            [
             0.1111111111111111,
             "#46039f"
            ],
            [
             0.2222222222222222,
             "#7201a8"
            ],
            [
             0.3333333333333333,
             "#9c179e"
            ],
            [
             0.4444444444444444,
             "#bd3786"
            ],
            [
             0.5555555555555556,
             "#d8576b"
            ],
            [
             0.6666666666666666,
             "#ed7953"
            ],
            [
             0.7777777777777778,
             "#fb9f3a"
            ],
            [
             0.8888888888888888,
             "#fdca26"
            ],
            [
             1,
             "#f0f921"
            ]
           ]
          },
          "colorway": [
           "#636efa",
           "#EF553B",
           "#00cc96",
           "#ab63fa",
           "#FFA15A",
           "#19d3f3",
           "#FF6692",
           "#B6E880",
           "#FF97FF",
           "#FECB52"
          ],
          "font": {
           "color": "#2a3f5f"
          },
          "geo": {
           "bgcolor": "white",
           "lakecolor": "white",
           "landcolor": "#E5ECF6",
           "showlakes": true,
           "showland": true,
           "subunitcolor": "white"
          },
          "hoverlabel": {
           "align": "left"
          },
          "hovermode": "closest",
          "mapbox": {
           "style": "light"
          },
          "paper_bgcolor": "white",
          "plot_bgcolor": "#E5ECF6",
          "polar": {
           "angularaxis": {
            "gridcolor": "white",
            "linecolor": "white",
            "ticks": ""
           },
           "bgcolor": "#E5ECF6",
           "radialaxis": {
            "gridcolor": "white",
            "linecolor": "white",
            "ticks": ""
           }
          },
          "scene": {
           "xaxis": {
            "backgroundcolor": "#E5ECF6",
            "gridcolor": "white",
            "gridwidth": 2,
            "linecolor": "white",
            "showbackground": true,
            "ticks": "",
            "zerolinecolor": "white"
           },
           "yaxis": {
            "backgroundcolor": "#E5ECF6",
            "gridcolor": "white",
            "gridwidth": 2,
            "linecolor": "white",
            "showbackground": true,
            "ticks": "",
            "zerolinecolor": "white"
           },
           "zaxis": {
            "backgroundcolor": "#E5ECF6",
            "gridcolor": "white",
            "gridwidth": 2,
            "linecolor": "white",
            "showbackground": true,
            "ticks": "",
            "zerolinecolor": "white"
           }
          },
          "shapedefaults": {
           "line": {
            "color": "#2a3f5f"
           }
          },
          "ternary": {
           "aaxis": {
            "gridcolor": "white",
            "linecolor": "white",
            "ticks": ""
           },
           "baxis": {
            "gridcolor": "white",
            "linecolor": "white",
            "ticks": ""
           },
           "bgcolor": "#E5ECF6",
           "caxis": {
            "gridcolor": "white",
            "linecolor": "white",
            "ticks": ""
           }
          },
          "title": {
           "x": 0.05
          },
          "xaxis": {
           "automargin": true,
           "gridcolor": "white",
           "linecolor": "white",
           "ticks": "",
           "title": {
            "standoff": 15
           },
           "zerolinecolor": "white",
           "zerolinewidth": 2
          },
          "yaxis": {
           "automargin": true,
           "gridcolor": "white",
           "linecolor": "white",
           "ticks": "",
           "title": {
            "standoff": 15
           },
           "zerolinecolor": "white",
           "zerolinewidth": 2
          }
         }
        },
        "title": {
         "text": "Number of Distinct Crops in Each Season"
        },
        "xaxis": {
         "title": {
          "text": "Season"
         }
        },
        "yaxis": {
         "title": {
          "text": "Number of Distinct Crops"
         }
        }
       }
      }
     },
     "metadata": {},
     "output_type": "display_data"
    }
   ],
   "source": [
    "import plotly.graph_objects as go\n",
    "\n",
    "fig = go.Figure(data=[\n",
    "    go.Bar(name='Distinct Crops', x=seasons, y=distinct_crops_in_season_list)\n",
    "])\n",
    "\n",
    "\n",
    "fig.update_layout(\n",
    "    title='Number of Distinct Crops in Each Season',\n",
    "    xaxis_title='Season',\n",
    "    yaxis_title='Number of Distinct Crops',\n",
    "    barmode='group'\n",
    ")\n",
    "\n",
    "\n",
    "fig.show()"
   ]
  },
  {
   "cell_type": "code",
   "execution_count": 31,
   "metadata": {},
   "outputs": [
    {
     "data": {
      "image/png": "[encoded data removed]",
      "text/plain": [
       "<Figure size 1000x600 with 1 Axes>"
      ]
     },
     "metadata": {},
     "output_type": "display_data"
    }
   ],
   "source": [
    "# just doing this because i want to submit this some where and they want graphs in seaborn\n",
    "import seaborn as sns\n",
    "import matplotlib.pyplot as plt\n",
    "import pandas as pd\n",
    "data = pd.DataFrame({\n",
    "    'Season': seasons,\n",
    "    'Distinct Crops': distinct_crops_in_season_list\n",
    "})\n",
    "\n",
    "# Create the bar plot\n",
    "plt.figure(figsize=(10, 6))\n",
    "sns.barplot(x='Season', y='Distinct Crops', data=data, palette='viridis')\n",
    "\n",
    "# Add titles and labels\n",
    "plt.title('Number of Distinct Crops in Each Season')\n",
    "plt.xlabel('Season')\n",
    "plt.ylabel('Number of Distinct Crops')\n",
    "\n",
    "# Show the plot\n",
    "plt.show()"
   ]
  },
  {
   "cell_type": "markdown",
   "metadata": {},
   "source": [
    "## now let analyse crop wise data \n",
    "## there are 124 crops mentioned in data set\n",
    "## rice is a crop that grow in every state\n",
    "## fact found on google - Almost all parts of India are suitable for raising rice during the summer season provided that water is available. "
   ]
  },
  {
   "cell_type": "code",
   "execution_count": 32,
   "metadata": {},
   "outputs": [
    {
     "data": {
      "text/plain": [
       "['Arecanut',\n",
       " 'Other Kharif pulses',\n",
       " 'Rice',\n",
       " 'Banana',\n",
       " 'Cashewnut',\n",
       " 'Coconut ',\n",
       " 'Dry ginger',\n",
       " 'Sugarcane',\n",
       " 'Sweet potato',\n",
       " 'Tapioca',\n",
       " 'Black pepper',\n",
       " 'Dry chillies',\n",
       " 'other oilseeds',\n",
       " 'Turmeric',\n",
       " 'Maize',\n",
       " 'Moong(Green Gram)',\n",
       " 'Urad',\n",
       " 'Arhar/Tur',\n",
       " 'Groundnut',\n",
       " 'Sunflower',\n",
       " 'Bajra',\n",
       " 'Castor seed',\n",
       " 'Cotton(lint)',\n",
       " 'Horse-gram',\n",
       " 'Jowar',\n",
       " 'Korra',\n",
       " 'Ragi',\n",
       " 'Tobacco',\n",
       " 'Gram',\n",
       " 'Wheat',\n",
       " 'Masoor',\n",
       " 'Sesamum',\n",
       " 'Linseed',\n",
       " 'Safflower',\n",
       " 'Onion',\n",
       " 'other misc. pulses',\n",
       " 'Samai',\n",
       " 'Small millets',\n",
       " 'Coriander',\n",
       " 'Potato',\n",
       " 'Other  Rabi pulses',\n",
       " 'Soyabean',\n",
       " 'Beans & Mutter(Vegetable)',\n",
       " 'Bhindi',\n",
       " 'Brinjal',\n",
       " 'Citrus Fruit',\n",
       " 'Cucumber',\n",
       " 'Grapes',\n",
       " 'Mango',\n",
       " 'Orange',\n",
       " 'other fibres',\n",
       " 'Other Fresh Fruits',\n",
       " 'Other Vegetables',\n",
       " 'Papaya',\n",
       " 'Pome Fruit',\n",
       " 'Tomato',\n",
       " 'Rapeseed &Mustard',\n",
       " 'Mesta',\n",
       " 'Cowpea(Lobia)',\n",
       " 'Lemon',\n",
       " 'Pome Granet',\n",
       " 'Sapota',\n",
       " 'Cabbage',\n",
       " 'Peas  (vegetable)',\n",
       " 'Niger seed',\n",
       " 'Bottle Gourd',\n",
       " 'Sannhamp',\n",
       " 'Varagu',\n",
       " 'Garlic',\n",
       " 'Ginger',\n",
       " 'Oilseeds total',\n",
       " 'Pulses total',\n",
       " 'Jute',\n",
       " 'Peas & beans (Pulses)',\n",
       " 'Blackgram',\n",
       " 'Paddy',\n",
       " 'Pineapple',\n",
       " 'Barley',\n",
       " 'Khesari',\n",
       " 'Guar seed',\n",
       " 'Moth',\n",
       " 'Other Cereals & Millets',\n",
       " 'Cond-spcs other',\n",
       " 'Turnip',\n",
       " 'Carrot',\n",
       " 'Redish',\n",
       " 'Arcanut (Processed)',\n",
       " 'Atcanut (Raw)',\n",
       " 'Cashewnut Processed',\n",
       " 'Cashewnut Raw',\n",
       " 'Cardamom',\n",
       " 'Rubber',\n",
       " 'Bitter Gourd',\n",
       " 'Drum Stick',\n",
       " 'Jack Fruit',\n",
       " 'Snak Guard',\n",
       " 'Pump Kin',\n",
       " 'Tea',\n",
       " 'Coffee',\n",
       " 'Cauliflower',\n",
       " 'Other Citrus Fruit',\n",
       " 'Water Melon',\n",
       " 'Total foodgrain',\n",
       " 'Kapas',\n",
       " 'Colocosia',\n",
       " 'Lentil',\n",
       " 'Bean',\n",
       " 'Jobster',\n",
       " 'Perilla',\n",
       " 'Rajmash Kholar',\n",
       " 'Ricebean (nagadal)',\n",
       " 'Ash Gourd',\n",
       " 'Beet Root',\n",
       " 'Lab-Lab',\n",
       " 'Ribed Guard',\n",
       " 'Yam',\n",
       " 'Apple',\n",
       " 'Peach',\n",
       " 'Pear',\n",
       " 'Plums',\n",
       " 'Litchi',\n",
       " 'Ber',\n",
       " 'Other Dry Fruit',\n",
       " 'Jute & mesta']"
      ]
     },
     "execution_count": 32,
     "metadata": {},
     "output_type": "execute_result"
    }
   ],
   "source": [
    "# now let analyse crop wise data \n",
    "# there are 124 crops mentioned in data set\n",
    "# rice is a crop that grow in every state\n",
    "# fact found on google - Almost all parts of India are suitable for raising rice during the summer season provided that water is available. \n",
    "crop"
   ]
  },
  {
   "cell_type": "code",
   "execution_count": 38,
   "metadata": {},
   "outputs": [
    {
     "data": {
      "text/plain": [
       "array(['Andhra Pradesh', 'Arunachal Pradesh', 'Assam', 'Bihar',\n",
       "       'Chandigarh', 'Chhattisgarh', 'Dadra and Nagar Haveli', 'Gujarat',\n",
       "       'Haryana', 'Himachal Pradesh', 'Jammu and Kashmir ', 'Jharkhand',\n",
       "       'Karnataka', 'Kerala', 'Madhya Pradesh', 'Maharashtra',\n",
       "       'Meghalaya', 'Mizoram', 'Nagaland', 'Odisha', 'Punjab',\n",
       "       'Rajasthan', 'Sikkim', 'Tamil Nadu', 'Telangana ', 'Tripura',\n",
       "       'Uttar Pradesh', 'Uttarakhand', 'West Bengal'], dtype=object)"
      ]
     },
     "execution_count": 38,
     "metadata": {},
     "output_type": "execute_result"
    }
   ],
   "source": [
    "# lets figure out which crop grows in most of the states\n",
    "df[df['Crop'] == 'Wheat']['State_Name'].unique()"
   ]
  },
  {
   "cell_type": "code",
   "execution_count": 39,
   "metadata": {},
   "outputs": [],
   "source": [
    "total_states_for_each_crop = []\n",
    "for x in crop:\n",
    "    total_states_for_each_crop.append(len(df[df['Crop'] == x]['State_Name'].unique()))\n",
    "    \n",
    "    "
   ]
  },
  {
   "cell_type": "code",
   "execution_count": 48,
   "metadata": {},
   "outputs": [
    {
     "data": {
      "image/png": "[encoded data removed]",
      "text/plain": [
       "<Figure size 1200x800 with 1 Axes>"
      ]
     },
     "metadata": {},
     "output_type": "display_data"
    }
   ],
   "source": [
    "import seaborn as sns\n",
    "import matplotlib.pyplot as plt\n",
    "import pandas as pd\n",
    "\n",
    "\n",
    "crop = df['Crop'].unique()\n",
    "total_states_for_each_crop = [len(df[df['Crop'] == x]['State_Name'].unique()) for x in crop]\n",
    "\n",
    "data = pd.DataFrame({\n",
    "    'Crop': crop,\n",
    "    'Total States': total_states_for_each_crop\n",
    "})\n",
    "\n",
    "top_10_data = data.sort_values(by='Total States', ascending=False).head(50)\n",
    "\n",
    "plt.figure(figsize=(12, 8))\n",
    "sns.barplot(x='Crop', y='Total States', data=top_10_data, palette='viridis')\n",
    "\n",
    "\n",
    "plt.title('Crops by Number of States')\n",
    "plt.xlabel('Crop')\n",
    "plt.ylabel('Total States')\n",
    "plt.xticks(rotation = 90)\n",
    "\n",
    "plt.show()\n"
   ]
  },
  {
   "cell_type": "code",
   "execution_count": 64,
   "metadata": {},
   "outputs": [
    {
     "data": {
      "application/vnd.plotly.v1+json": {
       "config": {
        "plotlyServerURL": "https://plot.ly"
       },
       "data": [
        {
         "marker": {
          "color": [
           33,
           31,
           31,
           30,
           29,
           29,
           28,
           27,
           27,
           27,
           26,
           26,
           26,
           26,
           25,
           24,
           24,
           23,
           23,
           22,
           22,
           22,
           22,
           21,
           21,
           20,
           20,
           20,
           19,
           18,
           18,
           18,
           17,
           16,
           15,
           15,
           14,
           14,
           13,
           13,
           13,
           13,
           13,
           12,
           12,
           11,
           11,
           11,
           10,
           9,
           9,
           9,
           8,
           8,
           8,
           8,
           8,
           8,
           8,
           7,
           7,
           7,
           7,
           7,
           7,
           6,
           6,
           6,
           5,
           5,
           5,
           5,
           4,
           4,
           4,
           3,
           3,
           3,
           3,
           3,
           3,
           3,
           3,
           3,
           3,
           3,
           3,
           2,
           2,
           2,
           2,
           2,
           2,
           2,
           2,
           2,
           2,
           2,
           1,
           1,
           1,
           1,
           1,
           1,
           1,
           1,
           1,
           1,
           1,
           1,
           1,
           1,
           1,
           1,
           1,
           1,
           1,
           1,
           1,
           1,
           1,
           1,
           1,
           1
          ],
          "colorscale": [
           [
            0,
            "#440154"
           ],
           [
            0.1111111111111111,
            "#482878"
           ],
           [
            0.2222222222222222,
            "#3e4989"
           ],
           [
            0.3333333333333333,
            "#31688e"
           ],
           [
            0.4444444444444444,
            "#26828e"
           ],
           [
            0.5555555555555556,
            "#1f9e89"
           ],
           [
            0.6666666666666666,
            "#35b779"
           ],
           [
            0.7777777777777778,
            "#6ece58"
           ],
           [
            0.8888888888888888,
            "#b5de2b"
           ],
           [
            1,
            "#fde725"
           ]
          ],
          "showscale": true
         },
         "name": "Total States",
         "type": "bar",
         "x": [
          "Rice",
          "Sugarcane",
          "Maize",
          "Rapeseed &Mustard",
          "Arhar/Tur",
          "Wheat",
          "Sesamum",
          "Groundnut",
          "Urad",
          "Potato",
          "Moong(Green Gram)",
          "Gram",
          "Other  Rabi pulses",
          "Other Kharif pulses",
          "Cotton(lint)",
          "Dry chillies",
          "Small millets",
          "Turmeric",
          "Dry ginger",
          "Jowar",
          "Sunflower",
          "Onion",
          "Soyabean",
          "Tobacco",
          "Masoor",
          "Ragi",
          "Bajra",
          "Banana",
          "Sweet potato",
          "Peas & beans (Pulses)",
          "Garlic",
          "Linseed",
          "Castor seed",
          "Coriander",
          "Sannhamp",
          "Horse-gram",
          "Mesta",
          "Barley",
          "Tapioca",
          "Coconut ",
          "other oilseeds",
          "Jute",
          "Niger seed",
          "Mango",
          "Other Fresh Fruits",
          "Other Vegetables",
          "Papaya",
          "Cashewnut",
          "Arecanut",
          "Moth",
          "Oilseeds total",
          "Safflower",
          "Pulses total",
          "Ginger",
          "Grapes",
          "Citrus Fruit",
          "Brinjal",
          "Other Cereals & Millets",
          "Black pepper",
          "Pome Fruit",
          "Tomato",
          "Guar seed",
          "Orange",
          "Cowpea(Lobia)",
          "Beans & Mutter(Vegetable)",
          "Pineapple",
          "Bhindi",
          "Total foodgrain",
          "Paddy",
          "Cardamom",
          "Cabbage",
          "other misc. pulses",
          "Blackgram",
          "Bottle Gourd",
          "Khesari",
          "Varagu",
          "Bitter Gourd",
          "Jack Fruit",
          "Redish",
          "Carrot",
          "Cauliflower",
          "Samai",
          "Cucumber",
          "other fibres",
          "Water Melon",
          "Korra",
          "Kapas",
          "Other Citrus Fruit",
          "Pump Kin",
          "Snak Guard",
          "Lentil",
          "Drum Stick",
          "Tea",
          "Rubber",
          "Pome Granet",
          "Cashewnut Raw",
          "Peas  (vegetable)",
          "Turnip",
          "Lab-Lab",
          "Ribed Guard",
          "Yam",
          "Apple",
          "Peach",
          "Ash Gourd",
          "Pear",
          "Plums",
          "Litchi",
          "Ber",
          "Other Dry Fruit",
          "Beet Root",
          "Perilla",
          "Ricebean (nagadal)",
          "Rajmash Kholar",
          "Jobster",
          "Bean",
          "Colocosia",
          "Sapota",
          "Lemon",
          "Cond-spcs other",
          "Coffee",
          "Arcanut (Processed)",
          "Atcanut (Raw)",
          "Cashewnut Processed",
          "Jute & mesta"
         ],
         "y": [
          33,
          31,
          31,
          30,
          29,
          29,
          28,
          27,
          27,
          27,
          26,
          26,
          26,
          26,
          25,
          24,
          24,
          23,
          23,
          22,
          22,
          22,
          22,
          21,
          21,
          20,
          20,
          20,
          19,
          18,
          18,
          18,
          17,
          16,
          15,
          15,
          14,
          14,
          13,
          13,
          13,
          13,
          13,
          12,
          12,
          11,
          11,
          11,
          10,
          9,
          9,
          9,
          8,
          8,
          8,
          8,
          8,
          8,
          8,
          7,
          7,
          7,
          7,
          7,
          7,
          6,
          6,
          6,
          5,
          5,
          5,
          5,
          4,
          4,
          4,
          3,
          3,
          3,
          3,
          3,
          3,
          3,
          3,
          3,
          3,
          3,
          3,
          2,
          2,
          2,
          2,
          2,
          2,
          2,
          2,
          2,
          2,
          2,
          1,
          1,
          1,
          1,
          1,
          1,
          1,
          1,
          1,
          1,
          1,
          1,
          1,
          1,
          1,
          1,
          1,
          1,
          1,
          1,
          1,
          1,
          1,
          1,
          1,
          1
         ]
        }
       ],
       "layout": {
        "barmode": "group",
        "height": 400,
        "template": {
         "data": {
          "bar": [
           {
            "error_x": {
             "color": "#2a3f5f"
            },
            "error_y": {
             "color": "#2a3f5f"
            },
            "marker": {
             "line": {
              "color": "#E5ECF6",
              "width": 0.5
             },
             "pattern": {
              "fillmode": "overlay",
              "size": 10,
              "solidity": 0.2
             }
            },
            "type": "bar"
           }
          ],
          "barpolar": [
           {
            "marker": {
             "line": {
              "color": "#E5ECF6",
              "width": 0.5
             },
             "pattern": {
              "fillmode": "overlay",
              "size": 10,
              "solidity": 0.2
             }
            },
            "type": "barpolar"
           }
          ],
          "carpet": [
           {
            "aaxis": {
             "endlinecolor": "#2a3f5f",
             "gridcolor": "white",
             "linecolor": "white",
             "minorgridcolor": "white",
             "startlinecolor": "#2a3f5f"
            },
            "baxis": {
             "endlinecolor": "#2a3f5f",
             "gridcolor": "white",
             "linecolor": "white",
             "minorgridcolor": "white",
             "startlinecolor": "#2a3f5f"
            },
            "type": "carpet"
           }
          ],
          "choropleth": [
           {
            "colorbar": {
             "outlinewidth": 0,
             "ticks": ""
            },
            "type": "choropleth"
           }
          ],
          "contour": [
           {
            "colorbar": {
             "outlinewidth": 0,
             "ticks": ""
            },
            "colorscale": [
             [
              0,
              "#0d0887"
             ],
             [
              0.1111111111111111,
              "#46039f"
             ],
             [
              0.2222222222222222,
              "#7201a8"
             ],
             [
              0.3333333333333333,
              "#9c179e"
             ],
             [
              0.4444444444444444,
              "#bd3786"
             ],
             [
              0.5555555555555556,
              "#d8576b"
             ],
             [
              0.6666666666666666,
              "#ed7953"
             ],
             [
              0.7777777777777778,
              "#fb9f3a"
             ],
             [
              0.8888888888888888,
              "#fdca26"
             ],
             [
              1,
              "#f0f921"
             ]
            ],
            "type": "contour"
           }
          ],
          "contourcarpet": [
           {
            "colorbar": {
             "outlinewidth": 0,
             "ticks": ""
            },
            "type": "contourcarpet"
           }
          ],
          "heatmap": [
           {
            "colorbar": {
             "outlinewidth": 0,
             "ticks": ""
            },
            "colorscale": [
             [
              0,
              "#0d0887"
             ],
             [
              0.1111111111111111,
              "#46039f"
             ],
             [
              0.2222222222222222,
              "#7201a8"
             ],
             [
              0.3333333333333333,
              "#9c179e"
             ],
             [
              0.4444444444444444,
              "#bd3786"
             ],
             [
              0.5555555555555556,
              "#d8576b"
             ],
             [
              0.6666666666666666,
              "#ed7953"
             ],
             [
              0.7777777777777778,
              "#fb9f3a"
             ],
             [
              0.8888888888888888,
              "#fdca26"
             ],
             [
              1,
              "#f0f921"
             ]
            ],
            "type": "heatmap"
           }
          ],
          "heatmapgl": [
           {
            "colorbar": {
             "outlinewidth": 0,
             "ticks": ""
            },
            "colorscale": [
             [
              0,
              "#0d0887"
             ],
             [
              0.1111111111111111,
              "#46039f"
             ],
             [
              0.2222222222222222,
              "#7201a8"
             ],
             [
              0.3333333333333333,
              "#9c179e"
             ],
             [
              0.4444444444444444,
              "#bd3786"
             ],
             [
              0.5555555555555556,
              "#d8576b"
             ],
             [
              0.6666666666666666,
              "#ed7953"
             ],
             [
              0.7777777777777778,
              "#fb9f3a"
             ],
             [
              0.8888888888888888,
              "#fdca26"
             ],
             [
              1,
              "#f0f921"
             ]
            ],
            "type": "heatmapgl"
           }
          ],
          "histogram": [
           {
            "marker": {
             "pattern": {
              "fillmode": "overlay",
              "size": 10,
              "solidity": 0.2
             }
            },
            "type": "histogram"
           }
          ],
          "histogram2d": [
           {
            "colorbar": {
             "outlinewidth": 0,
             "ticks": ""
            },
            "colorscale": [
             [
              0,
              "#0d0887"
             ],
             [
              0.1111111111111111,
              "#46039f"
             ],
             [
              0.2222222222222222,
              "#7201a8"
             ],
             [
              0.3333333333333333,
              "#9c179e"
             ],
             [
              0.4444444444444444,
              "#bd3786"
             ],
             [
              0.5555555555555556,
              "#d8576b"
             ],
             [
              0.6666666666666666,
              "#ed7953"
             ],
             [
              0.7777777777777778,
              "#fb9f3a"
             ],
             [
              0.8888888888888888,
              "#fdca26"
             ],
             [
              1,
              "#f0f921"
             ]
            ],
            "type": "histogram2d"
           }
          ],
          "histogram2dcontour": [
           {
            "colorbar": {
             "outlinewidth": 0,
             "ticks": ""
            },
            "colorscale": [
             [
              0,
              "#0d0887"
             ],
             [
              0.1111111111111111,
              "#46039f"
             ],
             [
              0.2222222222222222,
              "#7201a8"
             ],
             [
              0.3333333333333333,
              "#9c179e"
             ],
             [
              0.4444444444444444,
              "#bd3786"
             ],
             [
              0.5555555555555556,
              "#d8576b"
             ],
             [
              0.6666666666666666,
              "#ed7953"
             ],
             [
              0.7777777777777778,
              "#fb9f3a"
             ],
             [
              0.8888888888888888,
              "#fdca26"
             ],
             [
              1,
              "#f0f921"
             ]
            ],
            "type": "histogram2dcontour"
           }
          ],
          "mesh3d": [
           {
            "colorbar": {
             "outlinewidth": 0,
             "ticks": ""
            },
            "type": "mesh3d"
           }
          ],
          "parcoords": [
           {
            "line": {
             "colorbar": {
              "outlinewidth": 0,
              "ticks": ""
             }
            },
            "type": "parcoords"
           }
          ],
          "pie": [
           {
            "automargin": true,
            "type": "pie"
           }
          ],
          "scatter": [
           {
            "fillpattern": {
             "fillmode": "overlay",
             "size": 10,
             "solidity": 0.2
            },
            "type": "scatter"
           }
          ],
          "scatter3d": [
           {
            "line": {
             "colorbar": {
              "outlinewidth": 0,
              "ticks": ""
             }
            },
            "marker": {
             "colorbar": {
              "outlinewidth": 0,
              "ticks": ""
             }
            },
            "type": "scatter3d"
           }
          ],
          "scattercarpet": [
           {
            "marker": {
             "colorbar": {
              "outlinewidth": 0,
              "ticks": ""
             }
            },
            "type": "scattercarpet"
           }
          ],
          "scattergeo": [
           {
            "marker": {
             "colorbar": {
              "outlinewidth": 0,
              "ticks": ""
             }
            },
            "type": "scattergeo"
           }
          ],
          "scattergl": [
           {
            "marker": {
             "colorbar": {
              "outlinewidth": 0,
              "ticks": ""
             }
            },
            "type": "scattergl"
           }
          ],
          "scattermapbox": [
           {
            "marker": {
             "colorbar": {
              "outlinewidth": 0,
              "ticks": ""
             }
            },
            "type": "scattermapbox"
           }
          ],
          "scatterpolar": [
           {
            "marker": {
             "colorbar": {
              "outlinewidth": 0,
              "ticks": ""
             }
            },
            "type": "scatterpolar"
           }
          ],
          "scatterpolargl": [
           {
            "marker": {
             "colorbar": {
              "outlinewidth": 0,
              "ticks": ""
             }
            },
            "type": "scatterpolargl"
           }
          ],
          "scatterternary": [
           {
            "marker": {
             "colorbar": {
              "outlinewidth": 0,
              "ticks": ""
             }
            },
            "type": "scatterternary"
           }
          ],
          "surface": [
           {
            "colorbar": {
             "outlinewidth": 0,
             "ticks": ""
            },
            "colorscale": [
             [
              0,
              "#0d0887"
             ],
             [
              0.1111111111111111,
              "#46039f"
             ],
             [
              0.2222222222222222,
              "#7201a8"
             ],
             [
              0.3333333333333333,
              "#9c179e"
             ],
             [
              0.4444444444444444,
              "#bd3786"
             ],
             [
              0.5555555555555556,
              "#d8576b"
             ],
             [
              0.6666666666666666,
              "#ed7953"
             ],
             [
              0.7777777777777778,
              "#fb9f3a"
             ],
             [
              0.8888888888888888,
              "#fdca26"
             ],
             [
              1,
              "#f0f921"
             ]
            ],
            "type": "surface"
           }
          ],
          "table": [
           {
            "cells": {
             "fill": {
              "color": "#EBF0F8"
             },
             "line": {
              "color": "white"
             }
            },
            "header": {
             "fill": {
              "color": "#C8D4E3"
             },
             "line": {
              "color": "white"
             }
            },
            "type": "table"
           }
          ]
         },
         "layout": {
          "annotationdefaults": {
           "arrowcolor": "#2a3f5f",
           "arrowhead": 0,
           "arrowwidth": 1
          },
          "autotypenumbers": "strict",
          "coloraxis": {
           "colorbar": {
            "outlinewidth": 0,
            "ticks": ""
           }
          },
          "colorscale": {
           "diverging": [
            [
             0,
             "#8e0152"
            ],
            [
             0.1,
             "#c51b7d"
            ],
            [
             0.2,
             "#de77ae"
            ],
            [
             0.3,
             "#f1b6da"
            ],
            [
             0.4,
             "#fde0ef"
            ],
            [
             0.5,
             "#f7f7f7"
            ],
            [
             0.6,
             "#e6f5d0"
            ],
            [
             0.7,
             "#b8e186"
            ],
            [
             0.8,
             "#7fbc41"
            ],
            [
             0.9,
             "#4d9221"
            ],
            [
             1,
             "#276419"
            ]
           ],
           "sequential": [
            [
             0,
             "#0d0887"
            ],
            [
             0.1111111111111111,
             "#46039f"
            ],
            [
             0.2222222222222222,
             "#7201a8"
            ],
            [
             0.3333333333333333,
             "#9c179e"
            ],
            [
             0.4444444444444444,
             "#bd3786"
            ],
            [
             0.5555555555555556,
             "#d8576b"
            ],
            [
             0.6666666666666666,
             "#ed7953"
            ],
            [
             0.7777777777777778,
             "#fb9f3a"
            ],
            [
             0.8888888888888888,
             "#fdca26"
            ],
            [
             1,
             "#f0f921"
            ]
           ],
           "sequentialminus": [
            [
             0,
             "#0d0887"
            ],
            [
             0.1111111111111111,
             "#46039f"
            ],
            [
             0.2222222222222222,
             "#7201a8"
            ],
            [
             0.3333333333333333,
             "#9c179e"
            ],
            [
             0.4444444444444444,
             "#bd3786"
            ],
            [
             0.5555555555555556,
             "#d8576b"
            ],
            [
             0.6666666666666666,
             "#ed7953"
            ],
            [
             0.7777777777777778,
             "#fb9f3a"
            ],
            [
             0.8888888888888888,
             "#fdca26"
            ],
            [
             1,
             "#f0f921"
            ]
           ]
          },
          "colorway": [
           "#636efa",
           "#EF553B",
           "#00cc96",
           "#ab63fa",
           "#FFA15A",
           "#19d3f3",
           "#FF6692",
           "#B6E880",
           "#FF97FF",
           "#FECB52"
          ],
          "font": {
           "color": "#2a3f5f"
          },
          "geo": {
           "bgcolor": "white",
           "lakecolor": "white",
           "landcolor": "#E5ECF6",
           "showlakes": true,
           "showland": true,
           "subunitcolor": "white"
          },
          "hoverlabel": {
           "align": "left"
          },
          "hovermode": "closest",
          "mapbox": {
           "style": "light"
          },
          "paper_bgcolor": "white",
          "plot_bgcolor": "#E5ECF6",
          "polar": {
           "angularaxis": {
            "gridcolor": "white",
            "linecolor": "white",
            "ticks": ""
           },
           "bgcolor": "#E5ECF6",
           "radialaxis": {
            "gridcolor": "white",
            "linecolor": "white",
            "ticks": ""
           }
          },
          "scene": {
           "xaxis": {
            "backgroundcolor": "#E5ECF6",
            "gridcolor": "white",
            "gridwidth": 2,
            "linecolor": "white",
            "showbackground": true,
            "ticks": "",
            "zerolinecolor": "white"
           },
           "yaxis": {
            "backgroundcolor": "#E5ECF6",
            "gridcolor": "white",
            "gridwidth": 2,
            "linecolor": "white",
            "showbackground": true,
            "ticks": "",
            "zerolinecolor": "white"
           },
           "zaxis": {
            "backgroundcolor": "#E5ECF6",
            "gridcolor": "white",
            "gridwidth": 2,
            "linecolor": "white",
            "showbackground": true,
            "ticks": "",
            "zerolinecolor": "white"
           }
          },
          "shapedefaults": {
           "line": {
            "color": "#2a3f5f"
           }
          },
          "ternary": {
           "aaxis": {
            "gridcolor": "white",
            "linecolor": "white",
            "ticks": ""
           },
           "baxis": {
            "gridcolor": "white",
            "linecolor": "white",
            "ticks": ""
           },
           "bgcolor": "#E5ECF6",
           "caxis": {
            "gridcolor": "white",
            "linecolor": "white",
            "ticks": ""
           }
          },
          "title": {
           "x": 0.05
          },
          "xaxis": {
           "automargin": true,
           "gridcolor": "white",
           "linecolor": "white",
           "ticks": "",
           "title": {
            "standoff": 15
           },
           "zerolinecolor": "white",
           "zerolinewidth": 2
          },
          "yaxis": {
           "automargin": true,
           "gridcolor": "white",
           "linecolor": "white",
           "ticks": "",
           "title": {
            "standoff": 15
           },
           "zerolinecolor": "white",
           "zerolinewidth": 2
          }
         }
        },
        "title": {
         "text": "Top 10 Crops by Number of States"
        },
        "width": 1500,
        "xaxis": {
         "tickangle": 90,
         "tickfont": {
          "size": 5
         },
         "title": {
          "text": "Crop"
         }
        },
        "yaxis": {
         "title": {
          "text": "Total States"
         }
        }
       }
      }
     },
     "metadata": {},
     "output_type": "display_data"
    }
   ],
   "source": [
    "import plotly.graph_objects as go\n",
    "import pandas as pd\n",
    "\n",
    "crop = df['Crop'].unique()\n",
    "total_states_for_each_crop = [len(df[df['Crop'] == x]['State_Name'].unique()) for x in crop]\n",
    "\n",
    "\n",
    "data = pd.DataFrame({\n",
    "    'Crop': crop,\n",
    "    'Total States': total_states_for_each_crop\n",
    "})\n",
    "\n",
    "\n",
    "top_data = data.sort_values(by='Total States', ascending=False)\n",
    "\n",
    "\n",
    "fig = go.Figure(data=[\n",
    "    go.Bar(\n",
    "        name='Total States',\n",
    "        x=top_data['Crop'],\n",
    "        y=top_data['Total States'],\n",
    "        marker=dict(\n",
    "            color=top_data['Total States'],\n",
    "            colorscale='Viridis', \n",
    "            showscale=True\n",
    "        )\n",
    "    )\n",
    "])\n",
    "\n",
    "fig.update_layout(\n",
    "    title='Top 10 Crops by Number of States',\n",
    "    xaxis_title='Crop',\n",
    "    yaxis_title='Total States',\n",
    "    barmode='group',\n",
    "    width=1500,  \n",
    "    height=400,  \n",
    "    xaxis=dict(\n",
    "        tickangle=90,\n",
    "        tickfont=dict(size=5)  \n",
    "    )\n",
    ")\n",
    "\n",
    "fig.show()\n"
   ]
  },
  {
   "cell_type": "code",
   "execution_count": null,
   "metadata": {},
   "outputs": [],
   "source": []
  }
 ],
 "metadata": {
  "kernelspec": {
   "display_name": "base",
   "language": "python",
   "name": "python3"
  },
  "language_info": {
   "codemirror_mode": {
    "name": "ipython",
    "version": 3
   },
   "file_extension": ".py",
   "mimetype": "text/x-python",
   "name": "python",
   "nbconvert_exporter": "python",
   "pygments_lexer": "ipython3",
   "version": "3.10.9"
  }
 },
 "nbformat": 4,
 "nbformat_minor": 2
}
